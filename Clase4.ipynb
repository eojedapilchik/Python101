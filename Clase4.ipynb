{
 "cells": [
  {
   "cell_type": "code",
   "execution_count": 3,
   "metadata": {},
   "outputs": [
    {
     "ename": "IndentationError",
     "evalue": "unexpected indent (<ipython-input-3-179a8055c7f3>, line 3)",
     "output_type": "error",
     "traceback": [
      "\u001b[1;36m  File \u001b[1;32m\"<ipython-input-3-179a8055c7f3>\"\u001b[1;36m, line \u001b[1;32m3\u001b[0m\n\u001b[1;33m    b=1 # error tiene un espacio adelante, no respeta la indetación correcta\u001b[0m\n\u001b[1;37m    ^\u001b[0m\n\u001b[1;31mIndentationError\u001b[0m\u001b[1;31m:\u001b[0m unexpected indent\n"
     ]
    }
   ],
   "source": [
    "# Indentation _ Indentación\n",
    "a = 1\n",
    " b=1 # error tiene un espacio adelante, no respeta la indetación correcta\n",
    "print(a)"
   ]
  },
  {
   "cell_type": "markdown",
   "metadata": {},
   "source": [
    "# Estructuras de Decision\n",
    "\n",
    "sirven para controlar el flujo del programa -> bifurcar. Indicar cuales acciones debe ejecutar python basado en unas condiciones\n",
    "\n",
    "| Operador | Description | Ejemplo      |\n",
    "| ---------| ----------- |--------------|\n",
    "| ==   | Si el valor de ambos operandos es igual, es true       | (1 == 1) es true             |\n",
    "| !=| Text        |              |"
   ]
  },
  {
   "cell_type": "code",
   "execution_count": 8,
   "metadata": {},
   "outputs": [
    {
     "name": "stdout",
     "output_type": "stream",
     "text": [
      "True\n",
      "False\n",
      "False\n"
     ]
    }
   ],
   "source": [
    "## Operardo de igual (comparar si x = y). Esto es True cuando ambos son iguales, sino es False\n",
    "print(1==1)\n",
    "print(2==1)\n",
    "print(1=='1')"
   ]
  },
  {
   "cell_type": "code",
   "execution_count": 11,
   "metadata": {},
   "outputs": [
    {
     "name": "stdout",
     "output_type": "stream",
     "text": [
      "True\n",
      "False\n"
     ]
    }
   ],
   "source": [
    "# Operando de desigualdad (x no es igual a y). Es True cuando son distintos, y es False cuando son iguales\n",
    "a,b =10,20\n",
    "print( a!=b)\n",
    "print( a!=a)"
   ]
  },
  {
   "cell_type": "code",
   "execution_count": 14,
   "metadata": {},
   "outputs": [
    {
     "name": "stdout",
     "output_type": "stream",
     "text": [
      "False\n",
      "False\n",
      "True\n"
     ]
    }
   ],
   "source": [
    "# Mayor que\n",
    "print(10>20)\n",
    "print(20>20)\n",
    "\n",
    "#Mayor o igual que\n",
    "print(20>=20)"
   ]
  },
  {
   "cell_type": "code",
   "execution_count": 15,
   "metadata": {},
   "outputs": [
    {
     "name": "stdout",
     "output_type": "stream",
     "text": [
      "True\n",
      "True\n"
     ]
    }
   ],
   "source": [
    "#Menor que\n",
    "print(10<20)\n",
    "print(20<=20)"
   ]
  },
  {
   "cell_type": "code",
   "execution_count": 18,
   "metadata": {},
   "outputs": [
    {
     "name": "stdout",
     "output_type": "stream",
     "text": [
      "True\n"
     ]
    }
   ],
   "source": [
    "#And \"y\" (todas las condiciones tienen que ser true)\n",
    "a = 10\n",
    "print((a>=10) and (a<=20))"
   ]
  },
  {
   "cell_type": "code",
   "execution_count": 26,
   "metadata": {},
   "outputs": [
    {
     "name": "stdout",
     "output_type": "stream",
     "text": [
      "True\n",
      "False\n"
     ]
    }
   ],
   "source": [
    "#Or \"o\" (true or false = true, false or true=true, true or true = true)\n",
    "a = 21\n",
    "print((a>=10) or (a<=20))\n",
    "a = 11\n",
    "print((a<=10) or (a>=20))"
   ]
  },
  {
   "cell_type": "code",
   "execution_count": 28,
   "metadata": {},
   "outputs": [
    {
     "name": "stdout",
     "output_type": "stream",
     "text": [
      "False\n",
      "True\n"
     ]
    }
   ],
   "source": [
    "#Negacion -> not\n",
    "\n",
    "print( not True)\n",
    "print( not(1>=10))"
   ]
  },
  {
   "cell_type": "markdown",
   "metadata": {},
   "source": [
    "## Bloque  IF,ELIF,ELSE\n",
    "evaluar la condicion y bifurcar"
   ]
  },
  {
   "cell_type": "code",
   "execution_count": 32,
   "metadata": {},
   "outputs": [
    {
     "name": "stdout",
     "output_type": "stream",
     "text": [
      "Dime la accion que quieres analizar AAPL\n",
      "Fin del programa\n"
     ]
    }
   ],
   "source": [
    "accion = input(\"Dime la accion que quieres analizar \")\n",
    "\n",
    "if accion == 'GME':\n",
    "    print(f\"Disculpa, pero yo no analizo ese tipo de acciones. Busca otra\")\n",
    "print(\"Fin del programa\")\n",
    "\n"
   ]
  },
  {
   "cell_type": "code",
   "execution_count": 41,
   "metadata": {},
   "outputs": [
    {
     "name": "stdout",
     "output_type": "stream",
     "text": [
      "Escriba su edad para indicarle la exposicion al riesgo que deberia tener32\n",
      "Su exposicion al riesgo deberia ser Alta\n"
     ]
    }
   ],
   "source": [
    "edad = int(input(\"Escriba su edad para indicarle la exposicion al riesgo que deberia tener\"))\n",
    "\n",
    "if edad>0 and edad <=35:\n",
    "    riesgo = \"Alta\"\n",
    "elif edad>35 and edad <=55:\n",
    "    riesgo =\"Moderada\"\n",
    "elif edad>55:\n",
    "    riesgo = \"Baja\"\n",
    "else:\n",
    "    riesgo = \"N/A\"\n",
    "\n",
    "print(f\"Su exposicion al riesgo deberia ser {riesgo}\")"
   ]
  },
  {
   "cell_type": "markdown",
   "metadata": {},
   "source": [
    "# Estructuras de Repetición\n",
    "\n",
    "Se usa para repetir una accion muchas veces. Iterar.\n",
    "\n"
   ]
  },
  {
   "cell_type": "code",
   "execution_count": 44,
   "metadata": {},
   "outputs": [
    {
     "name": "stdout",
     "output_type": "stream",
     "text": [
      "contador 0\n",
      "contador 1\n",
      "contador 2\n",
      "contador 3\n",
      "contador 4\n",
      "contador 5\n",
      "contador 6\n",
      "contador 7\n",
      "contador 8\n",
      "contador 9\n",
      "Programa terminado\n"
     ]
    }
   ],
   "source": [
    "#While Mientras (condicion =True) , repetir hasta eternemente\n",
    "# es importante asegurar que no se cree un bucle infinito\n",
    "\n",
    "contador = 0\n",
    "\n",
    "while contador <10:\n",
    "    print(f\"contador {contador}\")\n",
    "    contador +=1\n",
    "print('Programa terminado')"
   ]
  },
  {
   "cell_type": "markdown",
   "metadata": {},
   "source": [
    "## Automatización de emails"
   ]
  },
  {
   "cell_type": "code",
   "execution_count": 56,
   "metadata": {},
   "outputs": [],
   "source": [
    "import smtplib, ssl\n",
    "import getpass #para solicitar contraseñas\n",
    "from datetime import datetime\n",
    "\n",
    "from email.mime.text import MIMEText\n",
    "from email.mime.multipart import MIMEMultipart\n",
    "\n",
    "import csv\n"
   ]
  },
  {
   "cell_type": "code",
   "execution_count": 48,
   "metadata": {},
   "outputs": [
    {
     "name": "stdout",
     "output_type": "stream",
     "text": [
      "Introduce la contraseña del correo········\n"
     ]
    }
   ],
   "source": [
    "port = 587\n",
    "smtp_server = \"smtp.gmail.com\"\n",
    "receptor = \"le0rami3z@gmail.com\"\n",
    "emisor = \"pythonmassaber@gmail.com\"\n",
    "password = getpass.getpass(\"Introduce la contraseña del correo\")\n",
    "nombre = \"Leonardo\"\n",
    "apellido = \"Ramirez\"\n",
    "fecha = datetime.now()\n",
    "message = f\"\"\"\\\n",
    "To: {nombre}{apellido}\n",
    "\\\n",
    "Subject: Correo automatico de Python\n",
    "\n",
    "Hola {nombre}{apellido} este mensaje se envio directamente con un script de Python.\n",
    "Fecha: {fecha}\n",
    "Saludos cordiales,\n",
    "Python Bot - Mas Saber\n",
    "\n",
    "\"\"\"\n",
    "\n",
    "#Enviar el correo\n",
    "\n",
    "context = ssl.create_default_context()\n",
    "\n",
    "with smtplib.SMTP(smtp_server,port) as server:\n",
    "    server.ehlo()\n",
    "    server.starttls(context=context)\n",
    "    server.ehlo()\n",
    "    server.login(emisor, password)\n",
    "    server.sendmail(emisor, receptor, message)"
   ]
  },
  {
   "cell_type": "code",
   "execution_count": 55,
   "metadata": {},
   "outputs": [],
   "source": [
    "##enviar el email html\n",
    "archivo = open(\"email_template.html\",\"r\")\n",
    "html = archivo.read()\n",
    "archivo.close()\n",
    "html = html.replace(\"{nombre}\",nombre)\n",
    "html = html.replace(\"{apellido}\",apellido)\n",
    "\n",
    "message = MIMEMultipart(\"alternative\")\n",
    "message[\"Subject\"] = \"Email enviado desde Python Bot!\"\n",
    "message[\"From\"] = emisor\n",
    "message[\"To\"] = receptor\n",
    "\n",
    "message.attach(MIMEText(html, \"html\"))\n",
    "\n",
    "context = ssl.create_default_context()\n",
    "\n",
    "with smtplib.SMTP(smtp_server, port) as server:\n",
    "    server.ehlo() \n",
    "    server.starttls(context=context)\n",
    "    server.ehlo()\n",
    "    server.login(emisor, password)\n",
    "    server.sendmail(emisor, receptor, message.as_string()) \n"
   ]
  },
  {
   "cell_type": "code",
   "execution_count": 67,
   "metadata": {},
   "outputs": [],
   "source": [
    "# enviar un correo masivo\n",
    "fecha = datetime.now()\n",
    "message = \"\"\"\\\n",
    "To: {nombre}{apellido}\n",
    "\\\n",
    "Subject: Correo automatico de Python\n",
    "\n",
    "Hola {nombre} {apellido} este mensaje se envio directamente con un script de Python.\n",
    "Fecha: {fecha}\n",
    "Saludos cordiales,\n",
    "Python Bot - Mas Saber\n",
    "\n",
    "\"\"\"\n",
    "context = ssl.create_default_context()\n",
    "\n",
    "with smtplib.SMTP(smtp_server,port) as server:\n",
    "    server.ehlo()\n",
    "    server.starttls(context=context)\n",
    "    server.ehlo()\n",
    "    server.login(emisor, password)\n",
    "    with open(\"C:\\\\Users\\DELL\\Documents\\Clases MasSaber\\Clases\\Data.csv\")  as file:\n",
    "        lector = csv.reader(file)\n",
    "        next(lector) # para saltarme la primera linea\n",
    "        for nombre, apellido, correo in lector:\n",
    "            mensaje = message.format(nombre=nombre, apellido=apellido, fecha=fecha)\n",
    "            #print(mensaje)\n",
    "            server.sendmail(emisor, correo, mensaje)\n",
    "\n"
   ]
  },
  {
   "cell_type": "code",
   "execution_count": null,
   "metadata": {},
   "outputs": [],
   "source": []
  }
 ],
 "metadata": {
  "kernelspec": {
   "display_name": "Python 3",
   "language": "python",
   "name": "python3"
  },
  "language_info": {
   "codemirror_mode": {
    "name": "ipython",
    "version": 3
   },
   "file_extension": ".py",
   "mimetype": "text/x-python",
   "name": "python",
   "nbconvert_exporter": "python",
   "pygments_lexer": "ipython3",
   "version": "3.8.5"
  }
 },
 "nbformat": 4,
 "nbformat_minor": 4
}
