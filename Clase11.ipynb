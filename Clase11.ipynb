{
 "cells": [
  {
   "cell_type": "markdown",
   "metadata": {},
   "source": [
    "## Pandas"
   ]
  },
  {
   "cell_type": "markdown",
   "metadata": {},
   "source": [
    "#### Agrupamientos"
   ]
  },
  {
   "cell_type": "code",
   "execution_count": 1,
   "metadata": {},
   "outputs": [],
   "source": [
    "import pandas as pd\n",
    "data = pd.read_csv('C:/Users/DELL/Documents/appl.csv', usecols=['Date','Open','Close','Adj Close'])"
   ]
  },
  {
   "cell_type": "code",
   "execution_count": 2,
   "metadata": {},
   "outputs": [
    {
     "data": {
      "text/html": [
       "<div>\n",
       "<style scoped>\n",
       "    .dataframe tbody tr th:only-of-type {\n",
       "        vertical-align: middle;\n",
       "    }\n",
       "\n",
       "    .dataframe tbody tr th {\n",
       "        vertical-align: top;\n",
       "    }\n",
       "\n",
       "    .dataframe thead th {\n",
       "        text-align: right;\n",
       "    }\n",
       "</style>\n",
       "<table border=\"1\" class=\"dataframe\">\n",
       "  <thead>\n",
       "    <tr style=\"text-align: right;\">\n",
       "      <th></th>\n",
       "      <th>Date</th>\n",
       "      <th>Open</th>\n",
       "      <th>Close</th>\n",
       "      <th>Adj Close</th>\n",
       "      <th>gap_positivo</th>\n",
       "    </tr>\n",
       "  </thead>\n",
       "  <tbody>\n",
       "    <tr>\n",
       "      <th>0</th>\n",
       "      <td>02-01-18</td>\n",
       "      <td>170.160004</td>\n",
       "      <td>172.259995</td>\n",
       "      <td>168.339050</td>\n",
       "      <td>False</td>\n",
       "    </tr>\n",
       "    <tr>\n",
       "      <th>1</th>\n",
       "      <td>03-01-18</td>\n",
       "      <td>172.529999</td>\n",
       "      <td>172.229996</td>\n",
       "      <td>168.309738</td>\n",
       "      <td>True</td>\n",
       "    </tr>\n",
       "    <tr>\n",
       "      <th>2</th>\n",
       "      <td>04-01-18</td>\n",
       "      <td>172.539993</td>\n",
       "      <td>173.029999</td>\n",
       "      <td>169.091522</td>\n",
       "      <td>True</td>\n",
       "    </tr>\n",
       "    <tr>\n",
       "      <th>3</th>\n",
       "      <td>05-01-18</td>\n",
       "      <td>173.440002</td>\n",
       "      <td>175.000000</td>\n",
       "      <td>171.016678</td>\n",
       "      <td>True</td>\n",
       "    </tr>\n",
       "    <tr>\n",
       "      <th>4</th>\n",
       "      <td>08-01-18</td>\n",
       "      <td>174.350006</td>\n",
       "      <td>174.350006</td>\n",
       "      <td>170.381485</td>\n",
       "      <td>False</td>\n",
       "    </tr>\n",
       "  </tbody>\n",
       "</table>\n",
       "</div>"
      ],
      "text/plain": [
       "       Date        Open       Close   Adj Close  gap_positivo\n",
       "0  02-01-18  170.160004  172.259995  168.339050         False\n",
       "1  03-01-18  172.529999  172.229996  168.309738          True\n",
       "2  04-01-18  172.539993  173.029999  169.091522          True\n",
       "3  05-01-18  173.440002  175.000000  171.016678          True\n",
       "4  08-01-18  174.350006  174.350006  170.381485         False"
      ]
     },
     "execution_count": 2,
     "metadata": {},
     "output_type": "execute_result"
    }
   ],
   "source": [
    "data['gap_positivo']=data.Open > data['Close'].shift()\n",
    "data"
   ]
  },
  {
   "cell_type": "code",
   "execution_count": 3,
   "metadata": {},
   "outputs": [
    {
     "data": {
      "text/plain": [
       "gap_positivo\n",
       "False    2\n",
       "True     3\n",
       "dtype: int64"
      ]
     },
     "execution_count": 3,
     "metadata": {},
     "output_type": "execute_result"
    }
   ],
   "source": [
    "data.groupby('gap_positivo').size()"
   ]
  },
  {
   "cell_type": "code",
   "execution_count": 4,
   "metadata": {},
   "outputs": [],
   "source": [
    "import pandas as pd\n",
    "data = {'Compania':['GOOG','GOOG','MSFT','MSFT','FB','FB'],\n",
    "       'Mes':['Ene','Feb','Ene','Feb','Ene','Feb'],\n",
    "       'Ventas':[200,120,340,124,243,350]}\n",
    "df = pd.DataFrame(data)"
   ]
  },
  {
   "cell_type": "code",
   "execution_count": 6,
   "metadata": {},
   "outputs": [
    {
     "data": {
      "text/html": [
       "<div>\n",
       "<style scoped>\n",
       "    .dataframe tbody tr th:only-of-type {\n",
       "        vertical-align: middle;\n",
       "    }\n",
       "\n",
       "    .dataframe tbody tr th {\n",
       "        vertical-align: top;\n",
       "    }\n",
       "\n",
       "    .dataframe thead th {\n",
       "        text-align: right;\n",
       "    }\n",
       "</style>\n",
       "<table border=\"1\" class=\"dataframe\">\n",
       "  <thead>\n",
       "    <tr style=\"text-align: right;\">\n",
       "      <th></th>\n",
       "      <th>Compania</th>\n",
       "      <th>Mes</th>\n",
       "      <th>Ventas</th>\n",
       "    </tr>\n",
       "  </thead>\n",
       "  <tbody>\n",
       "    <tr>\n",
       "      <th>0</th>\n",
       "      <td>GOOG</td>\n",
       "      <td>Ene</td>\n",
       "      <td>200</td>\n",
       "    </tr>\n",
       "    <tr>\n",
       "      <th>1</th>\n",
       "      <td>GOOG</td>\n",
       "      <td>Feb</td>\n",
       "      <td>120</td>\n",
       "    </tr>\n",
       "    <tr>\n",
       "      <th>2</th>\n",
       "      <td>MSFT</td>\n",
       "      <td>Ene</td>\n",
       "      <td>340</td>\n",
       "    </tr>\n",
       "    <tr>\n",
       "      <th>3</th>\n",
       "      <td>MSFT</td>\n",
       "      <td>Feb</td>\n",
       "      <td>124</td>\n",
       "    </tr>\n",
       "    <tr>\n",
       "      <th>4</th>\n",
       "      <td>FB</td>\n",
       "      <td>Ene</td>\n",
       "      <td>243</td>\n",
       "    </tr>\n",
       "    <tr>\n",
       "      <th>5</th>\n",
       "      <td>FB</td>\n",
       "      <td>Feb</td>\n",
       "      <td>350</td>\n",
       "    </tr>\n",
       "  </tbody>\n",
       "</table>\n",
       "</div>"
      ],
      "text/plain": [
       "  Compania  Mes  Ventas\n",
       "0     GOOG  Ene     200\n",
       "1     GOOG  Feb     120\n",
       "2     MSFT  Ene     340\n",
       "3     MSFT  Feb     124\n",
       "4       FB  Ene     243\n",
       "5       FB  Feb     350"
      ]
     },
     "execution_count": 6,
     "metadata": {},
     "output_type": "execute_result"
    }
   ],
   "source": [
    "df"
   ]
  },
  {
   "cell_type": "code",
   "execution_count": 8,
   "metadata": {},
   "outputs": [],
   "source": [
    "total_ventas = df.groupby('Compania')"
   ]
  },
  {
   "cell_type": "code",
   "execution_count": 9,
   "metadata": {},
   "outputs": [
    {
     "data": {
      "text/plain": [
       "<pandas.core.groupby.generic.DataFrameGroupBy object at 0x000001B2105C0BB0>"
      ]
     },
     "execution_count": 9,
     "metadata": {},
     "output_type": "execute_result"
    }
   ],
   "source": [
    "total_ventas"
   ]
  },
  {
   "cell_type": "code",
   "execution_count": 10,
   "metadata": {},
   "outputs": [
    {
     "data": {
      "text/html": [
       "<div>\n",
       "<style scoped>\n",
       "    .dataframe tbody tr th:only-of-type {\n",
       "        vertical-align: middle;\n",
       "    }\n",
       "\n",
       "    .dataframe tbody tr th {\n",
       "        vertical-align: top;\n",
       "    }\n",
       "\n",
       "    .dataframe thead th {\n",
       "        text-align: right;\n",
       "    }\n",
       "</style>\n",
       "<table border=\"1\" class=\"dataframe\">\n",
       "  <thead>\n",
       "    <tr style=\"text-align: right;\">\n",
       "      <th></th>\n",
       "      <th>Ventas</th>\n",
       "    </tr>\n",
       "    <tr>\n",
       "      <th>Compania</th>\n",
       "      <th></th>\n",
       "    </tr>\n",
       "  </thead>\n",
       "  <tbody>\n",
       "    <tr>\n",
       "      <th>FB</th>\n",
       "      <td>593</td>\n",
       "    </tr>\n",
       "    <tr>\n",
       "      <th>GOOG</th>\n",
       "      <td>320</td>\n",
       "    </tr>\n",
       "    <tr>\n",
       "      <th>MSFT</th>\n",
       "      <td>464</td>\n",
       "    </tr>\n",
       "  </tbody>\n",
       "</table>\n",
       "</div>"
      ],
      "text/plain": [
       "          Ventas\n",
       "Compania        \n",
       "FB           593\n",
       "GOOG         320\n",
       "MSFT         464"
      ]
     },
     "execution_count": 10,
     "metadata": {},
     "output_type": "execute_result"
    }
   ],
   "source": [
    "total_ventas.sum()"
   ]
  },
  {
   "cell_type": "code",
   "execution_count": 11,
   "metadata": {},
   "outputs": [
    {
     "data": {
      "text/html": [
       "<div>\n",
       "<style scoped>\n",
       "    .dataframe tbody tr th:only-of-type {\n",
       "        vertical-align: middle;\n",
       "    }\n",
       "\n",
       "    .dataframe tbody tr th {\n",
       "        vertical-align: top;\n",
       "    }\n",
       "\n",
       "    .dataframe thead th {\n",
       "        text-align: right;\n",
       "    }\n",
       "</style>\n",
       "<table border=\"1\" class=\"dataframe\">\n",
       "  <thead>\n",
       "    <tr style=\"text-align: right;\">\n",
       "      <th></th>\n",
       "      <th>Ventas</th>\n",
       "    </tr>\n",
       "    <tr>\n",
       "      <th>Compania</th>\n",
       "      <th></th>\n",
       "    </tr>\n",
       "  </thead>\n",
       "  <tbody>\n",
       "    <tr>\n",
       "      <th>FB</th>\n",
       "      <td>296.5</td>\n",
       "    </tr>\n",
       "    <tr>\n",
       "      <th>GOOG</th>\n",
       "      <td>160.0</td>\n",
       "    </tr>\n",
       "    <tr>\n",
       "      <th>MSFT</th>\n",
       "      <td>232.0</td>\n",
       "    </tr>\n",
       "  </tbody>\n",
       "</table>\n",
       "</div>"
      ],
      "text/plain": [
       "          Ventas\n",
       "Compania        \n",
       "FB         296.5\n",
       "GOOG       160.0\n",
       "MSFT       232.0"
      ]
     },
     "execution_count": 11,
     "metadata": {},
     "output_type": "execute_result"
    }
   ],
   "source": [
    "total_ventas.mean()"
   ]
  },
  {
   "cell_type": "code",
   "execution_count": 12,
   "metadata": {},
   "outputs": [
    {
     "data": {
      "text/html": [
       "<div>\n",
       "<style scoped>\n",
       "    .dataframe tbody tr th:only-of-type {\n",
       "        vertical-align: middle;\n",
       "    }\n",
       "\n",
       "    .dataframe tbody tr th {\n",
       "        vertical-align: top;\n",
       "    }\n",
       "\n",
       "    .dataframe thead th {\n",
       "        text-align: right;\n",
       "    }\n",
       "</style>\n",
       "<table border=\"1\" class=\"dataframe\">\n",
       "  <thead>\n",
       "    <tr style=\"text-align: right;\">\n",
       "      <th></th>\n",
       "      <th>Ventas</th>\n",
       "    </tr>\n",
       "    <tr>\n",
       "      <th>Compania</th>\n",
       "      <th></th>\n",
       "    </tr>\n",
       "  </thead>\n",
       "  <tbody>\n",
       "    <tr>\n",
       "      <th>FB</th>\n",
       "      <td>75.660426</td>\n",
       "    </tr>\n",
       "    <tr>\n",
       "      <th>GOOG</th>\n",
       "      <td>56.568542</td>\n",
       "    </tr>\n",
       "    <tr>\n",
       "      <th>MSFT</th>\n",
       "      <td>152.735065</td>\n",
       "    </tr>\n",
       "  </tbody>\n",
       "</table>\n",
       "</div>"
      ],
      "text/plain": [
       "              Ventas\n",
       "Compania            \n",
       "FB         75.660426\n",
       "GOOG       56.568542\n",
       "MSFT      152.735065"
      ]
     },
     "execution_count": 12,
     "metadata": {},
     "output_type": "execute_result"
    }
   ],
   "source": [
    "total_ventas.std()"
   ]
  },
  {
   "cell_type": "code",
   "execution_count": 14,
   "metadata": {},
   "outputs": [
    {
     "data": {
      "text/html": [
       "<div>\n",
       "<style scoped>\n",
       "    .dataframe tbody tr th:only-of-type {\n",
       "        vertical-align: middle;\n",
       "    }\n",
       "\n",
       "    .dataframe tbody tr th {\n",
       "        vertical-align: top;\n",
       "    }\n",
       "\n",
       "    .dataframe thead th {\n",
       "        text-align: right;\n",
       "    }\n",
       "</style>\n",
       "<table border=\"1\" class=\"dataframe\">\n",
       "  <thead>\n",
       "    <tr style=\"text-align: right;\">\n",
       "      <th></th>\n",
       "      <th>Ventas</th>\n",
       "    </tr>\n",
       "    <tr>\n",
       "      <th>Mes</th>\n",
       "      <th></th>\n",
       "    </tr>\n",
       "  </thead>\n",
       "  <tbody>\n",
       "    <tr>\n",
       "      <th>Ene</th>\n",
       "      <td>783</td>\n",
       "    </tr>\n",
       "    <tr>\n",
       "      <th>Feb</th>\n",
       "      <td>594</td>\n",
       "    </tr>\n",
       "  </tbody>\n",
       "</table>\n",
       "</div>"
      ],
      "text/plain": [
       "     Ventas\n",
       "Mes        \n",
       "Ene     783\n",
       "Feb     594"
      ]
     },
     "execution_count": 14,
     "metadata": {},
     "output_type": "execute_result"
    }
   ],
   "source": [
    "df.groupby('Mes').sum()"
   ]
  },
  {
   "cell_type": "code",
   "execution_count": 16,
   "metadata": {},
   "outputs": [
    {
     "data": {
      "text/html": [
       "<div>\n",
       "<style scoped>\n",
       "    .dataframe tbody tr th:only-of-type {\n",
       "        vertical-align: middle;\n",
       "    }\n",
       "\n",
       "    .dataframe tbody tr th {\n",
       "        vertical-align: top;\n",
       "    }\n",
       "\n",
       "    .dataframe thead tr th {\n",
       "        text-align: left;\n",
       "    }\n",
       "\n",
       "    .dataframe thead tr:last-of-type th {\n",
       "        text-align: right;\n",
       "    }\n",
       "</style>\n",
       "<table border=\"1\" class=\"dataframe\">\n",
       "  <thead>\n",
       "    <tr>\n",
       "      <th></th>\n",
       "      <th colspan=\"8\" halign=\"left\">Ventas</th>\n",
       "    </tr>\n",
       "    <tr>\n",
       "      <th></th>\n",
       "      <th>count</th>\n",
       "      <th>mean</th>\n",
       "      <th>std</th>\n",
       "      <th>min</th>\n",
       "      <th>25%</th>\n",
       "      <th>50%</th>\n",
       "      <th>75%</th>\n",
       "      <th>max</th>\n",
       "    </tr>\n",
       "    <tr>\n",
       "      <th>Compania</th>\n",
       "      <th></th>\n",
       "      <th></th>\n",
       "      <th></th>\n",
       "      <th></th>\n",
       "      <th></th>\n",
       "      <th></th>\n",
       "      <th></th>\n",
       "      <th></th>\n",
       "    </tr>\n",
       "  </thead>\n",
       "  <tbody>\n",
       "    <tr>\n",
       "      <th>FB</th>\n",
       "      <td>2.0</td>\n",
       "      <td>296.5</td>\n",
       "      <td>75.660426</td>\n",
       "      <td>243.0</td>\n",
       "      <td>269.75</td>\n",
       "      <td>296.5</td>\n",
       "      <td>323.25</td>\n",
       "      <td>350.0</td>\n",
       "    </tr>\n",
       "    <tr>\n",
       "      <th>GOOG</th>\n",
       "      <td>2.0</td>\n",
       "      <td>160.0</td>\n",
       "      <td>56.568542</td>\n",
       "      <td>120.0</td>\n",
       "      <td>140.00</td>\n",
       "      <td>160.0</td>\n",
       "      <td>180.00</td>\n",
       "      <td>200.0</td>\n",
       "    </tr>\n",
       "    <tr>\n",
       "      <th>MSFT</th>\n",
       "      <td>2.0</td>\n",
       "      <td>232.0</td>\n",
       "      <td>152.735065</td>\n",
       "      <td>124.0</td>\n",
       "      <td>178.00</td>\n",
       "      <td>232.0</td>\n",
       "      <td>286.00</td>\n",
       "      <td>340.0</td>\n",
       "    </tr>\n",
       "  </tbody>\n",
       "</table>\n",
       "</div>"
      ],
      "text/plain": [
       "         Ventas                                                        \n",
       "          count   mean         std    min     25%    50%     75%    max\n",
       "Compania                                                               \n",
       "FB          2.0  296.5   75.660426  243.0  269.75  296.5  323.25  350.0\n",
       "GOOG        2.0  160.0   56.568542  120.0  140.00  160.0  180.00  200.0\n",
       "MSFT        2.0  232.0  152.735065  124.0  178.00  232.0  286.00  340.0"
      ]
     },
     "execution_count": 16,
     "metadata": {},
     "output_type": "execute_result"
    }
   ],
   "source": [
    "df.groupby('Compania').describe()"
   ]
  },
  {
   "cell_type": "code",
   "execution_count": 17,
   "metadata": {},
   "outputs": [
    {
     "data": {
      "text/html": [
       "<div>\n",
       "<style scoped>\n",
       "    .dataframe tbody tr th:only-of-type {\n",
       "        vertical-align: middle;\n",
       "    }\n",
       "\n",
       "    .dataframe tbody tr th {\n",
       "        vertical-align: top;\n",
       "    }\n",
       "\n",
       "    .dataframe thead th {\n",
       "        text-align: right;\n",
       "    }\n",
       "</style>\n",
       "<table border=\"1\" class=\"dataframe\">\n",
       "  <thead>\n",
       "    <tr style=\"text-align: right;\">\n",
       "      <th></th>\n",
       "      <th>Compania</th>\n",
       "      <th>FB</th>\n",
       "      <th>GOOG</th>\n",
       "      <th>MSFT</th>\n",
       "    </tr>\n",
       "  </thead>\n",
       "  <tbody>\n",
       "    <tr>\n",
       "      <th rowspan=\"8\" valign=\"top\">Ventas</th>\n",
       "      <th>count</th>\n",
       "      <td>2.000000</td>\n",
       "      <td>2.000000</td>\n",
       "      <td>2.000000</td>\n",
       "    </tr>\n",
       "    <tr>\n",
       "      <th>mean</th>\n",
       "      <td>296.500000</td>\n",
       "      <td>160.000000</td>\n",
       "      <td>232.000000</td>\n",
       "    </tr>\n",
       "    <tr>\n",
       "      <th>std</th>\n",
       "      <td>75.660426</td>\n",
       "      <td>56.568542</td>\n",
       "      <td>152.735065</td>\n",
       "    </tr>\n",
       "    <tr>\n",
       "      <th>min</th>\n",
       "      <td>243.000000</td>\n",
       "      <td>120.000000</td>\n",
       "      <td>124.000000</td>\n",
       "    </tr>\n",
       "    <tr>\n",
       "      <th>25%</th>\n",
       "      <td>269.750000</td>\n",
       "      <td>140.000000</td>\n",
       "      <td>178.000000</td>\n",
       "    </tr>\n",
       "    <tr>\n",
       "      <th>50%</th>\n",
       "      <td>296.500000</td>\n",
       "      <td>160.000000</td>\n",
       "      <td>232.000000</td>\n",
       "    </tr>\n",
       "    <tr>\n",
       "      <th>75%</th>\n",
       "      <td>323.250000</td>\n",
       "      <td>180.000000</td>\n",
       "      <td>286.000000</td>\n",
       "    </tr>\n",
       "    <tr>\n",
       "      <th>max</th>\n",
       "      <td>350.000000</td>\n",
       "      <td>200.000000</td>\n",
       "      <td>340.000000</td>\n",
       "    </tr>\n",
       "  </tbody>\n",
       "</table>\n",
       "</div>"
      ],
      "text/plain": [
       "Compania              FB        GOOG        MSFT\n",
       "Ventas count    2.000000    2.000000    2.000000\n",
       "       mean   296.500000  160.000000  232.000000\n",
       "       std     75.660426   56.568542  152.735065\n",
       "       min    243.000000  120.000000  124.000000\n",
       "       25%    269.750000  140.000000  178.000000\n",
       "       50%    296.500000  160.000000  232.000000\n",
       "       75%    323.250000  180.000000  286.000000\n",
       "       max    350.000000  200.000000  340.000000"
      ]
     },
     "execution_count": 17,
     "metadata": {},
     "output_type": "execute_result"
    }
   ],
   "source": [
    "df.groupby('Compania').describe().transpose()"
   ]
  },
  {
   "cell_type": "markdown",
   "metadata": {},
   "source": [
    "## NaN -> not a number -> cero, vacio, no numero"
   ]
  },
  {
   "cell_type": "code",
   "execution_count": 24,
   "metadata": {},
   "outputs": [],
   "source": [
    "data = pd.read_excel('C:/Users/DELL/Documents/AAPL.xlsx', index_col=0)"
   ]
  },
  {
   "cell_type": "code",
   "execution_count": 25,
   "metadata": {},
   "outputs": [
    {
     "data": {
      "text/html": [
       "<div>\n",
       "<style scoped>\n",
       "    .dataframe tbody tr th:only-of-type {\n",
       "        vertical-align: middle;\n",
       "    }\n",
       "\n",
       "    .dataframe tbody tr th {\n",
       "        vertical-align: top;\n",
       "    }\n",
       "\n",
       "    .dataframe thead th {\n",
       "        text-align: right;\n",
       "    }\n",
       "</style>\n",
       "<table border=\"1\" class=\"dataframe\">\n",
       "  <thead>\n",
       "    <tr style=\"text-align: right;\">\n",
       "      <th></th>\n",
       "      <th>Open</th>\n",
       "      <th>High</th>\n",
       "      <th>Low</th>\n",
       "      <th>Close</th>\n",
       "      <th>Adj Close</th>\n",
       "      <th>Volume</th>\n",
       "    </tr>\n",
       "    <tr>\n",
       "      <th>Date</th>\n",
       "      <th></th>\n",
       "      <th></th>\n",
       "      <th></th>\n",
       "      <th></th>\n",
       "      <th></th>\n",
       "      <th></th>\n",
       "    </tr>\n",
       "  </thead>\n",
       "  <tbody>\n",
       "    <tr>\n",
       "      <th>2018-01-02</th>\n",
       "      <td>170.160004</td>\n",
       "      <td>172.3</td>\n",
       "      <td>169.259995</td>\n",
       "      <td>172.259995</td>\n",
       "      <td>168.339050</td>\n",
       "      <td>25555900</td>\n",
       "    </tr>\n",
       "    <tr>\n",
       "      <th>2018-01-03</th>\n",
       "      <td>172.529999</td>\n",
       "      <td>174.55</td>\n",
       "      <td>NaN</td>\n",
       "      <td>172.229996</td>\n",
       "      <td>168.309738</td>\n",
       "      <td>29517900</td>\n",
       "    </tr>\n",
       "    <tr>\n",
       "      <th>2018-01-04</th>\n",
       "      <td>172.539993</td>\n",
       "      <td>NaN</td>\n",
       "      <td>172.080002</td>\n",
       "      <td>173.029999</td>\n",
       "      <td>169.091522</td>\n",
       "      <td>22434600</td>\n",
       "    </tr>\n",
       "    <tr>\n",
       "      <th>2018-01-05</th>\n",
       "      <td>173.440002</td>\n",
       "      <td>Texto</td>\n",
       "      <td>173.050003</td>\n",
       "      <td>175.000000</td>\n",
       "      <td>171.016678</td>\n",
       "      <td>23660000</td>\n",
       "    </tr>\n",
       "    <tr>\n",
       "      <th>2018-01-08</th>\n",
       "      <td>174.350006</td>\n",
       "      <td>175.61</td>\n",
       "      <td>173.929993</td>\n",
       "      <td>174.350006</td>\n",
       "      <td>170.381485</td>\n",
       "      <td>20567800</td>\n",
       "    </tr>\n",
       "  </tbody>\n",
       "</table>\n",
       "</div>"
      ],
      "text/plain": [
       "                  Open    High         Low       Close   Adj Close    Volume\n",
       "Date                                                                        \n",
       "2018-01-02  170.160004   172.3  169.259995  172.259995  168.339050  25555900\n",
       "2018-01-03  172.529999  174.55         NaN  172.229996  168.309738  29517900\n",
       "2018-01-04  172.539993     NaN  172.080002  173.029999  169.091522  22434600\n",
       "2018-01-05  173.440002   Texto  173.050003  175.000000  171.016678  23660000\n",
       "2018-01-08  174.350006  175.61  173.929993  174.350006  170.381485  20567800"
      ]
     },
     "execution_count": 25,
     "metadata": {},
     "output_type": "execute_result"
    }
   ],
   "source": [
    "data"
   ]
  },
  {
   "cell_type": "code",
   "execution_count": 26,
   "metadata": {},
   "outputs": [],
   "source": [
    "data['var']=round(data['Low'].pct_change()*100,2)"
   ]
  },
  {
   "cell_type": "code",
   "execution_count": 27,
   "metadata": {},
   "outputs": [
    {
     "data": {
      "text/html": [
       "<div>\n",
       "<style scoped>\n",
       "    .dataframe tbody tr th:only-of-type {\n",
       "        vertical-align: middle;\n",
       "    }\n",
       "\n",
       "    .dataframe tbody tr th {\n",
       "        vertical-align: top;\n",
       "    }\n",
       "\n",
       "    .dataframe thead th {\n",
       "        text-align: right;\n",
       "    }\n",
       "</style>\n",
       "<table border=\"1\" class=\"dataframe\">\n",
       "  <thead>\n",
       "    <tr style=\"text-align: right;\">\n",
       "      <th></th>\n",
       "      <th>Open</th>\n",
       "      <th>High</th>\n",
       "      <th>Low</th>\n",
       "      <th>Close</th>\n",
       "      <th>Adj Close</th>\n",
       "      <th>Volume</th>\n",
       "      <th>var</th>\n",
       "    </tr>\n",
       "    <tr>\n",
       "      <th>Date</th>\n",
       "      <th></th>\n",
       "      <th></th>\n",
       "      <th></th>\n",
       "      <th></th>\n",
       "      <th></th>\n",
       "      <th></th>\n",
       "      <th></th>\n",
       "    </tr>\n",
       "  </thead>\n",
       "  <tbody>\n",
       "    <tr>\n",
       "      <th>2018-01-02</th>\n",
       "      <td>170.160004</td>\n",
       "      <td>172.3</td>\n",
       "      <td>169.259995</td>\n",
       "      <td>172.259995</td>\n",
       "      <td>168.339050</td>\n",
       "      <td>25555900</td>\n",
       "      <td>NaN</td>\n",
       "    </tr>\n",
       "    <tr>\n",
       "      <th>2018-01-03</th>\n",
       "      <td>172.529999</td>\n",
       "      <td>174.55</td>\n",
       "      <td>NaN</td>\n",
       "      <td>172.229996</td>\n",
       "      <td>168.309738</td>\n",
       "      <td>29517900</td>\n",
       "      <td>0.00</td>\n",
       "    </tr>\n",
       "    <tr>\n",
       "      <th>2018-01-04</th>\n",
       "      <td>172.539993</td>\n",
       "      <td>NaN</td>\n",
       "      <td>172.080002</td>\n",
       "      <td>173.029999</td>\n",
       "      <td>169.091522</td>\n",
       "      <td>22434600</td>\n",
       "      <td>1.67</td>\n",
       "    </tr>\n",
       "    <tr>\n",
       "      <th>2018-01-05</th>\n",
       "      <td>173.440002</td>\n",
       "      <td>Texto</td>\n",
       "      <td>173.050003</td>\n",
       "      <td>175.000000</td>\n",
       "      <td>171.016678</td>\n",
       "      <td>23660000</td>\n",
       "      <td>0.56</td>\n",
       "    </tr>\n",
       "    <tr>\n",
       "      <th>2018-01-08</th>\n",
       "      <td>174.350006</td>\n",
       "      <td>175.61</td>\n",
       "      <td>173.929993</td>\n",
       "      <td>174.350006</td>\n",
       "      <td>170.381485</td>\n",
       "      <td>20567800</td>\n",
       "      <td>0.51</td>\n",
       "    </tr>\n",
       "  </tbody>\n",
       "</table>\n",
       "</div>"
      ],
      "text/plain": [
       "                  Open    High         Low       Close   Adj Close    Volume  \\\n",
       "Date                                                                           \n",
       "2018-01-02  170.160004   172.3  169.259995  172.259995  168.339050  25555900   \n",
       "2018-01-03  172.529999  174.55         NaN  172.229996  168.309738  29517900   \n",
       "2018-01-04  172.539993     NaN  172.080002  173.029999  169.091522  22434600   \n",
       "2018-01-05  173.440002   Texto  173.050003  175.000000  171.016678  23660000   \n",
       "2018-01-08  174.350006  175.61  173.929993  174.350006  170.381485  20567800   \n",
       "\n",
       "             var  \n",
       "Date              \n",
       "2018-01-02   NaN  \n",
       "2018-01-03  0.00  \n",
       "2018-01-04  1.67  \n",
       "2018-01-05  0.56  \n",
       "2018-01-08  0.51  "
      ]
     },
     "execution_count": 27,
     "metadata": {},
     "output_type": "execute_result"
    }
   ],
   "source": [
    "data"
   ]
  },
  {
   "cell_type": "code",
   "execution_count": 28,
   "metadata": {},
   "outputs": [
    {
     "data": {
      "text/plain": [
       "Open         0\n",
       "High         1\n",
       "Low          1\n",
       "Close        0\n",
       "Adj Close    0\n",
       "Volume       0\n",
       "var          1\n",
       "dtype: int64"
      ]
     },
     "execution_count": 28,
     "metadata": {},
     "output_type": "execute_result"
    }
   ],
   "source": [
    "#Para saber cuantas celdas no tienen valor\n",
    "data.isnull().sum()"
   ]
  },
  {
   "cell_type": "code",
   "execution_count": 29,
   "metadata": {},
   "outputs": [
    {
     "data": {
      "text/html": [
       "<div>\n",
       "<style scoped>\n",
       "    .dataframe tbody tr th:only-of-type {\n",
       "        vertical-align: middle;\n",
       "    }\n",
       "\n",
       "    .dataframe tbody tr th {\n",
       "        vertical-align: top;\n",
       "    }\n",
       "\n",
       "    .dataframe thead th {\n",
       "        text-align: right;\n",
       "    }\n",
       "</style>\n",
       "<table border=\"1\" class=\"dataframe\">\n",
       "  <thead>\n",
       "    <tr style=\"text-align: right;\">\n",
       "      <th></th>\n",
       "      <th>Open</th>\n",
       "      <th>High</th>\n",
       "      <th>Low</th>\n",
       "      <th>Close</th>\n",
       "      <th>Adj Close</th>\n",
       "      <th>Volume</th>\n",
       "      <th>var</th>\n",
       "    </tr>\n",
       "    <tr>\n",
       "      <th>Date</th>\n",
       "      <th></th>\n",
       "      <th></th>\n",
       "      <th></th>\n",
       "      <th></th>\n",
       "      <th></th>\n",
       "      <th></th>\n",
       "      <th></th>\n",
       "    </tr>\n",
       "  </thead>\n",
       "  <tbody>\n",
       "    <tr>\n",
       "      <th>2018-01-02</th>\n",
       "      <td>False</td>\n",
       "      <td>False</td>\n",
       "      <td>False</td>\n",
       "      <td>False</td>\n",
       "      <td>False</td>\n",
       "      <td>False</td>\n",
       "      <td>True</td>\n",
       "    </tr>\n",
       "    <tr>\n",
       "      <th>2018-01-03</th>\n",
       "      <td>False</td>\n",
       "      <td>False</td>\n",
       "      <td>True</td>\n",
       "      <td>False</td>\n",
       "      <td>False</td>\n",
       "      <td>False</td>\n",
       "      <td>False</td>\n",
       "    </tr>\n",
       "    <tr>\n",
       "      <th>2018-01-04</th>\n",
       "      <td>False</td>\n",
       "      <td>True</td>\n",
       "      <td>False</td>\n",
       "      <td>False</td>\n",
       "      <td>False</td>\n",
       "      <td>False</td>\n",
       "      <td>False</td>\n",
       "    </tr>\n",
       "    <tr>\n",
       "      <th>2018-01-05</th>\n",
       "      <td>False</td>\n",
       "      <td>False</td>\n",
       "      <td>False</td>\n",
       "      <td>False</td>\n",
       "      <td>False</td>\n",
       "      <td>False</td>\n",
       "      <td>False</td>\n",
       "    </tr>\n",
       "    <tr>\n",
       "      <th>2018-01-08</th>\n",
       "      <td>False</td>\n",
       "      <td>False</td>\n",
       "      <td>False</td>\n",
       "      <td>False</td>\n",
       "      <td>False</td>\n",
       "      <td>False</td>\n",
       "      <td>False</td>\n",
       "    </tr>\n",
       "  </tbody>\n",
       "</table>\n",
       "</div>"
      ],
      "text/plain": [
       "             Open   High    Low  Close  Adj Close  Volume    var\n",
       "Date                                                            \n",
       "2018-01-02  False  False  False  False      False   False   True\n",
       "2018-01-03  False  False   True  False      False   False  False\n",
       "2018-01-04  False   True  False  False      False   False  False\n",
       "2018-01-05  False  False  False  False      False   False  False\n",
       "2018-01-08  False  False  False  False      False   False  False"
      ]
     },
     "execution_count": 29,
     "metadata": {},
     "output_type": "execute_result"
    }
   ],
   "source": [
    "data.isnull()"
   ]
  },
  {
   "cell_type": "code",
   "execution_count": 30,
   "metadata": {},
   "outputs": [],
   "source": [
    "#dropna() elimina las filas que tienen los NaN\n",
    "#fillna(x) Cambia los NaN por el valor x\n",
    "#replace(x,y) Buscar los valores X y los reemplaza por Y\n",
    "data2 = data.dropna()"
   ]
  },
  {
   "cell_type": "code",
   "execution_count": 31,
   "metadata": {},
   "outputs": [
    {
     "data": {
      "text/html": [
       "<div>\n",
       "<style scoped>\n",
       "    .dataframe tbody tr th:only-of-type {\n",
       "        vertical-align: middle;\n",
       "    }\n",
       "\n",
       "    .dataframe tbody tr th {\n",
       "        vertical-align: top;\n",
       "    }\n",
       "\n",
       "    .dataframe thead th {\n",
       "        text-align: right;\n",
       "    }\n",
       "</style>\n",
       "<table border=\"1\" class=\"dataframe\">\n",
       "  <thead>\n",
       "    <tr style=\"text-align: right;\">\n",
       "      <th></th>\n",
       "      <th>Open</th>\n",
       "      <th>High</th>\n",
       "      <th>Low</th>\n",
       "      <th>Close</th>\n",
       "      <th>Adj Close</th>\n",
       "      <th>Volume</th>\n",
       "      <th>var</th>\n",
       "    </tr>\n",
       "    <tr>\n",
       "      <th>Date</th>\n",
       "      <th></th>\n",
       "      <th></th>\n",
       "      <th></th>\n",
       "      <th></th>\n",
       "      <th></th>\n",
       "      <th></th>\n",
       "      <th></th>\n",
       "    </tr>\n",
       "  </thead>\n",
       "  <tbody>\n",
       "    <tr>\n",
       "      <th>2018-01-05</th>\n",
       "      <td>173.440002</td>\n",
       "      <td>Texto</td>\n",
       "      <td>173.050003</td>\n",
       "      <td>175.000000</td>\n",
       "      <td>171.016678</td>\n",
       "      <td>23660000</td>\n",
       "      <td>0.56</td>\n",
       "    </tr>\n",
       "    <tr>\n",
       "      <th>2018-01-08</th>\n",
       "      <td>174.350006</td>\n",
       "      <td>175.61</td>\n",
       "      <td>173.929993</td>\n",
       "      <td>174.350006</td>\n",
       "      <td>170.381485</td>\n",
       "      <td>20567800</td>\n",
       "      <td>0.51</td>\n",
       "    </tr>\n",
       "  </tbody>\n",
       "</table>\n",
       "</div>"
      ],
      "text/plain": [
       "                  Open    High         Low       Close   Adj Close    Volume  \\\n",
       "Date                                                                           \n",
       "2018-01-05  173.440002   Texto  173.050003  175.000000  171.016678  23660000   \n",
       "2018-01-08  174.350006  175.61  173.929993  174.350006  170.381485  20567800   \n",
       "\n",
       "             var  \n",
       "Date              \n",
       "2018-01-05  0.56  \n",
       "2018-01-08  0.51  "
      ]
     },
     "execution_count": 31,
     "metadata": {},
     "output_type": "execute_result"
    }
   ],
   "source": [
    "data2"
   ]
  },
  {
   "cell_type": "code",
   "execution_count": 34,
   "metadata": {},
   "outputs": [],
   "source": [
    "data2 = data.copy()"
   ]
  },
  {
   "cell_type": "code",
   "execution_count": 35,
   "metadata": {},
   "outputs": [
    {
     "data": {
      "text/html": [
       "<div>\n",
       "<style scoped>\n",
       "    .dataframe tbody tr th:only-of-type {\n",
       "        vertical-align: middle;\n",
       "    }\n",
       "\n",
       "    .dataframe tbody tr th {\n",
       "        vertical-align: top;\n",
       "    }\n",
       "\n",
       "    .dataframe thead th {\n",
       "        text-align: right;\n",
       "    }\n",
       "</style>\n",
       "<table border=\"1\" class=\"dataframe\">\n",
       "  <thead>\n",
       "    <tr style=\"text-align: right;\">\n",
       "      <th></th>\n",
       "      <th>Open</th>\n",
       "      <th>High</th>\n",
       "      <th>Low</th>\n",
       "      <th>Close</th>\n",
       "      <th>Adj Close</th>\n",
       "      <th>Volume</th>\n",
       "      <th>var</th>\n",
       "    </tr>\n",
       "    <tr>\n",
       "      <th>Date</th>\n",
       "      <th></th>\n",
       "      <th></th>\n",
       "      <th></th>\n",
       "      <th></th>\n",
       "      <th></th>\n",
       "      <th></th>\n",
       "      <th></th>\n",
       "    </tr>\n",
       "  </thead>\n",
       "  <tbody>\n",
       "    <tr>\n",
       "      <th>2018-01-02</th>\n",
       "      <td>170.160004</td>\n",
       "      <td>172.3</td>\n",
       "      <td>169.259995</td>\n",
       "      <td>172.259995</td>\n",
       "      <td>168.339050</td>\n",
       "      <td>25555900</td>\n",
       "      <td>NaN</td>\n",
       "    </tr>\n",
       "    <tr>\n",
       "      <th>2018-01-03</th>\n",
       "      <td>172.529999</td>\n",
       "      <td>174.55</td>\n",
       "      <td>NaN</td>\n",
       "      <td>172.229996</td>\n",
       "      <td>168.309738</td>\n",
       "      <td>29517900</td>\n",
       "      <td>0.00</td>\n",
       "    </tr>\n",
       "    <tr>\n",
       "      <th>2018-01-04</th>\n",
       "      <td>172.539993</td>\n",
       "      <td>NaN</td>\n",
       "      <td>172.080002</td>\n",
       "      <td>173.029999</td>\n",
       "      <td>169.091522</td>\n",
       "      <td>22434600</td>\n",
       "      <td>1.67</td>\n",
       "    </tr>\n",
       "    <tr>\n",
       "      <th>2018-01-05</th>\n",
       "      <td>173.440002</td>\n",
       "      <td>Texto</td>\n",
       "      <td>173.050003</td>\n",
       "      <td>175.000000</td>\n",
       "      <td>171.016678</td>\n",
       "      <td>23660000</td>\n",
       "      <td>0.56</td>\n",
       "    </tr>\n",
       "    <tr>\n",
       "      <th>2018-01-08</th>\n",
       "      <td>174.350006</td>\n",
       "      <td>175.61</td>\n",
       "      <td>173.929993</td>\n",
       "      <td>174.350006</td>\n",
       "      <td>170.381485</td>\n",
       "      <td>20567800</td>\n",
       "      <td>0.51</td>\n",
       "    </tr>\n",
       "  </tbody>\n",
       "</table>\n",
       "</div>"
      ],
      "text/plain": [
       "                  Open    High         Low       Close   Adj Close    Volume  \\\n",
       "Date                                                                           \n",
       "2018-01-02  170.160004   172.3  169.259995  172.259995  168.339050  25555900   \n",
       "2018-01-03  172.529999  174.55         NaN  172.229996  168.309738  29517900   \n",
       "2018-01-04  172.539993     NaN  172.080002  173.029999  169.091522  22434600   \n",
       "2018-01-05  173.440002   Texto  173.050003  175.000000  171.016678  23660000   \n",
       "2018-01-08  174.350006  175.61  173.929993  174.350006  170.381485  20567800   \n",
       "\n",
       "             var  \n",
       "Date              \n",
       "2018-01-02   NaN  \n",
       "2018-01-03  0.00  \n",
       "2018-01-04  1.67  \n",
       "2018-01-05  0.56  \n",
       "2018-01-08  0.51  "
      ]
     },
     "execution_count": 35,
     "metadata": {},
     "output_type": "execute_result"
    }
   ],
   "source": [
    "data2"
   ]
  },
  {
   "cell_type": "code",
   "execution_count": 36,
   "metadata": {},
   "outputs": [],
   "source": [
    "data2.dropna(inplace=True)"
   ]
  },
  {
   "cell_type": "code",
   "execution_count": 37,
   "metadata": {},
   "outputs": [
    {
     "data": {
      "text/html": [
       "<div>\n",
       "<style scoped>\n",
       "    .dataframe tbody tr th:only-of-type {\n",
       "        vertical-align: middle;\n",
       "    }\n",
       "\n",
       "    .dataframe tbody tr th {\n",
       "        vertical-align: top;\n",
       "    }\n",
       "\n",
       "    .dataframe thead th {\n",
       "        text-align: right;\n",
       "    }\n",
       "</style>\n",
       "<table border=\"1\" class=\"dataframe\">\n",
       "  <thead>\n",
       "    <tr style=\"text-align: right;\">\n",
       "      <th></th>\n",
       "      <th>Open</th>\n",
       "      <th>High</th>\n",
       "      <th>Low</th>\n",
       "      <th>Close</th>\n",
       "      <th>Adj Close</th>\n",
       "      <th>Volume</th>\n",
       "      <th>var</th>\n",
       "    </tr>\n",
       "    <tr>\n",
       "      <th>Date</th>\n",
       "      <th></th>\n",
       "      <th></th>\n",
       "      <th></th>\n",
       "      <th></th>\n",
       "      <th></th>\n",
       "      <th></th>\n",
       "      <th></th>\n",
       "    </tr>\n",
       "  </thead>\n",
       "  <tbody>\n",
       "    <tr>\n",
       "      <th>2018-01-05</th>\n",
       "      <td>173.440002</td>\n",
       "      <td>Texto</td>\n",
       "      <td>173.050003</td>\n",
       "      <td>175.000000</td>\n",
       "      <td>171.016678</td>\n",
       "      <td>23660000</td>\n",
       "      <td>0.56</td>\n",
       "    </tr>\n",
       "    <tr>\n",
       "      <th>2018-01-08</th>\n",
       "      <td>174.350006</td>\n",
       "      <td>175.61</td>\n",
       "      <td>173.929993</td>\n",
       "      <td>174.350006</td>\n",
       "      <td>170.381485</td>\n",
       "      <td>20567800</td>\n",
       "      <td>0.51</td>\n",
       "    </tr>\n",
       "  </tbody>\n",
       "</table>\n",
       "</div>"
      ],
      "text/plain": [
       "                  Open    High         Low       Close   Adj Close    Volume  \\\n",
       "Date                                                                           \n",
       "2018-01-05  173.440002   Texto  173.050003  175.000000  171.016678  23660000   \n",
       "2018-01-08  174.350006  175.61  173.929993  174.350006  170.381485  20567800   \n",
       "\n",
       "             var  \n",
       "Date              \n",
       "2018-01-05  0.56  \n",
       "2018-01-08  0.51  "
      ]
     },
     "execution_count": 37,
     "metadata": {},
     "output_type": "execute_result"
    }
   ],
   "source": [
    "data2"
   ]
  },
  {
   "cell_type": "code",
   "execution_count": 38,
   "metadata": {},
   "outputs": [
    {
     "data": {
      "text/html": [
       "<div>\n",
       "<style scoped>\n",
       "    .dataframe tbody tr th:only-of-type {\n",
       "        vertical-align: middle;\n",
       "    }\n",
       "\n",
       "    .dataframe tbody tr th {\n",
       "        vertical-align: top;\n",
       "    }\n",
       "\n",
       "    .dataframe thead th {\n",
       "        text-align: right;\n",
       "    }\n",
       "</style>\n",
       "<table border=\"1\" class=\"dataframe\">\n",
       "  <thead>\n",
       "    <tr style=\"text-align: right;\">\n",
       "      <th></th>\n",
       "      <th>Open</th>\n",
       "      <th>High</th>\n",
       "      <th>Low</th>\n",
       "      <th>Close</th>\n",
       "      <th>Adj Close</th>\n",
       "      <th>Volume</th>\n",
       "    </tr>\n",
       "    <tr>\n",
       "      <th>Date</th>\n",
       "      <th></th>\n",
       "      <th></th>\n",
       "      <th></th>\n",
       "      <th></th>\n",
       "      <th></th>\n",
       "      <th></th>\n",
       "    </tr>\n",
       "  </thead>\n",
       "  <tbody>\n",
       "    <tr>\n",
       "      <th>2018-01-02</th>\n",
       "      <td>170.160004</td>\n",
       "      <td>172.3</td>\n",
       "      <td>169.259995</td>\n",
       "      <td>172.259995</td>\n",
       "      <td>168.339050</td>\n",
       "      <td>25555900</td>\n",
       "    </tr>\n",
       "    <tr>\n",
       "      <th>2018-01-03</th>\n",
       "      <td>172.529999</td>\n",
       "      <td>174.55</td>\n",
       "      <td>0.000000</td>\n",
       "      <td>172.229996</td>\n",
       "      <td>168.309738</td>\n",
       "      <td>29517900</td>\n",
       "    </tr>\n",
       "    <tr>\n",
       "      <th>2018-01-04</th>\n",
       "      <td>172.539993</td>\n",
       "      <td>0</td>\n",
       "      <td>172.080002</td>\n",
       "      <td>173.029999</td>\n",
       "      <td>169.091522</td>\n",
       "      <td>22434600</td>\n",
       "    </tr>\n",
       "    <tr>\n",
       "      <th>2018-01-05</th>\n",
       "      <td>173.440002</td>\n",
       "      <td>Texto</td>\n",
       "      <td>173.050003</td>\n",
       "      <td>175.000000</td>\n",
       "      <td>171.016678</td>\n",
       "      <td>23660000</td>\n",
       "    </tr>\n",
       "    <tr>\n",
       "      <th>2018-01-08</th>\n",
       "      <td>174.350006</td>\n",
       "      <td>175.61</td>\n",
       "      <td>173.929993</td>\n",
       "      <td>174.350006</td>\n",
       "      <td>170.381485</td>\n",
       "      <td>20567800</td>\n",
       "    </tr>\n",
       "  </tbody>\n",
       "</table>\n",
       "</div>"
      ],
      "text/plain": [
       "                  Open    High         Low       Close   Adj Close    Volume\n",
       "Date                                                                        \n",
       "2018-01-02  170.160004   172.3  169.259995  172.259995  168.339050  25555900\n",
       "2018-01-03  172.529999  174.55    0.000000  172.229996  168.309738  29517900\n",
       "2018-01-04  172.539993       0  172.080002  173.029999  169.091522  22434600\n",
       "2018-01-05  173.440002   Texto  173.050003  175.000000  171.016678  23660000\n",
       "2018-01-08  174.350006  175.61  173.929993  174.350006  170.381485  20567800"
      ]
     },
     "execution_count": 38,
     "metadata": {},
     "output_type": "execute_result"
    }
   ],
   "source": [
    "#FillNA\n",
    "data = pd.read_excel('C:/Users/DELL/Documents/AAPL.xlsx', index_col=0)\n",
    "data.fillna(0)\n"
   ]
  },
  {
   "cell_type": "code",
   "execution_count": 39,
   "metadata": {},
   "outputs": [
    {
     "data": {
      "text/html": [
       "<div>\n",
       "<style scoped>\n",
       "    .dataframe tbody tr th:only-of-type {\n",
       "        vertical-align: middle;\n",
       "    }\n",
       "\n",
       "    .dataframe tbody tr th {\n",
       "        vertical-align: top;\n",
       "    }\n",
       "\n",
       "    .dataframe thead th {\n",
       "        text-align: right;\n",
       "    }\n",
       "</style>\n",
       "<table border=\"1\" class=\"dataframe\">\n",
       "  <thead>\n",
       "    <tr style=\"text-align: right;\">\n",
       "      <th></th>\n",
       "      <th>Open</th>\n",
       "      <th>High</th>\n",
       "      <th>Low</th>\n",
       "      <th>Close</th>\n",
       "      <th>Adj Close</th>\n",
       "      <th>Volume</th>\n",
       "    </tr>\n",
       "    <tr>\n",
       "      <th>Date</th>\n",
       "      <th></th>\n",
       "      <th></th>\n",
       "      <th></th>\n",
       "      <th></th>\n",
       "      <th></th>\n",
       "      <th></th>\n",
       "    </tr>\n",
       "  </thead>\n",
       "  <tbody>\n",
       "    <tr>\n",
       "      <th>2018-01-02</th>\n",
       "      <td>170.160004</td>\n",
       "      <td>172.3</td>\n",
       "      <td>169.259995</td>\n",
       "      <td>172.259995</td>\n",
       "      <td>168.339050</td>\n",
       "      <td>25555900</td>\n",
       "    </tr>\n",
       "    <tr>\n",
       "      <th>2018-01-03</th>\n",
       "      <td>172.529999</td>\n",
       "      <td>174.55</td>\n",
       "      <td>NaN</td>\n",
       "      <td>172.229996</td>\n",
       "      <td>168.309738</td>\n",
       "      <td>29517900</td>\n",
       "    </tr>\n",
       "    <tr>\n",
       "      <th>2018-01-04</th>\n",
       "      <td>172.539993</td>\n",
       "      <td>NaN</td>\n",
       "      <td>172.080002</td>\n",
       "      <td>173.029999</td>\n",
       "      <td>169.091522</td>\n",
       "      <td>22434600</td>\n",
       "    </tr>\n",
       "    <tr>\n",
       "      <th>2018-01-05</th>\n",
       "      <td>173.440002</td>\n",
       "      <td>Texto</td>\n",
       "      <td>173.050003</td>\n",
       "      <td>175.000000</td>\n",
       "      <td>171.016678</td>\n",
       "      <td>23660000</td>\n",
       "    </tr>\n",
       "    <tr>\n",
       "      <th>2018-01-08</th>\n",
       "      <td>174.350006</td>\n",
       "      <td>175.61</td>\n",
       "      <td>173.929993</td>\n",
       "      <td>174.350006</td>\n",
       "      <td>170.381485</td>\n",
       "      <td>20567800</td>\n",
       "    </tr>\n",
       "  </tbody>\n",
       "</table>\n",
       "</div>"
      ],
      "text/plain": [
       "                  Open    High         Low       Close   Adj Close    Volume\n",
       "Date                                                                        \n",
       "2018-01-02  170.160004   172.3  169.259995  172.259995  168.339050  25555900\n",
       "2018-01-03  172.529999  174.55         NaN  172.229996  168.309738  29517900\n",
       "2018-01-04  172.539993     NaN  172.080002  173.029999  169.091522  22434600\n",
       "2018-01-05  173.440002   Texto  173.050003  175.000000  171.016678  23660000\n",
       "2018-01-08  174.350006  175.61  173.929993  174.350006  170.381485  20567800"
      ]
     },
     "execution_count": 39,
     "metadata": {},
     "output_type": "execute_result"
    }
   ],
   "source": [
    "data # como no puse inplace=True no guardo los cambios en el DF"
   ]
  },
  {
   "cell_type": "code",
   "execution_count": 40,
   "metadata": {},
   "outputs": [],
   "source": [
    "data.fillna(0, inplace=True)"
   ]
  },
  {
   "cell_type": "code",
   "execution_count": 41,
   "metadata": {},
   "outputs": [
    {
     "data": {
      "text/html": [
       "<div>\n",
       "<style scoped>\n",
       "    .dataframe tbody tr th:only-of-type {\n",
       "        vertical-align: middle;\n",
       "    }\n",
       "\n",
       "    .dataframe tbody tr th {\n",
       "        vertical-align: top;\n",
       "    }\n",
       "\n",
       "    .dataframe thead th {\n",
       "        text-align: right;\n",
       "    }\n",
       "</style>\n",
       "<table border=\"1\" class=\"dataframe\">\n",
       "  <thead>\n",
       "    <tr style=\"text-align: right;\">\n",
       "      <th></th>\n",
       "      <th>Open</th>\n",
       "      <th>High</th>\n",
       "      <th>Low</th>\n",
       "      <th>Close</th>\n",
       "      <th>Adj Close</th>\n",
       "      <th>Volume</th>\n",
       "    </tr>\n",
       "    <tr>\n",
       "      <th>Date</th>\n",
       "      <th></th>\n",
       "      <th></th>\n",
       "      <th></th>\n",
       "      <th></th>\n",
       "      <th></th>\n",
       "      <th></th>\n",
       "    </tr>\n",
       "  </thead>\n",
       "  <tbody>\n",
       "    <tr>\n",
       "      <th>2018-01-02</th>\n",
       "      <td>170.160004</td>\n",
       "      <td>172.3</td>\n",
       "      <td>169.259995</td>\n",
       "      <td>172.259995</td>\n",
       "      <td>168.339050</td>\n",
       "      <td>25555900</td>\n",
       "    </tr>\n",
       "    <tr>\n",
       "      <th>2018-01-03</th>\n",
       "      <td>172.529999</td>\n",
       "      <td>174.55</td>\n",
       "      <td>0.000000</td>\n",
       "      <td>172.229996</td>\n",
       "      <td>168.309738</td>\n",
       "      <td>29517900</td>\n",
       "    </tr>\n",
       "    <tr>\n",
       "      <th>2018-01-04</th>\n",
       "      <td>172.539993</td>\n",
       "      <td>0</td>\n",
       "      <td>172.080002</td>\n",
       "      <td>173.029999</td>\n",
       "      <td>169.091522</td>\n",
       "      <td>22434600</td>\n",
       "    </tr>\n",
       "    <tr>\n",
       "      <th>2018-01-05</th>\n",
       "      <td>173.440002</td>\n",
       "      <td>Texto</td>\n",
       "      <td>173.050003</td>\n",
       "      <td>175.000000</td>\n",
       "      <td>171.016678</td>\n",
       "      <td>23660000</td>\n",
       "    </tr>\n",
       "    <tr>\n",
       "      <th>2018-01-08</th>\n",
       "      <td>174.350006</td>\n",
       "      <td>175.61</td>\n",
       "      <td>173.929993</td>\n",
       "      <td>174.350006</td>\n",
       "      <td>170.381485</td>\n",
       "      <td>20567800</td>\n",
       "    </tr>\n",
       "  </tbody>\n",
       "</table>\n",
       "</div>"
      ],
      "text/plain": [
       "                  Open    High         Low       Close   Adj Close    Volume\n",
       "Date                                                                        \n",
       "2018-01-02  170.160004   172.3  169.259995  172.259995  168.339050  25555900\n",
       "2018-01-03  172.529999  174.55    0.000000  172.229996  168.309738  29517900\n",
       "2018-01-04  172.539993       0  172.080002  173.029999  169.091522  22434600\n",
       "2018-01-05  173.440002   Texto  173.050003  175.000000  171.016678  23660000\n",
       "2018-01-08  174.350006  175.61  173.929993  174.350006  170.381485  20567800"
      ]
     },
     "execution_count": 41,
     "metadata": {},
     "output_type": "execute_result"
    }
   ],
   "source": [
    "data"
   ]
  },
  {
   "cell_type": "code",
   "execution_count": 42,
   "metadata": {},
   "outputs": [
    {
     "data": {
      "text/html": [
       "<div>\n",
       "<style scoped>\n",
       "    .dataframe tbody tr th:only-of-type {\n",
       "        vertical-align: middle;\n",
       "    }\n",
       "\n",
       "    .dataframe tbody tr th {\n",
       "        vertical-align: top;\n",
       "    }\n",
       "\n",
       "    .dataframe thead th {\n",
       "        text-align: right;\n",
       "    }\n",
       "</style>\n",
       "<table border=\"1\" class=\"dataframe\">\n",
       "  <thead>\n",
       "    <tr style=\"text-align: right;\">\n",
       "      <th></th>\n",
       "      <th>Open</th>\n",
       "      <th>High</th>\n",
       "      <th>Low</th>\n",
       "      <th>Close</th>\n",
       "      <th>Adj Close</th>\n",
       "      <th>Volume</th>\n",
       "    </tr>\n",
       "    <tr>\n",
       "      <th>Date</th>\n",
       "      <th></th>\n",
       "      <th></th>\n",
       "      <th></th>\n",
       "      <th></th>\n",
       "      <th></th>\n",
       "      <th></th>\n",
       "    </tr>\n",
       "  </thead>\n",
       "  <tbody>\n",
       "    <tr>\n",
       "      <th>2018-01-02</th>\n",
       "      <td>170.160004</td>\n",
       "      <td>172.3</td>\n",
       "      <td>169.259995</td>\n",
       "      <td>172.259995</td>\n",
       "      <td>168.339050</td>\n",
       "      <td>25555900</td>\n",
       "    </tr>\n",
       "    <tr>\n",
       "      <th>2018-01-03</th>\n",
       "      <td>172.529999</td>\n",
       "      <td>174.55</td>\n",
       "      <td>NaN</td>\n",
       "      <td>172.229996</td>\n",
       "      <td>168.309738</td>\n",
       "      <td>29517900</td>\n",
       "    </tr>\n",
       "    <tr>\n",
       "      <th>2018-01-04</th>\n",
       "      <td>172.539993</td>\n",
       "      <td>NaN</td>\n",
       "      <td>172.080002</td>\n",
       "      <td>173.029999</td>\n",
       "      <td>169.091522</td>\n",
       "      <td>22434600</td>\n",
       "    </tr>\n",
       "    <tr>\n",
       "      <th>2018-01-05</th>\n",
       "      <td>173.440002</td>\n",
       "      <td>Texto</td>\n",
       "      <td>173.050003</td>\n",
       "      <td>175.000000</td>\n",
       "      <td>171.016678</td>\n",
       "      <td>23660000</td>\n",
       "    </tr>\n",
       "    <tr>\n",
       "      <th>2018-01-08</th>\n",
       "      <td>174.350006</td>\n",
       "      <td>175.61</td>\n",
       "      <td>173.929993</td>\n",
       "      <td>174.350006</td>\n",
       "      <td>170.381485</td>\n",
       "      <td>20567800</td>\n",
       "    </tr>\n",
       "  </tbody>\n",
       "</table>\n",
       "</div>"
      ],
      "text/plain": [
       "                  Open    High         Low       Close   Adj Close    Volume\n",
       "Date                                                                        \n",
       "2018-01-02  170.160004   172.3  169.259995  172.259995  168.339050  25555900\n",
       "2018-01-03  172.529999  174.55         NaN  172.229996  168.309738  29517900\n",
       "2018-01-04  172.539993     NaN  172.080002  173.029999  169.091522  22434600\n",
       "2018-01-05  173.440002   Texto  173.050003  175.000000  171.016678  23660000\n",
       "2018-01-08  174.350006  175.61  173.929993  174.350006  170.381485  20567800"
      ]
     },
     "execution_count": 42,
     "metadata": {},
     "output_type": "execute_result"
    }
   ],
   "source": [
    "data = pd.read_excel('C:/Users/DELL/Documents/AAPL.xlsx', index_col=0)\n",
    "data"
   ]
  },
  {
   "cell_type": "code",
   "execution_count": 45,
   "metadata": {},
   "outputs": [
    {
     "data": {
      "text/plain": [
       "Date\n",
       "2018-01-02    169.259995\n",
       "2018-01-03    172.079998\n",
       "2018-01-04    172.080002\n",
       "2018-01-05    173.050003\n",
       "2018-01-08    173.929993\n",
       "Name: Low, dtype: float64"
      ]
     },
     "execution_count": 45,
     "metadata": {},
     "output_type": "execute_result"
    }
   ],
   "source": [
    "data['Low'].fillna(data['Low'].mean())"
   ]
  },
  {
   "cell_type": "code",
   "execution_count": 46,
   "metadata": {},
   "outputs": [
    {
     "data": {
      "text/html": [
       "<div>\n",
       "<style scoped>\n",
       "    .dataframe tbody tr th:only-of-type {\n",
       "        vertical-align: middle;\n",
       "    }\n",
       "\n",
       "    .dataframe tbody tr th {\n",
       "        vertical-align: top;\n",
       "    }\n",
       "\n",
       "    .dataframe thead th {\n",
       "        text-align: right;\n",
       "    }\n",
       "</style>\n",
       "<table border=\"1\" class=\"dataframe\">\n",
       "  <thead>\n",
       "    <tr style=\"text-align: right;\">\n",
       "      <th></th>\n",
       "      <th>Open</th>\n",
       "      <th>High</th>\n",
       "      <th>Low</th>\n",
       "      <th>Close</th>\n",
       "      <th>Adj Close</th>\n",
       "      <th>Volume</th>\n",
       "    </tr>\n",
       "    <tr>\n",
       "      <th>Date</th>\n",
       "      <th></th>\n",
       "      <th></th>\n",
       "      <th></th>\n",
       "      <th></th>\n",
       "      <th></th>\n",
       "      <th></th>\n",
       "    </tr>\n",
       "  </thead>\n",
       "  <tbody>\n",
       "    <tr>\n",
       "      <th>2018-01-02</th>\n",
       "      <td>170.160004</td>\n",
       "      <td>172.3</td>\n",
       "      <td>169.259995</td>\n",
       "      <td>172.259995</td>\n",
       "      <td>168.339050</td>\n",
       "      <td>25555900</td>\n",
       "    </tr>\n",
       "    <tr>\n",
       "      <th>2018-01-03</th>\n",
       "      <td>172.529999</td>\n",
       "      <td>174.55</td>\n",
       "      <td>NaN</td>\n",
       "      <td>172.229996</td>\n",
       "      <td>168.309738</td>\n",
       "      <td>29517900</td>\n",
       "    </tr>\n",
       "    <tr>\n",
       "      <th>2018-01-04</th>\n",
       "      <td>172.539993</td>\n",
       "      <td>NaN</td>\n",
       "      <td>172.080002</td>\n",
       "      <td>173.029999</td>\n",
       "      <td>169.091522</td>\n",
       "      <td>22434600</td>\n",
       "    </tr>\n",
       "    <tr>\n",
       "      <th>2018-01-05</th>\n",
       "      <td>173.440002</td>\n",
       "      <td>Texto</td>\n",
       "      <td>173.050003</td>\n",
       "      <td>175.000000</td>\n",
       "      <td>171.016678</td>\n",
       "      <td>23660000</td>\n",
       "    </tr>\n",
       "    <tr>\n",
       "      <th>2018-01-08</th>\n",
       "      <td>174.350006</td>\n",
       "      <td>175.61</td>\n",
       "      <td>173.929993</td>\n",
       "      <td>174.350006</td>\n",
       "      <td>170.381485</td>\n",
       "      <td>20567800</td>\n",
       "    </tr>\n",
       "  </tbody>\n",
       "</table>\n",
       "</div>"
      ],
      "text/plain": [
       "                  Open    High         Low       Close   Adj Close    Volume\n",
       "Date                                                                        \n",
       "2018-01-02  170.160004   172.3  169.259995  172.259995  168.339050  25555900\n",
       "2018-01-03  172.529999  174.55         NaN  172.229996  168.309738  29517900\n",
       "2018-01-04  172.539993     NaN  172.080002  173.029999  169.091522  22434600\n",
       "2018-01-05  173.440002   Texto  173.050003  175.000000  171.016678  23660000\n",
       "2018-01-08  174.350006  175.61  173.929993  174.350006  170.381485  20567800"
      ]
     },
     "execution_count": 46,
     "metadata": {},
     "output_type": "execute_result"
    }
   ],
   "source": [
    "data"
   ]
  },
  {
   "cell_type": "code",
   "execution_count": 47,
   "metadata": {},
   "outputs": [
    {
     "ename": "TypeError",
     "evalue": "unsupported operand type(s) for +: 'float' and 'str'",
     "output_type": "error",
     "traceback": [
      "\u001b[1;31m---------------------------------------------------------------------------\u001b[0m",
      "\u001b[1;31mTypeError\u001b[0m                                 Traceback (most recent call last)",
      "\u001b[1;32m<ipython-input-47-57446b2ed304>\u001b[0m in \u001b[0;36m<module>\u001b[1;34m\u001b[0m\n\u001b[1;32m----> 1\u001b[1;33m \u001b[0mdata\u001b[0m\u001b[1;33m[\u001b[0m\u001b[1;34m'High'\u001b[0m\u001b[1;33m]\u001b[0m\u001b[1;33m.\u001b[0m\u001b[0mfillna\u001b[0m\u001b[1;33m(\u001b[0m\u001b[0mdata\u001b[0m\u001b[1;33m[\u001b[0m\u001b[1;34m'High'\u001b[0m\u001b[1;33m]\u001b[0m\u001b[1;33m.\u001b[0m\u001b[0mmean\u001b[0m\u001b[1;33m(\u001b[0m\u001b[1;33m)\u001b[0m\u001b[1;33m)\u001b[0m\u001b[1;33m\u001b[0m\u001b[1;33m\u001b[0m\u001b[0m\n\u001b[0m",
      "\u001b[1;32m~\\anaconda3\\lib\\site-packages\\pandas\\core\\generic.py\u001b[0m in \u001b[0;36mstat_func\u001b[1;34m(self, axis, skipna, level, numeric_only, **kwargs)\u001b[0m\n\u001b[0;32m  11466\u001b[0m         \u001b[1;32mif\u001b[0m \u001b[0mlevel\u001b[0m \u001b[1;32mis\u001b[0m \u001b[1;32mnot\u001b[0m \u001b[1;32mNone\u001b[0m\u001b[1;33m:\u001b[0m\u001b[1;33m\u001b[0m\u001b[1;33m\u001b[0m\u001b[0m\n\u001b[0;32m  11467\u001b[0m             \u001b[1;32mreturn\u001b[0m \u001b[0mself\u001b[0m\u001b[1;33m.\u001b[0m\u001b[0m_agg_by_level\u001b[0m\u001b[1;33m(\u001b[0m\u001b[0mname\u001b[0m\u001b[1;33m,\u001b[0m \u001b[0maxis\u001b[0m\u001b[1;33m=\u001b[0m\u001b[0maxis\u001b[0m\u001b[1;33m,\u001b[0m \u001b[0mlevel\u001b[0m\u001b[1;33m=\u001b[0m\u001b[0mlevel\u001b[0m\u001b[1;33m,\u001b[0m \u001b[0mskipna\u001b[0m\u001b[1;33m=\u001b[0m\u001b[0mskipna\u001b[0m\u001b[1;33m)\u001b[0m\u001b[1;33m\u001b[0m\u001b[1;33m\u001b[0m\u001b[0m\n\u001b[1;32m> 11468\u001b[1;33m         return self._reduce(\n\u001b[0m\u001b[0;32m  11469\u001b[0m             \u001b[0mfunc\u001b[0m\u001b[1;33m,\u001b[0m \u001b[0mname\u001b[0m\u001b[1;33m=\u001b[0m\u001b[0mname\u001b[0m\u001b[1;33m,\u001b[0m \u001b[0maxis\u001b[0m\u001b[1;33m=\u001b[0m\u001b[0maxis\u001b[0m\u001b[1;33m,\u001b[0m \u001b[0mskipna\u001b[0m\u001b[1;33m=\u001b[0m\u001b[0mskipna\u001b[0m\u001b[1;33m,\u001b[0m \u001b[0mnumeric_only\u001b[0m\u001b[1;33m=\u001b[0m\u001b[0mnumeric_only\u001b[0m\u001b[1;33m\u001b[0m\u001b[1;33m\u001b[0m\u001b[0m\n\u001b[0;32m  11470\u001b[0m         )\n",
      "\u001b[1;32m~\\anaconda3\\lib\\site-packages\\pandas\\core\\series.py\u001b[0m in \u001b[0;36m_reduce\u001b[1;34m(self, op, name, axis, skipna, numeric_only, filter_type, **kwds)\u001b[0m\n\u001b[0;32m   4234\u001b[0m                 )\n\u001b[0;32m   4235\u001b[0m             \u001b[1;32mwith\u001b[0m \u001b[0mnp\u001b[0m\u001b[1;33m.\u001b[0m\u001b[0merrstate\u001b[0m\u001b[1;33m(\u001b[0m\u001b[0mall\u001b[0m\u001b[1;33m=\u001b[0m\u001b[1;34m\"ignore\"\u001b[0m\u001b[1;33m)\u001b[0m\u001b[1;33m:\u001b[0m\u001b[1;33m\u001b[0m\u001b[1;33m\u001b[0m\u001b[0m\n\u001b[1;32m-> 4236\u001b[1;33m                 \u001b[1;32mreturn\u001b[0m \u001b[0mop\u001b[0m\u001b[1;33m(\u001b[0m\u001b[0mdelegate\u001b[0m\u001b[1;33m,\u001b[0m \u001b[0mskipna\u001b[0m\u001b[1;33m=\u001b[0m\u001b[0mskipna\u001b[0m\u001b[1;33m,\u001b[0m \u001b[1;33m**\u001b[0m\u001b[0mkwds\u001b[0m\u001b[1;33m)\u001b[0m\u001b[1;33m\u001b[0m\u001b[1;33m\u001b[0m\u001b[0m\n\u001b[0m\u001b[0;32m   4237\u001b[0m \u001b[1;33m\u001b[0m\u001b[0m\n\u001b[0;32m   4238\u001b[0m     \u001b[1;32mdef\u001b[0m \u001b[0m_reindex_indexer\u001b[0m\u001b[1;33m(\u001b[0m\u001b[0mself\u001b[0m\u001b[1;33m,\u001b[0m \u001b[0mnew_index\u001b[0m\u001b[1;33m,\u001b[0m \u001b[0mindexer\u001b[0m\u001b[1;33m,\u001b[0m \u001b[0mcopy\u001b[0m\u001b[1;33m)\u001b[0m\u001b[1;33m:\u001b[0m\u001b[1;33m\u001b[0m\u001b[1;33m\u001b[0m\u001b[0m\n",
      "\u001b[1;32m~\\anaconda3\\lib\\site-packages\\pandas\\core\\nanops.py\u001b[0m in \u001b[0;36m_f\u001b[1;34m(*args, **kwargs)\u001b[0m\n\u001b[0;32m     69\u001b[0m             \u001b[1;32mtry\u001b[0m\u001b[1;33m:\u001b[0m\u001b[1;33m\u001b[0m\u001b[1;33m\u001b[0m\u001b[0m\n\u001b[0;32m     70\u001b[0m                 \u001b[1;32mwith\u001b[0m \u001b[0mnp\u001b[0m\u001b[1;33m.\u001b[0m\u001b[0merrstate\u001b[0m\u001b[1;33m(\u001b[0m\u001b[0minvalid\u001b[0m\u001b[1;33m=\u001b[0m\u001b[1;34m\"ignore\"\u001b[0m\u001b[1;33m)\u001b[0m\u001b[1;33m:\u001b[0m\u001b[1;33m\u001b[0m\u001b[1;33m\u001b[0m\u001b[0m\n\u001b[1;32m---> 71\u001b[1;33m                     \u001b[1;32mreturn\u001b[0m \u001b[0mf\u001b[0m\u001b[1;33m(\u001b[0m\u001b[1;33m*\u001b[0m\u001b[0margs\u001b[0m\u001b[1;33m,\u001b[0m \u001b[1;33m**\u001b[0m\u001b[0mkwargs\u001b[0m\u001b[1;33m)\u001b[0m\u001b[1;33m\u001b[0m\u001b[1;33m\u001b[0m\u001b[0m\n\u001b[0m\u001b[0;32m     72\u001b[0m             \u001b[1;32mexcept\u001b[0m \u001b[0mValueError\u001b[0m \u001b[1;32mas\u001b[0m \u001b[0me\u001b[0m\u001b[1;33m:\u001b[0m\u001b[1;33m\u001b[0m\u001b[1;33m\u001b[0m\u001b[0m\n\u001b[0;32m     73\u001b[0m                 \u001b[1;31m# we want to transform an object array\u001b[0m\u001b[1;33m\u001b[0m\u001b[1;33m\u001b[0m\u001b[1;33m\u001b[0m\u001b[0m\n",
      "\u001b[1;32m~\\anaconda3\\lib\\site-packages\\pandas\\core\\nanops.py\u001b[0m in \u001b[0;36mf\u001b[1;34m(values, axis, skipna, **kwds)\u001b[0m\n\u001b[0;32m    127\u001b[0m                     \u001b[0mresult\u001b[0m \u001b[1;33m=\u001b[0m \u001b[0malt\u001b[0m\u001b[1;33m(\u001b[0m\u001b[0mvalues\u001b[0m\u001b[1;33m,\u001b[0m \u001b[0maxis\u001b[0m\u001b[1;33m=\u001b[0m\u001b[0maxis\u001b[0m\u001b[1;33m,\u001b[0m \u001b[0mskipna\u001b[0m\u001b[1;33m=\u001b[0m\u001b[0mskipna\u001b[0m\u001b[1;33m,\u001b[0m \u001b[1;33m**\u001b[0m\u001b[0mkwds\u001b[0m\u001b[1;33m)\u001b[0m\u001b[1;33m\u001b[0m\u001b[1;33m\u001b[0m\u001b[0m\n\u001b[0;32m    128\u001b[0m             \u001b[1;32melse\u001b[0m\u001b[1;33m:\u001b[0m\u001b[1;33m\u001b[0m\u001b[1;33m\u001b[0m\u001b[0m\n\u001b[1;32m--> 129\u001b[1;33m                 \u001b[0mresult\u001b[0m \u001b[1;33m=\u001b[0m \u001b[0malt\u001b[0m\u001b[1;33m(\u001b[0m\u001b[0mvalues\u001b[0m\u001b[1;33m,\u001b[0m \u001b[0maxis\u001b[0m\u001b[1;33m=\u001b[0m\u001b[0maxis\u001b[0m\u001b[1;33m,\u001b[0m \u001b[0mskipna\u001b[0m\u001b[1;33m=\u001b[0m\u001b[0mskipna\u001b[0m\u001b[1;33m,\u001b[0m \u001b[1;33m**\u001b[0m\u001b[0mkwds\u001b[0m\u001b[1;33m)\u001b[0m\u001b[1;33m\u001b[0m\u001b[1;33m\u001b[0m\u001b[0m\n\u001b[0m\u001b[0;32m    130\u001b[0m \u001b[1;33m\u001b[0m\u001b[0m\n\u001b[0;32m    131\u001b[0m             \u001b[1;32mreturn\u001b[0m \u001b[0mresult\u001b[0m\u001b[1;33m\u001b[0m\u001b[1;33m\u001b[0m\u001b[0m\n",
      "\u001b[1;32m~\\anaconda3\\lib\\site-packages\\pandas\\core\\nanops.py\u001b[0m in \u001b[0;36mnanmean\u001b[1;34m(values, axis, skipna, mask)\u001b[0m\n\u001b[0;32m    561\u001b[0m         \u001b[0mdtype_count\u001b[0m \u001b[1;33m=\u001b[0m \u001b[0mdtype\u001b[0m\u001b[1;33m\u001b[0m\u001b[1;33m\u001b[0m\u001b[0m\n\u001b[0;32m    562\u001b[0m     \u001b[0mcount\u001b[0m \u001b[1;33m=\u001b[0m \u001b[0m_get_counts\u001b[0m\u001b[1;33m(\u001b[0m\u001b[0mvalues\u001b[0m\u001b[1;33m.\u001b[0m\u001b[0mshape\u001b[0m\u001b[1;33m,\u001b[0m \u001b[0mmask\u001b[0m\u001b[1;33m,\u001b[0m \u001b[0maxis\u001b[0m\u001b[1;33m,\u001b[0m \u001b[0mdtype\u001b[0m\u001b[1;33m=\u001b[0m\u001b[0mdtype_count\u001b[0m\u001b[1;33m)\u001b[0m\u001b[1;33m\u001b[0m\u001b[1;33m\u001b[0m\u001b[0m\n\u001b[1;32m--> 563\u001b[1;33m     \u001b[0mthe_sum\u001b[0m \u001b[1;33m=\u001b[0m \u001b[0m_ensure_numeric\u001b[0m\u001b[1;33m(\u001b[0m\u001b[0mvalues\u001b[0m\u001b[1;33m.\u001b[0m\u001b[0msum\u001b[0m\u001b[1;33m(\u001b[0m\u001b[0maxis\u001b[0m\u001b[1;33m,\u001b[0m \u001b[0mdtype\u001b[0m\u001b[1;33m=\u001b[0m\u001b[0mdtype_sum\u001b[0m\u001b[1;33m)\u001b[0m\u001b[1;33m)\u001b[0m\u001b[1;33m\u001b[0m\u001b[1;33m\u001b[0m\u001b[0m\n\u001b[0m\u001b[0;32m    564\u001b[0m \u001b[1;33m\u001b[0m\u001b[0m\n\u001b[0;32m    565\u001b[0m     \u001b[1;32mif\u001b[0m \u001b[0maxis\u001b[0m \u001b[1;32mis\u001b[0m \u001b[1;32mnot\u001b[0m \u001b[1;32mNone\u001b[0m \u001b[1;32mand\u001b[0m \u001b[0mgetattr\u001b[0m\u001b[1;33m(\u001b[0m\u001b[0mthe_sum\u001b[0m\u001b[1;33m,\u001b[0m \u001b[1;34m\"ndim\"\u001b[0m\u001b[1;33m,\u001b[0m \u001b[1;32mFalse\u001b[0m\u001b[1;33m)\u001b[0m\u001b[1;33m:\u001b[0m\u001b[1;33m\u001b[0m\u001b[1;33m\u001b[0m\u001b[0m\n",
      "\u001b[1;32m~\\anaconda3\\lib\\site-packages\\numpy\\core\\_methods.py\u001b[0m in \u001b[0;36m_sum\u001b[1;34m(a, axis, dtype, out, keepdims, initial, where)\u001b[0m\n\u001b[0;32m     45\u001b[0m def _sum(a, axis=None, dtype=None, out=None, keepdims=False,\n\u001b[0;32m     46\u001b[0m          initial=_NoValue, where=True):\n\u001b[1;32m---> 47\u001b[1;33m     \u001b[1;32mreturn\u001b[0m \u001b[0mumr_sum\u001b[0m\u001b[1;33m(\u001b[0m\u001b[0ma\u001b[0m\u001b[1;33m,\u001b[0m \u001b[0maxis\u001b[0m\u001b[1;33m,\u001b[0m \u001b[0mdtype\u001b[0m\u001b[1;33m,\u001b[0m \u001b[0mout\u001b[0m\u001b[1;33m,\u001b[0m \u001b[0mkeepdims\u001b[0m\u001b[1;33m,\u001b[0m \u001b[0minitial\u001b[0m\u001b[1;33m,\u001b[0m \u001b[0mwhere\u001b[0m\u001b[1;33m)\u001b[0m\u001b[1;33m\u001b[0m\u001b[1;33m\u001b[0m\u001b[0m\n\u001b[0m\u001b[0;32m     48\u001b[0m \u001b[1;33m\u001b[0m\u001b[0m\n\u001b[0;32m     49\u001b[0m def _prod(a, axis=None, dtype=None, out=None, keepdims=False,\n",
      "\u001b[1;31mTypeError\u001b[0m: unsupported operand type(s) for +: 'float' and 'str'"
     ]
    }
   ],
   "source": [
    "data['High'].fillna(data['High'].mean())"
   ]
  },
  {
   "cell_type": "code",
   "execution_count": 50,
   "metadata": {},
   "outputs": [],
   "source": [
    "## Reemplazar\n",
    "data.replace('Texto',0,inplace=True)"
   ]
  },
  {
   "cell_type": "code",
   "execution_count": 51,
   "metadata": {},
   "outputs": [
    {
     "data": {
      "text/html": [
       "<div>\n",
       "<style scoped>\n",
       "    .dataframe tbody tr th:only-of-type {\n",
       "        vertical-align: middle;\n",
       "    }\n",
       "\n",
       "    .dataframe tbody tr th {\n",
       "        vertical-align: top;\n",
       "    }\n",
       "\n",
       "    .dataframe thead th {\n",
       "        text-align: right;\n",
       "    }\n",
       "</style>\n",
       "<table border=\"1\" class=\"dataframe\">\n",
       "  <thead>\n",
       "    <tr style=\"text-align: right;\">\n",
       "      <th></th>\n",
       "      <th>Open</th>\n",
       "      <th>High</th>\n",
       "      <th>Low</th>\n",
       "      <th>Close</th>\n",
       "      <th>Adj Close</th>\n",
       "      <th>Volume</th>\n",
       "    </tr>\n",
       "    <tr>\n",
       "      <th>Date</th>\n",
       "      <th></th>\n",
       "      <th></th>\n",
       "      <th></th>\n",
       "      <th></th>\n",
       "      <th></th>\n",
       "      <th></th>\n",
       "    </tr>\n",
       "  </thead>\n",
       "  <tbody>\n",
       "    <tr>\n",
       "      <th>2018-01-02</th>\n",
       "      <td>170.160004</td>\n",
       "      <td>172.300003</td>\n",
       "      <td>169.259995</td>\n",
       "      <td>172.259995</td>\n",
       "      <td>168.339050</td>\n",
       "      <td>25555900</td>\n",
       "    </tr>\n",
       "    <tr>\n",
       "      <th>2018-01-03</th>\n",
       "      <td>172.529999</td>\n",
       "      <td>174.550003</td>\n",
       "      <td>NaN</td>\n",
       "      <td>172.229996</td>\n",
       "      <td>168.309738</td>\n",
       "      <td>29517900</td>\n",
       "    </tr>\n",
       "    <tr>\n",
       "      <th>2018-01-04</th>\n",
       "      <td>172.539993</td>\n",
       "      <td>NaN</td>\n",
       "      <td>172.080002</td>\n",
       "      <td>173.029999</td>\n",
       "      <td>169.091522</td>\n",
       "      <td>22434600</td>\n",
       "    </tr>\n",
       "    <tr>\n",
       "      <th>2018-01-05</th>\n",
       "      <td>173.440002</td>\n",
       "      <td>0.000000</td>\n",
       "      <td>173.050003</td>\n",
       "      <td>175.000000</td>\n",
       "      <td>171.016678</td>\n",
       "      <td>23660000</td>\n",
       "    </tr>\n",
       "    <tr>\n",
       "      <th>2018-01-08</th>\n",
       "      <td>174.350006</td>\n",
       "      <td>175.610001</td>\n",
       "      <td>173.929993</td>\n",
       "      <td>174.350006</td>\n",
       "      <td>170.381485</td>\n",
       "      <td>20567800</td>\n",
       "    </tr>\n",
       "  </tbody>\n",
       "</table>\n",
       "</div>"
      ],
      "text/plain": [
       "                  Open        High         Low       Close   Adj Close  \\\n",
       "Date                                                                     \n",
       "2018-01-02  170.160004  172.300003  169.259995  172.259995  168.339050   \n",
       "2018-01-03  172.529999  174.550003         NaN  172.229996  168.309738   \n",
       "2018-01-04  172.539993         NaN  172.080002  173.029999  169.091522   \n",
       "2018-01-05  173.440002    0.000000  173.050003  175.000000  171.016678   \n",
       "2018-01-08  174.350006  175.610001  173.929993  174.350006  170.381485   \n",
       "\n",
       "              Volume  \n",
       "Date                  \n",
       "2018-01-02  25555900  \n",
       "2018-01-03  29517900  \n",
       "2018-01-04  22434600  \n",
       "2018-01-05  23660000  \n",
       "2018-01-08  20567800  "
      ]
     },
     "execution_count": 51,
     "metadata": {},
     "output_type": "execute_result"
    }
   ],
   "source": [
    "data"
   ]
  },
  {
   "cell_type": "markdown",
   "metadata": {},
   "source": [
    "## Aplicar funciones a dataframe"
   ]
  },
  {
   "cell_type": "code",
   "execution_count": 52,
   "metadata": {},
   "outputs": [],
   "source": [
    "def cuadrado(x):\n",
    "    return x**2"
   ]
  },
  {
   "cell_type": "code",
   "execution_count": 53,
   "metadata": {},
   "outputs": [],
   "source": [
    "import pandas as pd\n",
    "df = pd.DataFrame({'col1':[1,2,3,4],'col2':[444,555,666,444],'col3':['abc','def','ghi','xyz']})"
   ]
  },
  {
   "cell_type": "code",
   "execution_count": 54,
   "metadata": {},
   "outputs": [
    {
     "data": {
      "text/html": [
       "<div>\n",
       "<style scoped>\n",
       "    .dataframe tbody tr th:only-of-type {\n",
       "        vertical-align: middle;\n",
       "    }\n",
       "\n",
       "    .dataframe tbody tr th {\n",
       "        vertical-align: top;\n",
       "    }\n",
       "\n",
       "    .dataframe thead th {\n",
       "        text-align: right;\n",
       "    }\n",
       "</style>\n",
       "<table border=\"1\" class=\"dataframe\">\n",
       "  <thead>\n",
       "    <tr style=\"text-align: right;\">\n",
       "      <th></th>\n",
       "      <th>col1</th>\n",
       "      <th>col2</th>\n",
       "      <th>col3</th>\n",
       "    </tr>\n",
       "  </thead>\n",
       "  <tbody>\n",
       "    <tr>\n",
       "      <th>0</th>\n",
       "      <td>1</td>\n",
       "      <td>444</td>\n",
       "      <td>abc</td>\n",
       "    </tr>\n",
       "    <tr>\n",
       "      <th>1</th>\n",
       "      <td>2</td>\n",
       "      <td>555</td>\n",
       "      <td>def</td>\n",
       "    </tr>\n",
       "    <tr>\n",
       "      <th>2</th>\n",
       "      <td>3</td>\n",
       "      <td>666</td>\n",
       "      <td>ghi</td>\n",
       "    </tr>\n",
       "    <tr>\n",
       "      <th>3</th>\n",
       "      <td>4</td>\n",
       "      <td>444</td>\n",
       "      <td>xyz</td>\n",
       "    </tr>\n",
       "  </tbody>\n",
       "</table>\n",
       "</div>"
      ],
      "text/plain": [
       "   col1  col2 col3\n",
       "0     1   444  abc\n",
       "1     2   555  def\n",
       "2     3   666  ghi\n",
       "3     4   444  xyz"
      ]
     },
     "execution_count": 54,
     "metadata": {},
     "output_type": "execute_result"
    }
   ],
   "source": [
    "df"
   ]
  },
  {
   "cell_type": "code",
   "execution_count": 55,
   "metadata": {},
   "outputs": [
    {
     "data": {
      "text/plain": [
       "0     1\n",
       "1     4\n",
       "2     9\n",
       "3    16\n",
       "Name: col1, dtype: int64"
      ]
     },
     "execution_count": 55,
     "metadata": {},
     "output_type": "execute_result"
    }
   ],
   "source": [
    "df['col1'].apply(cuadrado)"
   ]
  },
  {
   "cell_type": "code",
   "execution_count": 57,
   "metadata": {},
   "outputs": [],
   "source": [
    "df2= df['col1'].apply(cuadrado)"
   ]
  },
  {
   "cell_type": "code",
   "execution_count": 58,
   "metadata": {},
   "outputs": [
    {
     "data": {
      "text/plain": [
       "0     1\n",
       "1     4\n",
       "2     9\n",
       "3    16\n",
       "Name: col1, dtype: int64"
      ]
     },
     "execution_count": 58,
     "metadata": {},
     "output_type": "execute_result"
    }
   ],
   "source": [
    "df2"
   ]
  },
  {
   "cell_type": "markdown",
   "metadata": {},
   "source": [
    "## Medias Moviles"
   ]
  },
  {
   "cell_type": "code",
   "execution_count": 59,
   "metadata": {},
   "outputs": [],
   "source": [
    "data = pd.read_csv('C:/Users/DELL/Documents/UI.csv', index_col=0)"
   ]
  },
  {
   "cell_type": "code",
   "execution_count": 60,
   "metadata": {},
   "outputs": [
    {
     "data": {
      "text/html": [
       "<div>\n",
       "<style scoped>\n",
       "    .dataframe tbody tr th:only-of-type {\n",
       "        vertical-align: middle;\n",
       "    }\n",
       "\n",
       "    .dataframe tbody tr th {\n",
       "        vertical-align: top;\n",
       "    }\n",
       "\n",
       "    .dataframe thead th {\n",
       "        text-align: right;\n",
       "    }\n",
       "</style>\n",
       "<table border=\"1\" class=\"dataframe\">\n",
       "  <thead>\n",
       "    <tr style=\"text-align: right;\">\n",
       "      <th></th>\n",
       "      <th>Open</th>\n",
       "      <th>High</th>\n",
       "      <th>Low</th>\n",
       "      <th>Close</th>\n",
       "      <th>Adj Close</th>\n",
       "      <th>Volume</th>\n",
       "    </tr>\n",
       "    <tr>\n",
       "      <th>Date</th>\n",
       "      <th></th>\n",
       "      <th></th>\n",
       "      <th></th>\n",
       "      <th></th>\n",
       "      <th></th>\n",
       "      <th></th>\n",
       "    </tr>\n",
       "  </thead>\n",
       "  <tbody>\n",
       "    <tr>\n",
       "      <th>2020-04-13</th>\n",
       "      <td>154.970001</td>\n",
       "      <td>155.000000</td>\n",
       "      <td>150.889999</td>\n",
       "      <td>153.559998</td>\n",
       "      <td>152.546036</td>\n",
       "      <td>84800</td>\n",
       "    </tr>\n",
       "    <tr>\n",
       "      <th>2020-04-14</th>\n",
       "      <td>157.699997</td>\n",
       "      <td>161.500000</td>\n",
       "      <td>156.979996</td>\n",
       "      <td>160.570007</td>\n",
       "      <td>159.509766</td>\n",
       "      <td>107200</td>\n",
       "    </tr>\n",
       "    <tr>\n",
       "      <th>2020-04-15</th>\n",
       "      <td>158.210007</td>\n",
       "      <td>158.210007</td>\n",
       "      <td>151.259995</td>\n",
       "      <td>152.110001</td>\n",
       "      <td>151.105621</td>\n",
       "      <td>143400</td>\n",
       "    </tr>\n",
       "    <tr>\n",
       "      <th>2020-04-16</th>\n",
       "      <td>153.080002</td>\n",
       "      <td>154.869995</td>\n",
       "      <td>151.789993</td>\n",
       "      <td>153.770004</td>\n",
       "      <td>152.754669</td>\n",
       "      <td>90300</td>\n",
       "    </tr>\n",
       "    <tr>\n",
       "      <th>2020-04-17</th>\n",
       "      <td>155.889999</td>\n",
       "      <td>158.009995</td>\n",
       "      <td>153.830002</td>\n",
       "      <td>157.919998</td>\n",
       "      <td>156.877243</td>\n",
       "      <td>89100</td>\n",
       "    </tr>\n",
       "    <tr>\n",
       "      <th>...</th>\n",
       "      <td>...</td>\n",
       "      <td>...</td>\n",
       "      <td>...</td>\n",
       "      <td>...</td>\n",
       "      <td>...</td>\n",
       "      <td>...</td>\n",
       "    </tr>\n",
       "    <tr>\n",
       "      <th>2021-04-05</th>\n",
       "      <td>289.200012</td>\n",
       "      <td>294.320007</td>\n",
       "      <td>281.070007</td>\n",
       "      <td>290.779999</td>\n",
       "      <td>290.779999</td>\n",
       "      <td>214400</td>\n",
       "    </tr>\n",
       "    <tr>\n",
       "      <th>2021-04-06</th>\n",
       "      <td>291.000000</td>\n",
       "      <td>291.000000</td>\n",
       "      <td>283.140015</td>\n",
       "      <td>289.059998</td>\n",
       "      <td>289.059998</td>\n",
       "      <td>150900</td>\n",
       "    </tr>\n",
       "    <tr>\n",
       "      <th>2021-04-07</th>\n",
       "      <td>283.600006</td>\n",
       "      <td>290.070007</td>\n",
       "      <td>275.260010</td>\n",
       "      <td>277.899994</td>\n",
       "      <td>277.899994</td>\n",
       "      <td>142100</td>\n",
       "    </tr>\n",
       "    <tr>\n",
       "      <th>2021-04-08</th>\n",
       "      <td>279.989990</td>\n",
       "      <td>289.970001</td>\n",
       "      <td>276.079987</td>\n",
       "      <td>288.000000</td>\n",
       "      <td>288.000000</td>\n",
       "      <td>205300</td>\n",
       "    </tr>\n",
       "    <tr>\n",
       "      <th>2021-04-09</th>\n",
       "      <td>285.149994</td>\n",
       "      <td>288.000000</td>\n",
       "      <td>278.279999</td>\n",
       "      <td>281.779999</td>\n",
       "      <td>281.779999</td>\n",
       "      <td>99600</td>\n",
       "    </tr>\n",
       "  </tbody>\n",
       "</table>\n",
       "<p>251 rows × 6 columns</p>\n",
       "</div>"
      ],
      "text/plain": [
       "                  Open        High         Low       Close   Adj Close  Volume\n",
       "Date                                                                          \n",
       "2020-04-13  154.970001  155.000000  150.889999  153.559998  152.546036   84800\n",
       "2020-04-14  157.699997  161.500000  156.979996  160.570007  159.509766  107200\n",
       "2020-04-15  158.210007  158.210007  151.259995  152.110001  151.105621  143400\n",
       "2020-04-16  153.080002  154.869995  151.789993  153.770004  152.754669   90300\n",
       "2020-04-17  155.889999  158.009995  153.830002  157.919998  156.877243   89100\n",
       "...                ...         ...         ...         ...         ...     ...\n",
       "2021-04-05  289.200012  294.320007  281.070007  290.779999  290.779999  214400\n",
       "2021-04-06  291.000000  291.000000  283.140015  289.059998  289.059998  150900\n",
       "2021-04-07  283.600006  290.070007  275.260010  277.899994  277.899994  142100\n",
       "2021-04-08  279.989990  289.970001  276.079987  288.000000  288.000000  205300\n",
       "2021-04-09  285.149994  288.000000  278.279999  281.779999  281.779999   99600\n",
       "\n",
       "[251 rows x 6 columns]"
      ]
     },
     "execution_count": 60,
     "metadata": {},
     "output_type": "execute_result"
    }
   ],
   "source": [
    "data"
   ]
  },
  {
   "cell_type": "code",
   "execution_count": 61,
   "metadata": {},
   "outputs": [],
   "source": [
    "data.sort_values('Date', inplace=True)"
   ]
  },
  {
   "cell_type": "code",
   "execution_count": 62,
   "metadata": {},
   "outputs": [
    {
     "data": {
      "text/html": [
       "<div>\n",
       "<style scoped>\n",
       "    .dataframe tbody tr th:only-of-type {\n",
       "        vertical-align: middle;\n",
       "    }\n",
       "\n",
       "    .dataframe tbody tr th {\n",
       "        vertical-align: top;\n",
       "    }\n",
       "\n",
       "    .dataframe thead th {\n",
       "        text-align: right;\n",
       "    }\n",
       "</style>\n",
       "<table border=\"1\" class=\"dataframe\">\n",
       "  <thead>\n",
       "    <tr style=\"text-align: right;\">\n",
       "      <th></th>\n",
       "      <th>Open</th>\n",
       "      <th>High</th>\n",
       "      <th>Low</th>\n",
       "      <th>Close</th>\n",
       "      <th>Adj Close</th>\n",
       "      <th>Volume</th>\n",
       "    </tr>\n",
       "    <tr>\n",
       "      <th>Date</th>\n",
       "      <th></th>\n",
       "      <th></th>\n",
       "      <th></th>\n",
       "      <th></th>\n",
       "      <th></th>\n",
       "      <th></th>\n",
       "    </tr>\n",
       "  </thead>\n",
       "  <tbody>\n",
       "    <tr>\n",
       "      <th>2020-04-13</th>\n",
       "      <td>154.970001</td>\n",
       "      <td>155.000000</td>\n",
       "      <td>150.889999</td>\n",
       "      <td>153.559998</td>\n",
       "      <td>152.546036</td>\n",
       "      <td>84800</td>\n",
       "    </tr>\n",
       "    <tr>\n",
       "      <th>2020-04-14</th>\n",
       "      <td>157.699997</td>\n",
       "      <td>161.500000</td>\n",
       "      <td>156.979996</td>\n",
       "      <td>160.570007</td>\n",
       "      <td>159.509766</td>\n",
       "      <td>107200</td>\n",
       "    </tr>\n",
       "    <tr>\n",
       "      <th>2020-04-15</th>\n",
       "      <td>158.210007</td>\n",
       "      <td>158.210007</td>\n",
       "      <td>151.259995</td>\n",
       "      <td>152.110001</td>\n",
       "      <td>151.105621</td>\n",
       "      <td>143400</td>\n",
       "    </tr>\n",
       "    <tr>\n",
       "      <th>2020-04-16</th>\n",
       "      <td>153.080002</td>\n",
       "      <td>154.869995</td>\n",
       "      <td>151.789993</td>\n",
       "      <td>153.770004</td>\n",
       "      <td>152.754669</td>\n",
       "      <td>90300</td>\n",
       "    </tr>\n",
       "    <tr>\n",
       "      <th>2020-04-17</th>\n",
       "      <td>155.889999</td>\n",
       "      <td>158.009995</td>\n",
       "      <td>153.830002</td>\n",
       "      <td>157.919998</td>\n",
       "      <td>156.877243</td>\n",
       "      <td>89100</td>\n",
       "    </tr>\n",
       "    <tr>\n",
       "      <th>...</th>\n",
       "      <td>...</td>\n",
       "      <td>...</td>\n",
       "      <td>...</td>\n",
       "      <td>...</td>\n",
       "      <td>...</td>\n",
       "      <td>...</td>\n",
       "    </tr>\n",
       "    <tr>\n",
       "      <th>2021-04-05</th>\n",
       "      <td>289.200012</td>\n",
       "      <td>294.320007</td>\n",
       "      <td>281.070007</td>\n",
       "      <td>290.779999</td>\n",
       "      <td>290.779999</td>\n",
       "      <td>214400</td>\n",
       "    </tr>\n",
       "    <tr>\n",
       "      <th>2021-04-06</th>\n",
       "      <td>291.000000</td>\n",
       "      <td>291.000000</td>\n",
       "      <td>283.140015</td>\n",
       "      <td>289.059998</td>\n",
       "      <td>289.059998</td>\n",
       "      <td>150900</td>\n",
       "    </tr>\n",
       "    <tr>\n",
       "      <th>2021-04-07</th>\n",
       "      <td>283.600006</td>\n",
       "      <td>290.070007</td>\n",
       "      <td>275.260010</td>\n",
       "      <td>277.899994</td>\n",
       "      <td>277.899994</td>\n",
       "      <td>142100</td>\n",
       "    </tr>\n",
       "    <tr>\n",
       "      <th>2021-04-08</th>\n",
       "      <td>279.989990</td>\n",
       "      <td>289.970001</td>\n",
       "      <td>276.079987</td>\n",
       "      <td>288.000000</td>\n",
       "      <td>288.000000</td>\n",
       "      <td>205300</td>\n",
       "    </tr>\n",
       "    <tr>\n",
       "      <th>2021-04-09</th>\n",
       "      <td>285.149994</td>\n",
       "      <td>288.000000</td>\n",
       "      <td>278.279999</td>\n",
       "      <td>281.779999</td>\n",
       "      <td>281.779999</td>\n",
       "      <td>99600</td>\n",
       "    </tr>\n",
       "  </tbody>\n",
       "</table>\n",
       "<p>251 rows × 6 columns</p>\n",
       "</div>"
      ],
      "text/plain": [
       "                  Open        High         Low       Close   Adj Close  Volume\n",
       "Date                                                                          \n",
       "2020-04-13  154.970001  155.000000  150.889999  153.559998  152.546036   84800\n",
       "2020-04-14  157.699997  161.500000  156.979996  160.570007  159.509766  107200\n",
       "2020-04-15  158.210007  158.210007  151.259995  152.110001  151.105621  143400\n",
       "2020-04-16  153.080002  154.869995  151.789993  153.770004  152.754669   90300\n",
       "2020-04-17  155.889999  158.009995  153.830002  157.919998  156.877243   89100\n",
       "...                ...         ...         ...         ...         ...     ...\n",
       "2021-04-05  289.200012  294.320007  281.070007  290.779999  290.779999  214400\n",
       "2021-04-06  291.000000  291.000000  283.140015  289.059998  289.059998  150900\n",
       "2021-04-07  283.600006  290.070007  275.260010  277.899994  277.899994  142100\n",
       "2021-04-08  279.989990  289.970001  276.079987  288.000000  288.000000  205300\n",
       "2021-04-09  285.149994  288.000000  278.279999  281.779999  281.779999   99600\n",
       "\n",
       "[251 rows x 6 columns]"
      ]
     },
     "execution_count": 62,
     "metadata": {},
     "output_type": "execute_result"
    }
   ],
   "source": [
    "data"
   ]
  },
  {
   "cell_type": "code",
   "execution_count": 63,
   "metadata": {},
   "outputs": [],
   "source": [
    "data['MA20'] = data['Adj Close'].rolling(20).mean()"
   ]
  },
  {
   "cell_type": "code",
   "execution_count": 65,
   "metadata": {},
   "outputs": [
    {
     "data": {
      "text/html": [
       "<div>\n",
       "<style scoped>\n",
       "    .dataframe tbody tr th:only-of-type {\n",
       "        vertical-align: middle;\n",
       "    }\n",
       "\n",
       "    .dataframe tbody tr th {\n",
       "        vertical-align: top;\n",
       "    }\n",
       "\n",
       "    .dataframe thead th {\n",
       "        text-align: right;\n",
       "    }\n",
       "</style>\n",
       "<table border=\"1\" class=\"dataframe\">\n",
       "  <thead>\n",
       "    <tr style=\"text-align: right;\">\n",
       "      <th></th>\n",
       "      <th>Open</th>\n",
       "      <th>High</th>\n",
       "      <th>Low</th>\n",
       "      <th>Close</th>\n",
       "      <th>Adj Close</th>\n",
       "      <th>Volume</th>\n",
       "      <th>MA20</th>\n",
       "    </tr>\n",
       "    <tr>\n",
       "      <th>Date</th>\n",
       "      <th></th>\n",
       "      <th></th>\n",
       "      <th></th>\n",
       "      <th></th>\n",
       "      <th></th>\n",
       "      <th></th>\n",
       "      <th></th>\n",
       "    </tr>\n",
       "  </thead>\n",
       "  <tbody>\n",
       "    <tr>\n",
       "      <th>2021-04-05</th>\n",
       "      <td>289.200012</td>\n",
       "      <td>294.320007</td>\n",
       "      <td>281.070007</td>\n",
       "      <td>290.779999</td>\n",
       "      <td>290.779999</td>\n",
       "      <td>214400</td>\n",
       "      <td>336.563002</td>\n",
       "    </tr>\n",
       "    <tr>\n",
       "      <th>2021-04-06</th>\n",
       "      <td>291.000000</td>\n",
       "      <td>291.000000</td>\n",
       "      <td>283.140015</td>\n",
       "      <td>289.059998</td>\n",
       "      <td>289.059998</td>\n",
       "      <td>150900</td>\n",
       "      <td>334.854002</td>\n",
       "    </tr>\n",
       "    <tr>\n",
       "      <th>2021-04-07</th>\n",
       "      <td>283.600006</td>\n",
       "      <td>290.070007</td>\n",
       "      <td>275.260010</td>\n",
       "      <td>277.899994</td>\n",
       "      <td>277.899994</td>\n",
       "      <td>142100</td>\n",
       "      <td>332.139002</td>\n",
       "    </tr>\n",
       "    <tr>\n",
       "      <th>2021-04-08</th>\n",
       "      <td>279.989990</td>\n",
       "      <td>289.970001</td>\n",
       "      <td>276.079987</td>\n",
       "      <td>288.000000</td>\n",
       "      <td>288.000000</td>\n",
       "      <td>205300</td>\n",
       "      <td>329.984001</td>\n",
       "    </tr>\n",
       "    <tr>\n",
       "      <th>2021-04-09</th>\n",
       "      <td>285.149994</td>\n",
       "      <td>288.000000</td>\n",
       "      <td>278.279999</td>\n",
       "      <td>281.779999</td>\n",
       "      <td>281.779999</td>\n",
       "      <td>99600</td>\n",
       "      <td>327.261501</td>\n",
       "    </tr>\n",
       "  </tbody>\n",
       "</table>\n",
       "</div>"
      ],
      "text/plain": [
       "                  Open        High         Low       Close   Adj Close  \\\n",
       "Date                                                                     \n",
       "2021-04-05  289.200012  294.320007  281.070007  290.779999  290.779999   \n",
       "2021-04-06  291.000000  291.000000  283.140015  289.059998  289.059998   \n",
       "2021-04-07  283.600006  290.070007  275.260010  277.899994  277.899994   \n",
       "2021-04-08  279.989990  289.970001  276.079987  288.000000  288.000000   \n",
       "2021-04-09  285.149994  288.000000  278.279999  281.779999  281.779999   \n",
       "\n",
       "            Volume        MA20  \n",
       "Date                            \n",
       "2021-04-05  214400  336.563002  \n",
       "2021-04-06  150900  334.854002  \n",
       "2021-04-07  142100  332.139002  \n",
       "2021-04-08  205300  329.984001  \n",
       "2021-04-09   99600  327.261501  "
      ]
     },
     "execution_count": 65,
     "metadata": {},
     "output_type": "execute_result"
    }
   ],
   "source": [
    "data.tail()"
   ]
  },
  {
   "cell_type": "code",
   "execution_count": 66,
   "metadata": {},
   "outputs": [],
   "source": [
    "data['MA50'] = data['Adj Close'].rolling(50).mean()"
   ]
  },
  {
   "cell_type": "code",
   "execution_count": 67,
   "metadata": {},
   "outputs": [
    {
     "data": {
      "text/html": [
       "<div>\n",
       "<style scoped>\n",
       "    .dataframe tbody tr th:only-of-type {\n",
       "        vertical-align: middle;\n",
       "    }\n",
       "\n",
       "    .dataframe tbody tr th {\n",
       "        vertical-align: top;\n",
       "    }\n",
       "\n",
       "    .dataframe thead th {\n",
       "        text-align: right;\n",
       "    }\n",
       "</style>\n",
       "<table border=\"1\" class=\"dataframe\">\n",
       "  <thead>\n",
       "    <tr style=\"text-align: right;\">\n",
       "      <th></th>\n",
       "      <th>Open</th>\n",
       "      <th>High</th>\n",
       "      <th>Low</th>\n",
       "      <th>Close</th>\n",
       "      <th>Adj Close</th>\n",
       "      <th>Volume</th>\n",
       "      <th>MA20</th>\n",
       "      <th>MA50</th>\n",
       "    </tr>\n",
       "    <tr>\n",
       "      <th>Date</th>\n",
       "      <th></th>\n",
       "      <th></th>\n",
       "      <th></th>\n",
       "      <th></th>\n",
       "      <th></th>\n",
       "      <th></th>\n",
       "      <th></th>\n",
       "      <th></th>\n",
       "    </tr>\n",
       "  </thead>\n",
       "  <tbody>\n",
       "    <tr>\n",
       "      <th>2020-04-13</th>\n",
       "      <td>154.970001</td>\n",
       "      <td>155.000000</td>\n",
       "      <td>150.889999</td>\n",
       "      <td>153.559998</td>\n",
       "      <td>152.546036</td>\n",
       "      <td>84800</td>\n",
       "      <td>NaN</td>\n",
       "      <td>NaN</td>\n",
       "    </tr>\n",
       "    <tr>\n",
       "      <th>2020-04-14</th>\n",
       "      <td>157.699997</td>\n",
       "      <td>161.500000</td>\n",
       "      <td>156.979996</td>\n",
       "      <td>160.570007</td>\n",
       "      <td>159.509766</td>\n",
       "      <td>107200</td>\n",
       "      <td>NaN</td>\n",
       "      <td>NaN</td>\n",
       "    </tr>\n",
       "    <tr>\n",
       "      <th>2020-04-15</th>\n",
       "      <td>158.210007</td>\n",
       "      <td>158.210007</td>\n",
       "      <td>151.259995</td>\n",
       "      <td>152.110001</td>\n",
       "      <td>151.105621</td>\n",
       "      <td>143400</td>\n",
       "      <td>NaN</td>\n",
       "      <td>NaN</td>\n",
       "    </tr>\n",
       "    <tr>\n",
       "      <th>2020-04-16</th>\n",
       "      <td>153.080002</td>\n",
       "      <td>154.869995</td>\n",
       "      <td>151.789993</td>\n",
       "      <td>153.770004</td>\n",
       "      <td>152.754669</td>\n",
       "      <td>90300</td>\n",
       "      <td>NaN</td>\n",
       "      <td>NaN</td>\n",
       "    </tr>\n",
       "    <tr>\n",
       "      <th>2020-04-17</th>\n",
       "      <td>155.889999</td>\n",
       "      <td>158.009995</td>\n",
       "      <td>153.830002</td>\n",
       "      <td>157.919998</td>\n",
       "      <td>156.877243</td>\n",
       "      <td>89100</td>\n",
       "      <td>NaN</td>\n",
       "      <td>NaN</td>\n",
       "    </tr>\n",
       "    <tr>\n",
       "      <th>...</th>\n",
       "      <td>...</td>\n",
       "      <td>...</td>\n",
       "      <td>...</td>\n",
       "      <td>...</td>\n",
       "      <td>...</td>\n",
       "      <td>...</td>\n",
       "      <td>...</td>\n",
       "      <td>...</td>\n",
       "    </tr>\n",
       "    <tr>\n",
       "      <th>2021-04-05</th>\n",
       "      <td>289.200012</td>\n",
       "      <td>294.320007</td>\n",
       "      <td>281.070007</td>\n",
       "      <td>290.779999</td>\n",
       "      <td>290.779999</td>\n",
       "      <td>214400</td>\n",
       "      <td>336.563002</td>\n",
       "      <td>328.393925</td>\n",
       "    </tr>\n",
       "    <tr>\n",
       "      <th>2021-04-06</th>\n",
       "      <td>291.000000</td>\n",
       "      <td>291.000000</td>\n",
       "      <td>283.140015</td>\n",
       "      <td>289.059998</td>\n",
       "      <td>289.059998</td>\n",
       "      <td>150900</td>\n",
       "      <td>334.854002</td>\n",
       "      <td>328.882069</td>\n",
       "    </tr>\n",
       "    <tr>\n",
       "      <th>2021-04-07</th>\n",
       "      <td>283.600006</td>\n",
       "      <td>290.070007</td>\n",
       "      <td>275.260010</td>\n",
       "      <td>277.899994</td>\n",
       "      <td>277.899994</td>\n",
       "      <td>142100</td>\n",
       "      <td>332.139002</td>\n",
       "      <td>329.051520</td>\n",
       "    </tr>\n",
       "    <tr>\n",
       "      <th>2021-04-08</th>\n",
       "      <td>279.989990</td>\n",
       "      <td>289.970001</td>\n",
       "      <td>276.079987</td>\n",
       "      <td>288.000000</td>\n",
       "      <td>288.000000</td>\n",
       "      <td>205300</td>\n",
       "      <td>329.984001</td>\n",
       "      <td>329.303306</td>\n",
       "    </tr>\n",
       "    <tr>\n",
       "      <th>2021-04-09</th>\n",
       "      <td>285.149994</td>\n",
       "      <td>288.000000</td>\n",
       "      <td>278.279999</td>\n",
       "      <td>281.779999</td>\n",
       "      <td>281.779999</td>\n",
       "      <td>99600</td>\n",
       "      <td>327.261501</td>\n",
       "      <td>328.895893</td>\n",
       "    </tr>\n",
       "  </tbody>\n",
       "</table>\n",
       "<p>251 rows × 8 columns</p>\n",
       "</div>"
      ],
      "text/plain": [
       "                  Open        High         Low       Close   Adj Close  \\\n",
       "Date                                                                     \n",
       "2020-04-13  154.970001  155.000000  150.889999  153.559998  152.546036   \n",
       "2020-04-14  157.699997  161.500000  156.979996  160.570007  159.509766   \n",
       "2020-04-15  158.210007  158.210007  151.259995  152.110001  151.105621   \n",
       "2020-04-16  153.080002  154.869995  151.789993  153.770004  152.754669   \n",
       "2020-04-17  155.889999  158.009995  153.830002  157.919998  156.877243   \n",
       "...                ...         ...         ...         ...         ...   \n",
       "2021-04-05  289.200012  294.320007  281.070007  290.779999  290.779999   \n",
       "2021-04-06  291.000000  291.000000  283.140015  289.059998  289.059998   \n",
       "2021-04-07  283.600006  290.070007  275.260010  277.899994  277.899994   \n",
       "2021-04-08  279.989990  289.970001  276.079987  288.000000  288.000000   \n",
       "2021-04-09  285.149994  288.000000  278.279999  281.779999  281.779999   \n",
       "\n",
       "            Volume        MA20        MA50  \n",
       "Date                                        \n",
       "2020-04-13   84800         NaN         NaN  \n",
       "2020-04-14  107200         NaN         NaN  \n",
       "2020-04-15  143400         NaN         NaN  \n",
       "2020-04-16   90300         NaN         NaN  \n",
       "2020-04-17   89100         NaN         NaN  \n",
       "...            ...         ...         ...  \n",
       "2021-04-05  214400  336.563002  328.393925  \n",
       "2021-04-06  150900  334.854002  328.882069  \n",
       "2021-04-07  142100  332.139002  329.051520  \n",
       "2021-04-08  205300  329.984001  329.303306  \n",
       "2021-04-09   99600  327.261501  328.895893  \n",
       "\n",
       "[251 rows x 8 columns]"
      ]
     },
     "execution_count": 67,
     "metadata": {},
     "output_type": "execute_result"
    }
   ],
   "source": [
    "data"
   ]
  },
  {
   "cell_type": "code",
   "execution_count": 73,
   "metadata": {},
   "outputs": [
    {
     "data": {
      "text/plain": [
       "<bound method NDFrame.astype of 0     2020-04-13\n",
       "1     2020-04-14\n",
       "2     2020-04-15\n",
       "3     2020-04-16\n",
       "4     2020-04-17\n",
       "         ...    \n",
       "246   2021-04-05\n",
       "247   2021-04-06\n",
       "248   2021-04-07\n",
       "249   2021-04-08\n",
       "250   2021-04-09\n",
       "Name: Date, Length: 251, dtype: datetime64[ns]>"
      ]
     },
     "execution_count": 73,
     "metadata": {},
     "output_type": "execute_result"
    }
   ],
   "source": [
    "#Forma para cambiar el tipo de datos de una columna\n",
    "data.reset_index(inplace=True)\n",
    "data.Date.astype"
   ]
  },
  {
   "cell_type": "code",
   "execution_count": 71,
   "metadata": {},
   "outputs": [],
   "source": [
    "data['Date'] = data['Date'].astype('datetime64[ns]')"
   ]
  },
  {
   "cell_type": "code",
   "execution_count": 72,
   "metadata": {},
   "outputs": [
    {
     "data": {
      "text/plain": [
       "<bound method NDFrame.astype of 0     2020-04-13\n",
       "1     2020-04-14\n",
       "2     2020-04-15\n",
       "3     2020-04-16\n",
       "4     2020-04-17\n",
       "         ...    \n",
       "246   2021-04-05\n",
       "247   2021-04-06\n",
       "248   2021-04-07\n",
       "249   2021-04-08\n",
       "250   2021-04-09\n",
       "Name: Date, Length: 251, dtype: datetime64[ns]>"
      ]
     },
     "execution_count": 72,
     "metadata": {},
     "output_type": "execute_result"
    }
   ],
   "source": [
    "data.Date.astype"
   ]
  },
  {
   "cell_type": "markdown",
   "metadata": {},
   "source": [
    "---\n",
    "## Pandas Datareader (libreria)\n"
   ]
  },
  {
   "cell_type": "code",
   "execution_count": 86,
   "metadata": {},
   "outputs": [],
   "source": [
    "import pandas as pd\n",
    "import pandas_datareader as data\n",
    "inicio = '2020-01-01' ##Formato de BD aaaa-mm-dd\n",
    "fin = '2020-12-31'\n",
    "ticker = 'STX'"
   ]
  },
  {
   "cell_type": "code",
   "execution_count": 87,
   "metadata": {},
   "outputs": [],
   "source": [
    "df = data.DataReader(name=ticker, data_source='yahoo', start= inicio, end=fin)"
   ]
  },
  {
   "cell_type": "code",
   "execution_count": 90,
   "metadata": {},
   "outputs": [
    {
     "data": {
      "text/html": [
       "<div>\n",
       "<style scoped>\n",
       "    .dataframe tbody tr th:only-of-type {\n",
       "        vertical-align: middle;\n",
       "    }\n",
       "\n",
       "    .dataframe tbody tr th {\n",
       "        vertical-align: top;\n",
       "    }\n",
       "\n",
       "    .dataframe thead th {\n",
       "        text-align: right;\n",
       "    }\n",
       "</style>\n",
       "<table border=\"1\" class=\"dataframe\">\n",
       "  <thead>\n",
       "    <tr style=\"text-align: right;\">\n",
       "      <th></th>\n",
       "      <th>High</th>\n",
       "      <th>Low</th>\n",
       "      <th>Open</th>\n",
       "      <th>Close</th>\n",
       "      <th>Volume</th>\n",
       "      <th>Adj Close</th>\n",
       "    </tr>\n",
       "    <tr>\n",
       "      <th>Date</th>\n",
       "      <th></th>\n",
       "      <th></th>\n",
       "      <th></th>\n",
       "      <th></th>\n",
       "      <th></th>\n",
       "      <th></th>\n",
       "    </tr>\n",
       "  </thead>\n",
       "  <tbody>\n",
       "    <tr>\n",
       "      <th>2020-01-02</th>\n",
       "      <td>60.639999</td>\n",
       "      <td>59.770000</td>\n",
       "      <td>59.810001</td>\n",
       "      <td>60.500000</td>\n",
       "      <td>2018200.0</td>\n",
       "      <td>56.456425</td>\n",
       "    </tr>\n",
       "    <tr>\n",
       "      <th>2020-01-03</th>\n",
       "      <td>60.049999</td>\n",
       "      <td>58.810001</td>\n",
       "      <td>59.860001</td>\n",
       "      <td>58.910000</td>\n",
       "      <td>1649700.0</td>\n",
       "      <td>54.972687</td>\n",
       "    </tr>\n",
       "    <tr>\n",
       "      <th>2020-01-06</th>\n",
       "      <td>58.709999</td>\n",
       "      <td>57.900002</td>\n",
       "      <td>58.400002</td>\n",
       "      <td>58.209999</td>\n",
       "      <td>1995900.0</td>\n",
       "      <td>54.319481</td>\n",
       "    </tr>\n",
       "    <tr>\n",
       "      <th>2020-01-07</th>\n",
       "      <td>59.040001</td>\n",
       "      <td>58.020000</td>\n",
       "      <td>58.500000</td>\n",
       "      <td>58.910000</td>\n",
       "      <td>1914400.0</td>\n",
       "      <td>54.972687</td>\n",
       "    </tr>\n",
       "    <tr>\n",
       "      <th>2020-01-08</th>\n",
       "      <td>59.900002</td>\n",
       "      <td>58.490002</td>\n",
       "      <td>58.900002</td>\n",
       "      <td>59.369999</td>\n",
       "      <td>2541200.0</td>\n",
       "      <td>55.401943</td>\n",
       "    </tr>\n",
       "  </tbody>\n",
       "</table>\n",
       "</div>"
      ],
      "text/plain": [
       "                 High        Low       Open      Close     Volume  Adj Close\n",
       "Date                                                                        \n",
       "2020-01-02  60.639999  59.770000  59.810001  60.500000  2018200.0  56.456425\n",
       "2020-01-03  60.049999  58.810001  59.860001  58.910000  1649700.0  54.972687\n",
       "2020-01-06  58.709999  57.900002  58.400002  58.209999  1995900.0  54.319481\n",
       "2020-01-07  59.040001  58.020000  58.500000  58.910000  1914400.0  54.972687\n",
       "2020-01-08  59.900002  58.490002  58.900002  59.369999  2541200.0  55.401943"
      ]
     },
     "execution_count": 90,
     "metadata": {},
     "output_type": "execute_result"
    }
   ],
   "source": [
    "df.head()"
   ]
  },
  {
   "cell_type": "code",
   "execution_count": 91,
   "metadata": {},
   "outputs": [],
   "source": [
    "simbolos = ['MSFT','AAPL','GOOGL','AMZN']\n",
    "df2 = data.DataReader(name=simbolos, data_source='yahoo', start= inicio, end=fin)"
   ]
  },
  {
   "cell_type": "code",
   "execution_count": 92,
   "metadata": {},
   "outputs": [
    {
     "data": {
      "text/html": [
       "<div>\n",
       "<style scoped>\n",
       "    .dataframe tbody tr th:only-of-type {\n",
       "        vertical-align: middle;\n",
       "    }\n",
       "\n",
       "    .dataframe tbody tr th {\n",
       "        vertical-align: top;\n",
       "    }\n",
       "\n",
       "    .dataframe thead tr th {\n",
       "        text-align: left;\n",
       "    }\n",
       "\n",
       "    .dataframe thead tr:last-of-type th {\n",
       "        text-align: right;\n",
       "    }\n",
       "</style>\n",
       "<table border=\"1\" class=\"dataframe\">\n",
       "  <thead>\n",
       "    <tr>\n",
       "      <th>Attributes</th>\n",
       "      <th colspan=\"4\" halign=\"left\">Adj Close</th>\n",
       "      <th colspan=\"4\" halign=\"left\">Close</th>\n",
       "      <th colspan=\"2\" halign=\"left\">High</th>\n",
       "      <th>...</th>\n",
       "      <th colspan=\"2\" halign=\"left\">Low</th>\n",
       "      <th colspan=\"4\" halign=\"left\">Open</th>\n",
       "      <th colspan=\"4\" halign=\"left\">Volume</th>\n",
       "    </tr>\n",
       "    <tr>\n",
       "      <th>Symbols</th>\n",
       "      <th>MSFT</th>\n",
       "      <th>AAPL</th>\n",
       "      <th>GOOGL</th>\n",
       "      <th>AMZN</th>\n",
       "      <th>MSFT</th>\n",
       "      <th>AAPL</th>\n",
       "      <th>GOOGL</th>\n",
       "      <th>AMZN</th>\n",
       "      <th>MSFT</th>\n",
       "      <th>AAPL</th>\n",
       "      <th>...</th>\n",
       "      <th>GOOGL</th>\n",
       "      <th>AMZN</th>\n",
       "      <th>MSFT</th>\n",
       "      <th>AAPL</th>\n",
       "      <th>GOOGL</th>\n",
       "      <th>AMZN</th>\n",
       "      <th>MSFT</th>\n",
       "      <th>AAPL</th>\n",
       "      <th>GOOGL</th>\n",
       "      <th>AMZN</th>\n",
       "    </tr>\n",
       "    <tr>\n",
       "      <th>Date</th>\n",
       "      <th></th>\n",
       "      <th></th>\n",
       "      <th></th>\n",
       "      <th></th>\n",
       "      <th></th>\n",
       "      <th></th>\n",
       "      <th></th>\n",
       "      <th></th>\n",
       "      <th></th>\n",
       "      <th></th>\n",
       "      <th></th>\n",
       "      <th></th>\n",
       "      <th></th>\n",
       "      <th></th>\n",
       "      <th></th>\n",
       "      <th></th>\n",
       "      <th></th>\n",
       "      <th></th>\n",
       "      <th></th>\n",
       "      <th></th>\n",
       "      <th></th>\n",
       "    </tr>\n",
       "  </thead>\n",
       "  <tbody>\n",
       "    <tr>\n",
       "      <th>2020-01-02</th>\n",
       "      <td>158.205765</td>\n",
       "      <td>74.207466</td>\n",
       "      <td>1368.680054</td>\n",
       "      <td>1898.010010</td>\n",
       "      <td>160.619995</td>\n",
       "      <td>75.087502</td>\n",
       "      <td>1368.680054</td>\n",
       "      <td>1898.010010</td>\n",
       "      <td>160.729996</td>\n",
       "      <td>75.150002</td>\n",
       "      <td>...</td>\n",
       "      <td>1346.489990</td>\n",
       "      <td>1864.150024</td>\n",
       "      <td>158.779999</td>\n",
       "      <td>74.059998</td>\n",
       "      <td>1348.410034</td>\n",
       "      <td>1875.000000</td>\n",
       "      <td>22622100.0</td>\n",
       "      <td>135480400.0</td>\n",
       "      <td>1363900.0</td>\n",
       "      <td>4029000.0</td>\n",
       "    </tr>\n",
       "    <tr>\n",
       "      <th>2020-01-03</th>\n",
       "      <td>156.235825</td>\n",
       "      <td>73.486023</td>\n",
       "      <td>1361.520020</td>\n",
       "      <td>1874.969971</td>\n",
       "      <td>158.619995</td>\n",
       "      <td>74.357498</td>\n",
       "      <td>1361.520020</td>\n",
       "      <td>1874.969971</td>\n",
       "      <td>159.949997</td>\n",
       "      <td>75.144997</td>\n",
       "      <td>...</td>\n",
       "      <td>1347.319946</td>\n",
       "      <td>1864.500000</td>\n",
       "      <td>158.320007</td>\n",
       "      <td>74.287498</td>\n",
       "      <td>1348.000000</td>\n",
       "      <td>1864.500000</td>\n",
       "      <td>21116200.0</td>\n",
       "      <td>146322800.0</td>\n",
       "      <td>1170400.0</td>\n",
       "      <td>3764400.0</td>\n",
       "    </tr>\n",
       "    <tr>\n",
       "      <th>2020-01-06</th>\n",
       "      <td>156.639694</td>\n",
       "      <td>74.071579</td>\n",
       "      <td>1397.810059</td>\n",
       "      <td>1902.880005</td>\n",
       "      <td>159.029999</td>\n",
       "      <td>74.949997</td>\n",
       "      <td>1397.810059</td>\n",
       "      <td>1902.880005</td>\n",
       "      <td>159.100006</td>\n",
       "      <td>74.989998</td>\n",
       "      <td>...</td>\n",
       "      <td>1351.000000</td>\n",
       "      <td>1860.000000</td>\n",
       "      <td>157.080002</td>\n",
       "      <td>73.447502</td>\n",
       "      <td>1351.630005</td>\n",
       "      <td>1860.000000</td>\n",
       "      <td>20813700.0</td>\n",
       "      <td>118387200.0</td>\n",
       "      <td>2338400.0</td>\n",
       "      <td>4061800.0</td>\n",
       "    </tr>\n",
       "    <tr>\n",
       "      <th>2020-01-07</th>\n",
       "      <td>155.211456</td>\n",
       "      <td>73.723213</td>\n",
       "      <td>1395.109985</td>\n",
       "      <td>1906.859985</td>\n",
       "      <td>157.580002</td>\n",
       "      <td>74.597504</td>\n",
       "      <td>1395.109985</td>\n",
       "      <td>1906.859985</td>\n",
       "      <td>159.669998</td>\n",
       "      <td>75.224998</td>\n",
       "      <td>...</td>\n",
       "      <td>1391.560059</td>\n",
       "      <td>1892.040039</td>\n",
       "      <td>159.320007</td>\n",
       "      <td>74.959999</td>\n",
       "      <td>1400.459961</td>\n",
       "      <td>1904.500000</td>\n",
       "      <td>21634100.0</td>\n",
       "      <td>108872000.0</td>\n",
       "      <td>1716500.0</td>\n",
       "      <td>4044900.0</td>\n",
       "    </tr>\n",
       "    <tr>\n",
       "      <th>2020-01-08</th>\n",
       "      <td>157.683731</td>\n",
       "      <td>74.909149</td>\n",
       "      <td>1405.040039</td>\n",
       "      <td>1891.969971</td>\n",
       "      <td>160.089996</td>\n",
       "      <td>75.797501</td>\n",
       "      <td>1405.040039</td>\n",
       "      <td>1891.969971</td>\n",
       "      <td>160.800003</td>\n",
       "      <td>76.110001</td>\n",
       "      <td>...</td>\n",
       "      <td>1392.630005</td>\n",
       "      <td>1886.439941</td>\n",
       "      <td>158.929993</td>\n",
       "      <td>74.290001</td>\n",
       "      <td>1394.819946</td>\n",
       "      <td>1898.040039</td>\n",
       "      <td>27746500.0</td>\n",
       "      <td>132079200.0</td>\n",
       "      <td>1765700.0</td>\n",
       "      <td>3508000.0</td>\n",
       "    </tr>\n",
       "    <tr>\n",
       "      <th>...</th>\n",
       "      <td>...</td>\n",
       "      <td>...</td>\n",
       "      <td>...</td>\n",
       "      <td>...</td>\n",
       "      <td>...</td>\n",
       "      <td>...</td>\n",
       "      <td>...</td>\n",
       "      <td>...</td>\n",
       "      <td>...</td>\n",
       "      <td>...</td>\n",
       "      <td>...</td>\n",
       "      <td>...</td>\n",
       "      <td>...</td>\n",
       "      <td>...</td>\n",
       "      <td>...</td>\n",
       "      <td>...</td>\n",
       "      <td>...</td>\n",
       "      <td>...</td>\n",
       "      <td>...</td>\n",
       "      <td>...</td>\n",
       "      <td>...</td>\n",
       "    </tr>\n",
       "    <tr>\n",
       "      <th>2020-12-24</th>\n",
       "      <td>221.726166</td>\n",
       "      <td>131.549637</td>\n",
       "      <td>1734.160034</td>\n",
       "      <td>3172.689941</td>\n",
       "      <td>222.750000</td>\n",
       "      <td>131.970001</td>\n",
       "      <td>1734.160034</td>\n",
       "      <td>3172.689941</td>\n",
       "      <td>223.610001</td>\n",
       "      <td>133.460007</td>\n",
       "      <td>...</td>\n",
       "      <td>1724.349976</td>\n",
       "      <td>3169.000000</td>\n",
       "      <td>221.419998</td>\n",
       "      <td>131.320007</td>\n",
       "      <td>1729.000000</td>\n",
       "      <td>3193.899902</td>\n",
       "      <td>10550600.0</td>\n",
       "      <td>54930100.0</td>\n",
       "      <td>465600.0</td>\n",
       "      <td>1451900.0</td>\n",
       "    </tr>\n",
       "    <tr>\n",
       "      <th>2020-12-28</th>\n",
       "      <td>223.925995</td>\n",
       "      <td>136.254608</td>\n",
       "      <td>1773.959961</td>\n",
       "      <td>3283.959961</td>\n",
       "      <td>224.960007</td>\n",
       "      <td>136.690002</td>\n",
       "      <td>1773.959961</td>\n",
       "      <td>3283.959961</td>\n",
       "      <td>226.029999</td>\n",
       "      <td>137.339996</td>\n",
       "      <td>...</td>\n",
       "      <td>1741.819946</td>\n",
       "      <td>3172.689941</td>\n",
       "      <td>224.449997</td>\n",
       "      <td>133.990005</td>\n",
       "      <td>1744.910034</td>\n",
       "      <td>3194.000000</td>\n",
       "      <td>17933500.0</td>\n",
       "      <td>124486200.0</td>\n",
       "      <td>1382500.0</td>\n",
       "      <td>5686800.0</td>\n",
       "    </tr>\n",
       "    <tr>\n",
       "      <th>2020-12-29</th>\n",
       "      <td>223.119720</td>\n",
       "      <td>134.440399</td>\n",
       "      <td>1757.760010</td>\n",
       "      <td>3322.000000</td>\n",
       "      <td>224.149994</td>\n",
       "      <td>134.869995</td>\n",
       "      <td>1757.760010</td>\n",
       "      <td>3322.000000</td>\n",
       "      <td>227.179993</td>\n",
       "      <td>138.789993</td>\n",
       "      <td>...</td>\n",
       "      <td>1755.109985</td>\n",
       "      <td>3281.219971</td>\n",
       "      <td>226.309998</td>\n",
       "      <td>138.050003</td>\n",
       "      <td>1787.229980</td>\n",
       "      <td>3309.939941</td>\n",
       "      <td>17403200.0</td>\n",
       "      <td>121047300.0</td>\n",
       "      <td>986300.0</td>\n",
       "      <td>4872900.0</td>\n",
       "    </tr>\n",
       "    <tr>\n",
       "      <th>2020-12-30</th>\n",
       "      <td>220.661072</td>\n",
       "      <td>133.294067</td>\n",
       "      <td>1736.250000</td>\n",
       "      <td>3285.850098</td>\n",
       "      <td>221.679993</td>\n",
       "      <td>133.720001</td>\n",
       "      <td>1736.250000</td>\n",
       "      <td>3285.850098</td>\n",
       "      <td>225.630005</td>\n",
       "      <td>135.990005</td>\n",
       "      <td>...</td>\n",
       "      <td>1728.000000</td>\n",
       "      <td>3282.469971</td>\n",
       "      <td>225.229996</td>\n",
       "      <td>135.580002</td>\n",
       "      <td>1765.000000</td>\n",
       "      <td>3341.000000</td>\n",
       "      <td>20272300.0</td>\n",
       "      <td>96452100.0</td>\n",
       "      <td>1051300.0</td>\n",
       "      <td>3209300.0</td>\n",
       "    </tr>\n",
       "    <tr>\n",
       "      <th>2020-12-31</th>\n",
       "      <td>221.397675</td>\n",
       "      <td>132.267349</td>\n",
       "      <td>1752.640015</td>\n",
       "      <td>3256.929932</td>\n",
       "      <td>222.419998</td>\n",
       "      <td>132.690002</td>\n",
       "      <td>1752.640015</td>\n",
       "      <td>3256.929932</td>\n",
       "      <td>223.000000</td>\n",
       "      <td>134.740005</td>\n",
       "      <td>...</td>\n",
       "      <td>1736.089966</td>\n",
       "      <td>3241.199951</td>\n",
       "      <td>221.699997</td>\n",
       "      <td>134.080002</td>\n",
       "      <td>1737.270020</td>\n",
       "      <td>3275.000000</td>\n",
       "      <td>20942100.0</td>\n",
       "      <td>99116600.0</td>\n",
       "      <td>1053500.0</td>\n",
       "      <td>2957200.0</td>\n",
       "    </tr>\n",
       "  </tbody>\n",
       "</table>\n",
       "<p>253 rows × 24 columns</p>\n",
       "</div>"
      ],
      "text/plain": [
       "Attributes   Adj Close                                             Close  \\\n",
       "Symbols           MSFT        AAPL        GOOGL         AMZN        MSFT   \n",
       "Date                                                                       \n",
       "2020-01-02  158.205765   74.207466  1368.680054  1898.010010  160.619995   \n",
       "2020-01-03  156.235825   73.486023  1361.520020  1874.969971  158.619995   \n",
       "2020-01-06  156.639694   74.071579  1397.810059  1902.880005  159.029999   \n",
       "2020-01-07  155.211456   73.723213  1395.109985  1906.859985  157.580002   \n",
       "2020-01-08  157.683731   74.909149  1405.040039  1891.969971  160.089996   \n",
       "...                ...         ...          ...          ...         ...   \n",
       "2020-12-24  221.726166  131.549637  1734.160034  3172.689941  222.750000   \n",
       "2020-12-28  223.925995  136.254608  1773.959961  3283.959961  224.960007   \n",
       "2020-12-29  223.119720  134.440399  1757.760010  3322.000000  224.149994   \n",
       "2020-12-30  220.661072  133.294067  1736.250000  3285.850098  221.679993   \n",
       "2020-12-31  221.397675  132.267349  1752.640015  3256.929932  222.419998   \n",
       "\n",
       "Attributes                                              High              ...  \\\n",
       "Symbols           AAPL        GOOGL         AMZN        MSFT        AAPL  ...   \n",
       "Date                                                                      ...   \n",
       "2020-01-02   75.087502  1368.680054  1898.010010  160.729996   75.150002  ...   \n",
       "2020-01-03   74.357498  1361.520020  1874.969971  159.949997   75.144997  ...   \n",
       "2020-01-06   74.949997  1397.810059  1902.880005  159.100006   74.989998  ...   \n",
       "2020-01-07   74.597504  1395.109985  1906.859985  159.669998   75.224998  ...   \n",
       "2020-01-08   75.797501  1405.040039  1891.969971  160.800003   76.110001  ...   \n",
       "...                ...          ...          ...         ...         ...  ...   \n",
       "2020-12-24  131.970001  1734.160034  3172.689941  223.610001  133.460007  ...   \n",
       "2020-12-28  136.690002  1773.959961  3283.959961  226.029999  137.339996  ...   \n",
       "2020-12-29  134.869995  1757.760010  3322.000000  227.179993  138.789993  ...   \n",
       "2020-12-30  133.720001  1736.250000  3285.850098  225.630005  135.990005  ...   \n",
       "2020-12-31  132.690002  1752.640015  3256.929932  223.000000  134.740005  ...   \n",
       "\n",
       "Attributes          Low                     Open                           \\\n",
       "Symbols           GOOGL         AMZN        MSFT        AAPL        GOOGL   \n",
       "Date                                                                        \n",
       "2020-01-02  1346.489990  1864.150024  158.779999   74.059998  1348.410034   \n",
       "2020-01-03  1347.319946  1864.500000  158.320007   74.287498  1348.000000   \n",
       "2020-01-06  1351.000000  1860.000000  157.080002   73.447502  1351.630005   \n",
       "2020-01-07  1391.560059  1892.040039  159.320007   74.959999  1400.459961   \n",
       "2020-01-08  1392.630005  1886.439941  158.929993   74.290001  1394.819946   \n",
       "...                 ...          ...         ...         ...          ...   \n",
       "2020-12-24  1724.349976  3169.000000  221.419998  131.320007  1729.000000   \n",
       "2020-12-28  1741.819946  3172.689941  224.449997  133.990005  1744.910034   \n",
       "2020-12-29  1755.109985  3281.219971  226.309998  138.050003  1787.229980   \n",
       "2020-12-30  1728.000000  3282.469971  225.229996  135.580002  1765.000000   \n",
       "2020-12-31  1736.089966  3241.199951  221.699997  134.080002  1737.270020   \n",
       "\n",
       "Attributes                   Volume                                     \n",
       "Symbols            AMZN        MSFT         AAPL      GOOGL       AMZN  \n",
       "Date                                                                    \n",
       "2020-01-02  1875.000000  22622100.0  135480400.0  1363900.0  4029000.0  \n",
       "2020-01-03  1864.500000  21116200.0  146322800.0  1170400.0  3764400.0  \n",
       "2020-01-06  1860.000000  20813700.0  118387200.0  2338400.0  4061800.0  \n",
       "2020-01-07  1904.500000  21634100.0  108872000.0  1716500.0  4044900.0  \n",
       "2020-01-08  1898.040039  27746500.0  132079200.0  1765700.0  3508000.0  \n",
       "...                 ...         ...          ...        ...        ...  \n",
       "2020-12-24  3193.899902  10550600.0   54930100.0   465600.0  1451900.0  \n",
       "2020-12-28  3194.000000  17933500.0  124486200.0  1382500.0  5686800.0  \n",
       "2020-12-29  3309.939941  17403200.0  121047300.0   986300.0  4872900.0  \n",
       "2020-12-30  3341.000000  20272300.0   96452100.0  1051300.0  3209300.0  \n",
       "2020-12-31  3275.000000  20942100.0   99116600.0  1053500.0  2957200.0  \n",
       "\n",
       "[253 rows x 24 columns]"
      ]
     },
     "execution_count": 92,
     "metadata": {},
     "output_type": "execute_result"
    }
   ],
   "source": [
    "df2"
   ]
  },
  {
   "cell_type": "markdown",
   "metadata": {},
   "source": [
    "---\n",
    "\n",
    "# Matplotlib (graficas)\n",
    "\n",
    "La libreria padre de graficacion para Python. Muchas otras librerias de graficas utilizan matplotlib\n",
    "\n",
    "Otras librerias: seaborn, cufflinks, plotly, bokeh  \n",
    "\n",
    "Pandas tiene unos modulos de graficas  \n",
    "\n",
    "https://matplotlib.org/2.0.2/gallery.html"
   ]
  },
  {
   "cell_type": "code",
   "execution_count": 1,
   "metadata": {},
   "outputs": [],
   "source": [
    "import matplotlib.pyplot as plt"
   ]
  },
  {
   "cell_type": "code",
   "execution_count": 2,
   "metadata": {},
   "outputs": [],
   "source": [
    "import numpy as np\n",
    "x = np.linspace(0,5,11)\n",
    "y = x ** 2"
   ]
  },
  {
   "cell_type": "code",
   "execution_count": 3,
   "metadata": {},
   "outputs": [
    {
     "data": {
      "text/plain": [
       "array([0. , 0.5, 1. , 1.5, 2. , 2.5, 3. , 3.5, 4. , 4.5, 5. ])"
      ]
     },
     "execution_count": 3,
     "metadata": {},
     "output_type": "execute_result"
    }
   ],
   "source": [
    "x"
   ]
  },
  {
   "cell_type": "code",
   "execution_count": 4,
   "metadata": {},
   "outputs": [
    {
     "data": {
      "text/plain": [
       "array([ 0.  ,  0.25,  1.  ,  2.25,  4.  ,  6.25,  9.  , 12.25, 16.  ,\n",
       "       20.25, 25.  ])"
      ]
     },
     "execution_count": 4,
     "metadata": {},
     "output_type": "execute_result"
    }
   ],
   "source": [
    "y"
   ]
  },
  {
   "cell_type": "markdown",
   "metadata": {},
   "source": [
    "## FUNCIONAL - FORMA DE TRABAJAR MPL ->1\n",
    "\n",
    "hay dos formas de trabajar MPL, funcional y objeto"
   ]
  },
  {
   "cell_type": "code",
   "execution_count": 5,
   "metadata": {},
   "outputs": [],
   "source": [
    "#PLOT CREA UN GRAFICO EN EL CANVAS \n",
    "#SUBPLOT CREAR VARIOS GRAFICOS EN EL MISMO CANVAS (LIENZO)"
   ]
  },
  {
   "cell_type": "code",
   "execution_count": 6,
   "metadata": {},
   "outputs": [
    {
     "data": {
      "image/png": "[encoded data removed]",
      "text/plain": [
       "<Figure size 432x288 with 1 Axes>"
      ]
     },
     "metadata": {
      "needs_background": "light"
     },
     "output_type": "display_data"
    }
   ],
   "source": [
    "plt.plot(x,y) # graficar eje de las x (arreglo de numpy) y el eje de las y\n",
    "plt.xlabel('Valores de las X')\n",
    "plt.ylabel('Tiempo')\n",
    "plt.title('Grafica 1')\n",
    "plt.show()"
   ]
  },
  {
   "cell_type": "code",
   "execution_count": 156,
   "metadata": {},
   "outputs": [
    {
     "data": {
      "text/plain": [
       "[<matplotlib.lines.Line2D at 0x1b2156f8c10>]"
      ]
     },
     "execution_count": 156,
     "metadata": {},
     "output_type": "execute_result"
    },
    {
     "data": {
      "image/png": "[encoded data removed]",
      "text/plain": [
       "<Figure size 432x288 with 3 Axes>"
      ]
     },
     "metadata": {
      "needs_background": "light"
     },
     "output_type": "display_data"
    }
   ],
   "source": [
    "plt.subplot(1,3,1)\n",
    "plt.plot(x,y,'r--') #graficar x, y, con una linea discontinua '--' de color rojo (r)\n",
    "plt.subplot(1,3,2)\n",
    "plt.plot(y,x,'b*-')\n",
    "plt.subplot(1,3,3)\n",
    "plt.plot(x,y,'g--')"
   ]
  },
  {
   "cell_type": "markdown",
   "metadata": {},
   "source": [
    "## ORIENTADO OBJETOS - FORMA DE TRABAJAR MPL ->2"
   ]
  },
  {
   "cell_type": "code",
   "execution_count": 7,
   "metadata": {},
   "outputs": [],
   "source": [
    "# Crear un objeto llamado figura\n",
    "import matplotlib.pyplot as plt\n",
    "\n",
    "#figsize=(15*cm, 5*cm) para hacerlo en centimetros"
   ]
  },
  {
   "cell_type": "code",
   "execution_count": 9,
   "metadata": {},
   "outputs": [
    {
     "data": {
      "text/plain": [
       "Text(0.5, 1.0, 'Dodgecoin')"
      ]
     },
     "execution_count": 9,
     "metadata": {},
     "output_type": "execute_result"
    },
    {
     "data": {
      "image/png": "[encoded data removed]",
      "text/plain": [
       "<Figure size 720x360 with 1 Axes>"
      ]
     },
     "metadata": {
      "needs_background": "light"
     },
     "output_type": "display_data"
    }
   ],
   "source": [
    "fig = plt.figure(figsize=(10,5))\n",
    "#Agregar los ejes del graficos\n",
    "axes = fig.add_axes([0.1, 0.1, 0.8, 0.8]) # left, bottom, width, height (range 0 to 1)\n",
    "#espacio desde la izquierda, desde la parte baja, el ancho, y el alto\n",
    "#no son inches sin porcentaje o prorpocion respecto al canvas o figura\n",
    "#me permite especificar el frame (marco) para los ejes del grafico\n",
    "# los valores son entre 0 y 1\n",
    "axes.plot(x, y, 'b')\n",
    "axes.set_xlabel('Valor USD') \n",
    "axes.set_ylabel('Tiempo')\n",
    "axes.set_title('Dodgecoin')"
   ]
  },
  {
   "cell_type": "code",
   "execution_count": 16,
   "metadata": {},
   "outputs": [
    {
     "data": {
      "image/png": "[encoded data removed]",
      "text/plain": [
       "<Figure size 432x288 with 2 Axes>"
      ]
     },
     "metadata": {
      "needs_background": "light"
     },
     "output_type": "display_data"
    }
   ],
   "source": [
    "fig = plt.figure()\n",
    "\n",
    "axes1 = fig.add_axes([0.1 , 0.1 , 0.8 ,0.8 ])\n",
    "\n",
    "axes2 = fig.add_axes([0.2 , 0.5 , 0.4 ,0.3 ])"
   ]
  },
  {
   "cell_type": "code",
   "execution_count": 22,
   "metadata": {},
   "outputs": [
    {
     "data": {
      "text/plain": [
       "Text(0.5, 1.0, 'ADA')"
      ]
     },
     "execution_count": 22,
     "metadata": {},
     "output_type": "execute_result"
    },
    {
     "data": {
      "image/png": "[encoded data removed]",
      "text/plain": [
       "<Figure size 432x288 with 2 Axes>"
      ]
     },
     "metadata": {
      "needs_background": "light"
     },
     "output_type": "display_data"
    }
   ],
   "source": [
    "fig = plt.figure()\n",
    "\n",
    "axes1 = fig.add_axes([0.1, 0.1, 0.8, 0.8]) #par de ejes (x,y)\n",
    "axes2 = fig.add_axes([0.2, 0.5, 0.4, 0.3])\n",
    "\n",
    "axes1.plot(x,y,'b')\n",
    "axes1.set_xlabel('Precio USD')\n",
    "axes1.set_ylabel('Tiempo')\n",
    "axes1.set_title('DODG')\n",
    "\n",
    "axes2.plot(y,x,'r')\n",
    "axes2.set_xlabel('Precio USD')\n",
    "axes2.set_ylabel('Tiempo')\n",
    "axes2.set_title('ADA')"
   ]
  },
  {
   "cell_type": "code",
   "execution_count": 26,
   "metadata": {},
   "outputs": [
    {
     "data": {
      "image/png": "[encoded data removed]",
      "text/plain": [
       "<Figure size 432x288 with 6 Axes>"
      ]
     },
     "metadata": {
      "needs_background": "light"
     },
     "output_type": "display_data"
    }
   ],
   "source": [
    "fig, axes=plt.subplots(nrows=3,ncols=2) #creando 6 graficos en un mismo canvas, 3 filas y 2 columnas\n",
    "\n",
    "#para corregir el solapamiento de los ejes\n",
    "plt.tight_layout()"
   ]
  },
  {
   "cell_type": "code",
   "execution_count": 27,
   "metadata": {},
   "outputs": [
    {
     "data": {
      "text/plain": [
       "array([[<AxesSubplot:>, <AxesSubplot:>],\n",
       "       [<AxesSubplot:>, <AxesSubplot:>],\n",
       "       [<AxesSubplot:>, <AxesSubplot:>]], dtype=object)"
      ]
     },
     "execution_count": 27,
     "metadata": {},
     "output_type": "execute_result"
    }
   ],
   "source": [
    "axes"
   ]
  },
  {
   "cell_type": "code",
   "execution_count": 34,
   "metadata": {},
   "outputs": [
    {
     "data": {
      "text/plain": [
       "[<matplotlib.lines.Line2D at 0x1f12997fe20>]"
      ]
     },
     "execution_count": 34,
     "metadata": {},
     "output_type": "execute_result"
    },
    {
     "data": {
      "image/png": "[encoded data removed]",
      "text/plain": [
       "<Figure size 432x288 with 2 Axes>"
      ]
     },
     "metadata": {
      "needs_background": "light"
     },
     "output_type": "display_data"
    }
   ],
   "source": [
    "fig, axes = plt.subplots(nrows=1, ncols=2)\n",
    "\n",
    "axes[0].plot(x,y,'g')\n",
    "axes[1].plot(y,x,'b')\n"
   ]
  },
  {
   "cell_type": "code",
   "execution_count": 36,
   "metadata": {},
   "outputs": [
    {
     "data": {
      "image/png": "[encoded data removed]",
      "text/plain": [
       "<Figure size 432x288 with 2 Axes>"
      ]
     },
     "metadata": {
      "needs_background": "light"
     },
     "output_type": "display_data"
    }
   ],
   "source": [
    "fig, axes = plt.subplots(nrows=1, ncols=2)\n",
    "\n",
    "for ax in axes:\n",
    "    ax.plot(x, y)\n",
    "    ax.set_xlabel('x')\n",
    "    ax.set_ylabel('y')\n",
    "    ax.set_title('title')\n",
    "\n",
    "fig.tight_layout()"
   ]
  },
  {
   "cell_type": "markdown",
   "metadata": {},
   "source": [
    "## Tamaño de la imagen y DPI(dots per inch , pixeles por pulgada)\n",
    "\n",
    "figsize es una tupla (a,b) que indica el ancho por el alto de la imagen en pulgadas"
   ]
  },
  {
   "cell_type": "code",
   "execution_count": 43,
   "metadata": {
    "scrolled": true
   },
   "outputs": [
    {
     "data": {
      "text/plain": [
       "[<matplotlib.lines.Line2D at 0x1f12b09bb50>]"
      ]
     },
     "execution_count": 43,
     "metadata": {},
     "output_type": "execute_result"
    },
    {
     "data": {
      "image/png": "[encoded data removed]",
      "text/plain": [
       "<Figure size 800x200 with 1 Axes>"
      ]
     },
     "metadata": {
      "needs_background": "light"
     },
     "output_type": "display_data"
    }
   ],
   "source": [
    "grafico = plt.figure(figsize=(8,2), dpi =100)\n",
    "\n",
    "ax = grafico.add_axes([0,0,1,1])\n",
    "ax.set_xlabel('x')\n",
    "ax.set_ylabel('y')\n",
    "ax.set_title('title')\n",
    "ax.plot(x,y)"
   ]
  },
  {
   "cell_type": "markdown",
   "metadata": {},
   "source": [
    "## Guardar la imagen (PNG, JPG, EPS, SVG,...)"
   ]
  },
  {
   "cell_type": "code",
   "execution_count": 44,
   "metadata": {},
   "outputs": [],
   "source": [
    "grafico.savefig(\"grafica2.jpg\", dpi=200)"
   ]
  },
  {
   "cell_type": "markdown",
   "metadata": {},
   "source": [
    "## Leyendas, Etiquetas de los ejes, Titulos"
   ]
  },
  {
   "cell_type": "code",
   "execution_count": 47,
   "metadata": {},
   "outputs": [
    {
     "data": {
      "text/plain": [
       "[<matplotlib.lines.Line2D at 0x1f129375160>]"
      ]
     },
     "execution_count": 47,
     "metadata": {},
     "output_type": "execute_result"
    },
    {
     "data": {
      "image/png": "[encoded data removed]",
      "text/plain": [
       "<Figure size 432x288 with 1 Axes>"
      ]
     },
     "metadata": {
      "needs_background": "light"
     },
     "output_type": "display_data"
    }
   ],
   "source": [
    "grafico = plt.figure()\n",
    "\n",
    "ax = grafico.add_axes([0,0,1,1])\n",
    "ax.set_xlabel('x') # etiqueta del eje de las x\n",
    "ax.set_ylabel('y') # etiqueta del eje de las y\n",
    "ax.set_title('title') # titulo del grafico\n",
    "ax.plot(x,y)"
   ]
  },
  {
   "cell_type": "code",
   "execution_count": 50,
   "metadata": {},
   "outputs": [
    {
     "data": {
      "text/plain": [
       "<matplotlib.legend.Legend at 0x1f1299152b0>"
      ]
     },
     "execution_count": 50,
     "metadata": {},
     "output_type": "execute_result"
    },
    {
     "data": {
      "image/png": "[encoded data removed]",
      "text/plain": [
       "<Figure size 432x288 with 1 Axes>"
      ]
     },
     "metadata": {
      "needs_background": "light"
     },
     "output_type": "display_data"
    }
   ],
   "source": [
    "## Leyenda\n",
    "\n",
    "fig = plt.figure()\n",
    "\n",
    "ax = fig.add_axes([0,0,1,1])\n",
    "ax.plot(x,y, label =\"y1 = x^2\")\n",
    "ax.plot(x,x**3, label =\"y2 = x^3\")\n",
    "ax.legend()"
   ]
  },
  {
   "cell_type": "code",
   "execution_count": 55,
   "metadata": {},
   "outputs": [
    {
     "data": {
      "image/png": "[encoded data removed]",
      "text/plain": [
       "<Figure size 432x288 with 1 Axes>"
      ]
     },
     "execution_count": 55,
     "metadata": {},
     "output_type": "execute_result"
    }
   ],
   "source": [
    "# Cambiar la posicion de la leyenda\n",
    "ax.legend(loc=1) # esquina superior derecha\n",
    "ax.legend(loc=2) # esquina superior izquierda\n",
    "ax.legend(loc=3) # esquina inferior izquierda\n",
    "ax.legend(loc=4) # esquina inferior derecha\n",
    "fig"
   ]
  },
  {
   "cell_type": "markdown",
   "metadata": {},
   "source": [
    "## Colores, Ancho de la linea, tipo de linea"
   ]
  },
  {
   "cell_type": "code",
   "execution_count": 61,
   "metadata": {},
   "outputs": [
    {
     "data": {
      "text/plain": [
       "[<matplotlib.lines.Line2D at 0x1f12b5964c0>]"
      ]
     },
     "execution_count": 61,
     "metadata": {},
     "output_type": "execute_result"
    },
    {
     "data": {
      "image/png": "[encoded data removed]",
      "text/plain": [
       "<Figure size 432x288 with 1 Axes>"
      ]
     },
     "metadata": {
      "needs_background": "light"
     },
     "output_type": "display_data"
    }
   ],
   "source": [
    "fig, ax = plt.subplots()\n",
    "ax.plot(x,x**2, 'y*-', label =\"y1 = x^2\")\n",
    "ax.plot(x,x**3, 'g--',label =\"y2 = x^3\")"
   ]
  },
  {
   "cell_type": "code",
   "execution_count": 65,
   "metadata": {},
   "outputs": [
    {
     "data": {
      "text/plain": [
       "[<matplotlib.lines.Line2D at 0x1f12b6cee20>]"
      ]
     },
     "execution_count": 65,
     "metadata": {},
     "output_type": "execute_result"
    },
    {
     "data": {
      "image/png": "[encoded data removed]",
      "text/plain": [
       "<Figure size 432x288 with 1 Axes>"
      ]
     },
     "metadata": {
      "needs_background": "light"
     },
     "output_type": "display_data"
    }
   ],
   "source": [
    "## Tipo de Linea y Ancho de la linea\n",
    "fig, ax = plt.subplots()\n",
    "\n",
    "ax.plot(x,x+1, color=\"blue\")\n",
    "ax.plot(x,x+2, color=\"#C445A9\") #CODIGO HEX RGB de colores\n",
    "ax.plot(x,x+3, color=\"#FF8C00\") #CODIGO HEX RGB de colores"
   ]
  },
  {
   "cell_type": "code",
   "execution_count": 84,
   "metadata": {},
   "outputs": [
    {
     "data": {
      "text/plain": [
       "[<matplotlib.lines.Line2D at 0x1f12ce8ed00>]"
      ]
     },
     "execution_count": 84,
     "metadata": {},
     "output_type": "execute_result"
    },
    {
     "data": {
      "image/png": "[encoded data removed]",
      "text/plain": [
       "<Figure size 864x432 with 1 Axes>"
      ]
     },
     "metadata": {
      "needs_background": "light"
     },
     "output_type": "display_data"
    }
   ],
   "source": [
    "\n",
    "fig, ax = plt.subplots(figsize=(12,6))\n",
    "# Parametro anocho de linea\n",
    "ax.plot(x,x+2, color=\"blue\", linewidth=0.50) \n",
    "ax.plot(x,x+3, color=\"blue\", linewidth=1)\n",
    "ax.plot(x,x+4, color=\"blue\", lw=2)\n",
    "\n",
    "# Parametro tipo de linea '-','--','-.',':'\n",
    "ax.plot(x,x+5, color=\"green\", lw=3, linestyle='-') \n",
    "ax.plot(x,x+6, color=\"green\", lw=3, ls='-.')\n",
    "ax.plot(x,x+7, color=\"green\", lw=3, ls=':')\n",
    "\n",
    "#marker\n",
    "ax.plot(x,x+8, color=\"red\", lw=1, linestyle='-', marker ='+') \n",
    "ax.plot(x,x+9, color=\"red\", lw=1, ls='--', marker ='o')\n",
    "ax.plot(x,x+10, color=\"red\", lw=1, ls='-', marker ='s')\n",
    "ax.plot(x,x+11, color=\"red\", lw=0.15, ls='-', marker ='1')\n",
    "\n",
    "#maker color y tamaño\n",
    "ax.plot(x,x+12, color=\"purple\", lw=1, ls='-', marker ='s', markersize=8, markerfacecolor=\"yellow\", markeredgewidth=3, markeredgecolor='green')"
   ]
  },
  {
   "cell_type": "code",
   "execution_count": 85,
   "metadata": {},
   "outputs": [
    {
     "data": {
      "text/plain": [
       "[<matplotlib.lines.Line2D at 0x1f12d06b5b0>]"
      ]
     },
     "execution_count": 85,
     "metadata": {},
     "output_type": "execute_result"
    },
    {
     "data": {
      "image/png": "[encoded data removed]",
      "text/plain": [
       "<Figure size 432x288 with 1 Axes>"
      ]
     },
     "metadata": {
      "needs_background": "light"
     },
     "output_type": "display_data"
    }
   ],
   "source": [
    "fig, ax = plt.subplots()\n",
    "ax.plot(x,x+1, color=\"blue\", lw=3, drawstyle='steps')"
   ]
  },
  {
   "cell_type": "markdown",
   "metadata": {},
   "source": [
    "## Graficos Especiales"
   ]
  },
  {
   "cell_type": "code",
   "execution_count": 87,
   "metadata": {},
   "outputs": [
    {
     "data": {
      "text/plain": [
       "<matplotlib.collections.PathCollection at 0x1f12cf55c70>"
      ]
     },
     "execution_count": 87,
     "metadata": {},
     "output_type": "execute_result"
    },
    {
     "data": {
      "image/png": "[encoded data removed]",
      "text/plain": [
       "<Figure size 432x288 with 1 Axes>"
      ]
     },
     "metadata": {
      "needs_background": "light"
     },
     "output_type": "display_data"
    }
   ],
   "source": [
    "# Grafico de Dispersion\n",
    "plt.scatter(x,y)"
   ]
  },
  {
   "cell_type": "code",
   "execution_count": 90,
   "metadata": {},
   "outputs": [
    {
     "data": {
      "text/plain": [
       "(array([10.,  6., 13.,  9., 13., 11., 12., 11.,  7.,  8.]),\n",
       " array([  6. , 103.1, 200.2, 297.3, 394.4, 491.5, 588.6, 685.7, 782.8,\n",
       "        879.9, 977. ]),\n",
       " <BarContainer object of 10 artists>)"
      ]
     },
     "execution_count": 90,
     "metadata": {},
     "output_type": "execute_result"
    },
    {
     "data": {
      "image/png": "[encoded data removed]",
      "text/plain": [
       "<Figure size 432x288 with 1 Axes>"
      ]
     },
     "metadata": {
      "needs_background": "light"
     },
     "output_type": "display_data"
    }
   ],
   "source": [
    "# Grafico de freq, histograma\n",
    "from random import sample\n",
    "data = sample(range(1,1000),100)\n",
    "#data\n",
    "plt.hist(data)"
   ]
  },
  {
   "cell_type": "code",
   "execution_count": 93,
   "metadata": {},
   "outputs": [],
   "source": [
    "# Cajas - Box plot - Cuartiles\n",
    "import numpy as np\n",
    "data = [np.random.normal(0, std, 100) for std in range(1,4)]\n",
    "# hace un loop de 3 iteraciones: en cada iteracion std =[1,2 y 3]\n",
    "    # crear una lista de numeros aleatorios con media 0, desv. std = std\n",
    "# el resultado eso ponlo en una lista\n",
    "#[[100 aleatorios normal media=0 std=1],[100 aleatorios normal media=0 std=2],[100 aleatorios normal media=0 std=3] ]"
   ]
  },
  {
   "cell_type": "code",
   "execution_count": 94,
   "metadata": {},
   "outputs": [
    {
     "data": {
      "text/plain": [
       "[array([ 2.19832325e+00, -2.56042781e-01, -3.57254986e-01,  1.29816697e+00,\n",
       "         5.53247472e-01,  3.97433064e-01, -2.05424081e+00, -9.96744525e-01,\n",
       "        -1.78763576e-01,  1.95324607e+00, -1.70587017e-02,  8.93623571e-01,\n",
       "         9.56055697e-01,  2.67055655e-01,  8.33144207e-01, -2.00099547e-01,\n",
       "        -4.56656900e-01,  7.23073808e-01,  2.78239825e-01,  4.24312110e-02,\n",
       "         1.53808483e+00,  3.77205998e-01, -1.92423715e+00,  1.91139188e-01,\n",
       "         8.56908181e-02,  1.11001632e+00,  5.57745140e-01,  1.47045122e+00,\n",
       "        -6.54211919e-02,  8.64884276e-01, -7.25155444e-02, -3.12241397e-01,\n",
       "         5.44364722e-02,  3.16436980e-01, -8.05287000e-01,  4.04448187e-01,\n",
       "        -7.86074258e-02,  6.35419682e-01,  3.83360519e-01, -1.84175848e-01,\n",
       "        -2.94953579e-01, -6.41729065e-02, -1.15064621e+00,  7.43381876e-01,\n",
       "         1.37023004e-01,  8.04081192e-01, -2.20584188e-01, -7.37840123e-01,\n",
       "        -1.06507314e+00, -8.08299002e-01,  2.73704650e-03, -2.75276058e+00,\n",
       "         4.40847258e-01, -2.20275195e+00, -1.58306243e+00, -1.12444873e+00,\n",
       "        -5.98929027e-01,  8.34588599e-01,  7.00291008e-01,  1.34119446e+00,\n",
       "         6.67111769e-01,  2.88881590e-01, -6.07969718e-01,  2.78733113e-01,\n",
       "         1.05214189e+00, -1.39012498e+00,  1.76574339e-01,  1.92913167e+00,\n",
       "        -1.12457113e+00, -1.02452428e+00,  1.20695468e+00, -6.92305238e-02,\n",
       "        -5.11060181e-01,  1.18407122e+00,  2.47207228e-01,  8.80096756e-01,\n",
       "         3.31449878e-01, -1.57647328e-01, -7.81411052e-01,  1.68734011e+00,\n",
       "        -1.24020321e+00,  5.12242058e-01, -2.25412580e-01,  1.01088772e+00,\n",
       "        -8.12795099e-01,  1.38839215e+00,  1.07462936e+00, -3.13410463e-01,\n",
       "         4.42184755e-01,  1.61878779e+00, -9.33242894e-01, -1.92377187e-01,\n",
       "        -5.21386134e-01,  9.78068325e-01, -1.46837877e+00,  2.59662378e-01,\n",
       "        -5.84776835e-01,  5.93718972e-01, -3.28300769e-01,  1.41542448e+00]),\n",
       " array([ 0.06951175,  1.99442707, -1.42036601,  4.42672622,  1.96635368,\n",
       "        -2.16237115,  1.41950383,  2.74937874, -1.74424449, -1.17213104,\n",
       "         0.32745126,  0.7987267 ,  6.03343919,  1.37395927, -2.29839749,\n",
       "         4.56657302, -0.72608923,  2.65963716, -2.11087457,  1.41746586,\n",
       "        -2.45622292, -0.81984974,  1.56229272,  5.0715836 ,  0.50485649,\n",
       "         1.20591911,  0.20711783,  2.79823198, -0.29794752, -2.55596238,\n",
       "        -2.87977559, -1.61298203, -0.91014715, -1.07133404,  2.69752019,\n",
       "        -2.89995997, -0.70609597, -1.5433737 ,  1.43886776,  1.92216932,\n",
       "         3.8684556 ,  0.1798638 , -1.25434342, -1.86949068,  1.38694127,\n",
       "         0.75008634,  0.24324969,  5.80786705,  1.06671084,  0.43113141,\n",
       "        -1.84066891, -1.27089517, -0.95849719, -1.84290547,  0.44499477,\n",
       "        -0.14334635,  2.01789713,  2.10608302,  0.42718691,  2.827036  ,\n",
       "        -2.39378249,  0.10434376, -1.72318805, -3.2629344 , -1.00957209,\n",
       "        -0.0225314 , -1.24382601,  3.3937584 , -0.02018118,  1.04584172,\n",
       "        -2.04989981, -2.67002638,  1.41246175,  3.0575904 ,  1.01228115,\n",
       "         1.68444273, -1.07065257, -1.90300446,  2.15018029, -1.0065509 ,\n",
       "        -0.49145684,  2.08384404, -0.95327874, -1.33217353,  3.2164242 ,\n",
       "         2.4673851 ,  4.69051858, -2.17713485, -0.68949532,  1.45036491,\n",
       "        -0.59572129, -0.36545634, -1.14580355, -1.81238474, -3.17695095,\n",
       "         0.17320969, -0.55098881, -0.41326294, -0.83085416, -1.06988813]),\n",
       " array([-1.07008785,  2.42271277,  2.31307575,  2.04270302,  2.47789791,\n",
       "         3.49383811,  0.75288429,  2.73405541, -3.4499896 , -0.25905331,\n",
       "        -3.90526668,  1.99111316,  2.25596779,  0.82859938, -1.68855507,\n",
       "         0.47695537, -4.23969913, -2.19195186, -1.91335311,  3.88483324,\n",
       "         3.40400864,  1.82385154,  3.81213297,  2.20175762,  0.53867011,\n",
       "        -0.11787116,  1.95319135,  1.24885144, -0.15086111,  1.6157127 ,\n",
       "         1.43378248, -1.23096298, -5.76387065,  3.1318061 , -3.3180583 ,\n",
       "        -1.1147589 ,  4.64454967, -0.24426405,  0.80573071,  3.77568551,\n",
       "         1.57712488, -2.84492663,  0.21213173,  1.39509357,  0.87109677,\n",
       "         2.02763456,  2.44905791, -3.51189738, -3.36111519,  1.47875914,\n",
       "         2.74966865, -1.30944956, -2.0702905 ,  0.49542303, -1.92556356,\n",
       "         1.48980056,  4.4229113 ,  2.24342449, -2.82557705,  1.10601485,\n",
       "         4.57774629,  1.00869144,  5.5588972 ,  3.2005223 ,  3.25493674,\n",
       "        -0.27956385, -2.7889369 ,  0.12951557,  0.6990499 ,  2.00154496,\n",
       "        -0.58212876, -3.27351623,  0.05817749, -1.61920038,  3.00808365,\n",
       "        -5.24854072, -5.44280157, -0.935833  ,  0.93075371, -1.14984347,\n",
       "         6.85141436, -5.96538595, -1.69793487, -1.38878166,  1.75490481,\n",
       "         6.80042951,  4.52539487, -3.6598999 ,  3.94181673, -3.33051322,\n",
       "        -1.74522864, -3.63316497,  1.72093578,  0.37917119,  2.18978792,\n",
       "        -1.83998139, -5.66844504,  6.66414333, -4.67486661,  3.72108812])]"
      ]
     },
     "execution_count": 94,
     "metadata": {},
     "output_type": "execute_result"
    }
   ],
   "source": [
    "data"
   ]
  },
  {
   "cell_type": "code",
   "execution_count": 98,
   "metadata": {},
   "outputs": [
    {
     "name": "stdout",
     "output_type": "stream",
     "text": [
      "100\n",
      "100\n",
      "100\n"
     ]
    }
   ],
   "source": [
    "print(len(data[0]))\n",
    "print(len(data[1]))\n",
    "print(len(data[2]))"
   ]
  },
  {
   "cell_type": "code",
   "execution_count": 99,
   "metadata": {},
   "outputs": [
    {
     "data": {
      "image/png": "[encoded data removed]",
      "text/plain": [
       "<Figure size 432x288 with 1 Axes>"
      ]
     },
     "metadata": {
      "needs_background": "light"
     },
     "output_type": "display_data"
    }
   ],
   "source": [
    "plt.boxplot(data, vert=True, patch_artist= True);"
   ]
  },
  {
   "cell_type": "code",
   "execution_count": 102,
   "metadata": {},
   "outputs": [
    {
     "data": {
      "image/png": "[encoded data removed]",
      "text/plain": [
       "<Figure size 432x288 with 1 Axes>"
      ]
     },
     "metadata": {
      "needs_background": "light"
     },
     "output_type": "display_data"
    }
   ],
   "source": [
    "plt.boxplot(x, vert=True, patch_artist= True);"
   ]
  },
  {
   "cell_type": "markdown",
   "metadata": {},
   "source": [
    "## Referencias\n",
    "* http://www.matplotlib.org \n",
    "* https://github.com/matplotlib/matplotlib\n",
    "* http://matplotlib.org/gallery.html\n",
    "* http://www.loria.fr/~rougier/teaching/matplotlib\n",
    "* http://scipy-lectures.github.io/matplotlib/matplotlib.html"
   ]
  },
  {
   "cell_type": "markdown",
   "metadata": {},
   "source": [
    "## FIN"
   ]
  },
  {
   "cell_type": "code",
   "execution_count": null,
   "metadata": {},
   "outputs": [],
   "source": []
  }
 ],
 "metadata": {
  "kernelspec": {
   "display_name": "Python 3",
   "language": "python",
   "name": "python3"
  },
  "language_info": {
   "codemirror_mode": {
    "name": "ipython",
    "version": 3
   },
   "file_extension": ".py",
   "mimetype": "text/x-python",
   "name": "python",
   "nbconvert_exporter": "python",
   "pygments_lexer": "ipython3",
   "version": "3.8.5"
  }
 },
 "nbformat": 4,
 "nbformat_minor": 4
}
