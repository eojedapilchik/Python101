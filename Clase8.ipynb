{
 "cells": [
  {
   "cell_type": "code",
   "execution_count": 18,
   "metadata": {},
   "outputs": [
    {
     "name": "stdout",
     "output_type": "stream",
     "text": [
      "Los valores que suman 370 son 170 + 200 y los indices son 11, 12\n",
      "25.4 µs ± 5.07 µs per loop (mean ± std. dev. of 7 runs, 1000 loops each)\n"
     ]
    }
   ],
   "source": [
    "import time\n",
    "lista = [2,7,11,15,26,27,29,33,50,100,150,170,200]\n",
    "target = 370\n",
    "\n",
    "def sumados(lista, target):\n",
    "    for i in range(len(lista)):\n",
    "        #print(f'Analizando el elemento {lista[i]}')\n",
    "        for j in range(i+1,len(lista)):\n",
    "            #print(f'Analizando el elemento {lista[i]} con el elemento {lista[j]}')\n",
    "            suma = lista[i]+lista[j]\n",
    "            if(suma == target):\n",
    "                return [i,j]\n",
    "            \n",
    "#inicio = time.perf_counter()       \n",
    "indices = sumados(lista,target)\n",
    "#fin = time.perf_counter() \n",
    "#print(f'El tiempo de ejecucion fue de {fin-inicio:0.6f} segundos')\n",
    "print(f'Los valores que suman {target} son {lista[indices[0]]} + {lista[indices[1]]} y los indices son {indices[0]}, {indices[1]}')\n",
    "%timeit -r 7 -n 1000 sumados(lista,target)"
   ]
  },
  {
   "cell_type": "code",
   "execution_count": 17,
   "metadata": {},
   "outputs": [
    {
     "name": "stdout",
     "output_type": "stream",
     "text": [
      "[11, 12]\n",
      "7.7 µs ± 2.22 µs per loop (mean ± std. dev. of 7 runs, 1000 loops each)\n"
     ]
    }
   ],
   "source": [
    "# algoritmo con un dictionario y un solo for\n",
    "import time\n",
    "def twoSum2(lista,target):\n",
    "    for i, num in enumerate(lista):\n",
    "        ntarget = target - num\n",
    "        if ntarget in lista and lista.index(ntarget) > i:\n",
    "            return [i, lista.index(ntarget)]\n",
    "    return []\n",
    "#inicio = time.perf_counter() \n",
    "twoSum2(lista,target)\n",
    "#fin = time.perf_counter()\n",
    "#print(f'El tiempo de ejecucion fue de {fin-inicio:0.6f} segundos')\n",
    "\n",
    "%timeit -r 7 -n 1000 twoSum2(lista,target)"
   ]
  },
  {
   "cell_type": "markdown",
   "metadata": {},
   "source": [
    "## Numpy"
   ]
  },
  {
   "cell_type": "markdown",
   "metadata": {},
   "source": [
    "Es una libreria numeria de Python que permite el procesado rapido de data.\n",
    "Numpy tiene una estructura de datos (arreglos) propia que son mas eficientes para  almacenar la data. Mas eficiente que las listas.\n",
    "\n",
    "A parte tiene funciones numpy-financial, financieras de calculo de valor presente, TIR, periodos, etc.\n",
    "\n",
    "Es la base de Pandas"
   ]
  },
  {
   "cell_type": "markdown",
   "metadata": {},
   "source": [
    "## Arreglos y Vectores"
   ]
  },
  {
   "cell_type": "code",
   "execution_count": 25,
   "metadata": {},
   "outputs": [
    {
     "name": "stdout",
     "output_type": "stream",
     "text": [
      "[-200  100  200   50   30  200]\n",
      "[-200, 100, 200, 50, 30, 200]\n"
     ]
    },
    {
     "name": "stderr",
     "output_type": "stream",
     "text": [
      "<ipython-input-25-6e92cb1525de>:10: DeprecationWarning: numpy.npv is deprecated and will be removed from NumPy 1.20. Use numpy_financial.npv instead (https://pypi.org/project/numpy-financial/).\n",
      "  np.npv(0.08,np_flujos)\n"
     ]
    },
    {
     "data": {
      "text/plain": [
       "261.9195036946019"
      ]
     },
     "execution_count": 25,
     "metadata": {},
     "output_type": "execute_result"
    }
   ],
   "source": [
    "import numpy as np\n",
    "\n",
    "flujos =[-200,100,200,50,30,200] # lista de python\n",
    "np_flujos = np.array(flujos) # convertir la lista en un numpy array-arreglo-matriz\n",
    "\n",
    "print(np_flujos)\n",
    "print(flujos)\n",
    "type(np_flujos)\n",
    "\n",
    "np.npv(0.08,np_flujos) #valor presente de los flujos a la tasa de 8%"
   ]
  },
  {
   "cell_type": "code",
   "execution_count": 31,
   "metadata": {},
   "outputs": [
    {
     "data": {
      "text/plain": [
       "array(['100', '20.5', '30', 'True', 'AAPL'], dtype='<U32')"
      ]
     },
     "execution_count": 31,
     "metadata": {},
     "output_type": "execute_result"
    }
   ],
   "source": [
    "lista = [100,20.5, 30,True,'AAPL'] # listas de Python pueden tener cualquier tipo de dato\n",
    "np_lista = np.array(lista)\n",
    "np_lista #transforma todo al mismo tipo de dato"
   ]
  },
  {
   "cell_type": "markdown",
   "metadata": {},
   "source": [
    "## Indexado y Slicing"
   ]
  },
  {
   "cell_type": "code",
   "execution_count": 41,
   "metadata": {},
   "outputs": [
    {
     "name": "stdout",
     "output_type": "stream",
     "text": [
      "-200\n",
      "200\n",
      "200\n",
      "[200  50]\n",
      "[-200  100  200   50   30]\n",
      "[ 200   30   50  200  100 -200]\n",
      "[-200  200   30]\n",
      "[-200  100  200   50   30  200]\n"
     ]
    }
   ],
   "source": [
    "np_flujos = np.array([-200,100,200,50,30,200])\n",
    "print(np_flujos[0])\n",
    "print(np_flujos[2])\n",
    "print(np_flujos[-1])\n",
    "print(np_flujos[2:4]) #cortar/tomar un pedazo del arreglo\n",
    "print(np_flujos[:5])\n",
    "print(np_flujos[::-1]) #invertir el orden\n",
    "print(np_flujos[::2])\n",
    "#nada de esto esta modificando el arreglo original\n",
    "print(np_flujos)"
   ]
  },
  {
   "cell_type": "markdown",
   "metadata": {},
   "source": [
    "## Operaciones vectorizadas con Arreglos"
   ]
  },
  {
   "cell_type": "code",
   "execution_count": 44,
   "metadata": {},
   "outputs": [],
   "source": [
    "cf = np.array([50,100,120,150,30,250])\n",
    "flujos =[-200,100,200,50,30,200] "
   ]
  },
  {
   "cell_type": "code",
   "execution_count": 48,
   "metadata": {},
   "outputs": [
    {
     "name": "stdout",
     "output_type": "stream",
     "text": [
      "[ 30  80 100 130  10 230]\n",
      "[30, 80, 100, 130, 10, 230]\n"
     ]
    }
   ],
   "source": [
    "# Operacion con numpy array\n",
    "print(cf-20) # le resta 20 a cada elemento del arreglo\n",
    "\n",
    "#operacion con lista de python\n",
    "cf_new=[]\n",
    "for i,flujo in enumerate(cf):\n",
    "    cf_new.append(flujo-20) #agregar un elemento al final de la lista\n",
    "print(cf_new)"
   ]
  },
  {
   "cell_type": "code",
   "execution_count": 49,
   "metadata": {},
   "outputs": [
    {
     "name": "stdout",
     "output_type": "stream",
     "text": [
      "[ 55. 110. 132. 165.  33. 275.]\n"
     ]
    }
   ],
   "source": [
    "# Multiplicar todo el arreglo por un valor\n",
    "print(cf*1.1)"
   ]
  },
  {
   "cell_type": "code",
   "execution_count": 67,
   "metadata": {},
   "outputs": [
    {
     "name": "stdout",
     "output_type": "stream",
     "text": [
      "[-200.           18.51851852   42.86694102   55.56825687   88.20358234\n",
      "   20.41749591]\n",
      "25.57479465160656\n",
      "25.57479465160656\n"
     ]
    }
   ],
   "source": [
    "# Calculo de valor presente neto\n",
    "\n",
    "cf= np.array([-200,20,50,70,120,30]) # arreglos con los cashflows - flujos efect.\n",
    "r =0.08 # 8% tasa de descuento\n",
    "n =np.array([0,1,2,3,4,5]) # arreglo de los periodos\n",
    "\n",
    "vp = cf/((1+r)**n) #arreglo que va a contener los valores presente de cada flujo al periodo espec. por n\n",
    "print(vp)\n",
    "\n",
    "vpn =sum(vp)\n",
    "print(vp.sum())\n",
    "print(vpn)"
   ]
  },
  {
   "cell_type": "code",
   "execution_count": 59,
   "metadata": {},
   "outputs": [
    {
     "name": "stdout",
     "output_type": "stream",
     "text": [
      "[-200   20   50   70  120   30]\n",
      "[ 10  20 -10  30  10  -5]\n",
      "[-190   40   40  100  130   25]\n"
     ]
    }
   ],
   "source": [
    "#suma de dos arreglos\n",
    "cf2 = np.array([10,20,-10,30,10,-5])\n",
    "print(cf)\n",
    "print(cf2)\n",
    "print(cf + cf2) #suma los elementos del arreglo\n",
    "\n",
    "#print([1,2,3,4]+[5,6,7,8,9]) # recordatorio que listas no hay suma"
   ]
  },
  {
   "cell_type": "markdown",
   "metadata": {},
   "source": [
    "## Cambiar valores (igual que en las lista)"
   ]
  },
  {
   "cell_type": "code",
   "execution_count": 74,
   "metadata": {},
   "outputs": [
    {
     "name": "stdout",
     "output_type": "stream",
     "text": [
      "[-300   20   50   70  120   30]\n",
      "[-300   40   40   40   40   40]\n",
      "[-260   80   80   80   80   80]\n",
      "[-200   20   50   70]\n",
      "[-200   20   50   70]\n",
      "[95 20 50 70]\n",
      "[-200   20   50   70]\n"
     ]
    }
   ],
   "source": [
    "cf= np.array([-200,20,50,70,120,30])\n",
    "\n",
    "cf[0] = -300\n",
    "print(cf)\n",
    "\n",
    "#cambiar los elementos todos a un mismo valor\n",
    "cf[1:]=40\n",
    "print(cf)\n",
    "\n",
    "#cambiar los elementos todos a un mismo valor\n",
    "cf = cf+20 # sumar 20 a todos los elementos\n",
    "cf +=20 #forma corta de hacer lo mismo\n",
    "print(cf)\n",
    "\n",
    "# PRECAUCION AL COPIAR ARREGLOS:\n",
    "cf1 = np.array([100,20,50,70])\n",
    "cf2 = cf1\n",
    "cf1[0] = -200\n",
    "print(cf1)\n",
    "print(cf2)\n",
    "\n",
    "\n",
    "#para copiarlos realmente y que queden separados\n",
    "cf2 = cf1.copy()\n",
    "cf1[0]= 95\n",
    "print(cf1)\n",
    "print(cf2)"
   ]
  },
  {
   "cell_type": "markdown",
   "metadata": {},
   "source": [
    "## Problemas portenciales al hacer slicing"
   ]
  },
  {
   "cell_type": "code",
   "execution_count": 77,
   "metadata": {},
   "outputs": [
    {
     "data": {
      "text/plain": [
       "array([50, 30, 25])"
      ]
     },
     "execution_count": 77,
     "metadata": {},
     "output_type": "execute_result"
    }
   ],
   "source": [
    "cf = np.array([100,10,20,50,30,25]) # ventas de una empresa\n",
    "\n",
    "ultimos_3 = cf[-3:] # queremos los datos de los ultimos 3 periodos\n",
    "ultimos_3\n"
   ]
  },
  {
   "cell_type": "code",
   "execution_count": 79,
   "metadata": {},
   "outputs": [
    {
     "data": {
      "text/plain": [
       "array([60, 30, 25])"
      ]
     },
     "execution_count": 79,
     "metadata": {},
     "output_type": "execute_result"
    }
   ],
   "source": [
    "ultimos_3[0]=60 #queremos cambiar el primer valor para hacer una analisis de escenarios\n",
    "ultimos_3"
   ]
  },
  {
   "cell_type": "code",
   "execution_count": 80,
   "metadata": {},
   "outputs": [
    {
     "data": {
      "text/plain": [
       "array([100,  10,  20,  60,  30,  25])"
      ]
     },
     "execution_count": 80,
     "metadata": {},
     "output_type": "execute_result"
    }
   ],
   "source": [
    "cf"
   ]
  },
  {
   "cell_type": "code",
   "execution_count": 81,
   "metadata": {},
   "outputs": [
    {
     "data": {
      "text/plain": [
       "array([20, 60, 30, 25])"
      ]
     },
     "execution_count": 81,
     "metadata": {},
     "output_type": "execute_result"
    }
   ],
   "source": [
    "ultimos_4 = cf[-4:]\n",
    "ultimos_4"
   ]
  },
  {
   "cell_type": "code",
   "execution_count": 82,
   "metadata": {},
   "outputs": [
    {
     "data": {
      "text/plain": [
       "array([50, 30, 25])"
      ]
     },
     "execution_count": 82,
     "metadata": {},
     "output_type": "execute_result"
    }
   ],
   "source": [
    "## SOLUCION\n",
    "cf = np.array([100,10,20,50,30,25])\n",
    "ultimos_3=cf[-3:].copy() # de esta forma ultimos_3 se vuelve independiente del arreglo originario.\n",
    "ultimos_3"
   ]
  },
  {
   "cell_type": "code",
   "execution_count": 85,
   "metadata": {},
   "outputs": [
    {
     "name": "stdout",
     "output_type": "stream",
     "text": [
      "[100  30  25]\n",
      "[100  10  20  50  30  25]\n"
     ]
    }
   ],
   "source": [
    "ultimos_3[0]=100\n",
    "ultimos_3\n",
    "print(ultimos_3)\n",
    "print(cf)"
   ]
  },
  {
   "cell_type": "markdown",
   "metadata": {},
   "source": [
    "## Metodos y atributos de arreglos numpy"
   ]
  },
  {
   "cell_type": "code",
   "execution_count": 86,
   "metadata": {},
   "outputs": [],
   "source": [
    "import numpy as np\n",
    "cf = np.array([-200,20,50,70,100,50])"
   ]
  },
  {
   "cell_type": "code",
   "execution_count": 87,
   "metadata": {},
   "outputs": [
    {
     "data": {
      "text/plain": [
       "100"
      ]
     },
     "execution_count": 87,
     "metadata": {},
     "output_type": "execute_result"
    }
   ],
   "source": [
    "#Maximo \n",
    "max(cf) ## retorna el elemento mas alto de las lista\n",
    "cf.max() ## lo mismo pero de numpy"
   ]
  },
  {
   "cell_type": "code",
   "execution_count": 88,
   "metadata": {},
   "outputs": [
    {
     "data": {
      "text/plain": [
       "-200"
      ]
     },
     "execution_count": 88,
     "metadata": {},
     "output_type": "execute_result"
    }
   ],
   "source": [
    "cf.min()"
   ]
  },
  {
   "cell_type": "code",
   "execution_count": 89,
   "metadata": {},
   "outputs": [
    {
     "data": {
      "text/plain": [
       "4"
      ]
     },
     "execution_count": 89,
     "metadata": {},
     "output_type": "execute_result"
    }
   ],
   "source": [
    "cf.argmax() #les retornar el indice del elemento mas alto del arreglo"
   ]
  },
  {
   "cell_type": "code",
   "execution_count": 90,
   "metadata": {},
   "outputs": [
    {
     "data": {
      "text/plain": [
       "0"
      ]
     },
     "execution_count": 90,
     "metadata": {},
     "output_type": "execute_result"
    }
   ],
   "source": [
    "cf.argmin()"
   ]
  },
  {
   "cell_type": "code",
   "execution_count": 91,
   "metadata": {},
   "outputs": [
    {
     "data": {
      "text/plain": [
       "90"
      ]
     },
     "execution_count": 91,
     "metadata": {},
     "output_type": "execute_result"
    }
   ],
   "source": [
    "cf.sum() # suma todos los elementos del arreglo"
   ]
  },
  {
   "cell_type": "code",
   "execution_count": 92,
   "metadata": {},
   "outputs": [
    {
     "data": {
      "text/plain": [
       "array([-200, -180, -130,  -60,   40,   90], dtype=int32)"
      ]
     },
     "execution_count": 92,
     "metadata": {},
     "output_type": "execute_result"
    }
   ],
   "source": [
    "cf.cumsum() # devuelve un arreglo donde cada elemento, es la suma acumulada \n",
    "#de los elementos previos a este."
   ]
  },
  {
   "cell_type": "code",
   "execution_count": 94,
   "metadata": {},
   "outputs": [
    {
     "data": {
      "image/png": "[encoded data removed]",
      "text/plain": [
       "<Figure size 864x576 with 1 Axes>"
      ]
     },
     "metadata": {
      "needs_background": "light"
     },
     "output_type": "display_data"
    }
   ],
   "source": [
    "flujos_netos = cf.cumsum()\n",
    "import matplotlib.pyplot as plt\n",
    "#graficar los flujos acumulados\n",
    "plt.figure(figsize = (12,8)) # tamano del cuadro en pulgadas alto x ancho\n",
    "plt.plot(flujos_netos)\n",
    "plt.show()"
   ]
  },
  {
   "cell_type": "code",
   "execution_count": 97,
   "metadata": {},
   "outputs": [
    {
     "name": "stdout",
     "output_type": "stream",
     "text": [
      "[-200   20   50   50   70  100]\n"
     ]
    }
   ],
   "source": [
    "#ordernar de menor a mayor\n",
    "cf.sort() # IMPORTANTE: en este caso si modifica el arreglo original\n",
    "print(cf)"
   ]
  },
  {
   "cell_type": "code",
   "execution_count": 111,
   "metadata": {},
   "outputs": [
    {
     "name": "stdout",
     "output_type": "stream",
     "text": [
      "[-199.8375   20.1625   50.1625   50.1625   70.1625  100.1625]\n"
     ]
    },
    {
     "data": {
      "text/plain": [
       "array([-199.8,   20.2,   50.2,   50.2,   70.2,  100.2])"
      ]
     },
     "execution_count": 111,
     "metadata": {},
     "output_type": "execute_result"
    }
   ],
   "source": [
    "#Redondear\n",
    "#print(cf)\n",
    "cf = cf+ 0.0125 \n",
    "print(cf)\n",
    "cf.round(1) # dentro del metodo/funcion round se pasa la cantidad de decimales"
   ]
  },
  {
   "cell_type": "code",
   "execution_count": 113,
   "metadata": {},
   "outputs": [
    {
     "data": {
      "text/plain": [
       "6"
      ]
     },
     "execution_count": 113,
     "metadata": {},
     "output_type": "execute_result"
    }
   ],
   "source": [
    "#El tamano\n",
    "cf.size"
   ]
  },
  {
   "cell_type": "code",
   "execution_count": 116,
   "metadata": {},
   "outputs": [
    {
     "data": {
      "text/plain": [
       "array([100,  10,  20,  50,  30,  25])"
      ]
     },
     "execution_count": 116,
     "metadata": {},
     "output_type": "execute_result"
    }
   ],
   "source": [
    "import numpy as np\n",
    "cf = [100,10,20,50,30,25]\n",
    "\n",
    "#raiz cuadrada\n",
    "np.sqrt(cf)\n",
    "\n",
    "#exponenciar\n",
    "np.power(cf,3)\n",
    "\n",
    "#valor absoluto\n",
    "cf = [-100,-10,20,50,30,25]\n",
    "np.abs(cf)"
   ]
  },
  {
   "cell_type": "markdown",
   "metadata": {},
   "source": [
    "## Arreglos boolean y Filtrado condicional\n"
   ]
  },
  {
   "cell_type": "code",
   "execution_count": 117,
   "metadata": {},
   "outputs": [],
   "source": [
    "import numpy as np\n",
    "cf = np.array([-200.6,20.53,50,70.87,100,50])"
   ]
  },
  {
   "cell_type": "code",
   "execution_count": 118,
   "metadata": {},
   "outputs": [
    {
     "data": {
      "text/plain": [
       "array([ True, False, False, False, False, False])"
      ]
     },
     "execution_count": 118,
     "metadata": {},
     "output_type": "execute_result"
    }
   ],
   "source": [
    "cf<0 # va elemento por elemento del arreglo cf y evalua si es menor que cero."
   ]
  },
  {
   "cell_type": "code",
   "execution_count": 119,
   "metadata": {},
   "outputs": [
    {
     "name": "stdout",
     "output_type": "stream",
     "text": [
      "[ True False False False False False]\n"
     ]
    }
   ],
   "source": [
    "negativos = cf<0\n",
    "print(negativos)"
   ]
  },
  {
   "cell_type": "code",
   "execution_count": 120,
   "metadata": {},
   "outputs": [
    {
     "data": {
      "text/plain": [
       "array([-200.6])"
      ]
     },
     "execution_count": 120,
     "metadata": {},
     "output_type": "execute_result"
    }
   ],
   "source": [
    "cf[negativos]"
   ]
  },
  {
   "cell_type": "code",
   "execution_count": 121,
   "metadata": {},
   "outputs": [
    {
     "data": {
      "text/plain": [
       "array([-200.6])"
      ]
     },
     "execution_count": 121,
     "metadata": {},
     "output_type": "execute_result"
    }
   ],
   "source": [
    "cf[cf<0] #esta es la manera corta de hacerlo"
   ]
  },
  {
   "cell_type": "code",
   "execution_count": 122,
   "metadata": {},
   "outputs": [
    {
     "data": {
      "text/plain": [
       "array([ 20.53,  50.  ,  70.87, 100.  ,  50.  ])"
      ]
     },
     "execution_count": 122,
     "metadata": {},
     "output_type": "execute_result"
    }
   ],
   "source": [
    "pos = cf[cf>0] # en este caso se crea un arreglo independiente al originario\n",
    "pos"
   ]
  },
  {
   "cell_type": "code",
   "execution_count": 124,
   "metadata": {},
   "outputs": [
    {
     "data": {
      "text/plain": [
       "array([ 21.  ,  50.  ,  70.87, 100.  ,  50.  ])"
      ]
     },
     "execution_count": 124,
     "metadata": {},
     "output_type": "execute_result"
    }
   ],
   "source": [
    "pos[0]=21\n",
    "pos"
   ]
  },
  {
   "cell_type": "code",
   "execution_count": 125,
   "metadata": {},
   "outputs": [
    {
     "data": {
      "text/plain": [
       "array([-200.6 ,   20.53,   50.  ,   70.87,  100.  ,   50.  ])"
      ]
     },
     "execution_count": 125,
     "metadata": {},
     "output_type": "execute_result"
    }
   ],
   "source": [
    "cf"
   ]
  },
  {
   "cell_type": "markdown",
   "metadata": {},
   "source": [
    "## Filtros avanzados - operaciones bitwise"
   ]
  },
  {
   "cell_type": "code",
   "execution_count": 126,
   "metadata": {},
   "outputs": [
    {
     "data": {
      "text/plain": [
       "array([-200,   20,   50,   70,  100,   50])"
      ]
     },
     "execution_count": 126,
     "metadata": {},
     "output_type": "execute_result"
    }
   ],
   "source": [
    "import numpy as np\n",
    "cf = np.array([-200,20,50,70,100,50]) #suponemos es un proyecto\n",
    "cf"
   ]
  },
  {
   "cell_type": "code",
   "execution_count": 127,
   "metadata": {},
   "outputs": [
    {
     "data": {
      "text/plain": [
       "array([ True, False, False, False, False, False])"
      ]
     },
     "execution_count": 127,
     "metadata": {},
     "output_type": "execute_result"
    }
   ],
   "source": [
    "filtro1 = cf <0 #analizar los flujos negativos\n",
    "filtro1"
   ]
  },
  {
   "cell_type": "code",
   "execution_count": 129,
   "metadata": {},
   "outputs": [
    {
     "data": {
      "text/plain": [
       "array([False, False, False,  True,  True, False])"
      ]
     },
     "execution_count": 129,
     "metadata": {},
     "output_type": "execute_result"
    }
   ],
   "source": [
    "filtro2 = cf >60 # analizar los flujos mauores a 60\n",
    "filtro2"
   ]
  },
  {
   "cell_type": "code",
   "execution_count": 130,
   "metadata": {},
   "outputs": [
    {
     "data": {
      "text/plain": [
       "array([ True, False, False,  True,  True, False])"
      ]
     },
     "execution_count": 130,
     "metadata": {},
     "output_type": "execute_result"
    }
   ],
   "source": [
    "filtro1 | filtro2 #los que cumplen al menos una de las dos condiciones"
   ]
  },
  {
   "cell_type": "code",
   "execution_count": 131,
   "metadata": {},
   "outputs": [
    {
     "data": {
      "text/plain": [
       "array([-200,   70,  100])"
      ]
     },
     "execution_count": 131,
     "metadata": {},
     "output_type": "execute_result"
    }
   ],
   "source": [
    "cf[filtro1 | filtro2]"
   ]
  },
  {
   "cell_type": "code",
   "execution_count": 132,
   "metadata": {},
   "outputs": [
    {
     "data": {
      "text/plain": [
       "array([20, 50, 50])"
      ]
     },
     "execution_count": 132,
     "metadata": {},
     "output_type": "execute_result"
    }
   ],
   "source": [
    "#Lo contrario (filtro) ~\n",
    "cf[~(filtro1 | filtro2)]"
   ]
  },
  {
   "cell_type": "code",
   "execution_count": null,
   "metadata": {},
   "outputs": [],
   "source": [
    "filtro3 = cf>=0\n",
    "filtro4 = Cf<30"
   ]
  }
 ],
 "metadata": {
  "kernelspec": {
   "display_name": "Python 3",
   "language": "python",
   "name": "python3"
  },
  "language_info": {
   "codemirror_mode": {
    "name": "ipython",
    "version": 3
   },
   "file_extension": ".py",
   "mimetype": "text/x-python",
   "name": "python",
   "nbconvert_exporter": "python",
   "pygments_lexer": "ipython3",
   "version": "3.8.5"
  }
 },
 "nbformat": 4,
 "nbformat_minor": 4
}
