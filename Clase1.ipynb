{
 "cells": [
  {
   "cell_type": "markdown",
   "metadata": {},
   "source": [
    "# Primera Clase #\n",
    "\n",
    "## Aprendiendo Python ##\n",
    "\n",
    "Primer cuaderno de Jupyter - Python para Finanzas 1\n"
   ]
  },
  {
   "cell_type": "code",
   "execution_count": 2,
   "metadata": {},
   "outputs": [
    {
     "name": "stdout",
     "output_type": "stream",
     "text": [
      "Hola Mundo\n"
     ]
    }
   ],
   "source": [
    "print(\"Hola Mundo\")"
   ]
  },
  {
   "cell_type": "markdown",
   "metadata": {},
   "source": [
    "# Ejemplo de uso de Python #"
   ]
  },
  {
   "cell_type": "code",
   "execution_count": 2,
   "metadata": {
    "scrolled": true
   },
   "outputs": [
    {
     "name": "stdout",
     "output_type": "stream",
     "text": [
      "         Date        Open        High         Low       Close   Adj Close  \\\n",
      "0  2020-04-13  154.970001  155.000000  150.889999  153.559998  152.546036   \n",
      "1  2020-04-14  157.699997  161.500000  156.979996  160.570007  159.509766   \n",
      "2  2020-04-15  158.210007  158.210007  151.259995  152.110001  151.105621   \n",
      "3  2020-04-16  153.080002  154.869995  151.789993  153.770004  152.754669   \n",
      "4  2020-04-17  155.889999  158.009995  153.830002  157.919998  156.877243   \n",
      "\n",
      "   Volume  \n",
      "0   84800  \n",
      "1  107200  \n",
      "2  143400  \n",
      "3   90300  \n",
      "4   89100  \n",
      "      Date        Open        High         Low       Close\n",
      "0  18365.0  154.970001  155.000000  150.889999  153.559998\n",
      "1  18366.0  157.699997  161.500000  156.979996  160.570007\n",
      "2  18367.0  158.210007  158.210007  151.259995  152.110001\n",
      "3  18368.0  153.080002  154.869995  151.789993  153.770004\n",
      "4  18369.0  155.889999  158.009995  153.830002  157.919998\n"
     ]
    },
    {
     "data": {
      "image/png": "[encoded data removed]",
      "text/plain": [
       "<Figure size 720x360 with 1 Axes>"
      ]
     },
     "metadata": {
      "needs_background": "light"
     },
     "output_type": "display_data"
    }
   ],
   "source": [
    "import seaborn as sns #Proceso de importar la libreria Seaborn. Que se usa para hacer graficas, y la renombro a sns para simplificar.\n",
    "import datetime as dt \n",
    "import pandas as pd\n",
    "import matplotlib.pyplot as plt\n",
    "import matplotlib.dates as mdates\n",
    "from mpl_finance import candlestick_ohlc\n",
    "df = pd.read_csv('UI.csv') # Aqui llamo a la libreria Pandas, a traves de pd y leo el archivo csv\n",
    "print(df.head())\n",
    "df['Date'] = pd.to_datetime(df['Date'])\n",
    "df[\"Date\"] = df[\"Date\"].apply(mdates.date2num)\n",
    "\n",
    "candle_data = df[['Date', 'Open', 'High', 'Low', 'Close']]\n",
    "print(candle_data.head())\n",
    "\n",
    "f1, ax = plt.subplots(figsize = (10,5))\n",
    "candlestick_ohlc(ax,candle_data.values, colorup='blue', colordown='red')\n",
    "ax.xaxis.set_major_formatter(mdates.DateFormatter('%Y-%m'))\n",
    "plt.title('Grafico Candlestick UI')\n",
    "plt.xlabel('Date')\n",
    "plt.ylabel('Value($)')\n",
    "plt.show()"
   ]
  },
  {
   "cell_type": "markdown",
   "metadata": {},
   "source": [
    "# Comentarios"
   ]
  },
  {
   "cell_type": "code",
   "execution_count": 8,
   "metadata": {},
   "outputs": [
    {
     "data": {
      "text/plain": [
       "'comentario\\nde muchas lineas'"
      ]
     },
     "execution_count": 8,
     "metadata": {},
     "output_type": "execute_result"
    }
   ],
   "source": [
    "# Esto es un comentario en Python\n",
    "'''comentario\n",
    "de muchas lineas'''"
   ]
  },
  {
   "cell_type": "markdown",
   "metadata": {},
   "source": [
    "# Variables"
   ]
  },
  {
   "cell_type": "code",
   "execution_count": 14,
   "metadata": {},
   "outputs": [
    {
     "name": "stdout",
     "output_type": "stream",
     "text": [
      "UI\n"
     ]
    }
   ],
   "source": [
    "accion = \"UI\"\n",
    "print(accion) # imprimir el valor de la variable accion\n",
    "\n",
    "primer_nombre = \"Luis\"\n",
    "apellido"
   ]
  },
  {
   "cell_type": "code",
   "execution_count": null,
   "metadata": {},
   "outputs": [],
   "source": []
  }
 ],
 "metadata": {
  "kernelspec": {
   "display_name": "Python 3",
   "language": "python",
   "name": "python3"
  },
  "language_info": {
   "codemirror_mode": {
    "name": "ipython",
    "version": 3
   },
   "file_extension": ".py",
   "mimetype": "text/x-python",
   "name": "python",
   "nbconvert_exporter": "python",
   "pygments_lexer": "ipython3",
   "version": "3.8.5"
  }
 },
 "nbformat": 4,
 "nbformat_minor": 4
}
