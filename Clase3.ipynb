{
 "cells": [
  {
   "cell_type": "markdown",
   "metadata": {},
   "source": [
    "# Clase 3"
   ]
  },
  {
   "cell_type": "code",
   "execution_count": 1,
   "metadata": {},
   "outputs": [
    {
     "data": {
      "text/plain": [
       "'Hola Mundo'"
      ]
     },
     "execution_count": 1,
     "metadata": {},
     "output_type": "execute_result"
    }
   ],
   "source": [
    "#Strings\n",
    "\n",
    "\"Hola Mundo\"\n",
    "'Hola Mundo'"
   ]
  },
  {
   "cell_type": "code",
   "execution_count": 5,
   "metadata": {},
   "outputs": [
    {
     "name": "stdout",
     "output_type": "stream",
     "text": [
      "Mary's restaurant\n",
      "esto es una cita de: \"El texto\"\n"
     ]
    }
   ],
   "source": [
    "texto1= \"Mary's restaurant\"\n",
    "texto2='esto es una cita de: \"El texto\"'\n",
    "print(texto1)\n",
    "print(texto2)"
   ]
  },
  {
   "cell_type": "code",
   "execution_count": 6,
   "metadata": {},
   "outputs": [
    {
     "name": "stdout",
     "output_type": "stream",
     "text": [
      "Esto es un texto que usa ' comillas simples\n"
     ]
    }
   ],
   "source": [
    "# escaping de caracteres, se usa \\\n",
    "text3= 'Esto es un texto que usa \\' comillas simples'\n",
    "print(text3)"
   ]
  },
  {
   "cell_type": "code",
   "execution_count": 9,
   "metadata": {},
   "outputs": [
    {
     "name": "stdout",
     "output_type": "stream",
     "text": [
      "El valor actual del SPY es : 135.50\n"
     ]
    }
   ],
   "source": [
    "# concatenación - unir dos cadenas de textos\n",
    "\n",
    "ticker = 'SPY'\n",
    "value = '135.50' #tipo de dato texto\n",
    "precio = 135.50 # tipo de dato floatb\n",
    "print('El valor actual del '+ticker+\" es : \"+value)"
   ]
  },
  {
   "cell_type": "code",
   "execution_count": 12,
   "metadata": {},
   "outputs": [
    {
     "ename": "TypeError",
     "evalue": "can only concatenate str (not \"float\") to str",
     "output_type": "error",
     "traceback": [
      "\u001b[1;31m---------------------------------------------------------------------------\u001b[0m",
      "\u001b[1;31mTypeError\u001b[0m                                 Traceback (most recent call last)",
      "\u001b[1;32m<ipython-input-12-aa8a4895342a>\u001b[0m in \u001b[0;36m<module>\u001b[1;34m\u001b[0m\n\u001b[1;32m----> 1\u001b[1;33m \u001b[0mprint\u001b[0m\u001b[1;33m(\u001b[0m\u001b[1;34m'El valor actual del '\u001b[0m\u001b[1;33m+\u001b[0m\u001b[0mticker\u001b[0m\u001b[1;33m+\u001b[0m\u001b[1;34m\" es : \"\u001b[0m\u001b[1;33m+\u001b[0m\u001b[0mprecio\u001b[0m\u001b[1;33m)\u001b[0m \u001b[1;31m# no puedes unir texto con numeros usando \"+\"\u001b[0m\u001b[1;33m\u001b[0m\u001b[1;33m\u001b[0m\u001b[0m\n\u001b[0m",
      "\u001b[1;31mTypeError\u001b[0m: can only concatenate str (not \"float\") to str"
     ]
    }
   ],
   "source": [
    "print('El valor actual del '+ticker+\" es : \"+precio) # no puedes unir texto con numeros usando \"+\""
   ]
  },
  {
   "cell_type": "code",
   "execution_count": 10,
   "metadata": {},
   "outputs": [
    {
     "name": "stdout",
     "output_type": "stream",
     "text": [
      "El precio del SPY es:  135.5\n"
     ]
    }
   ],
   "source": [
    "print('El precio del '+ticker+' es: ',precio)"
   ]
  },
  {
   "cell_type": "code",
   "execution_count": 13,
   "metadata": {},
   "outputs": [
    {
     "name": "stdout",
     "output_type": "stream",
     "text": [
      "El precio del SPY es: 135.5\n"
     ]
    }
   ],
   "source": [
    "print('El precio del '+ticker+' es: '+str(precio))"
   ]
  },
  {
   "cell_type": "code",
   "execution_count": 14,
   "metadata": {},
   "outputs": [
    {
     "data": {
      "text/plain": [
       "'135.5'"
      ]
     },
     "execution_count": 14,
     "metadata": {},
     "output_type": "execute_result"
    }
   ],
   "source": [
    "#funcion que transforma de un tipo de dato (numerico o boolean) a texto\n",
    "str(precio)"
   ]
  },
  {
   "cell_type": "markdown",
   "metadata": {},
   "source": [
    "# Print Function"
   ]
  },
  {
   "cell_type": "code",
   "execution_count": 18,
   "metadata": {},
   "outputs": [
    {
     "name": "stdout",
     "output_type": "stream",
     "text": [
      "esto es un texto\n"
     ]
    }
   ],
   "source": [
    "print(\"esto es un texto\")"
   ]
  },
  {
   "cell_type": "code",
   "execution_count": 19,
   "metadata": {},
   "outputs": [
    {
     "name": "stdout",
     "output_type": "stream",
     "text": [
      "esto es una cadena \n",
      " de varias lineas \n",
      " linea 3 \n",
      " linea 4\n"
     ]
    }
   ],
   "source": [
    "print(\"esto es una cadena \\n de varias lineas \\n linea 3 \\n linea 4\")"
   ]
  },
  {
   "cell_type": "code",
   "execution_count": 20,
   "metadata": {},
   "outputs": [
    {
     "name": "stdout",
     "output_type": "stream",
     "text": [
      "c:\n",
      "ombre\\directorio\n"
     ]
    }
   ],
   "source": [
    "print(\"c:\\nombre\\directorio\")"
   ]
  },
  {
   "cell_type": "code",
   "execution_count": 26,
   "metadata": {},
   "outputs": [
    {
     "name": "stdout",
     "output_type": "stream",
     "text": [
      "c:\\nombre\\directorio\n"
     ]
    }
   ],
   "source": [
    "print(r\"c:\\nombre\\directorio\") # r es de raw => es crudo. Imprime el texto tal como aparece entre comillas"
   ]
  },
  {
   "cell_type": "code",
   "execution_count": 23,
   "metadata": {},
   "outputs": [
    {
     "name": "stdout",
     "output_type": "stream",
     "text": [
      "c:\\nombre\\directorio\n"
     ]
    }
   ],
   "source": [
    "directorio = r\"c:\\nombre\\directorio\"\n",
    "print(directorio)"
   ]
  },
  {
   "cell_type": "code",
   "execution_count": 28,
   "metadata": {},
   "outputs": [
    {
     "name": "stdout",
     "output_type": "stream",
     "text": [
      " Linea 1\n",
      "Linea2\n",
      "Linea3\n",
      "Linea4\n"
     ]
    }
   ],
   "source": [
    "texto5 = ''' Linea 1\n",
    "Linea2\n",
    "Linea3\n",
    "Linea4'''\n",
    "print(texto5)"
   ]
  },
  {
   "cell_type": "code",
   "execution_count": 29,
   "metadata": {},
   "outputs": [
    {
     "name": "stdout",
     "output_type": "stream",
     "text": [
      "Esto es una muestra\tSeparada con tabulador\n"
     ]
    }
   ],
   "source": [
    "texto6 = \"Esto es una muestra\\tSeparada con tabulador\"\n",
    "print(texto6)"
   ]
  },
  {
   "cell_type": "markdown",
   "metadata": {},
   "source": [
    "## String formatting"
   ]
  },
  {
   "cell_type": "code",
   "execution_count": 32,
   "metadata": {},
   "outputs": [
    {
     "name": "stdout",
     "output_type": "stream",
     "text": [
      " El precio de AAPL es 135.53 y esta en mi portafolio: False\n"
     ]
    }
   ],
   "source": [
    "# A partir de Python 3.6\n",
    "stock_price = 135.53\n",
    "simbolo = 'AAPL'\n",
    "en_portafolio = False\n",
    "print(f\" El precio de {simbolo} es {stock_price} y esta en mi portafolio: {en_portafolio}\") #con una f adelante de las comillas, me permite meter las variables dentro del texto"
   ]
  },
  {
   "cell_type": "code",
   "execution_count": 33,
   "metadata": {},
   "outputs": [
    {
     "name": "stdout",
     "output_type": "stream",
     "text": [
      " El precio de AAPL es 135.53 y esta en mi portafolio: False\n"
     ]
    }
   ],
   "source": [
    "texto7=f\" El precio de {simbolo} es {stock_price} y esta en mi portafolio: {en_portafolio}\"\n",
    "print(texto7)"
   ]
  },
  {
   "cell_type": "markdown",
   "metadata": {},
   "source": [
    "# Conversion de datos"
   ]
  },
  {
   "cell_type": "code",
   "execution_count": 48,
   "metadata": {},
   "outputs": [],
   "source": [
    "# verificar el tipo de dato de una variable\n",
    "type('Texto')\n",
    "type(9)\n",
    "type(25.0)\n",
    "\n",
    "#numero a una cadena\n",
    "x = str(20) #convierte el 20 en texto\n",
    "y = str(30.1)\n",
    "z = str(True)\n",
    "\n",
    "#texto y float a entero\n",
    "a = int('20')\n",
    "b = int(2.8)\n",
    "\n",
    "#texto y entero a float\n",
    "d=float(1)\n",
    "e = float('30.2')\n"
   ]
  },
  {
   "cell_type": "markdown",
   "metadata": {},
   "source": [
    "# Input Function"
   ]
  },
  {
   "cell_type": "code",
   "execution_count": 67,
   "metadata": {},
   "outputs": [
    {
     "name": "stdout",
     "output_type": "stream",
     "text": [
      "Por favor, ingresa la accion que quieres analizar\n",
      "AAPL\n"
     ]
    }
   ],
   "source": [
    "# esta funcion es la que usan para solicitar datos al usuario\n",
    "\n",
    "valor = input(\"Por favor, ingresa la accion que quieres analizar\\n\")"
   ]
  },
  {
   "cell_type": "code",
   "execution_count": 95,
   "metadata": {},
   "outputs": [
    {
     "name": "stdout",
     "output_type": "stream",
     "text": [
      "Por favor ingrese la tasa de descuento que quiere usar\n",
      "12\n"
     ]
    }
   ],
   "source": [
    "tasa = input(\"Por favor ingrese la tasa de descuento que quiere usar\\n\")"
   ]
  },
  {
   "cell_type": "code",
   "execution_count": 72,
   "metadata": {},
   "outputs": [
    {
     "data": {
      "text/plain": [
       "'13.5'"
      ]
     },
     "execution_count": 72,
     "metadata": {},
     "output_type": "execute_result"
    }
   ],
   "source": [
    "tasa"
   ]
  },
  {
   "cell_type": "code",
   "execution_count": 77,
   "metadata": {},
   "outputs": [],
   "source": [
    "r = 1+float(tasa)"
   ]
  },
  {
   "cell_type": "code",
   "execution_count": 78,
   "metadata": {},
   "outputs": [
    {
     "data": {
      "text/plain": [
       "14.5"
      ]
     },
     "execution_count": 78,
     "metadata": {},
     "output_type": "execute_result"
    }
   ],
   "source": [
    "r"
   ]
  },
  {
   "cell_type": "code",
   "execution_count": 96,
   "metadata": {},
   "outputs": [
    {
     "name": "stdout",
     "output_type": "stream",
     "text": [
      "Introduce tu edad: \n",
      "23\n",
      "Has vivido 276 meses\n"
     ]
    }
   ],
   "source": [
    "variable = 'edad'\n",
    "valor = input(f\"Introduce tu {variable}: \\n\")\n",
    "print(f'Has vivido {int(valor)*12} meses')"
   ]
  },
  {
   "cell_type": "markdown",
   "metadata": {},
   "source": [
    "## Ejercicio - Calculadora Retiro"
   ]
  },
  {
   "cell_type": "code",
   "execution_count": 9,
   "metadata": {},
   "outputs": [
    {
     "name": "stdout",
     "output_type": "stream",
     "text": [
      "¿ Cúal es tu nombre ? Eilene Camargo\n",
      "¿ Cúal es tu edad ? - (Introduce solo números) 31\n",
      "Introduce el monto de tus ingresos, luego de ISLR - anual 90000\n",
      "Introduce el monto de tus gastos anuales36000\n",
      "Introduce el monto de total de tus inversiones (en USD)150000\n",
      "Introduce el monto que ahorras anualmente (el aporte anual a tus ahorros en USD)14000\n",
      "Indica la tasa de retorno anual estimada para tus inversiones0.09\n"
     ]
    }
   ],
   "source": [
    "# Solicitud de datos al Usuario\n",
    "nombre = input(\"¿ Cúal es tu nombre ? \")\n",
    "edad = input(\"¿ Cúal es tu edad ? - (Introduce solo números) \")\n",
    "ingresos_di_an= input(\"Introduce el monto de tus ingresos, luego de ISLR - anual \")\n",
    "gastos_an = input(\"Introduce el monto de tus gastos anuales\")\n",
    "valor_inv = input(\"Introduce el monto de total de tus inversiones (en USD)\")\n",
    "aporte_aho = input(\"Introduce el monto que ahorras anualmente (el aporte anual a tus ahorros en USD)\")\n",
    "tasa = input(\"Indica la tasa de retorno anual estimada para tus inversiones\")\n",
    "WD_RATE = 0.04\n"
   ]
  },
  {
   "cell_type": "code",
   "execution_count": 10,
   "metadata": {},
   "outputs": [],
   "source": [
    "# Cálculos\n",
    "import math\n",
    "monto_meta = float(gastos_an) / WD_RATE\n",
    "anos_duplicar = 72/9\n",
    "#print(anos_duplicar)\n",
    "periodos = math.log((900_000/150_000),2)\n",
    "cant_anos=round(periodos*anos_duplicar)\n",
    "# Cuantos años necesito, para que con mi portafolio de 150.000 USD (hoy), ingresando 14.000 (USD/anuales)\n",
    "# y con una tasa de 9%/anual  => 900.000 USD"
   ]
  },
  {
   "cell_type": "code",
   "execution_count": 23,
   "metadata": {},
   "outputs": [],
   "source": [
    "# Construir el Header (Cabezal)\n",
    "header= \"*\"*50\n",
    "header= header+\"\\n\\t\\t CALCULADORA RETIRO\\t\\t\\n\"\n",
    "header+= \"=\"*50+\"\\n\"\n",
    "#print(header)"
   ]
  },
  {
   "cell_type": "code",
   "execution_count": 40,
   "metadata": {},
   "outputs": [
    {
     "name": "stdout",
     "output_type": "stream",
     "text": [
      "**************************************************\n",
      "\t\t CALCULADORA RETIRO\t\t\n",
      "==================================================\n",
      "\tNombre\t\t\tEilene Camargo\n",
      "\tEdad\t\t\t31\n",
      "\tIngreso DI\t\t90,000.00\n",
      "\tGastos Anuales\t\t36,000.00\n",
      "\tPortafolio\t\t150,000.00\n",
      "\tCont. Ahorros Anuales\t14,000.00\n",
      "\tTasa Ret. Anual\t\t9.00%\n",
      "\tTasa Retiro\t\t4.0%\n",
      "==================================================\n"
     ]
    }
   ],
   "source": [
    "# Construir el bloque de print Input\n",
    "ingresos_di_an = float(ingresos_di_an)\n",
    "data = f\"\\tNombre\\t\\t\\t{nombre}\\n\"\n",
    "data += f\"\\tEdad\\t\\t\\t{edad}\\n\"\n",
    "data += f\"\\tIngreso DI\\t\\t{ingresos_di_an:,.2f}\\n\"\n",
    "data += f\"\\tGastos Anuales\\t\\t{float(gastos_an):,.2f}\\n\"\n",
    "data += f\"\\tPortafolio\\t\\t{float(valor_inv):,.2f}\\n\"\n",
    "data += f\"\\tCont. Ahorros Anuales\\t{float(aporte_aho):,.2f}\\n\"\n",
    "data += f\"\\tTasa Ret. Anual\\t\\t{float(tasa):.2%}\\n\"\n",
    "data += f\"\\tTasa Retiro\\t\\t{float(WD_RATE*100)}%\\n\"\n",
    "data += \"=\"*50\n",
    "print(header+data)"
   ]
  },
  {
   "cell_type": "markdown",
   "metadata": {},
   "source": [
    " ## Libreria yfinance"
   ]
  },
  {
   "cell_type": "code",
   "execution_count": 106,
   "metadata": {},
   "outputs": [],
   "source": [
    "import yfinance as yf"
   ]
  },
  {
   "cell_type": "code",
   "execution_count": 107,
   "metadata": {},
   "outputs": [
    {
     "name": "stdout",
     "output_type": "stream",
     "text": [
      "Escribe el ticker/simbolo de la accion que quieres analizarAAPL\n"
     ]
    }
   ],
   "source": [
    "accion = input(\"Escribe el ticker/simbolo de la accion que quieres analizar\")"
   ]
  },
  {
   "cell_type": "code",
   "execution_count": 109,
   "metadata": {},
   "outputs": [
    {
     "data": {
      "text/plain": [
       "yfinance.Ticker object <AAPL>"
      ]
     },
     "execution_count": 109,
     "metadata": {},
     "output_type": "execute_result"
    }
   ],
   "source": [
    "stock_data = yf.Ticker(accion)\n",
    "stock_data"
   ]
  },
  {
   "cell_type": "code",
   "execution_count": 112,
   "metadata": {},
   "outputs": [
    {
     "name": "stdout",
     "output_type": "stream",
     "text": [
      "{'zip': '95014', 'sector': 'Technology', 'fullTimeEmployees': 147000, 'longBusinessSummary': 'Apple Inc. designs, manufactures, and markets smartphones, personal computers, tablets, wearables, and accessories worldwide. It also sells various related services. The company offers iPhone, a line of smartphones; Mac, a line of personal computers; iPad, a line of multi-purpose tablets; and wearables, home, and accessories comprising AirPods, Apple TV, Apple Watch, Beats products, HomePod, iPod touch, and other Apple-branded and third-party accessories. It also provides AppleCare support services; cloud services store services; and operates various platforms, including the App Store, that allow customers to discover and download applications and digital content, such as books, music, video, games, and podcasts. In addition, the company offers various services, such as Apple Arcade, a game subscription service; Apple Music, which offers users a curated listening experience with on-demand radio stations; Apple News+, a subscription news and magazine service; Apple TV+, which offers exclusive original content; Apple Card, a co-branded credit card; and Apple Pay, a cashless payment service, as well as licenses its intellectual property. The company serves consumers, and small and mid-sized businesses; and the education, enterprise, and government markets. It sells and delivers third-party applications for its products through the App Store. The company also sells its products through its retail and online stores, and direct sales force; and third-party cellular network carriers, wholesalers, retailers, and resellers. Apple Inc. was founded in 1977 and is headquartered in Cupertino, California.', 'city': 'Cupertino', 'phone': '408-996-1010', 'state': 'CA', 'country': 'United States', 'companyOfficers': [], 'website': 'http://www.apple.com', 'maxAge': 1, 'address1': 'One Apple Park Way', 'industry': 'Consumer Electronics', 'previousClose': 134.84, 'regularMarketOpen': 135.02, 'twoHundredDayAverage': 124.8428, 'trailingAnnualDividendYield': 0.005984871, 'payoutRatio': 0.2177, 'volume24Hr': None, 'regularMarketDayHigh': 135.53, 'navPrice': None, 'averageDailyVolume10Day': 89678500, 'totalAssets': None, 'regularMarketPreviousClose': 134.84, 'fiftyDayAverage': 124.87457, 'trailingAnnualDividendRate': 0.807, 'open': 135.02, 'toCurrency': None, 'averageVolume10days': 89678500, 'expireDate': None, 'yield': None, 'algorithm': None, 'dividendRate': 0.82, 'exDividendDate': 1612483200, 'beta': 1.219525, 'circulatingSupply': None, 'startDate': None, 'regularMarketDayLow': 131.8115, 'priceHint': 2, 'currency': 'USD', 'trailingPE': 36.102524, 'regularMarketVolume': 93002207, 'lastMarket': None, 'maxSupply': None, 'openInterest': None, 'marketCap': 2234664091648, 'volumeAllCurrencies': None, 'strikePrice': None, 'averageVolume': 106372001, 'priceToSalesTrailing12Months': 7.5974097, 'dayLow': 131.8115, 'ask': 132.65, 'ytdReturn': None, 'askSize': 1100, 'volume': 93002207, 'fiftyTwoWeekHigh': 145.09, 'forwardPE': 28.321278, 'fromCurrency': None, 'fiveYearAvgDividendYield': 1.39, 'fiftyTwoWeekLow': 66.3575, 'bid': 132.3, 'tradeable': False, 'dividendYield': 0.0061000003, 'bidSize': 1400, 'dayHigh': 135.53, 'exchange': 'NMS', 'shortName': 'Apple Inc.', 'longName': 'Apple Inc.', 'exchangeTimezoneName': 'America/New_York', 'exchangeTimezoneShortName': 'EDT', 'isEsgPopulated': False, 'gmtOffSetMilliseconds': '-14400000', 'quoteType': 'EQUITY', 'symbol': 'AAPL', 'messageBoardId': 'finmb_24937', 'market': 'us_market', 'annualHoldingsTurnover': None, 'enterpriseToRevenue': 7.816, 'beta3Year': None, 'profitMargins': 0.21735, 'enterpriseToEbitda': 26.996, '52WeekChange': 1.0097625, 'morningStarRiskRating': None, 'forwardEps': 4.7, 'revenueQuarterlyGrowth': None, 'sharesOutstanding': 16788100096, 'fundInceptionDate': None, 'annualReportExpenseRatio': None, 'bookValue': 3.936, 'sharesShort': 101484668, 'sharesPercentSharesOut': 0.006, 'fundFamily': None, 'lastFiscalYearEnd': 1601078400, 'heldPercentInstitutions': 0.59805, 'netIncomeToCommon': 63929999360, 'trailingEps': 3.687, 'lastDividendValue': 0.205, 'SandP52WeekChange': 0.521348, 'priceToBook': 33.818596, 'heldPercentInsiders': 0.00075999997, 'nextFiscalYearEnd': 1664150400, 'mostRecentQuarter': 1608940800, 'shortRatio': 0.88, 'sharesShortPreviousMonthDate': 1614297600, 'floatShares': 16770636380, 'enterpriseValue': 2298923974656, 'threeYearAverageReturn': None, 'lastSplitDate': 1598832000, 'lastSplitFactor': '4:1', 'legalType': None, 'lastDividendDate': 1612483200, 'morningStarOverallRating': None, 'earningsQuarterlyGrowth': 0.293, 'dateShortInterest': 1617148800, 'pegRatio': 2.05, 'lastCapGain': None, 'shortPercentOfFloat': 0.006, 'sharesShortPriorMonth': 100799312, 'impliedSharesOutstanding': None, 'category': None, 'fiveYearAverageReturn': None, 'regularMarketPrice': 133.11, 'logo_url': 'https://logo.clearbit.com/apple.com'}\n"
     ]
    }
   ],
   "source": [
    "data_accion = stock_data.info #diccionario de python\n",
    "print(data_accion)"
   ]
  },
  {
   "cell_type": "code",
   "execution_count": 118,
   "metadata": {},
   "outputs": [
    {
     "name": "stdout",
     "output_type": "stream",
     "text": [
      "Beta de la accion 1.219525\n",
      "Apple Inc. designs, manufactures, and markets smartphones, personal computers, tablets, wearables, and accessories worldwide. It also sells various related services. The company offers iPhone, a line of smartphones; Mac, a line of personal computers; iPad, a line of multi-purpose tablets; and wearables, home, and accessories comprising AirPods, Apple TV, Apple Watch, Beats products, HomePod, iPod touch, and other Apple-branded and third-party accessories. It also provides AppleCare support services; cloud services store services; and operates various platforms, including the App Store, that allow customers to discover and download applications and digital content, such as books, music, video, games, and podcasts. In addition, the company offers various services, such as Apple Arcade, a game subscription service; Apple Music, which offers users a curated listening experience with on-demand radio stations; Apple News+, a subscription news and magazine service; Apple TV+, which offers exclusive original content; Apple Card, a co-branded credit card; and Apple Pay, a cashless payment service, as well as licenses its intellectual property. The company serves consumers, and small and mid-sized businesses; and the education, enterprise, and government markets. It sells and delivers third-party applications for its products through the App Store. The company also sells its products through its retail and online stores, and direct sales force; and third-party cellular network carriers, wholesalers, retailers, and resellers. Apple Inc. was founded in 1977 and is headquartered in Cupertino, California.\n"
     ]
    }
   ],
   "source": [
    "beta = data_accion['beta']\n",
    "print(f\"Beta de la accion {beta}\")\n",
    "resumen = data_accion['longBusinessSummary']\n",
    "print(resumen)"
   ]
  },
  {
   "cell_type": "code",
   "execution_count": 119,
   "metadata": {},
   "outputs": [
    {
     "data": {
      "text/html": [
       "<div>\n",
       "<style scoped>\n",
       "    .dataframe tbody tr th:only-of-type {\n",
       "        vertical-align: middle;\n",
       "    }\n",
       "\n",
       "    .dataframe tbody tr th {\n",
       "        vertical-align: top;\n",
       "    }\n",
       "\n",
       "    .dataframe thead th {\n",
       "        text-align: right;\n",
       "    }\n",
       "</style>\n",
       "<table border=\"1\" class=\"dataframe\">\n",
       "  <thead>\n",
       "    <tr style=\"text-align: right;\">\n",
       "      <th></th>\n",
       "      <th>Dividends</th>\n",
       "      <th>Stock Splits</th>\n",
       "    </tr>\n",
       "    <tr>\n",
       "      <th>Date</th>\n",
       "      <th></th>\n",
       "      <th></th>\n",
       "    </tr>\n",
       "  </thead>\n",
       "  <tbody>\n",
       "    <tr>\n",
       "      <th>1987-05-11</th>\n",
       "      <td>0.000536</td>\n",
       "      <td>0.0</td>\n",
       "    </tr>\n",
       "    <tr>\n",
       "      <th>1987-06-16</th>\n",
       "      <td>0.000000</td>\n",
       "      <td>2.0</td>\n",
       "    </tr>\n",
       "    <tr>\n",
       "      <th>1987-08-10</th>\n",
       "      <td>0.000536</td>\n",
       "      <td>0.0</td>\n",
       "    </tr>\n",
       "    <tr>\n",
       "      <th>1987-11-17</th>\n",
       "      <td>0.000714</td>\n",
       "      <td>0.0</td>\n",
       "    </tr>\n",
       "    <tr>\n",
       "      <th>1988-02-12</th>\n",
       "      <td>0.000714</td>\n",
       "      <td>0.0</td>\n",
       "    </tr>\n",
       "    <tr>\n",
       "      <th>...</th>\n",
       "      <td>...</td>\n",
       "      <td>...</td>\n",
       "    </tr>\n",
       "    <tr>\n",
       "      <th>2020-05-08</th>\n",
       "      <td>0.205000</td>\n",
       "      <td>0.0</td>\n",
       "    </tr>\n",
       "    <tr>\n",
       "      <th>2020-08-07</th>\n",
       "      <td>0.205000</td>\n",
       "      <td>0.0</td>\n",
       "    </tr>\n",
       "    <tr>\n",
       "      <th>2020-08-31</th>\n",
       "      <td>0.000000</td>\n",
       "      <td>4.0</td>\n",
       "    </tr>\n",
       "    <tr>\n",
       "      <th>2020-11-06</th>\n",
       "      <td>0.205000</td>\n",
       "      <td>0.0</td>\n",
       "    </tr>\n",
       "    <tr>\n",
       "      <th>2021-02-05</th>\n",
       "      <td>0.205000</td>\n",
       "      <td>0.0</td>\n",
       "    </tr>\n",
       "  </tbody>\n",
       "</table>\n",
       "<p>75 rows × 2 columns</p>\n",
       "</div>"
      ],
      "text/plain": [
       "            Dividends  Stock Splits\n",
       "Date                               \n",
       "1987-05-11   0.000536           0.0\n",
       "1987-06-16   0.000000           2.0\n",
       "1987-08-10   0.000536           0.0\n",
       "1987-11-17   0.000714           0.0\n",
       "1988-02-12   0.000714           0.0\n",
       "...               ...           ...\n",
       "2020-05-08   0.205000           0.0\n",
       "2020-08-07   0.205000           0.0\n",
       "2020-08-31   0.000000           4.0\n",
       "2020-11-06   0.205000           0.0\n",
       "2021-02-05   0.205000           0.0\n",
       "\n",
       "[75 rows x 2 columns]"
      ]
     },
     "execution_count": 119,
     "metadata": {},
     "output_type": "execute_result"
    }
   ],
   "source": [
    "stock_data.actions"
   ]
  },
  {
   "cell_type": "code",
   "execution_count": 120,
   "metadata": {},
   "outputs": [
    {
     "data": {
      "text/html": [
       "<div>\n",
       "<style scoped>\n",
       "    .dataframe tbody tr th:only-of-type {\n",
       "        vertical-align: middle;\n",
       "    }\n",
       "\n",
       "    .dataframe tbody tr th {\n",
       "        vertical-align: top;\n",
       "    }\n",
       "\n",
       "    .dataframe thead th {\n",
       "        text-align: right;\n",
       "    }\n",
       "</style>\n",
       "<table border=\"1\" class=\"dataframe\">\n",
       "  <thead>\n",
       "    <tr style=\"text-align: right;\">\n",
       "      <th></th>\n",
       "      <th>Value</th>\n",
       "    </tr>\n",
       "    <tr>\n",
       "      <th>2021-3</th>\n",
       "      <th></th>\n",
       "    </tr>\n",
       "  </thead>\n",
       "  <tbody>\n",
       "    <tr>\n",
       "      <th>palmOil</th>\n",
       "      <td>False</td>\n",
       "    </tr>\n",
       "    <tr>\n",
       "      <th>controversialWeapons</th>\n",
       "      <td>False</td>\n",
       "    </tr>\n",
       "    <tr>\n",
       "      <th>gambling</th>\n",
       "      <td>False</td>\n",
       "    </tr>\n",
       "    <tr>\n",
       "      <th>socialScore</th>\n",
       "      <td>7.69</td>\n",
       "    </tr>\n",
       "    <tr>\n",
       "      <th>nuclear</th>\n",
       "      <td>False</td>\n",
       "    </tr>\n",
       "    <tr>\n",
       "      <th>furLeather</th>\n",
       "      <td>False</td>\n",
       "    </tr>\n",
       "    <tr>\n",
       "      <th>alcoholic</th>\n",
       "      <td>False</td>\n",
       "    </tr>\n",
       "    <tr>\n",
       "      <th>gmo</th>\n",
       "      <td>False</td>\n",
       "    </tr>\n",
       "    <tr>\n",
       "      <th>catholic</th>\n",
       "      <td>False</td>\n",
       "    </tr>\n",
       "    <tr>\n",
       "      <th>socialPercentile</th>\n",
       "      <td>None</td>\n",
       "    </tr>\n",
       "    <tr>\n",
       "      <th>peerCount</th>\n",
       "      <td>56</td>\n",
       "    </tr>\n",
       "    <tr>\n",
       "      <th>governanceScore</th>\n",
       "      <td>8.94</td>\n",
       "    </tr>\n",
       "    <tr>\n",
       "      <th>environmentPercentile</th>\n",
       "      <td>None</td>\n",
       "    </tr>\n",
       "    <tr>\n",
       "      <th>animalTesting</th>\n",
       "      <td>False</td>\n",
       "    </tr>\n",
       "    <tr>\n",
       "      <th>tobacco</th>\n",
       "      <td>False</td>\n",
       "    </tr>\n",
       "    <tr>\n",
       "      <th>totalEsg</th>\n",
       "      <td>16.73</td>\n",
       "    </tr>\n",
       "    <tr>\n",
       "      <th>highestControversy</th>\n",
       "      <td>3</td>\n",
       "    </tr>\n",
       "    <tr>\n",
       "      <th>esgPerformance</th>\n",
       "      <td>UNDER_PERF</td>\n",
       "    </tr>\n",
       "    <tr>\n",
       "      <th>coal</th>\n",
       "      <td>False</td>\n",
       "    </tr>\n",
       "    <tr>\n",
       "      <th>pesticides</th>\n",
       "      <td>False</td>\n",
       "    </tr>\n",
       "    <tr>\n",
       "      <th>adult</th>\n",
       "      <td>False</td>\n",
       "    </tr>\n",
       "    <tr>\n",
       "      <th>percentile</th>\n",
       "      <td>11.77</td>\n",
       "    </tr>\n",
       "    <tr>\n",
       "      <th>peerGroup</th>\n",
       "      <td>Technology Hardware</td>\n",
       "    </tr>\n",
       "    <tr>\n",
       "      <th>smallArms</th>\n",
       "      <td>False</td>\n",
       "    </tr>\n",
       "    <tr>\n",
       "      <th>environmentScore</th>\n",
       "      <td>0.1</td>\n",
       "    </tr>\n",
       "    <tr>\n",
       "      <th>governancePercentile</th>\n",
       "      <td>None</td>\n",
       "    </tr>\n",
       "    <tr>\n",
       "      <th>militaryContract</th>\n",
       "      <td>False</td>\n",
       "    </tr>\n",
       "  </tbody>\n",
       "</table>\n",
       "</div>"
      ],
      "text/plain": [
       "                                     Value\n",
       "2021-3                                    \n",
       "palmOil                              False\n",
       "controversialWeapons                 False\n",
       "gambling                             False\n",
       "socialScore                           7.69\n",
       "nuclear                              False\n",
       "furLeather                           False\n",
       "alcoholic                            False\n",
       "gmo                                  False\n",
       "catholic                             False\n",
       "socialPercentile                      None\n",
       "peerCount                               56\n",
       "governanceScore                       8.94\n",
       "environmentPercentile                 None\n",
       "animalTesting                        False\n",
       "tobacco                              False\n",
       "totalEsg                             16.73\n",
       "highestControversy                       3\n",
       "esgPerformance                  UNDER_PERF\n",
       "coal                                 False\n",
       "pesticides                           False\n",
       "adult                                False\n",
       "percentile                           11.77\n",
       "peerGroup              Technology Hardware\n",
       "smallArms                            False\n",
       "environmentScore                       0.1\n",
       "governancePercentile                  None\n",
       "militaryContract                     False"
      ]
     },
     "execution_count": 120,
     "metadata": {},
     "output_type": "execute_result"
    }
   ],
   "source": [
    "stock_data.sustainability"
   ]
  },
  {
   "cell_type": "code",
   "execution_count": 121,
   "metadata": {},
   "outputs": [
    {
     "data": {
      "text/html": [
       "<div>\n",
       "<style scoped>\n",
       "    .dataframe tbody tr th:only-of-type {\n",
       "        vertical-align: middle;\n",
       "    }\n",
       "\n",
       "    .dataframe tbody tr th {\n",
       "        vertical-align: top;\n",
       "    }\n",
       "\n",
       "    .dataframe thead th {\n",
       "        text-align: right;\n",
       "    }\n",
       "</style>\n",
       "<table border=\"1\" class=\"dataframe\">\n",
       "  <thead>\n",
       "    <tr style=\"text-align: right;\">\n",
       "      <th></th>\n",
       "      <th>Firm</th>\n",
       "      <th>To Grade</th>\n",
       "      <th>From Grade</th>\n",
       "      <th>Action</th>\n",
       "    </tr>\n",
       "    <tr>\n",
       "      <th>Date</th>\n",
       "      <th></th>\n",
       "      <th></th>\n",
       "      <th></th>\n",
       "      <th></th>\n",
       "    </tr>\n",
       "  </thead>\n",
       "  <tbody>\n",
       "    <tr>\n",
       "      <th>2012-02-09 08:17:00</th>\n",
       "      <td>Canaccord Genuity</td>\n",
       "      <td>Buy</td>\n",
       "      <td></td>\n",
       "      <td>main</td>\n",
       "    </tr>\n",
       "    <tr>\n",
       "      <th>2012-03-08 07:33:00</th>\n",
       "      <td>FBN Securities</td>\n",
       "      <td>Outperform</td>\n",
       "      <td></td>\n",
       "      <td>main</td>\n",
       "    </tr>\n",
       "    <tr>\n",
       "      <th>2012-03-13 06:08:00</th>\n",
       "      <td>Jefferies</td>\n",
       "      <td>Buy</td>\n",
       "      <td></td>\n",
       "      <td>main</td>\n",
       "    </tr>\n",
       "    <tr>\n",
       "      <th>2012-03-14 06:13:00</th>\n",
       "      <td>Morgan Stanley</td>\n",
       "      <td>Overweight</td>\n",
       "      <td></td>\n",
       "      <td>main</td>\n",
       "    </tr>\n",
       "    <tr>\n",
       "      <th>2012-03-14 08:21:00</th>\n",
       "      <td>Canaccord Genuity</td>\n",
       "      <td>Buy</td>\n",
       "      <td></td>\n",
       "      <td>main</td>\n",
       "    </tr>\n",
       "    <tr>\n",
       "      <th>...</th>\n",
       "      <td>...</td>\n",
       "      <td>...</td>\n",
       "      <td>...</td>\n",
       "      <td>...</td>\n",
       "    </tr>\n",
       "    <tr>\n",
       "      <th>2021-03-10 12:43:57</th>\n",
       "      <td>Wedbush</td>\n",
       "      <td>Outperform</td>\n",
       "      <td></td>\n",
       "      <td>main</td>\n",
       "    </tr>\n",
       "    <tr>\n",
       "      <th>2021-03-16 12:55:36</th>\n",
       "      <td>Evercore ISI Group</td>\n",
       "      <td>Outperform</td>\n",
       "      <td></td>\n",
       "      <td>main</td>\n",
       "    </tr>\n",
       "    <tr>\n",
       "      <th>2021-03-31 10:28:11</th>\n",
       "      <td>UBS</td>\n",
       "      <td>Buy</td>\n",
       "      <td>Neutral</td>\n",
       "      <td>up</td>\n",
       "    </tr>\n",
       "    <tr>\n",
       "      <th>2021-04-06 12:34:09</th>\n",
       "      <td>Morgan Stanley</td>\n",
       "      <td>Overweight</td>\n",
       "      <td></td>\n",
       "      <td>main</td>\n",
       "    </tr>\n",
       "    <tr>\n",
       "      <th>2021-04-16 11:55:19</th>\n",
       "      <td>Morgan Stanley</td>\n",
       "      <td>Overweight</td>\n",
       "      <td></td>\n",
       "      <td>main</td>\n",
       "    </tr>\n",
       "  </tbody>\n",
       "</table>\n",
       "<p>779 rows × 4 columns</p>\n",
       "</div>"
      ],
      "text/plain": [
       "                                   Firm    To Grade From Grade Action\n",
       "Date                                                                 \n",
       "2012-02-09 08:17:00   Canaccord Genuity         Buy              main\n",
       "2012-03-08 07:33:00      FBN Securities  Outperform              main\n",
       "2012-03-13 06:08:00           Jefferies         Buy              main\n",
       "2012-03-14 06:13:00      Morgan Stanley  Overweight              main\n",
       "2012-03-14 08:21:00   Canaccord Genuity         Buy              main\n",
       "...                                 ...         ...        ...    ...\n",
       "2021-03-10 12:43:57             Wedbush  Outperform              main\n",
       "2021-03-16 12:55:36  Evercore ISI Group  Outperform              main\n",
       "2021-03-31 10:28:11                 UBS         Buy    Neutral     up\n",
       "2021-04-06 12:34:09      Morgan Stanley  Overweight              main\n",
       "2021-04-16 11:55:19      Morgan Stanley  Overweight              main\n",
       "\n",
       "[779 rows x 4 columns]"
      ]
     },
     "execution_count": 121,
     "metadata": {},
     "output_type": "execute_result"
    }
   ],
   "source": [
    "stock_data.recommendations"
   ]
  },
  {
   "cell_type": "code",
   "execution_count": 129,
   "metadata": {},
   "outputs": [
    {
     "name": "stdout",
     "output_type": "stream",
     "text": [
      "yfinance.Ticker object <BRK-B>\n"
     ]
    }
   ],
   "source": [
    "bonds_data = yf.Ticker('BRK-B')\n",
    "print(bonds_data)"
   ]
  },
  {
   "cell_type": "code",
   "execution_count": 130,
   "metadata": {},
   "outputs": [
    {
     "data": {
      "text/plain": [
       "{'zip': '68131',\n",
       " 'sector': 'Financial Services',\n",
       " 'fullTimeEmployees': 360000,\n",
       " 'longBusinessSummary': 'Berkshire Hathaway Inc., through its subsidiaries, engages in the insurance, freight rail transportation, and utility businesses worldwide. It provides property, casualty, life, accident, and health insurance and reinsurance; and operates railroad systems in North America. The company also generates, transmits, stores, and distributes electricity from natural gas, coal, wind, solar, hydro, nuclear, and geothermal sources; operates natural gas distribution and storage facilities, interstate pipelines, liquefied natural gas facilities, and compressor and meter stations; and holds interest in coal mining assets. In addition, the company manufactures boxed chocolates and other confectionery products; specialty chemicals, metal cutting tools, and components for aerospace and power generation applications; and flooring, insulation, roofing and engineered, building and engineered components, paints and coatings, and bricks and masonry products, as well as offers manufactured and site-built home construction, and related lending and financial services; and recreational vehicles, apparel products, jewelry, and custom picture framing products, and alkaline batteries. Further, it manufactures castings, forgings, fasteners/fastener systems, and aerostructures; and seamless pipes, fittings, downhole casing and tubing, and various mill forms. Additionally, the company distributes televisions and information; franchises and services quick service restaurants; distributes electronic components; and offers logistics services, grocery and foodservice distribution services, and professional aviation training and shared aircraft ownership programs. It also retails automobiles; furniture, bedding, and accessories; household appliances, electronics, and computers; jewelry, watches, crystal, china, stemware, flatware, gifts, and collectibles; kitchenware; and motorcycle apparel and equipment. The company was incorporated in 1998 and is headquartered in Omaha, Nebraska.',\n",
       " 'city': 'Omaha',\n",
       " 'phone': '402-346-1400',\n",
       " 'state': 'NE',\n",
       " 'country': 'United States',\n",
       " 'companyOfficers': [],\n",
       " 'website': 'http://www.berkshirehathaway.com',\n",
       " 'maxAge': 1,\n",
       " 'address1': '3555 Farnam Street',\n",
       " 'industry': 'Insurance—Diversified',\n",
       " 'previousClose': 270.28,\n",
       " 'regularMarketOpen': 268.53,\n",
       " 'twoHundredDayAverage': 234.45271,\n",
       " 'trailingAnnualDividendYield': None,\n",
       " 'payoutRatio': 0,\n",
       " 'volume24Hr': None,\n",
       " 'regularMarketDayHigh': 269.31,\n",
       " 'navPrice': None,\n",
       " 'averageDailyVolume10Day': 3972400,\n",
       " 'totalAssets': None,\n",
       " 'regularMarketPreviousClose': 270.28,\n",
       " 'fiftyDayAverage': 258.03342,\n",
       " 'trailingAnnualDividendRate': None,\n",
       " 'open': 268.53,\n",
       " 'toCurrency': None,\n",
       " 'averageVolume10days': 3972400,\n",
       " 'expireDate': None,\n",
       " 'yield': None,\n",
       " 'algorithm': None,\n",
       " 'dividendRate': None,\n",
       " 'exDividendDate': None,\n",
       " 'beta': 0.896856,\n",
       " 'circulatingSupply': None,\n",
       " 'startDate': None,\n",
       " 'regularMarketDayLow': 266.801,\n",
       " 'priceHint': 2,\n",
       " 'currency': 'USD',\n",
       " 'trailingPE': 0.010045444,\n",
       " 'regularMarketVolume': 3742295,\n",
       " 'lastMarket': None,\n",
       " 'maxSupply': None,\n",
       " 'openInterest': None,\n",
       " 'marketCap': 615413055488,\n",
       " 'volumeAllCurrencies': None,\n",
       " 'strikePrice': None,\n",
       " 'averageVolume': 5115174,\n",
       " 'priceToSalesTrailing12Months': 2.5066721,\n",
       " 'dayLow': 266.801,\n",
       " 'ask': 267.74,\n",
       " 'ytdReturn': None,\n",
       " 'askSize': 1100,\n",
       " 'volume': 3742295,\n",
       " 'fiftyTwoWeekHigh': 272.97,\n",
       " 'forwardPE': 22.760408,\n",
       " 'fromCurrency': None,\n",
       " 'fiveYearAvgDividendYield': None,\n",
       " 'fiftyTwoWeekLow': 167.04,\n",
       " 'bid': 267.51,\n",
       " 'tradeable': False,\n",
       " 'dividendYield': None,\n",
       " 'bidSize': 800,\n",
       " 'dayHigh': 269.31,\n",
       " 'exchange': 'NYQ',\n",
       " 'shortName': 'Berkshire Hathaway Inc. New',\n",
       " 'longName': 'Berkshire Hathaway Inc.',\n",
       " 'exchangeTimezoneName': 'America/New_York',\n",
       " 'exchangeTimezoneShortName': 'EDT',\n",
       " 'isEsgPopulated': False,\n",
       " 'gmtOffSetMilliseconds': '-14400000',\n",
       " 'quoteType': 'EQUITY',\n",
       " 'symbol': 'BRK-B',\n",
       " 'messageBoardId': 'finmb_255251',\n",
       " 'market': 'us_market',\n",
       " 'annualHoldingsTurnover': None,\n",
       " 'enterpriseToRevenue': -0.03,\n",
       " 'beta3Year': None,\n",
       " 'profitMargins': 0.17319,\n",
       " 'enterpriseToEbitda': -0.091,\n",
       " '52WeekChange': 0.4730761,\n",
       " 'morningStarRiskRating': None,\n",
       " 'forwardEps': 11.77,\n",
       " 'revenueQuarterlyGrowth': None,\n",
       " 'sharesOutstanding': 1335069952,\n",
       " 'fundInceptionDate': None,\n",
       " 'annualReportExpenseRatio': None,\n",
       " 'bookValue': 286947.12,\n",
       " 'sharesShort': 10953625,\n",
       " 'sharesPercentSharesOut': 0.0047999998,\n",
       " 'fundFamily': None,\n",
       " 'lastFiscalYearEnd': 1609372800,\n",
       " 'heldPercentInstitutions': 0.68566,\n",
       " 'netIncomeToCommon': 42521001984,\n",
       " 'trailingEps': 26667.812,\n",
       " 'lastDividendValue': None,\n",
       " 'SandP52WeekChange': 0.521348,\n",
       " 'priceToBook': 0.0009335867,\n",
       " 'heldPercentInsiders': 0.00182,\n",
       " 'nextFiscalYearEnd': 1672444800,\n",
       " 'mostRecentQuarter': 1609372800,\n",
       " 'shortRatio': 1.66,\n",
       " 'sharesShortPreviousMonthDate': 1614297600,\n",
       " 'floatShares': 1256526,\n",
       " 'enterpriseValue': -7340068864,\n",
       " 'threeYearAverageReturn': None,\n",
       " 'lastSplitDate': 1264032000,\n",
       " 'lastSplitFactor': '50:1',\n",
       " 'legalType': None,\n",
       " 'lastDividendDate': None,\n",
       " 'morningStarOverallRating': None,\n",
       " 'earningsQuarterlyGrowth': 0.229,\n",
       " 'dateShortInterest': 1617148800,\n",
       " 'pegRatio': 1.06,\n",
       " 'lastCapGain': None,\n",
       " 'shortPercentOfFloat': 0.0091,\n",
       " 'sharesShortPriorMonth': 10068438,\n",
       " 'impliedSharesOutstanding': 2294690048,\n",
       " 'category': None,\n",
       " 'fiveYearAverageReturn': None,\n",
       " 'regularMarketPrice': 267.89,\n",
       " 'logo_url': 'https://logo.clearbit.com/berkshirehathaway.com'}"
      ]
     },
     "execution_count": 130,
     "metadata": {},
     "output_type": "execute_result"
    }
   ],
   "source": [
    "bonds_data.info"
   ]
  },
  {
   "cell_type": "code",
   "execution_count": null,
   "metadata": {},
   "outputs": [],
   "source": []
  }
 ],
 "metadata": {
  "kernelspec": {
   "display_name": "Python 3",
   "language": "python",
   "name": "python3"
  },
  "language_info": {
   "codemirror_mode": {
    "name": "ipython",
    "version": 3
   },
   "file_extension": ".py",
   "mimetype": "text/x-python",
   "name": "python",
   "nbconvert_exporter": "python",
   "pygments_lexer": "ipython3",
   "version": "3.8.5"
  }
 },
 "nbformat": 4,
 "nbformat_minor": 4
}
