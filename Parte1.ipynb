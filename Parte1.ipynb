{
 "cells": [
  {
   "cell_type": "markdown",
   "id": "limiting-cruise",
   "metadata": {},
   "source": [
    "# Clase 1\n",
    "## Introducción a Python - Variables, Tipos de Datos"
   ]
  },
  {
   "cell_type": "markdown",
   "id": "contemporary-thumbnail",
   "metadata": {},
   "source": [
    "## Comments"
   ]
  },
  {
   "cell_type": "code",
   "execution_count": 2,
   "id": "absolute-remains",
   "metadata": {},
   "outputs": [
    {
     "name": "stdout",
     "output_type": "stream",
     "text": [
      "Hello World\n"
     ]
    }
   ],
   "source": [
    "#Print se encarga de imprimir por pantalla el texto entre comillas\n",
    "print(\"Hello World\")"
   ]
  },
  {
   "cell_type": "code",
   "execution_count": 3,
   "id": "cloudy-allergy",
   "metadata": {},
   "outputs": [
    {
     "data": {
      "text/plain": [
       "' Esto es un comentario\\nde varias lineas\\nen python '"
      ]
     },
     "execution_count": 3,
     "metadata": {},
     "output_type": "execute_result"
    }
   ],
   "source": [
    "\"\"\" Esto es un comentario\n",
    "de varias lineas\n",
    "en python \"\"\""
   ]
  },
  {
   "cell_type": "code",
   "execution_count": 9,
   "id": "guilty-aggregate",
   "metadata": {},
   "outputs": [],
   "source": [
    "# Esto es un comentario\n",
    "# de varias lineas"
   ]
  },
  {
   "cell_type": "markdown",
   "id": "municipal-impossible",
   "metadata": {},
   "source": [
    "## Variables"
   ]
  },
  {
   "cell_type": "code",
   "execution_count": 10,
   "id": "built-advantage",
   "metadata": {},
   "outputs": [
    {
     "name": "stdout",
     "output_type": "stream",
     "text": [
      "Jose\n",
      "Farias\n"
     ]
    }
   ],
   "source": [
    "first_name = \"Jose\"\n",
    "print(first_name)\n",
    "first_name =\"Pedro\"\n",
    "last_name = \"Farias\"\n",
    "print(last_name)"
   ]
  },
  {
   "cell_type": "code",
   "execution_count": 11,
   "id": "diagnostic-privilege",
   "metadata": {},
   "outputs": [
    {
     "name": "stdout",
     "output_type": "stream",
     "text": [
      "Jose Farias\n"
     ]
    }
   ],
   "source": [
    "print(first_name+\" \"+last_name)"
   ]
  },
  {
   "cell_type": "code",
   "execution_count": 13,
   "id": "complicated-business",
   "metadata": {},
   "outputs": [],
   "source": [
    "a = 21"
   ]
  },
  {
   "cell_type": "code",
   "execution_count": 14,
   "id": "accessible-favor",
   "metadata": {},
   "outputs": [
    {
     "name": "stdout",
     "output_type": "stream",
     "text": [
      "21\n"
     ]
    }
   ],
   "source": [
    "print(a)"
   ]
  },
  {
   "cell_type": "code",
   "execution_count": 20,
   "id": "eligible-bacteria",
   "metadata": {},
   "outputs": [
    {
     "ename": "NameError",
     "evalue": "name 'Sport' is not defined",
     "output_type": "error",
     "traceback": [
      "\u001b[1;31m---------------------------------------------------------------------------\u001b[0m",
      "\u001b[1;31mNameError\u001b[0m                                 Traceback (most recent call last)",
      "\u001b[1;32m<ipython-input-20-710773183063>\u001b[0m in \u001b[0;36m<module>\u001b[1;34m\u001b[0m\n\u001b[0;32m      1\u001b[0m \u001b[1;31m# Case sensitivity of variables\u001b[0m\u001b[1;33m\u001b[0m\u001b[1;33m\u001b[0m\u001b[1;33m\u001b[0m\u001b[0m\n\u001b[0;32m      2\u001b[0m \u001b[0msport\u001b[0m \u001b[1;33m=\u001b[0m \u001b[1;34m\"deportes\"\u001b[0m\u001b[1;33m\u001b[0m\u001b[1;33m\u001b[0m\u001b[0m\n\u001b[1;32m----> 3\u001b[1;33m \u001b[0mprint\u001b[0m\u001b[1;33m(\u001b[0m\u001b[0mSport\u001b[0m\u001b[1;33m)\u001b[0m\u001b[1;33m\u001b[0m\u001b[1;33m\u001b[0m\u001b[0m\n\u001b[0m",
      "\u001b[1;31mNameError\u001b[0m: name 'Sport' is not defined"
     ]
    }
   ],
   "source": [
    "# Case sensitivity of variables\n",
    "sport = \"deportes\"\n",
    "print(Sport)"
   ]
  },
  {
   "cell_type": "code",
   "execution_count": 21,
   "id": "southeast-moore",
   "metadata": {},
   "outputs": [
    {
     "ename": "NameError",
     "evalue": "name 'mensaje' is not defined",
     "output_type": "error",
     "traceback": [
      "\u001b[1;31m---------------------------------------------------------------------------\u001b[0m",
      "\u001b[1;31mNameError\u001b[0m                                 Traceback (most recent call last)",
      "\u001b[1;32m<ipython-input-21-5ee88a64eb95>\u001b[0m in \u001b[0;36m<module>\u001b[1;34m\u001b[0m\n\u001b[0;32m      1\u001b[0m \u001b[1;31m# Usar variables no declaradas/definidas\u001b[0m\u001b[1;33m\u001b[0m\u001b[1;33m\u001b[0m\u001b[1;33m\u001b[0m\u001b[0m\n\u001b[1;32m----> 2\u001b[1;33m \u001b[0mprint\u001b[0m\u001b[1;33m(\u001b[0m\u001b[0mmensaje\u001b[0m\u001b[1;33m)\u001b[0m\u001b[1;33m\u001b[0m\u001b[1;33m\u001b[0m\u001b[0m\n\u001b[0m",
      "\u001b[1;31mNameError\u001b[0m: name 'mensaje' is not defined"
     ]
    }
   ],
   "source": [
    "# Usar variables no declaradas/definidas\n",
    "print(mensaje)"
   ]
  },
  {
   "cell_type": "code",
   "execution_count": 2,
   "id": "threaded-stockholm",
   "metadata": {},
   "outputs": [
    {
     "name": "stdout",
     "output_type": "stream",
     "text": [
      "Hola\n",
      "Pedro\n"
     ]
    }
   ],
   "source": [
    "mensaje2 = \"Hola\"\n",
    "print(mensaje2)\n",
    "mensaje2 = \"Pedro\"\n",
    "print(mensaje2)"
   ]
  },
  {
   "cell_type": "markdown",
   "id": "compound-neighborhood",
   "metadata": {},
   "source": [
    "# CLASE 2"
   ]
  },
  {
   "cell_type": "markdown",
   "id": "viral-absence",
   "metadata": {},
   "source": [
    "## Constants"
   ]
  },
  {
   "cell_type": "code",
   "execution_count": 3,
   "id": "comparative-retro",
   "metadata": {},
   "outputs": [
    {
     "name": "stdout",
     "output_type": "stream",
     "text": [
      "3.1416\n"
     ]
    }
   ],
   "source": [
    "PI = 3.1416\n",
    "print(PI)"
   ]
  },
  {
   "cell_type": "markdown",
   "id": "dated-maintenance",
   "metadata": {},
   "source": [
    "## Números\n",
    "## Números Enteros"
   ]
  },
  {
   "cell_type": "code",
   "execution_count": 4,
   "id": "three-publication",
   "metadata": {},
   "outputs": [
    {
     "data": {
      "text/plain": [
       "4"
      ]
     },
     "execution_count": 4,
     "metadata": {},
     "output_type": "execute_result"
    }
   ],
   "source": [
    "2 + 2"
   ]
  },
  {
   "cell_type": "code",
   "execution_count": 2,
   "id": "wooden-electric",
   "metadata": {},
   "outputs": [
    {
     "data": {
      "text/plain": [
       "6"
      ]
     },
     "execution_count": 2,
     "metadata": {},
     "output_type": "execute_result"
    }
   ],
   "source": [
    "(3 -2)*2 +4"
   ]
  },
  {
   "cell_type": "code",
   "execution_count": 3,
   "id": "fatty-there",
   "metadata": {},
   "outputs": [
    {
     "name": "stdout",
     "output_type": "stream",
     "text": [
      "5\n"
     ]
    }
   ],
   "source": [
    "a = 10\n",
    "b = 5\n",
    "r = a -b\n",
    "print(r)"
   ]
  },
  {
   "cell_type": "code",
   "execution_count": 4,
   "id": "demanding-marshall",
   "metadata": {},
   "outputs": [
    {
     "data": {
      "text/plain": [
       "1.0"
      ]
     },
     "execution_count": 4,
     "metadata": {},
     "output_type": "execute_result"
    }
   ],
   "source": [
    "3 /3 "
   ]
  },
  {
   "cell_type": "markdown",
   "id": "beautiful-concept",
   "metadata": {},
   "source": [
    "3-2+4*10"
   ]
  },
  {
   "cell_type": "markdown",
   "id": "flexible-cologne",
   "metadata": {},
   "source": [
    "## Numeros Decimales (Float)"
   ]
  },
  {
   "cell_type": "code",
   "execution_count": 8,
   "id": "fancy-peace",
   "metadata": {},
   "outputs": [
    {
     "data": {
      "text/plain": [
       "2.0"
      ]
     },
     "execution_count": 8,
     "metadata": {},
     "output_type": "execute_result"
    }
   ],
   "source": [
    "2.0"
   ]
  },
  {
   "cell_type": "code",
   "execution_count": 9,
   "id": "heard-montgomery",
   "metadata": {},
   "outputs": [
    {
     "data": {
      "text/plain": [
       "123.9"
      ]
     },
     "execution_count": 9,
     "metadata": {},
     "output_type": "execute_result"
    }
   ],
   "source": [
    "123.900000"
   ]
  },
  {
   "cell_type": "code",
   "execution_count": 10,
   "id": "congressional-breach",
   "metadata": {},
   "outputs": [
    {
     "data": {
      "text/plain": [
       "123.9757575"
      ]
     },
     "execution_count": 10,
     "metadata": {},
     "output_type": "execute_result"
    }
   ],
   "source": [
    "123.9757575"
   ]
  },
  {
   "cell_type": "code",
   "execution_count": 11,
   "id": "increased-duration",
   "metadata": {},
   "outputs": [
    {
     "data": {
      "text/plain": [
       "4.5"
      ]
     },
     "execution_count": 11,
     "metadata": {},
     "output_type": "execute_result"
    }
   ],
   "source": [
    "2.5 + 2"
   ]
  },
  {
   "cell_type": "code",
   "execution_count": 12,
   "id": "separate-capability",
   "metadata": {},
   "outputs": [
    {
     "data": {
      "text/plain": [
       "4.0"
      ]
     },
     "execution_count": 12,
     "metadata": {},
     "output_type": "execute_result"
    }
   ],
   "source": [
    "2.0 + 2"
   ]
  },
  {
   "cell_type": "code",
   "execution_count": 13,
   "id": "waiting-cabinet",
   "metadata": {},
   "outputs": [
    {
     "data": {
      "text/plain": [
       "0.75"
      ]
     },
     "execution_count": 13,
     "metadata": {},
     "output_type": "execute_result"
    }
   ],
   "source": [
    "3 / 4"
   ]
  },
  {
   "cell_type": "code",
   "execution_count": 5,
   "id": "ahead-spice",
   "metadata": {},
   "outputs": [
    {
     "data": {
      "text/plain": [
       "int"
      ]
     },
     "execution_count": 5,
     "metadata": {},
     "output_type": "execute_result"
    }
   ],
   "source": [
    "type(0.75)\n",
    "type(a)"
   ]
  },
  {
   "cell_type": "code",
   "execution_count": 15,
   "id": "quantitative-silver",
   "metadata": {},
   "outputs": [
    {
     "data": {
      "text/plain": [
       "int"
      ]
     },
     "execution_count": 15,
     "metadata": {},
     "output_type": "execute_result"
    }
   ],
   "source": [
    "type(3)"
   ]
  },
  {
   "cell_type": "code",
   "execution_count": 16,
   "id": "modified-might",
   "metadata": {},
   "outputs": [
    {
     "data": {
      "text/plain": [
       "float"
      ]
     },
     "execution_count": 16,
     "metadata": {},
     "output_type": "execute_result"
    }
   ],
   "source": [
    "a = 2/3\n",
    "b=2\n",
    "type(a)"
   ]
  },
  {
   "cell_type": "code",
   "execution_count": 42,
   "id": "loose-biotechnology",
   "metadata": {},
   "outputs": [
    {
     "name": "stdout",
     "output_type": "stream",
     "text": [
      "243\n"
     ]
    }
   ],
   "source": [
    "# Porencia x^y  3^5\n",
    "a = 3 ** 5\n",
    "print(a)"
   ]
  },
  {
   "cell_type": "code",
   "execution_count": 21,
   "id": "alpha-address",
   "metadata": {},
   "outputs": [
    {
     "data": {
      "text/plain": [
       "243.0"
      ]
     },
     "execution_count": 21,
     "metadata": {},
     "output_type": "execute_result"
    }
   ],
   "source": [
    "import math\n",
    "math.sqrt(25)\n"
   ]
  },
  {
   "cell_type": "code",
   "execution_count": 23,
   "id": "photographic-healthcare",
   "metadata": {},
   "outputs": [
    {
     "data": {
      "text/plain": [
       "3"
      ]
     },
     "execution_count": 23,
     "metadata": {},
     "output_type": "execute_result"
    }
   ],
   "source": [
    "# floor division\n",
    "10 // 3"
   ]
  },
  {
   "cell_type": "code",
   "execution_count": 24,
   "id": "handled-cache",
   "metadata": {},
   "outputs": [
    {
     "data": {
      "text/plain": [
       "1"
      ]
     },
     "execution_count": 24,
     "metadata": {},
     "output_type": "execute_result"
    }
   ],
   "source": [
    "# Modulo\n",
    "3%1"
   ]
  },
  {
   "cell_type": "code",
   "execution_count": 25,
   "id": "liquid-regulation",
   "metadata": {},
   "outputs": [
    {
     "data": {
      "text/plain": [
       "0"
      ]
     },
     "execution_count": 25,
     "metadata": {},
     "output_type": "execute_result"
    }
   ],
   "source": [
    "9 % 3"
   ]
  },
  {
   "cell_type": "code",
   "execution_count": 26,
   "id": "about-pride",
   "metadata": {},
   "outputs": [
    {
     "ename": "SyntaxError",
     "evalue": "invalid syntax (<ipython-input-26-5b2bf4ffd469>, line 1)",
     "output_type": "error",
     "traceback": [
      "\u001b[1;36m  File \u001b[1;32m\"<ipython-input-26-5b2bf4ffd469>\"\u001b[1;36m, line \u001b[1;32m1\u001b[0m\n\u001b[1;33m    10.000.000\u001b[0m\n\u001b[1;37m          ^\u001b[0m\n\u001b[1;31mSyntaxError\u001b[0m\u001b[1;31m:\u001b[0m invalid syntax\n"
     ]
    }
   ],
   "source": [
    "10.000.000"
   ]
  },
  {
   "cell_type": "code",
   "execution_count": 29,
   "id": "legal-consent",
   "metadata": {},
   "outputs": [
    {
     "data": {
      "text/plain": [
       "10000000000.0"
      ]
     },
     "execution_count": 29,
     "metadata": {},
     "output_type": "execute_result"
    }
   ],
   "source": [
    "10_000_000_000.00"
   ]
  },
  {
   "cell_type": "code",
   "execution_count": 30,
   "id": "mature-forth",
   "metadata": {},
   "outputs": [
    {
     "data": {
      "text/plain": [
       "float"
      ]
     },
     "execution_count": 30,
     "metadata": {},
     "output_type": "execute_result"
    }
   ],
   "source": [
    "type(10_000_000.00)"
   ]
  },
  {
   "cell_type": "code",
   "execution_count": 2,
   "id": "female-grove",
   "metadata": {},
   "outputs": [],
   "source": [
    "a,b = 10,10"
   ]
  },
  {
   "cell_type": "code",
   "execution_count": 6,
   "id": "instructional-advice",
   "metadata": {},
   "outputs": [
    {
     "name": "stdout",
     "output_type": "stream",
     "text": [
      "10\n"
     ]
    }
   ],
   "source": [
    "print(a)"
   ]
  },
  {
   "cell_type": "code",
   "execution_count": 37,
   "id": "featured-guarantee",
   "metadata": {},
   "outputs": [
    {
     "name": "stdout",
     "output_type": "stream",
     "text": [
      "20\n"
     ]
    }
   ],
   "source": [
    "print(b)"
   ]
  },
  {
   "cell_type": "code",
   "execution_count": 8,
   "id": "split-metadata",
   "metadata": {},
   "outputs": [
    {
     "name": "stdout",
     "output_type": "stream",
     "text": [
      "11\n",
      "10.0\n"
     ]
    }
   ],
   "source": [
    "i,j =10,10\n",
    "i+=1 # i = i + 1\n",
    "j*=2 # j = j *2\n",
    "j/=2\n",
    "print(i)\n",
    "print(j)"
   ]
  },
  {
   "cell_type": "code",
   "execution_count": 18,
   "id": "nasty-vintage",
   "metadata": {},
   "outputs": [
    {
     "name": "stdout",
     "output_type": "stream",
     "text": [
      "NET PRESENT VALUE =  27.059518366102726\n"
     ]
    }
   ],
   "source": [
    "r = 0.08 # discount rate\n",
    "t = 3 #time periods\n",
    "cf = 10.5 #cashlow\n",
    "npv = (cf/(1+r)**(t-2)) + (cf/(1+r)**(t-1)) + (cf/(1+r)**t)\n",
    "print(\"NET PRESENT VALUE = \" , npv)"
   ]
  },
  {
   "cell_type": "code",
   "execution_count": 19,
   "id": "modern-stanley",
   "metadata": {},
   "outputs": [
    {
     "name": "stdout",
     "output_type": "stream",
     "text": [
      "NET PRESENT VALUE =  27.059518366102726  OTRA VARIABLE 10\n"
     ]
    }
   ],
   "source": [
    "print(\"NET PRESENT VALUE = \", npv, \" OTRA VARIABLE\", a)"
   ]
  },
  {
   "cell_type": "code",
   "execution_count": 7,
   "id": "subject-clinton",
   "metadata": {},
   "outputs": [
    {
     "name": "stdout",
     "output_type": "stream",
     "text": [
      "NET PRESENT VALUE = 27.059518366102726\n"
     ]
    }
   ],
   "source": [
    "print(\"NET PRESENT VALUE = \"+str(npv))"
   ]
  },
  {
   "cell_type": "code",
   "execution_count": 8,
   "id": "unlike-landscape",
   "metadata": {},
   "outputs": [
    {
     "data": {
      "text/plain": [
       "'3'"
      ]
     },
     "execution_count": 8,
     "metadata": {},
     "output_type": "execute_result"
    }
   ],
   "source": [
    "str(3)"
   ]
  },
  {
   "cell_type": "markdown",
   "id": "social-reason",
   "metadata": {},
   "source": [
    "# String - Cadenas de caracteres - Texto"
   ]
  },
  {
   "cell_type": "code",
   "execution_count": 12,
   "id": "antique-statistics",
   "metadata": {},
   "outputs": [
    {
     "data": {
      "text/plain": [
       "'Esto es un texto'"
      ]
     },
     "execution_count": 12,
     "metadata": {},
     "output_type": "execute_result"
    }
   ],
   "source": [
    "\"Esto es un texto\"\n",
    "'Esto es un texto'"
   ]
  },
  {
   "cell_type": "code",
   "execution_count": 10,
   "id": "stuffed-tissue",
   "metadata": {},
   "outputs": [
    {
     "name": "stdout",
     "output_type": "stream",
     "text": [
      "El valor presente neto es \n"
     ]
    }
   ],
   "source": [
    "print(\"El valor presente neto es \")"
   ]
  },
  {
   "cell_type": "code",
   "execution_count": 11,
   "id": "interstate-pixel",
   "metadata": {},
   "outputs": [
    {
     "data": {
      "text/plain": [
       "'Esto es un texto'"
      ]
     },
     "execution_count": 11,
     "metadata": {},
     "output_type": "execute_result"
    }
   ],
   "source": [
    "'Esto es un texto'"
   ]
  },
  {
   "cell_type": "code",
   "execution_count": 12,
   "id": "christian-novelty",
   "metadata": {},
   "outputs": [
    {
     "data": {
      "text/plain": [
       "\"Mary's Restaurant\""
      ]
     },
     "execution_count": 12,
     "metadata": {},
     "output_type": "execute_result"
    }
   ],
   "source": [
    "\"Mary's Restaurant\""
   ]
  },
  {
   "cell_type": "code",
   "execution_count": 13,
   "id": "pressed-banner",
   "metadata": {},
   "outputs": [
    {
     "data": {
      "text/plain": [
       "\"Mary's Restaurant\""
      ]
     },
     "execution_count": 13,
     "metadata": {},
     "output_type": "execute_result"
    }
   ],
   "source": [
    "'Mary\\'s Restaurant'"
   ]
  },
  {
   "cell_type": "code",
   "execution_count": 14,
   "id": "quality-strip",
   "metadata": {},
   "outputs": [
    {
     "ename": "SyntaxError",
     "evalue": "invalid syntax (<ipython-input-14-5bb79638d456>, line 1)",
     "output_type": "error",
     "traceback": [
      "\u001b[1;36m  File \u001b[1;32m\"<ipython-input-14-5bb79638d456>\"\u001b[1;36m, line \u001b[1;32m1\u001b[0m\n\u001b[1;33m    'Mar's\u001b[0m\n\u001b[1;37m         ^\u001b[0m\n\u001b[1;31mSyntaxError\u001b[0m\u001b[1;31m:\u001b[0m invalid syntax\n"
     ]
    }
   ],
   "source": [
    " 'Mar\\'s'"
   ]
  },
  {
   "cell_type": "code",
   "execution_count": 15,
   "id": "genuine-doctor",
   "metadata": {},
   "outputs": [
    {
     "ename": "SyntaxError",
     "evalue": "invalid syntax (<ipython-input-15-9492db368716>, line 1)",
     "output_type": "error",
     "traceback": [
      "\u001b[1;36m  File \u001b[1;32m\"<ipython-input-15-9492db368716>\"\u001b[1;36m, line \u001b[1;32m1\u001b[0m\n\u001b[1;33m    \"Ella dijo: \"Hola!\"\"\u001b[0m\n\u001b[1;37m                 ^\u001b[0m\n\u001b[1;31mSyntaxError\u001b[0m\u001b[1;31m:\u001b[0m invalid syntax\n"
     ]
    }
   ],
   "source": [
    "'Ella dijo: \\\"Hola!\"'"
   ]
  },
  {
   "cell_type": "code",
   "execution_count": 16,
   "id": "executed-yellow",
   "metadata": {},
   "outputs": [
    {
     "data": {
      "text/plain": [
       "'Hola ella dijo:\"Que paso\"'"
      ]
     },
     "execution_count": 16,
     "metadata": {},
     "output_type": "execute_result"
    }
   ],
   "source": [
    "'Hola ella dijo:\"Que paso\"'"
   ]
  },
  {
   "cell_type": "code",
   "execution_count": 17,
   "id": "ethical-hazard",
   "metadata": {},
   "outputs": [
    {
     "data": {
      "text/plain": [
       "' Ella dijo \" Hola \" '"
      ]
     },
     "execution_count": 17,
     "metadata": {},
     "output_type": "execute_result"
    }
   ],
   "source": [
    "# escaping special characters\n",
    "\" Ella dijo \\\" Hola \\\" \""
   ]
  },
  {
   "cell_type": "code",
   "execution_count": 18,
   "id": "attended-medicaid",
   "metadata": {},
   "outputs": [
    {
     "data": {
      "text/plain": [
       "\"Mary's Restaurant\""
      ]
     },
     "execution_count": 18,
     "metadata": {},
     "output_type": "execute_result"
    }
   ],
   "source": [
    "'Mary\\'s Restaurant'"
   ]
  },
  {
   "cell_type": "code",
   "execution_count": 15,
   "id": "systematic-water",
   "metadata": {},
   "outputs": [
    {
     "name": "stdout",
     "output_type": "stream",
     "text": [
      "hola\n",
      "\n",
      "\tEsto es un texto\n",
      " de multiples lines \n",
      "\n",
      "texto final\n"
     ]
    }
   ],
   "source": [
    "print(\"hola\")\n",
    "print(\"\\n\\tEsto es un texto\\n de multiples lines \\n\")\n",
    "print(\"texto final\")"
   ]
  },
  {
   "cell_type": "code",
   "execution_count": 20,
   "id": "timely-charge",
   "metadata": {},
   "outputs": [
    {
     "name": "stdout",
     "output_type": "stream",
     "text": [
      "\tHola\tComo\tEstas\n"
     ]
    }
   ],
   "source": [
    "print(\"\\tHola\\tComo\\tEstas\")"
   ]
  },
  {
   "cell_type": "markdown",
   "id": "circular-intro",
   "metadata": {},
   "source": [
    "## String Formatting"
   ]
  },
  {
   "cell_type": "code",
   "execution_count": 26,
   "id": "recorded-career",
   "metadata": {},
   "outputs": [
    {
     "name": "stdout",
     "output_type": "stream",
     "text": [
      "La empresa  135.5  cuyo  AAPL\n",
      "La empresa Apple cuyo ticker es AAPL precio de compra por accion 135.5\n",
      "La empresa Apple cuyo ticker es AAPL y su valor es 135.5\n"
     ]
    }
   ],
   "source": [
    "stock_price = 135.5 # tipo de dato: float\n",
    "ticker = 'AAPL' # tipo de dato texto\n",
    "company_name = \"Apple\" # tipo de dato text\n",
    "print(\"La empresa \",stock_price,\" cuyo \", ticker)\n",
    "print(\"La empresa \"+company_name+\" cuyo ticker es \"+ticker+\" precio de compra por accion \"+str(stock_price))\n",
    "print(f\"La empresa {company_name} cuyo ticker es {ticker} y su valor es {stock_price}\")"
   ]
  },
  {
   "cell_type": "code",
   "execution_count": 36,
   "id": "certain-stocks",
   "metadata": {},
   "outputs": [
    {
     "name": "stdout",
     "output_type": "stream",
     "text": [
      "El precio de AAPL 135.5\n"
     ]
    }
   ],
   "source": [
    "print(\"El precio de \" + ticker + str(stock_price))"
   ]
  },
  {
   "cell_type": "code",
   "execution_count": 50,
   "id": "varying-advantage",
   "metadata": {},
   "outputs": [],
   "source": [
    "texto = \"Hola como \" + \"estas\""
   ]
  },
  {
   "cell_type": "code",
   "execution_count": 51,
   "id": "tight-duration",
   "metadata": {},
   "outputs": [
    {
     "ename": "TypeError",
     "evalue": "can only concatenate str (not \"float\") to str",
     "output_type": "error",
     "traceback": [
      "\u001b[1;31m---------------------------------------------------------------------------\u001b[0m",
      "\u001b[1;31mTypeError\u001b[0m                                 Traceback (most recent call last)",
      "\u001b[1;32m<ipython-input-51-e49751eb3115>\u001b[0m in \u001b[0;36m<module>\u001b[1;34m\u001b[0m\n\u001b[1;32m----> 1\u001b[1;33m \u001b[0mtexto\u001b[0m \u001b[1;33m=\u001b[0m \u001b[1;34m\"El valor presente neto es \"\u001b[0m\u001b[1;33m+\u001b[0m \u001b[0mnpv\u001b[0m\u001b[1;33m\u001b[0m\u001b[1;33m\u001b[0m\u001b[0m\n\u001b[0m",
      "\u001b[1;31mTypeError\u001b[0m: can only concatenate str (not \"float\") to str"
     ]
    }
   ],
   "source": [
    "texto = \"El valor presente neto es \"+ npv"
   ]
  },
  {
   "cell_type": "code",
   "execution_count": 55,
   "id": "current-european",
   "metadata": {},
   "outputs": [],
   "source": [
    "texto = f\"El valor presente neto {npv}\""
   ]
  },
  {
   "cell_type": "code",
   "execution_count": 58,
   "id": "smooth-extreme",
   "metadata": {},
   "outputs": [],
   "source": [
    "texto = texto + \" Hola\""
   ]
  },
  {
   "cell_type": "code",
   "execution_count": 57,
   "id": "hindu-strength",
   "metadata": {},
   "outputs": [
    {
     "name": "stdout",
     "output_type": "stream",
     "text": [
      "El valor presente neto 27.059518366102726Hola\n"
     ]
    }
   ],
   "source": [
    "print (texto)"
   ]
  },
  {
   "cell_type": "markdown",
   "id": "vanilla-smile",
   "metadata": {},
   "source": [
    "***\n",
    "## Data types conversion  / Cast"
   ]
  },
  {
   "cell_type": "code",
   "execution_count": 62,
   "id": "ahead-uncle",
   "metadata": {},
   "outputs": [
    {
     "data": {
      "text/plain": [
       "'10'"
      ]
     },
     "execution_count": 62,
     "metadata": {},
     "output_type": "execute_result"
    }
   ],
   "source": [
    "#Number to String str()\n",
    "str(10)"
   ]
  },
  {
   "cell_type": "code",
   "execution_count": 63,
   "id": "interesting-librarian",
   "metadata": {},
   "outputs": [
    {
     "data": {
      "text/plain": [
       "'50.0'"
      ]
     },
     "execution_count": 63,
     "metadata": {},
     "output_type": "execute_result"
    }
   ],
   "source": [
    "str(50.0)"
   ]
  },
  {
   "cell_type": "code",
   "execution_count": 64,
   "id": "successful-serial",
   "metadata": {},
   "outputs": [
    {
     "data": {
      "text/plain": [
       "3.0"
      ]
     },
     "execution_count": 64,
     "metadata": {},
     "output_type": "execute_result"
    }
   ],
   "source": [
    "# float()  int()\n",
    "float(3)"
   ]
  },
  {
   "cell_type": "code",
   "execution_count": 29,
   "id": "external-armor",
   "metadata": {
    "scrolled": true
   },
   "outputs": [
    {
     "data": {
      "text/plain": [
       "60.0"
      ]
     },
     "execution_count": 29,
     "metadata": {},
     "output_type": "execute_result"
    }
   ],
   "source": [
    "a=float('35')\n",
    "a+25"
   ]
  },
  {
   "cell_type": "code",
   "execution_count": 30,
   "id": "completed-latest",
   "metadata": {},
   "outputs": [
    {
     "data": {
      "text/plain": [
       "35"
      ]
     },
     "execution_count": 30,
     "metadata": {},
     "output_type": "execute_result"
    }
   ],
   "source": [
    "int('35')"
   ]
  },
  {
   "cell_type": "markdown",
   "id": "hybrid-strength",
   "metadata": {},
   "source": [
    "## Input - funcion para lectura de datos por parte del usuario"
   ]
  },
  {
   "cell_type": "code",
   "execution_count": 1,
   "id": "failing-credits",
   "metadata": {},
   "outputs": [
    {
     "name": "stdout",
     "output_type": "stream",
     "text": [
      "Dime tu edad33\n"
     ]
    },
    {
     "data": {
      "text/plain": [
       "'33'"
      ]
     },
     "execution_count": 1,
     "metadata": {},
     "output_type": "execute_result"
    }
   ],
   "source": [
    "# Lo que se lee por input siempre se almacena como string\n",
    "input(\"Dime tu edad\")"
   ]
  },
  {
   "cell_type": "code",
   "execution_count": 2,
   "id": "committed-cycle",
   "metadata": {},
   "outputs": [
    {
     "name": "stdout",
     "output_type": "stream",
     "text": [
      "Dime tu edad33\n"
     ]
    }
   ],
   "source": [
    "age = input (\"Dime tu edad\")"
   ]
  },
  {
   "cell_type": "code",
   "execution_count": 3,
   "id": "sapphire-survey",
   "metadata": {},
   "outputs": [
    {
     "data": {
      "text/plain": [
       "'33'"
      ]
     },
     "execution_count": 3,
     "metadata": {},
     "output_type": "execute_result"
    }
   ],
   "source": [
    "print(age)"
   ]
  },
  {
   "cell_type": "code",
   "execution_count": 70,
   "id": "relative-causing",
   "metadata": {},
   "outputs": [
    {
     "ename": "TypeError",
     "evalue": "can only concatenate str (not \"int\") to str",
     "output_type": "error",
     "traceback": [
      "\u001b[1;31m---------------------------------------------------------------------------\u001b[0m",
      "\u001b[1;31mTypeError\u001b[0m                                 Traceback (most recent call last)",
      "\u001b[1;32m<ipython-input-70-739dd06568cf>\u001b[0m in \u001b[0;36m<module>\u001b[1;34m\u001b[0m\n\u001b[1;32m----> 1\u001b[1;33m \u001b[0mretirement_age\u001b[0m\u001b[1;33m=\u001b[0m \u001b[0mage\u001b[0m\u001b[1;33m+\u001b[0m\u001b[1;36m20\u001b[0m\u001b[1;33m\u001b[0m\u001b[1;33m\u001b[0m\u001b[0m\n\u001b[0m",
      "\u001b[1;31mTypeError\u001b[0m: can only concatenate str (not \"int\") to str"
     ]
    }
   ],
   "source": [
    "retirement_age= age+20"
   ]
  },
  {
   "cell_type": "code",
   "execution_count": null,
   "id": "attempted-messaging",
   "metadata": {},
   "outputs": [],
   "source": [
    "age = input (\"Dime tu edad\")\n",
    "retirement_age= int(age)+20\n",
    "print(retirement_age)"
   ]
  },
  {
   "cell_type": "code",
   "execution_count": 5,
   "id": "generic-yeast",
   "metadata": {},
   "outputs": [
    {
     "name": "stdout",
     "output_type": "stream",
     "text": [
      "Diga el total de USD en Portafolio 50000\n",
      "Deberias tener un total de 32500.0 en SPY\n"
     ]
    }
   ],
   "source": [
    "amount_port = input(\"Diga el total de USD en Portafolio \")\n",
    "amount_index = float(amount_port) * 0.65\n",
    "print(f\"Deberias tener un total de {amount_index} en SPY\")"
   ]
  },
  {
   "cell_type": "code",
   "execution_count": 6,
   "id": "identified-wyoming",
   "metadata": {},
   "outputs": [
    {
     "name": "stdout",
     "output_type": "stream",
     "text": [
      "Deberias ... 32500.0 en SPY\n"
     ]
    }
   ],
   "source": [
    "print(\"Deberias ...\", amount_index, \"en SPY\")"
   ]
  },
  {
   "cell_type": "code",
   "execution_count": 22,
   "id": "hungarian-playlist",
   "metadata": {},
   "outputs": [
    {
     "name": "stdout",
     "output_type": "stream",
     "text": [
      "************************************************************\n",
      "\t\tFIRE Calculator\n",
      "============================================================\n",
      "\n"
     ]
    }
   ],
   "source": [
    "# Bloque que crea el header / titulo\n",
    "header=\"*\"*60 #esto es lo mismo que poner los 60 '*' dentro de las comillas dobles\n",
    "header+=\"\\n\\t\\tFIRE Calculator\\n\" #header = header + \"\\n\\t\\tFIRE Calculator\\n\"\n",
    "header+=\"=\"*60\n",
    "print(header)"
   ]
  },
  {
   "cell_type": "code",
   "execution_count": 13,
   "id": "registered-employee",
   "metadata": {},
   "outputs": [
    {
     "name": "stdout",
     "output_type": "stream",
     "text": [
      "¿Cúal es tu nombre? Gabriel\n",
      "¿Diga su edad? 31\n",
      "Especifique su ingreso neto anual (luego de impuestos) 100000\n",
      "Especifique sus gastos anuales (monto total USD) 50000\n",
      "Indique el monto total de su portafolio actual (en USD) 90000\n",
      "Especifique el total de ahorros anuales (en USD - contribución anual promedio a su portafolio)10000\n"
     ]
    }
   ],
   "source": [
    "#Bloque de solicitar datos\n",
    "name=input(\"¿Cúal es tu nombre? \")\n",
    "age = int(input(\"¿Diga su edad? \"))\n",
    "at_income = float(input(\"Especifique su ingreso neto anual (luego de impuestos) \"))\n",
    "expenses =float(input(\"Especifique sus gastos anuales (monto total USD) \"))\n",
    "pf_value =float(input(\"Indique el monto total de su portafolio actual (en USD) \"))\n",
    "year_sv = float(input(\"Especifique el total de ahorros anuales (en USD - contribución anual promedio a su portafolio)\"))\n",
    "RATE = 0.08\n",
    "WD_RATE = 0.038\n"
   ]
  },
  {
   "cell_type": "code",
   "execution_count": 18,
   "id": "endless-expression",
   "metadata": {},
   "outputs": [
    {
     "name": "stdout",
     "output_type": "stream",
     "text": [
      "1315789.4736842106\n",
      "1,315,789.47\n"
     ]
    }
   ],
   "source": [
    "fire_goal=expenses/WD_RATE\n",
    "print(fire_goal)\n",
    "print(f\"{fire_goal:,.2f}\")"
   ]
  },
  {
   "cell_type": "code",
   "execution_count": 46,
   "id": "buried-plumbing",
   "metadata": {},
   "outputs": [
    {
     "name": "stdout",
     "output_type": "stream",
     "text": [
      "************************************************************\n",
      "\t\tFIRE Calculator\n",
      "============================================================\n",
      "\n",
      "\tNombre\t\t\tGabriel\n",
      "\tEdad\t\t\t31\n",
      "\tIngresos After-tax\t$100,000.00\n",
      "\tGastos Anuales\t\t$50,000.00\n",
      "\tPortafolio Inversion\t$90,000.00\n",
      "\tContrib. Ahorro Anual\t$10,000.00\n",
      "\tTasa de Ret. Anual\t8.0%\n",
      "\tTasa de Retiro\t\t3.80%\n",
      "============================================================\n"
     ]
    }
   ],
   "source": [
    "#Bloque de imprimir datos solicitados\n",
    "data = f\"\\n\\tNombre\\t\\t\\t{name}\"\n",
    "data += f\"\\n\\tEdad\\t\\t\\t{age}\"\n",
    "data += f\"\\n\\tIngresos After-tax\\t${at_income:,.2f}\" # :,.2f me permite formatear el numero de la forma xxx,xxx.xx\n",
    "data += f\"\\n\\tGastos Anuales\\t\\t${expenses:,.2f}\"\n",
    "data += f\"\\n\\tPortafolio Inversion\\t${pf_value:,.2f}\"\n",
    "data += f\"\\n\\tContrib. Ahorro Anual\\t${year_sv :,.2f}\"\n",
    "data += f\"\\n\\tTasa de Ret. Anual\\t{RATE*100}%\"\n",
    "data += f\"\\n\\tTasa de Retiro\\t\\t{WD_RATE:.2%}\\n\"\n",
    "data += \"=\"*60\n",
    "print(header+data)"
   ]
  },
  {
   "cell_type": "code",
   "execution_count": 66,
   "id": "relative-collapse",
   "metadata": {},
   "outputs": [
    {
     "name": "stdout",
     "output_type": "stream",
     "text": [
      "El total de años para transformar $90,000.00 en $1,315,789.47 es 34.266194298518435\n",
      "La edad para obtener el valor final es 65\n"
     ]
    }
   ],
   "source": [
    "import math\n",
    "ytd = 72/int(RATE*100) # años para duplicar la inversion, regla del 72\n",
    "#print(f\"Cada {ytd} años el portafolio se va a duplicar, tomando la tasa de {RATE:.2%}\" )\n",
    "times_to_goal = fire_goal // pf_value # la cantidad de vecedes que mi portafolio actual esta en el valor de fire_goal (el monto que requiero para retirarme)\n",
    "#print(times_to_goal)\n",
    "total_ptg = math.log(times_to_goal,2)\n",
    "#print(f\"Se necesitan {total_ptg} periodos de {ytd} años para transformar valor inicial del portafolio en Fire GOAL a la tasa\")\n",
    "total_ytg = ytd * total_ptg\n",
    "print(f\"El total de años para transformar ${pf_value:,.2f} en ${fire_goal:,.2f} es {total_ytg}\")\n",
    "fire_age = age + total_ytg\n",
    "print(\"La edad para obtener el valor final es \"+str(int(fire_age)))"
   ]
  },
  {
   "cell_type": "code",
   "execution_count": null,
   "id": "greek-adult",
   "metadata": {},
   "outputs": [],
   "source": []
  }
 ],
 "metadata": {
  "kernelspec": {
   "display_name": "Python 3",
   "language": "python",
   "name": "python3"
  },
  "language_info": {
   "codemirror_mode": {
    "name": "ipython",
    "version": 3
   },
   "file_extension": ".py",
   "mimetype": "text/x-python",
   "name": "python",
   "nbconvert_exporter": "python",
   "pygments_lexer": "ipython3",
   "version": "3.8.5"
  }
 },
 "nbformat": 4,
 "nbformat_minor": 5
}
