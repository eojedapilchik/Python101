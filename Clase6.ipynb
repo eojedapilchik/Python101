{
 "cells": [
  {
   "cell_type": "markdown",
   "metadata": {},
   "source": [
    "### Listas (cont)"
   ]
  },
  {
   "cell_type": "code",
   "execution_count": 8,
   "metadata": {},
   "outputs": [
    {
     "name": "stdout",
     "output_type": "stream",
     "text": [
      "['AAPL', 'MSFT', 'GOOGL', 'AMZN', 'MRO', 'RDS/A', 'CVX']\n",
      "['MRO', 'RDS/A', 'CVX', 'NFLX', 'TWTR']\n",
      "['CVX', 'MRO', 'NFLX', 'RDS/A', 'TWTR']\n",
      "True\n",
      "False\n",
      "['AAPL', 'MSFT', 'X', 'AMZN']\n"
     ]
    }
   ],
   "source": [
    "accion_a = ['AAPL', 'MSFT','GOOGL','AMZN']\n",
    "accion_b = ['MRO','RDS/A', 'CVX']\n",
    "\n",
    "#combinar dos listas\n",
    "acciones_todas = accion_a + accion_b\n",
    "print(acciones_todas)\n",
    "\n",
    "#extension - agregar mas elementos a una lista\n",
    "accion_b.extend(['NFLX','TWTR'])\n",
    "print(accion_b)\n",
    "\n",
    "# ordernar\n",
    "accion_b.sort()\n",
    "print(accion_b)\n",
    "\n",
    "# verificar si un elemento esta dentro de la lista\n",
    "print('AAPL' in accion_a)\n",
    "print('AAPL' in accion_b)\n",
    "\n",
    "#mutable - se puede cambiar sus elementos internos\n",
    "accion_a[2] = 'X'\n",
    "print(accion_a)\n",
    "\n"
   ]
  },
  {
   "cell_type": "code",
   "execution_count": 13,
   "metadata": {},
   "outputs": [
    {
     "name": "stdout",
     "output_type": "stream",
     "text": [
      "[12, 35, 5.1, 60.2]\n",
      "60.2\n",
      "[12, 35, 5.1]\n",
      "35\n",
      "[12, 5.1]\n"
     ]
    }
   ],
   "source": [
    "#Quitar Elementos\n",
    "blockchain =[12,35,5.1,60.2]\n",
    "print (blockchain)\n",
    "\n",
    "# Remover el ultimo elelmento de la lista - pop() - devuelve el elemtento que esta sacando de la lista\n",
    "ultimo = blockchain.pop()\n",
    "print(ultimo)\n",
    "print(blockchain)\n",
    "\n",
    "#Remover pero en una posicion especifica\n",
    "segundo = blockchain.pop(1)\n",
    "print(segundo)\n",
    "print(blockchain)"
   ]
  },
  {
   "cell_type": "code",
   "execution_count": 15,
   "metadata": {},
   "outputs": [
    {
     "name": "stdout",
     "output_type": "stream",
     "text": [
      "[12, 35, 5.1, 60.2]\n",
      "[12, 35, 5.1, 60.2, 12]\n",
      "[12, 35, 5.1, 60.2, 12, 24]\n"
     ]
    }
   ],
   "source": [
    "#Agregar Elementos\n",
    "blockchain =[12,35,5.1,60.2]\n",
    "print (blockchain)\n",
    "\n",
    "#Agregar un elemento al final de la lista\n",
    "blockchain.append(12)\n",
    "print (blockchain)\n",
    "\n",
    "blockchain.append(12*2)\n",
    "print (blockchain)"
   ]
  },
  {
   "cell_type": "code",
   "execution_count": 27,
   "metadata": {},
   "outputs": [
    {
     "name": "stdout",
     "output_type": "stream",
     "text": [
      "[35, 5.1]\n",
      "[35, 5.1, 60.2]\n",
      "[12, 35, 5.1, 60.2, 12, 24]\n",
      "[35, 5.1, 60.2]\n",
      "[12, 35, 5.1, 60.2]\n",
      "[5.1, 60.2, 12, 24]\n",
      "[12, 35, 5.1, 60.2, 12]\n",
      "[60.2, 12, 24]\n",
      "[12, 5.1, 12]\n",
      "[24, 12, 60.2, 5.1, 35, 12]\n"
     ]
    }
   ],
   "source": [
    "# Cortar, slicing de una lista\n",
    "print(blockchain[1:3]) # slicing desde el indice 1 hasta el 2\n",
    "print(blockchain[1:4])\n",
    "print(blockchain)\n",
    "\n",
    "subconjunto = blockchain[1:4]\n",
    "print(subconjunto)\n",
    "\n",
    "print(blockchain[:4]) # slice desde el indice 0 hasta el 3 (no incluye el 4)\n",
    "\n",
    "print(blockchain[2:]) # slice desde el indice 2 hasta el ultimo\n",
    "\n",
    "print(blockchain[:-1]) # slice todos menos el ultimo\n",
    "\n",
    "print(blockchain[-3:]) # slice trae los ultimos 3 elementos\n",
    "\n",
    "print(blockchain[::2]) # slice trae cada dos elementos, empezando por el primero\n",
    "\n",
    "print(blockchain[::-1]) # invertir el orden de la lista\n"
   ]
  },
  {
   "cell_type": "code",
   "execution_count": 31,
   "metadata": {},
   "outputs": [
    {
     "name": "stdout",
     "output_type": "stream",
     "text": [
      "El me\n"
     ]
    },
    {
     "ename": "TypeError",
     "evalue": "'str' object does not support item assignment",
     "output_type": "error",
     "traceback": [
      "\u001b[1;31m---------------------------------------------------------------------------\u001b[0m",
      "\u001b[1;31mTypeError\u001b[0m                                 Traceback (most recent call last)",
      "\u001b[1;32m<ipython-input-31-4f24bd477b01>\u001b[0m in \u001b[0;36m<module>\u001b[1;34m\u001b[0m\n\u001b[0;32m      6\u001b[0m \u001b[1;33m\u001b[0m\u001b[0m\n\u001b[0;32m      7\u001b[0m \u001b[1;31m# Las cadenas son inmutables, no se pueden cambiar\u001b[0m\u001b[1;33m\u001b[0m\u001b[1;33m\u001b[0m\u001b[1;33m\u001b[0m\u001b[0m\n\u001b[1;32m----> 8\u001b[1;33m \u001b[0mtexto\u001b[0m\u001b[1;33m[\u001b[0m\u001b[1;36m4\u001b[0m\u001b[1;33m]\u001b[0m \u001b[1;33m=\u001b[0m \u001b[1;34m'a'\u001b[0m\u001b[1;33m\u001b[0m\u001b[1;33m\u001b[0m\u001b[0m\n\u001b[0m\u001b[0;32m      9\u001b[0m \u001b[0mprint\u001b[0m\u001b[1;33m(\u001b[0m\u001b[0mtexto\u001b[0m\u001b[1;33m)\u001b[0m\u001b[1;33m\u001b[0m\u001b[1;33m\u001b[0m\u001b[0m\n",
      "\u001b[1;31mTypeError\u001b[0m: 'str' object does not support item assignment"
     ]
    }
   ],
   "source": [
    "#Cadenas de caracteres son una lista\n",
    "\n",
    "texto = \"El mercado hoy estuvo a la alza\"\n",
    "texto[::-1]\n",
    "print(texto[:5])\n",
    "\n",
    "# Las cadenas son inmutables, no se pueden cambiar\n",
    "texto[4] = 'a'\n",
    "print(texto)"
   ]
  },
  {
   "cell_type": "code",
   "execution_count": 34,
   "metadata": {},
   "outputs": [
    {
     "name": "stdout",
     "output_type": "stream",
     "text": [
      "['AAPL', 'MSFT', 'GOOGL', 'AMZN']\n",
      "['X', 'MSFT', 'GOOGL', 'AMZN']\n",
      "['X', 'AAPL', 'GOOGL', 'AMZN']\n",
      "['X', 'AAPL', 'GOOGL', 'AMZN']\n"
     ]
    }
   ],
   "source": [
    "accion_a = ['AAPL', 'MSFT','GOOGL','AMZN']\n",
    "\n",
    "copia = accion_a\n",
    "\n",
    "print(copia)\n",
    "accion_a[0]='X'\n",
    "print(copia)\n",
    "copia[1]= 'AAPL'\n",
    "print(copia)\n",
    "print(accion_a)\n"
   ]
  },
  {
   "cell_type": "markdown",
   "metadata": {},
   "source": [
    "## Diccionarios - Dictionary\n",
    "\n",
    "es una estructura de datos.  \n",
    "1) no son secuenciales, es decir, no tienen orden  \n",
    "2) organizar data relacionada"
   ]
  },
  {
   "cell_type": "code",
   "execution_count": 38,
   "metadata": {},
   "outputs": [
    {
     "name": "stdout",
     "output_type": "stream",
     "text": [
      "{'simbolo': 'UI', 'nombre': 'Ubiquiti Networks', 'precio': 200.0, 'fundadores': ['Chun li', 'Steve z.', 'Luis perez'], 'activa': True, 'ultimos earnings': [1.5, 1.5, 2, 2], 'velas': [[210, 189, 190, 200], [210, 189, 190, 200], [210, 189, 190, 200]]}\n"
     ]
    }
   ],
   "source": [
    "accion = {\n",
    "    'simbolo': 'UI',\n",
    "    'nombre' : 'Ubiquiti Networks',\n",
    "    'precio' : 200.0,\n",
    "    'fundadores': ['Chun li','Steve z.', 'Luis perez'],\n",
    "    'activa' : True,\n",
    "    'ultimos earnings':[1.5,1.5,2,2],\n",
    "    'velas': [[210,189,190,200],[210,189,190,200],[210,189,190,200]]\n",
    "}\n",
    "\n",
    "print(accion)"
   ]
  },
  {
   "cell_type": "code",
   "execution_count": 41,
   "metadata": {},
   "outputs": [
    {
     "name": "stdout",
     "output_type": "stream",
     "text": [
      "210\n",
      "[210, 189, 190, 200]\n",
      "197.25\n"
     ]
    }
   ],
   "source": [
    "print(accion['velas'][0][0])\n",
    "\n",
    "print(accion['velas'][0])\n",
    "print(sum(accion['velas'][0])/len(accion['velas'][0]))"
   ]
  },
  {
   "cell_type": "code",
   "execution_count": 45,
   "metadata": {},
   "outputs": [
    {
     "name": "stdout",
     "output_type": "stream",
     "text": [
      "El ticker de la accion es UI\n",
      "['Chun li', 'Steve z.', 'Luis perez']\n",
      "Chun li\n",
      "['Chun li', 'Steve z.']\n"
     ]
    }
   ],
   "source": [
    "print(f\"El ticker de la accion es {accion['simbolo']}\")\n",
    "print(accion['fundadores'])\n",
    "print(accion['fundadores'][0])\n",
    "print(accion['fundadores'][0:2])"
   ]
  },
  {
   "cell_type": "markdown",
   "metadata": {},
   "source": [
    "## Blockchain"
   ]
  },
  {
   "cell_type": "code",
   "execution_count": 57,
   "metadata": {},
   "outputs": [
    {
     "name": "stdout",
     "output_type": "stream",
     "text": [
      "{'id': 0, 'BloqPrev': 'genesis', 'Transaccion': ['Ar:Lu:24', 'Pe:Pa:30', 'T3'], 'pow': 0}\n"
     ]
    }
   ],
   "source": [
    "import hashlib\n",
    "import json\n",
    "\n",
    "block1 ={\n",
    "    'id':0,\n",
    "    'BloqPrev': 'genesis',\n",
    "    'Transaccion': ['Al:Ar:24','Pe:Pa:30','T3'],\n",
    "    'pow': 0\n",
    "}\n",
    "\n",
    "print(block1)"
   ]
  },
  {
   "cell_type": "code",
   "execution_count": 58,
   "metadata": {
    "scrolled": true
   },
   "outputs": [
    {
     "name": "stdout",
     "output_type": "stream",
     "text": [
      "dd3103bf960c2b274590110bfff9e901076b57f75e76845532c085366dc422a4\n"
     ]
    }
   ],
   "source": [
    "block1_str = json.dumps(block1) # convirtiendo el dictionario en una cadena texto para poder meterla en la funcion sha256\n",
    "block1_raw_hash = hashlib.sha256(block1_str.encode('utf-8')) # conviertiendo el texto(diccionario del bloque 1) en un hash\n",
    "block1_hash = block1_raw_hash.hexdigest() # transforma a hexadecimal, es decir imprime el hash\n",
    "print(block1_hash)\n"
   ]
  },
  {
   "cell_type": "code",
   "execution_count": 59,
   "metadata": {},
   "outputs": [
    {
     "name": "stdout",
     "output_type": "stream",
     "text": [
      "ae142ffd731a147972e30c55153d9a3ed7d5b87c99b6a1c4a076d92566191699\n"
     ]
    }
   ],
   "source": [
    "block2 ={\n",
    "    'id':1,\n",
    "    'BloqPrev': block1_hash,\n",
    "    'Transaccion': ['T5','T6','T7'],\n",
    "    'pow': 12\n",
    "}\n",
    "\n",
    "block2_str = json.dumps(block2) # convirtiendo el dictionario en una cadena texto para poder meterla en la funcion sha256\n",
    "block2_raw_hash = hashlib.sha256(block2_str.encode('utf-8')) # conviertiendo el texto(diccionario del bloque 1) en un hash\n",
    "block2_hash = block2_raw_hash.hexdigest() # transforma a hexadecimal, es decir imprime el hash\n",
    "print(block2_hash)"
   ]
  },
  {
   "cell_type": "code",
   "execution_count": 63,
   "metadata": {},
   "outputs": [
    {
     "name": "stdout",
     "output_type": "stream",
     "text": [
      "[{'id': 0, 'BloqPrev': 'genesis', 'Transaccion': ['Ar:Lu:24', 'Pe:Pa:30', 'T3'], 'pow': 0}, {'id': 1, 'BloqPrev': 'dd3103bf960c2b274590110bfff9e901076b57f75e76845532c085366dc422a4', 'Transaccion': ['T5', 'T6', 'T7'], 'pow': 12}]\n"
     ]
    }
   ],
   "source": [
    "blockchain = [block1,block2]\n",
    "print(blockchain)"
   ]
  },
  {
   "cell_type": "code",
   "execution_count": 65,
   "metadata": {},
   "outputs": [
    {
     "name": "stdout",
     "output_type": "stream",
     "text": [
      "9460648f12035b21b77225585db00babff97f08052741a0bf895f84667efa244\n",
      "ae142ffd731a147972e30c55153d9a3ed7d5b87c99b6a1c4a076d92566191699\n"
     ]
    }
   ],
   "source": [
    "block2f = {\n",
    "    'id':1,\n",
    "    'BloqPrev': block1_hash,\n",
    "    'Transaccion': ['T5f','T6','T7'],\n",
    "    'pow': 12\n",
    "}\n",
    "block2f_str = json.dumps(block2f) # convirtiendo el dictionario en una cadena texto para poder meterla en la funcion sha256\n",
    "block2f_raw_hash = hashlib.sha256(block2f_str.encode('utf-8')) # conviertiendo el texto(diccionario del bloque 1) en un hash\n",
    "block2f_hash = block2f_raw_hash.hexdigest() # transforma a hexadecimal, es decir imprime el hash\n",
    "print(block2f_hash)\n",
    "print(block2_hash)"
   ]
  },
  {
   "cell_type": "code",
   "execution_count": null,
   "metadata": {},
   "outputs": [],
   "source": []
  }
 ],
 "metadata": {
  "kernelspec": {
   "display_name": "Python 3",
   "language": "python",
   "name": "python3"
  },
  "language_info": {
   "codemirror_mode": {
    "name": "ipython",
    "version": 3
   },
   "file_extension": ".py",
   "mimetype": "text/x-python",
   "name": "python",
   "nbconvert_exporter": "python",
   "pygments_lexer": "ipython3",
   "version": "3.8.5"
  }
 },
 "nbformat": 4,
 "nbformat_minor": 4
}
