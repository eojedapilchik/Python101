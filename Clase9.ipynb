{
 "cells": [
  {
   "cell_type": "code",
   "execution_count": 1,
   "metadata": {},
   "outputs": [],
   "source": [
    "import pandas as pd\n",
    "import numpy as np"
   ]
  },
  {
   "cell_type": "code",
   "execution_count": 6,
   "metadata": {},
   "outputs": [],
   "source": [
    "etiquetas = ['X','YZ','ZB']\n",
    "mi_lista = [10,20,30]\n",
    "arr_np = np.array(mi_lista)\n",
    "d={'X':10,'YZ':20, 'ZB':100}"
   ]
  },
  {
   "cell_type": "code",
   "execution_count": 4,
   "metadata": {},
   "outputs": [
    {
     "data": {
      "text/plain": [
       "0    10\n",
       "1    20\n",
       "2    30\n",
       "dtype: int64"
      ]
     },
     "execution_count": 4,
     "metadata": {},
     "output_type": "execute_result"
    }
   ],
   "source": [
    "pd.Series(mi_lista)"
   ]
  },
  {
   "cell_type": "code",
   "execution_count": 5,
   "metadata": {},
   "outputs": [
    {
     "data": {
      "text/plain": [
       "X     10\n",
       "YZ    20\n",
       "ZB    30\n",
       "dtype: int64"
      ]
     },
     "execution_count": 5,
     "metadata": {},
     "output_type": "execute_result"
    }
   ],
   "source": [
    "pd.Series(data=mi_lista,index=etiquetas)"
   ]
  },
  {
   "cell_type": "code",
   "execution_count": 7,
   "metadata": {},
   "outputs": [
    {
     "data": {
      "text/plain": [
       "X     10\n",
       "YZ    20\n",
       "ZB    30\n",
       "dtype: int32"
      ]
     },
     "execution_count": 7,
     "metadata": {},
     "output_type": "execute_result"
    }
   ],
   "source": [
    "pd.Series(arr_np, etiquetas)"
   ]
  },
  {
   "cell_type": "code",
   "execution_count": 8,
   "metadata": {},
   "outputs": [
    {
     "data": {
      "text/plain": [
       "X      10\n",
       "YZ     20\n",
       "ZB    100\n",
       "dtype: int64"
      ]
     },
     "execution_count": 8,
     "metadata": {},
     "output_type": "execute_result"
    }
   ],
   "source": [
    "pd.Series(d)"
   ]
  },
  {
   "cell_type": "markdown",
   "metadata": {},
   "source": [
    "## Indices"
   ]
  },
  {
   "cell_type": "code",
   "execution_count": 10,
   "metadata": {},
   "outputs": [
    {
     "data": {
      "text/plain": [
       "USA         1\n",
       "China       2\n",
       "Francia     3\n",
       "Alemania    4\n",
       "dtype: int64"
      ]
     },
     "execution_count": 10,
     "metadata": {},
     "output_type": "execute_result"
    }
   ],
   "source": [
    "import pandas as pd\n",
    "serie1 = pd.Series([1,2,3,4], index=['USA','China','Francia','Alemania'])\n",
    "serie1"
   ]
  },
  {
   "cell_type": "code",
   "execution_count": 12,
   "metadata": {},
   "outputs": [
    {
     "data": {
      "text/plain": [
       "USA       1\n",
       "China     2\n",
       "Italia    3\n",
       "Japon     4\n",
       "dtype: int64"
      ]
     },
     "execution_count": 12,
     "metadata": {},
     "output_type": "execute_result"
    }
   ],
   "source": [
    "serie2 = pd.Series([1,2,3,4], index=['USA','China','Italia','Japon'])\n",
    "serie2"
   ]
  },
  {
   "cell_type": "code",
   "execution_count": 34,
   "metadata": {},
   "outputs": [
    {
     "name": "stdout",
     "output_type": "stream",
     "text": [
      "1\n",
      "1\n",
      "4\n"
     ]
    }
   ],
   "source": [
    "print(serie2[0]) # acceder por indice numerico\n",
    "print(serie2['USA'])# acceder por indice numerico\n",
    "print(serie2[-1])"
   ]
  },
  {
   "cell_type": "code",
   "execution_count": 23,
   "metadata": {},
   "outputs": [
    {
     "name": "stdout",
     "output_type": "stream",
     "text": [
      "No existe ese indice en la Serie\n"
     ]
    }
   ],
   "source": [
    "try:\n",
    "    serie2['Portugal']\n",
    "except KeyError:\n",
    "    print('No existe ese indice en la Serie')\n",
    "except ValueError:\n",
    "    print('El valor esta erroneo, no es del tipo correcto')"
   ]
  },
  {
   "cell_type": "code",
   "execution_count": 26,
   "metadata": {},
   "outputs": [
    {
     "name": "stdout",
     "output_type": "stream",
     "text": [
      "None\n"
     ]
    }
   ],
   "source": [
    "#forma segura de acceder a los datos\n",
    "print(serie2.get('Venezuela'))"
   ]
  },
  {
   "cell_type": "code",
   "execution_count": 33,
   "metadata": {},
   "outputs": [
    {
     "name": "stdout",
     "output_type": "stream",
     "text": [
      "No existe\n"
     ]
    }
   ],
   "source": [
    "if (serie2.get('Venezuela')==None):\n",
    "    print('No existe')\n",
    "else:\n",
    "    print()"
   ]
  },
  {
   "cell_type": "markdown",
   "metadata": {},
   "source": [
    "#### Valores Falso y Verdades - por coersion - conversion implicita\n",
    "\n",
    "https://www.freecodecamp.org/news/truthy-and-falsy-values-in-python/"
   ]
  },
  {
   "cell_type": "code",
   "execution_count": 37,
   "metadata": {},
   "outputs": [
    {
     "data": {
      "text/plain": [
       "1"
      ]
     },
     "execution_count": 37,
     "metadata": {},
     "output_type": "execute_result"
    }
   ],
   "source": [
    "#notacion de punto para acceder a los datos\n",
    "serie2.USA\n",
    "#notacion con brackets corchetes\n",
    "serie2['USA']"
   ]
  },
  {
   "cell_type": "code",
   "execution_count": 40,
   "metadata": {},
   "outputs": [
    {
     "data": {
      "text/plain": [
       "1"
      ]
     },
     "execution_count": 40,
     "metadata": {},
     "output_type": "execute_result"
    }
   ],
   "source": [
    "# Metodos de acceso\n",
    "#loc para acceder por la etiqueta\n",
    "#iloc para acceder por el # indice\n",
    "serie2.loc['USA']"
   ]
  },
  {
   "cell_type": "code",
   "execution_count": 41,
   "metadata": {},
   "outputs": [
    {
     "data": {
      "text/plain": [
       "1"
      ]
     },
     "execution_count": 41,
     "metadata": {},
     "output_type": "execute_result"
    }
   ],
   "source": [
    "serie2.iloc[0]"
   ]
  },
  {
   "cell_type": "code",
   "execution_count": 43,
   "metadata": {},
   "outputs": [
    {
     "name": "stdout",
     "output_type": "stream",
     "text": [
      "USA       1\n",
      "China     2\n",
      "Italia    3\n",
      "Japon     4\n",
      "dtype: int64\n"
     ]
    },
    {
     "data": {
      "text/plain": [
       "USA      1\n",
       "China    2\n",
       "dtype: int64"
      ]
     },
     "execution_count": 43,
     "metadata": {},
     "output_type": "execute_result"
    }
   ],
   "source": [
    "# slicing / partir/ sacar vistas de la data, no incluye el indice de la derecha\n",
    "print(serie2)\n",
    "serie2.iloc[0:2]"
   ]
  },
  {
   "cell_type": "code",
   "execution_count": 44,
   "metadata": {},
   "outputs": [
    {
     "data": {
      "text/plain": [
       "USA      1\n",
       "China    2\n",
       "dtype: int64"
      ]
     },
     "execution_count": 44,
     "metadata": {},
     "output_type": "execute_result"
    }
   ],
   "source": [
    "serie2.loc['USA':'China'] # en este caso si incluye el indice de la derecha"
   ]
  },
  {
   "cell_type": "code",
   "execution_count": 45,
   "metadata": {},
   "outputs": [
    {
     "name": "stdout",
     "output_type": "stream",
     "text": [
      "USA         1\n",
      "China       2\n",
      "Francia     3\n",
      "Alemania    4\n",
      "dtype: int64\n",
      "USA       1\n",
      "China     2\n",
      "Italia    3\n",
      "Japon     4\n",
      "dtype: int64\n"
     ]
    },
    {
     "data": {
      "text/plain": [
       "Alemania    NaN\n",
       "China       4.0\n",
       "Francia     NaN\n",
       "Italia      NaN\n",
       "Japon       NaN\n",
       "USA         2.0\n",
       "dtype: float64"
      ]
     },
     "execution_count": 45,
     "metadata": {},
     "output_type": "execute_result"
    }
   ],
   "source": [
    "print(serie1)\n",
    "print(serie2)\n",
    "serie1 + serie2"
   ]
  },
  {
   "cell_type": "code",
   "execution_count": null,
   "metadata": {},
   "outputs": [],
   "source": [
    "#NaN -> not a number"
   ]
  },
  {
   "cell_type": "markdown",
   "metadata": {},
   "source": [
    "### DataFrame"
   ]
  },
  {
   "cell_type": "code",
   "execution_count": 46,
   "metadata": {},
   "outputs": [],
   "source": [
    "import numpy as np\n",
    "import pandas as pd"
   ]
  },
  {
   "cell_type": "code",
   "execution_count": 47,
   "metadata": {},
   "outputs": [],
   "source": [
    "acciones_list =[\n",
    "    ['AAPL','Apple', 135],\n",
    "    ['MSFT','Microsoft', 100]\n",
    "]"
   ]
  },
  {
   "cell_type": "code",
   "execution_count": 48,
   "metadata": {},
   "outputs": [
    {
     "data": {
      "text/plain": [
       "[['AAPL', 'Apple', 135], ['MSFT', 'Microsoft', 100]]"
      ]
     },
     "execution_count": 48,
     "metadata": {},
     "output_type": "execute_result"
    }
   ],
   "source": [
    "acciones_list"
   ]
  },
  {
   "cell_type": "code",
   "execution_count": 49,
   "metadata": {},
   "outputs": [
    {
     "data": {
      "text/html": [
       "<div>\n",
       "<style scoped>\n",
       "    .dataframe tbody tr th:only-of-type {\n",
       "        vertical-align: middle;\n",
       "    }\n",
       "\n",
       "    .dataframe tbody tr th {\n",
       "        vertical-align: top;\n",
       "    }\n",
       "\n",
       "    .dataframe thead th {\n",
       "        text-align: right;\n",
       "    }\n",
       "</style>\n",
       "<table border=\"1\" class=\"dataframe\">\n",
       "  <thead>\n",
       "    <tr style=\"text-align: right;\">\n",
       "      <th></th>\n",
       "      <th>0</th>\n",
       "      <th>1</th>\n",
       "      <th>2</th>\n",
       "    </tr>\n",
       "  </thead>\n",
       "  <tbody>\n",
       "    <tr>\n",
       "      <th>0</th>\n",
       "      <td>AAPL</td>\n",
       "      <td>Apple</td>\n",
       "      <td>135</td>\n",
       "    </tr>\n",
       "    <tr>\n",
       "      <th>1</th>\n",
       "      <td>MSFT</td>\n",
       "      <td>Microsoft</td>\n",
       "      <td>100</td>\n",
       "    </tr>\n",
       "  </tbody>\n",
       "</table>\n",
       "</div>"
      ],
      "text/plain": [
       "      0          1    2\n",
       "0  AAPL      Apple  135\n",
       "1  MSFT  Microsoft  100"
      ]
     },
     "execution_count": 49,
     "metadata": {},
     "output_type": "execute_result"
    }
   ],
   "source": [
    "pd.DataFrame(acciones_list)"
   ]
  },
  {
   "cell_type": "code",
   "execution_count": 50,
   "metadata": {},
   "outputs": [
    {
     "data": {
      "text/html": [
       "<div>\n",
       "<style scoped>\n",
       "    .dataframe tbody tr th:only-of-type {\n",
       "        vertical-align: middle;\n",
       "    }\n",
       "\n",
       "    .dataframe tbody tr th {\n",
       "        vertical-align: top;\n",
       "    }\n",
       "\n",
       "    .dataframe thead th {\n",
       "        text-align: right;\n",
       "    }\n",
       "</style>\n",
       "<table border=\"1\" class=\"dataframe\">\n",
       "  <thead>\n",
       "    <tr style=\"text-align: right;\">\n",
       "      <th></th>\n",
       "      <th>Simbolo</th>\n",
       "      <th>Nombre</th>\n",
       "      <th>Precio</th>\n",
       "    </tr>\n",
       "  </thead>\n",
       "  <tbody>\n",
       "    <tr>\n",
       "      <th>Accion1</th>\n",
       "      <td>AAPL</td>\n",
       "      <td>Apple</td>\n",
       "      <td>135</td>\n",
       "    </tr>\n",
       "    <tr>\n",
       "      <th>Accion2</th>\n",
       "      <td>MSFT</td>\n",
       "      <td>Microsoft</td>\n",
       "      <td>100</td>\n",
       "    </tr>\n",
       "  </tbody>\n",
       "</table>\n",
       "</div>"
      ],
      "text/plain": [
       "        Simbolo     Nombre  Precio\n",
       "Accion1    AAPL      Apple     135\n",
       "Accion2    MSFT  Microsoft     100"
      ]
     },
     "execution_count": 50,
     "metadata": {},
     "output_type": "execute_result"
    }
   ],
   "source": [
    "pd.DataFrame(acciones_list, index=['Accion1','Accion2'], columns=['Simbolo','Nombre','Precio'])"
   ]
  },
  {
   "cell_type": "code",
   "execution_count": 51,
   "metadata": {},
   "outputs": [
    {
     "data": {
      "text/html": [
       "<div>\n",
       "<style scoped>\n",
       "    .dataframe tbody tr th:only-of-type {\n",
       "        vertical-align: middle;\n",
       "    }\n",
       "\n",
       "    .dataframe tbody tr th {\n",
       "        vertical-align: top;\n",
       "    }\n",
       "\n",
       "    .dataframe thead th {\n",
       "        text-align: right;\n",
       "    }\n",
       "</style>\n",
       "<table border=\"1\" class=\"dataframe\">\n",
       "  <thead>\n",
       "    <tr style=\"text-align: right;\">\n",
       "      <th></th>\n",
       "      <th>ticker</th>\n",
       "      <th>nombre</th>\n",
       "      <th>precio</th>\n",
       "    </tr>\n",
       "  </thead>\n",
       "  <tbody>\n",
       "    <tr>\n",
       "      <th>Accion1</th>\n",
       "      <td>AAPL</td>\n",
       "      <td>Apple</td>\n",
       "      <td>135</td>\n",
       "    </tr>\n",
       "    <tr>\n",
       "      <th>Accion2</th>\n",
       "      <td>MSFT</td>\n",
       "      <td>Microsoft</td>\n",
       "      <td>100</td>\n",
       "    </tr>\n",
       "  </tbody>\n",
       "</table>\n",
       "</div>"
      ],
      "text/plain": [
       "        ticker     nombre  precio\n",
       "Accion1   AAPL      Apple     135\n",
       "Accion2   MSFT  Microsoft     100"
      ]
     },
     "execution_count": 51,
     "metadata": {},
     "output_type": "execute_result"
    }
   ],
   "source": [
    "dic = {\n",
    "    'ticker':['AAPL','MSFT'],\n",
    "    'nombre':['Apple','Microsoft'],\n",
    "    'precio':[135,100]\n",
    "}\n",
    "\n",
    "pd.DataFrame(dic,index=['Accion1','Accion2'])"
   ]
  },
  {
   "cell_type": "markdown",
   "metadata": {},
   "source": [
    "## Acceso a los datos de un dataframe"
   ]
  },
  {
   "cell_type": "code",
   "execution_count": 53,
   "metadata": {},
   "outputs": [
    {
     "data": {
      "text/html": [
       "<div>\n",
       "<style scoped>\n",
       "    .dataframe tbody tr th:only-of-type {\n",
       "        vertical-align: middle;\n",
       "    }\n",
       "\n",
       "    .dataframe tbody tr th {\n",
       "        vertical-align: top;\n",
       "    }\n",
       "\n",
       "    .dataframe thead th {\n",
       "        text-align: right;\n",
       "    }\n",
       "</style>\n",
       "<table border=\"1\" class=\"dataframe\">\n",
       "  <thead>\n",
       "    <tr style=\"text-align: right;\">\n",
       "      <th></th>\n",
       "      <th>ticker</th>\n",
       "      <th>nombre</th>\n",
       "      <th>precio</th>\n",
       "    </tr>\n",
       "  </thead>\n",
       "  <tbody>\n",
       "    <tr>\n",
       "      <th>A1</th>\n",
       "      <td>AAPL</td>\n",
       "      <td>Apple</td>\n",
       "      <td>135.0</td>\n",
       "    </tr>\n",
       "    <tr>\n",
       "      <th>A2</th>\n",
       "      <td>MSFT</td>\n",
       "      <td>Microsoft</td>\n",
       "      <td>100.0</td>\n",
       "    </tr>\n",
       "    <tr>\n",
       "      <th>A3</th>\n",
       "      <td>GOOGL</td>\n",
       "      <td>GOOGLE</td>\n",
       "      <td>1000.0</td>\n",
       "    </tr>\n",
       "    <tr>\n",
       "      <th>A4</th>\n",
       "      <td>NFX</td>\n",
       "      <td>Netflix</td>\n",
       "      <td>50.0</td>\n",
       "    </tr>\n",
       "    <tr>\n",
       "      <th>A5</th>\n",
       "      <td>FB</td>\n",
       "      <td>Facebook</td>\n",
       "      <td>300.0</td>\n",
       "    </tr>\n",
       "  </tbody>\n",
       "</table>\n",
       "</div>"
      ],
      "text/plain": [
       "   ticker     nombre  precio\n",
       "A1   AAPL      Apple   135.0\n",
       "A2   MSFT  Microsoft   100.0\n",
       "A3  GOOGL     GOOGLE  1000.0\n",
       "A4    NFX    Netflix    50.0\n",
       "A5     FB   Facebook   300.0"
      ]
     },
     "execution_count": 53,
     "metadata": {},
     "output_type": "execute_result"
    }
   ],
   "source": [
    "import pandas as pd\n",
    "acciones_dic = {\n",
    "    'ticker': ['AAPL', 'MSFT','GOOGL','NFX','FB'],\n",
    "    'nombre': ['Apple', 'Microsoft','GOOGLE','Netflix', 'Facebook'],\n",
    "    'precio': [135, 100.00,1000,50,300]\n",
    "}\n",
    "\n",
    "labels = ['A1', 'A2', 'A3', 'A4','A5']\n",
    "acciones = pd.DataFrame(acciones_dic, index=labels)\n",
    "acciones"
   ]
  },
  {
   "cell_type": "code",
   "execution_count": 57,
   "metadata": {},
   "outputs": [
    {
     "data": {
      "text/plain": [
       "A1     135.0\n",
       "A2     100.0\n",
       "A3    1000.0\n",
       "A4      50.0\n",
       "A5     300.0\n",
       "Name: precio, dtype: float64"
      ]
     },
     "execution_count": 57,
     "metadata": {},
     "output_type": "execute_result"
    }
   ],
   "source": [
    "## Acceso por nombre de columna, notacion de corchetes\n",
    "precios = acciones['precio']\n",
    "precios"
   ]
  },
  {
   "cell_type": "code",
   "execution_count": 56,
   "metadata": {},
   "outputs": [
    {
     "data": {
      "text/plain": [
       "A1     135.0\n",
       "A2     100.0\n",
       "A3    1000.0\n",
       "A4      50.0\n",
       "A5     300.0\n",
       "Name: precio, dtype: float64"
      ]
     },
     "execution_count": 56,
     "metadata": {},
     "output_type": "execute_result"
    }
   ],
   "source": [
    "## Notacion de punto\n",
    "acciones.precio"
   ]
  },
  {
   "cell_type": "code",
   "execution_count": 58,
   "metadata": {},
   "outputs": [
    {
     "data": {
      "text/plain": [
       "ticker     AAPL\n",
       "nombre    Apple\n",
       "precio      135\n",
       "Name: A1, dtype: object"
      ]
     },
     "execution_count": 58,
     "metadata": {},
     "output_type": "execute_result"
    }
   ],
   "source": [
    "acciones.loc['A1']"
   ]
  },
  {
   "cell_type": "code",
   "execution_count": 59,
   "metadata": {},
   "outputs": [
    {
     "data": {
      "text/plain": [
       "ticker     AAPL\n",
       "nombre    Apple\n",
       "precio      135\n",
       "Name: A1, dtype: object"
      ]
     },
     "execution_count": 59,
     "metadata": {},
     "output_type": "execute_result"
    }
   ],
   "source": [
    "acciones.iloc[0]"
   ]
  },
  {
   "cell_type": "code",
   "execution_count": 60,
   "metadata": {},
   "outputs": [
    {
     "data": {
      "text/plain": [
       "'GOOGL'"
      ]
     },
     "execution_count": 60,
     "metadata": {},
     "output_type": "execute_result"
    }
   ],
   "source": [
    "## Acceso a un dato especifico\n",
    "acciones['ticker']['A3'] # [columna][fila]"
   ]
  },
  {
   "cell_type": "code",
   "execution_count": 61,
   "metadata": {},
   "outputs": [
    {
     "data": {
      "text/plain": [
       "1000.0"
      ]
     },
     "execution_count": 61,
     "metadata": {},
     "output_type": "execute_result"
    }
   ],
   "source": [
    "## Acceso usando loc\n",
    "acciones.loc['A3','precio'] #[fila][columna]"
   ]
  },
  {
   "cell_type": "code",
   "execution_count": 63,
   "metadata": {},
   "outputs": [
    {
     "data": {
      "text/plain": [
       "1000.0"
      ]
     },
     "execution_count": 63,
     "metadata": {},
     "output_type": "execute_result"
    }
   ],
   "source": [
    "acciones.at['A3','precio'] #[fila][columna] es un poco mas explicito el at (para entender)"
   ]
  },
  {
   "cell_type": "markdown",
   "metadata": {},
   "source": [
    "## Slicing - tomar subsets (subconjuntos) de la data - vista"
   ]
  },
  {
   "cell_type": "code",
   "execution_count": 66,
   "metadata": {},
   "outputs": [
    {
     "data": {
      "text/html": [
       "<div>\n",
       "<style scoped>\n",
       "    .dataframe tbody tr th:only-of-type {\n",
       "        vertical-align: middle;\n",
       "    }\n",
       "\n",
       "    .dataframe tbody tr th {\n",
       "        vertical-align: top;\n",
       "    }\n",
       "\n",
       "    .dataframe thead th {\n",
       "        text-align: right;\n",
       "    }\n",
       "</style>\n",
       "<table border=\"1\" class=\"dataframe\">\n",
       "  <thead>\n",
       "    <tr style=\"text-align: right;\">\n",
       "      <th></th>\n",
       "      <th>ticker</th>\n",
       "      <th>precio</th>\n",
       "    </tr>\n",
       "  </thead>\n",
       "  <tbody>\n",
       "    <tr>\n",
       "      <th>A1</th>\n",
       "      <td>AAPL</td>\n",
       "      <td>135.0</td>\n",
       "    </tr>\n",
       "    <tr>\n",
       "      <th>A2</th>\n",
       "      <td>MSFT</td>\n",
       "      <td>100.0</td>\n",
       "    </tr>\n",
       "    <tr>\n",
       "      <th>A3</th>\n",
       "      <td>GOOGL</td>\n",
       "      <td>1000.0</td>\n",
       "    </tr>\n",
       "  </tbody>\n",
       "</table>\n",
       "</div>"
      ],
      "text/plain": [
       "   ticker  precio\n",
       "A1   AAPL   135.0\n",
       "A2   MSFT   100.0\n",
       "A3  GOOGL  1000.0"
      ]
     },
     "execution_count": 66,
     "metadata": {},
     "output_type": "execute_result"
    }
   ],
   "source": [
    "acciones.loc['A1':'A3',['ticker','precio']] # filas, columnas ->de:hasta filas, "
   ]
  },
  {
   "cell_type": "code",
   "execution_count": 68,
   "metadata": {},
   "outputs": [
    {
     "data": {
      "text/html": [
       "<div>\n",
       "<style scoped>\n",
       "    .dataframe tbody tr th:only-of-type {\n",
       "        vertical-align: middle;\n",
       "    }\n",
       "\n",
       "    .dataframe tbody tr th {\n",
       "        vertical-align: top;\n",
       "    }\n",
       "\n",
       "    .dataframe thead th {\n",
       "        text-align: right;\n",
       "    }\n",
       "</style>\n",
       "<table border=\"1\" class=\"dataframe\">\n",
       "  <thead>\n",
       "    <tr style=\"text-align: right;\">\n",
       "      <th></th>\n",
       "      <th>nombre</th>\n",
       "    </tr>\n",
       "  </thead>\n",
       "  <tbody>\n",
       "    <tr>\n",
       "      <th>A2</th>\n",
       "      <td>Microsoft</td>\n",
       "    </tr>\n",
       "    <tr>\n",
       "      <th>A3</th>\n",
       "      <td>GOOGLE</td>\n",
       "    </tr>\n",
       "  </tbody>\n",
       "</table>\n",
       "</div>"
      ],
      "text/plain": [
       "       nombre\n",
       "A2  Microsoft\n",
       "A3     GOOGLE"
      ]
     },
     "execution_count": 68,
     "metadata": {},
     "output_type": "execute_result"
    }
   ],
   "source": [
    "acciones.iloc[1:3,1:2] # recordar que iloc es con indices numericos y excluye el indice de la derecha"
   ]
  },
  {
   "cell_type": "code",
   "execution_count": 69,
   "metadata": {},
   "outputs": [
    {
     "data": {
      "text/html": [
       "<div>\n",
       "<style scoped>\n",
       "    .dataframe tbody tr th:only-of-type {\n",
       "        vertical-align: middle;\n",
       "    }\n",
       "\n",
       "    .dataframe tbody tr th {\n",
       "        vertical-align: top;\n",
       "    }\n",
       "\n",
       "    .dataframe thead th {\n",
       "        text-align: right;\n",
       "    }\n",
       "</style>\n",
       "<table border=\"1\" class=\"dataframe\">\n",
       "  <thead>\n",
       "    <tr style=\"text-align: right;\">\n",
       "      <th></th>\n",
       "      <th>ticker</th>\n",
       "      <th>nombre</th>\n",
       "      <th>precio</th>\n",
       "    </tr>\n",
       "  </thead>\n",
       "  <tbody>\n",
       "    <tr>\n",
       "      <th>A1</th>\n",
       "      <td>AAPL</td>\n",
       "      <td>Apple</td>\n",
       "      <td>135.0</td>\n",
       "    </tr>\n",
       "    <tr>\n",
       "      <th>A2</th>\n",
       "      <td>MSFT</td>\n",
       "      <td>Microsoft</td>\n",
       "      <td>100.0</td>\n",
       "    </tr>\n",
       "    <tr>\n",
       "      <th>A3</th>\n",
       "      <td>GOOGL</td>\n",
       "      <td>GOOGLE</td>\n",
       "      <td>1000.0</td>\n",
       "    </tr>\n",
       "    <tr>\n",
       "      <th>A4</th>\n",
       "      <td>NFX</td>\n",
       "      <td>Netflix</td>\n",
       "      <td>50.0</td>\n",
       "    </tr>\n",
       "    <tr>\n",
       "      <th>A5</th>\n",
       "      <td>FB</td>\n",
       "      <td>Facebook</td>\n",
       "      <td>300.0</td>\n",
       "    </tr>\n",
       "  </tbody>\n",
       "</table>\n",
       "</div>"
      ],
      "text/plain": [
       "   ticker     nombre  precio\n",
       "A1   AAPL      Apple   135.0\n",
       "A2   MSFT  Microsoft   100.0\n",
       "A3  GOOGL     GOOGLE  1000.0\n",
       "A4    NFX    Netflix    50.0\n",
       "A5     FB   Facebook   300.0"
      ]
     },
     "execution_count": 69,
     "metadata": {},
     "output_type": "execute_result"
    }
   ],
   "source": [
    "acciones.iloc[1:3,1:2]"
   ]
  },
  {
   "cell_type": "code",
   "execution_count": 70,
   "metadata": {},
   "outputs": [],
   "source": [
    "subconjunto = acciones.iloc[1:3,1:2]"
   ]
  },
  {
   "cell_type": "code",
   "execution_count": 71,
   "metadata": {},
   "outputs": [
    {
     "data": {
      "text/html": [
       "<div>\n",
       "<style scoped>\n",
       "    .dataframe tbody tr th:only-of-type {\n",
       "        vertical-align: middle;\n",
       "    }\n",
       "\n",
       "    .dataframe tbody tr th {\n",
       "        vertical-align: top;\n",
       "    }\n",
       "\n",
       "    .dataframe thead th {\n",
       "        text-align: right;\n",
       "    }\n",
       "</style>\n",
       "<table border=\"1\" class=\"dataframe\">\n",
       "  <thead>\n",
       "    <tr style=\"text-align: right;\">\n",
       "      <th></th>\n",
       "      <th>nombre</th>\n",
       "    </tr>\n",
       "  </thead>\n",
       "  <tbody>\n",
       "    <tr>\n",
       "      <th>A2</th>\n",
       "      <td>Microsoft</td>\n",
       "    </tr>\n",
       "    <tr>\n",
       "      <th>A3</th>\n",
       "      <td>GOOGLE</td>\n",
       "    </tr>\n",
       "  </tbody>\n",
       "</table>\n",
       "</div>"
      ],
      "text/plain": [
       "       nombre\n",
       "A2  Microsoft\n",
       "A3     GOOGLE"
      ]
     },
     "execution_count": 71,
     "metadata": {},
     "output_type": "execute_result"
    }
   ],
   "source": [
    "subconjunto"
   ]
  },
  {
   "cell_type": "markdown",
   "metadata": {},
   "source": [
    "## Exploracion de Datos"
   ]
  },
  {
   "cell_type": "code",
   "execution_count": 79,
   "metadata": {},
   "outputs": [
    {
     "data": {
      "text/html": [
       "<div>\n",
       "<style scoped>\n",
       "    .dataframe tbody tr th:only-of-type {\n",
       "        vertical-align: middle;\n",
       "    }\n",
       "\n",
       "    .dataframe tbody tr th {\n",
       "        vertical-align: top;\n",
       "    }\n",
       "\n",
       "    .dataframe thead th {\n",
       "        text-align: right;\n",
       "    }\n",
       "</style>\n",
       "<table border=\"1\" class=\"dataframe\">\n",
       "  <thead>\n",
       "    <tr style=\"text-align: right;\">\n",
       "      <th></th>\n",
       "      <th>Open</th>\n",
       "      <th>High</th>\n",
       "      <th>Low</th>\n",
       "      <th>Close</th>\n",
       "      <th>Adj Close</th>\n",
       "      <th>Volume</th>\n",
       "    </tr>\n",
       "    <tr>\n",
       "      <th>Date</th>\n",
       "      <th></th>\n",
       "      <th></th>\n",
       "      <th></th>\n",
       "      <th></th>\n",
       "      <th></th>\n",
       "      <th></th>\n",
       "    </tr>\n",
       "  </thead>\n",
       "  <tbody>\n",
       "    <tr>\n",
       "      <th>02-01-18</th>\n",
       "      <td>170.160004</td>\n",
       "      <td>172.300003</td>\n",
       "      <td>169.259995</td>\n",
       "      <td>172.259995</td>\n",
       "      <td>168.339050</td>\n",
       "      <td>25555900</td>\n",
       "    </tr>\n",
       "    <tr>\n",
       "      <th>03-01-18</th>\n",
       "      <td>172.529999</td>\n",
       "      <td>174.550003</td>\n",
       "      <td>171.960007</td>\n",
       "      <td>172.229996</td>\n",
       "      <td>168.309738</td>\n",
       "      <td>29517900</td>\n",
       "    </tr>\n",
       "    <tr>\n",
       "      <th>04-01-18</th>\n",
       "      <td>172.539993</td>\n",
       "      <td>173.470001</td>\n",
       "      <td>172.080002</td>\n",
       "      <td>173.029999</td>\n",
       "      <td>169.091522</td>\n",
       "      <td>22434600</td>\n",
       "    </tr>\n",
       "    <tr>\n",
       "      <th>05-01-18</th>\n",
       "      <td>173.440002</td>\n",
       "      <td>175.369995</td>\n",
       "      <td>173.050003</td>\n",
       "      <td>175.000000</td>\n",
       "      <td>171.016678</td>\n",
       "      <td>23660000</td>\n",
       "    </tr>\n",
       "    <tr>\n",
       "      <th>08-01-18</th>\n",
       "      <td>174.350006</td>\n",
       "      <td>175.610001</td>\n",
       "      <td>173.929993</td>\n",
       "      <td>174.350006</td>\n",
       "      <td>170.381485</td>\n",
       "      <td>20567800</td>\n",
       "    </tr>\n",
       "  </tbody>\n",
       "</table>\n",
       "</div>"
      ],
      "text/plain": [
       "                Open        High         Low       Close   Adj Close    Volume\n",
       "Date                                                                          \n",
       "02-01-18  170.160004  172.300003  169.259995  172.259995  168.339050  25555900\n",
       "03-01-18  172.529999  174.550003  171.960007  172.229996  168.309738  29517900\n",
       "04-01-18  172.539993  173.470001  172.080002  173.029999  169.091522  22434600\n",
       "05-01-18  173.440002  175.369995  173.050003  175.000000  171.016678  23660000\n",
       "08-01-18  174.350006  175.610001  173.929993  174.350006  170.381485  20567800"
      ]
     },
     "execution_count": 79,
     "metadata": {},
     "output_type": "execute_result"
    }
   ],
   "source": [
    "import pandas as pd\n",
    "data = pd.read_csv('C:/Users/DELL/Documents/appl.csv', index_col=0) \n",
    "#agregar sep=\";\" para espcificar el serparador\n",
    "data"
   ]
  },
  {
   "cell_type": "code",
   "execution_count": 93,
   "metadata": {},
   "outputs": [
    {
     "data": {
      "text/html": [
       "<div>\n",
       "<style scoped>\n",
       "    .dataframe tbody tr th:only-of-type {\n",
       "        vertical-align: middle;\n",
       "    }\n",
       "\n",
       "    .dataframe tbody tr th {\n",
       "        vertical-align: top;\n",
       "    }\n",
       "\n",
       "    .dataframe thead th {\n",
       "        text-align: right;\n",
       "    }\n",
       "</style>\n",
       "<table border=\"1\" class=\"dataframe\">\n",
       "  <thead>\n",
       "    <tr style=\"text-align: right;\">\n",
       "      <th></th>\n",
       "      <th>Open</th>\n",
       "      <th>High</th>\n",
       "      <th>Low</th>\n",
       "      <th>Close</th>\n",
       "      <th>Adj Close</th>\n",
       "      <th>Volume</th>\n",
       "    </tr>\n",
       "    <tr>\n",
       "      <th>Date</th>\n",
       "      <th></th>\n",
       "      <th></th>\n",
       "      <th></th>\n",
       "      <th></th>\n",
       "      <th></th>\n",
       "      <th></th>\n",
       "    </tr>\n",
       "  </thead>\n",
       "  <tbody>\n",
       "    <tr>\n",
       "      <th>2018-01-02</th>\n",
       "      <td>170.160004</td>\n",
       "      <td>172.3</td>\n",
       "      <td>169.259995</td>\n",
       "      <td>172.259995</td>\n",
       "      <td>168.339050</td>\n",
       "      <td>25555900</td>\n",
       "    </tr>\n",
       "    <tr>\n",
       "      <th>2018-01-03</th>\n",
       "      <td>172.529999</td>\n",
       "      <td>174.55</td>\n",
       "      <td>NaN</td>\n",
       "      <td>172.229996</td>\n",
       "      <td>168.309738</td>\n",
       "      <td>29517900</td>\n",
       "    </tr>\n",
       "    <tr>\n",
       "      <th>2018-01-04</th>\n",
       "      <td>172.539993</td>\n",
       "      <td>NaN</td>\n",
       "      <td>172.080002</td>\n",
       "      <td>173.029999</td>\n",
       "      <td>169.091522</td>\n",
       "      <td>22434600</td>\n",
       "    </tr>\n",
       "    <tr>\n",
       "      <th>2018-01-05</th>\n",
       "      <td>173.440002</td>\n",
       "      <td>Error</td>\n",
       "      <td>173.050003</td>\n",
       "      <td>175.000000</td>\n",
       "      <td>171.016678</td>\n",
       "      <td>23660000</td>\n",
       "    </tr>\n",
       "    <tr>\n",
       "      <th>2018-01-08</th>\n",
       "      <td>174.350006</td>\n",
       "      <td>175.61</td>\n",
       "      <td>173.929993</td>\n",
       "      <td>174.350006</td>\n",
       "      <td>170.381485</td>\n",
       "      <td>20567800</td>\n",
       "    </tr>\n",
       "  </tbody>\n",
       "</table>\n",
       "</div>"
      ],
      "text/plain": [
       "                  Open    High         Low       Close   Adj Close    Volume\n",
       "Date                                                                        \n",
       "2018-01-02  170.160004   172.3  169.259995  172.259995  168.339050  25555900\n",
       "2018-01-03  172.529999  174.55         NaN  172.229996  168.309738  29517900\n",
       "2018-01-04  172.539993     NaN  172.080002  173.029999  169.091522  22434600\n",
       "2018-01-05  173.440002   Error  173.050003  175.000000  171.016678  23660000\n",
       "2018-01-08  174.350006  175.61  173.929993  174.350006  170.381485  20567800"
      ]
     },
     "execution_count": 93,
     "metadata": {},
     "output_type": "execute_result"
    }
   ],
   "source": [
    "data = pd.read_excel('C:/Users/DELL/Documents/AAPL.xlsx', index_col=0)\n",
    "data"
   ]
  },
  {
   "cell_type": "code",
   "execution_count": 85,
   "metadata": {},
   "outputs": [
    {
     "data": {
      "text/plain": [
       "170.160004"
      ]
     },
     "execution_count": 85,
     "metadata": {},
     "output_type": "execute_result"
    }
   ],
   "source": [
    "data.iloc[0,1]"
   ]
  },
  {
   "cell_type": "code",
   "execution_count": 94,
   "metadata": {},
   "outputs": [
    {
     "data": {
      "text/plain": [
       "170.160004"
      ]
     },
     "execution_count": 94,
     "metadata": {},
     "output_type": "execute_result"
    }
   ],
   "source": [
    "data.loc['2018-01-02','Open']"
   ]
  },
  {
   "cell_type": "code",
   "execution_count": 95,
   "metadata": {},
   "outputs": [
    {
     "data": {
      "text/html": [
       "<div>\n",
       "<style scoped>\n",
       "    .dataframe tbody tr th:only-of-type {\n",
       "        vertical-align: middle;\n",
       "    }\n",
       "\n",
       "    .dataframe tbody tr th {\n",
       "        vertical-align: top;\n",
       "    }\n",
       "\n",
       "    .dataframe thead th {\n",
       "        text-align: right;\n",
       "    }\n",
       "</style>\n",
       "<table border=\"1\" class=\"dataframe\">\n",
       "  <thead>\n",
       "    <tr style=\"text-align: right;\">\n",
       "      <th></th>\n",
       "      <th>Open</th>\n",
       "      <th>Adj Close</th>\n",
       "    </tr>\n",
       "    <tr>\n",
       "      <th>Date</th>\n",
       "      <th></th>\n",
       "      <th></th>\n",
       "    </tr>\n",
       "  </thead>\n",
       "  <tbody>\n",
       "    <tr>\n",
       "      <th>2018-01-02</th>\n",
       "      <td>170.160004</td>\n",
       "      <td>168.339050</td>\n",
       "    </tr>\n",
       "    <tr>\n",
       "      <th>2018-01-03</th>\n",
       "      <td>172.529999</td>\n",
       "      <td>168.309738</td>\n",
       "    </tr>\n",
       "    <tr>\n",
       "      <th>2018-01-04</th>\n",
       "      <td>172.539993</td>\n",
       "      <td>169.091522</td>\n",
       "    </tr>\n",
       "    <tr>\n",
       "      <th>2018-01-05</th>\n",
       "      <td>173.440002</td>\n",
       "      <td>171.016678</td>\n",
       "    </tr>\n",
       "    <tr>\n",
       "      <th>2018-01-08</th>\n",
       "      <td>174.350006</td>\n",
       "      <td>170.381485</td>\n",
       "    </tr>\n",
       "  </tbody>\n",
       "</table>\n",
       "</div>"
      ],
      "text/plain": [
       "                  Open   Adj Close\n",
       "Date                              \n",
       "2018-01-02  170.160004  168.339050\n",
       "2018-01-03  172.529999  168.309738\n",
       "2018-01-04  172.539993  169.091522\n",
       "2018-01-05  173.440002  171.016678\n",
       "2018-01-08  174.350006  170.381485"
      ]
     },
     "execution_count": 95,
     "metadata": {},
     "output_type": "execute_result"
    }
   ],
   "source": [
    "# Traer la data ya filtrada\n",
    "columnas =['Date','Open','Adj Close']\n",
    "data3 = pd.read_excel('C:/Users/DELL/Documents/AAPL.xlsx', index_col=0, usecols=columnas)\n",
    "data3"
   ]
  },
  {
   "cell_type": "code",
   "execution_count": 98,
   "metadata": {},
   "outputs": [],
   "source": [
    "#  Cambiar formato del display de la data de pandas\n",
    "pd.options.display.max_rows = 10\n",
    "pd.options.display.max_columns = 10\n",
    "pd.options.display.precision =2 #ajusta la candidad de decimales"
   ]
  },
  {
   "cell_type": "code",
   "execution_count": 99,
   "metadata": {},
   "outputs": [
    {
     "data": {
      "text/html": [
       "<div>\n",
       "<style scoped>\n",
       "    .dataframe tbody tr th:only-of-type {\n",
       "        vertical-align: middle;\n",
       "    }\n",
       "\n",
       "    .dataframe tbody tr th {\n",
       "        vertical-align: top;\n",
       "    }\n",
       "\n",
       "    .dataframe thead th {\n",
       "        text-align: right;\n",
       "    }\n",
       "</style>\n",
       "<table border=\"1\" class=\"dataframe\">\n",
       "  <thead>\n",
       "    <tr style=\"text-align: right;\">\n",
       "      <th></th>\n",
       "      <th>Open</th>\n",
       "      <th>High</th>\n",
       "      <th>Low</th>\n",
       "      <th>Close</th>\n",
       "      <th>Adj Close</th>\n",
       "      <th>Volume</th>\n",
       "    </tr>\n",
       "    <tr>\n",
       "      <th>Date</th>\n",
       "      <th></th>\n",
       "      <th></th>\n",
       "      <th></th>\n",
       "      <th></th>\n",
       "      <th></th>\n",
       "      <th></th>\n",
       "    </tr>\n",
       "  </thead>\n",
       "  <tbody>\n",
       "    <tr>\n",
       "      <th>2018-01-02</th>\n",
       "      <td>170.16</td>\n",
       "      <td>1.7e+02</td>\n",
       "      <td>169.26</td>\n",
       "      <td>172.26</td>\n",
       "      <td>168.34</td>\n",
       "      <td>25555900</td>\n",
       "    </tr>\n",
       "    <tr>\n",
       "      <th>2018-01-03</th>\n",
       "      <td>172.53</td>\n",
       "      <td>1.7e+02</td>\n",
       "      <td>NaN</td>\n",
       "      <td>172.23</td>\n",
       "      <td>168.31</td>\n",
       "      <td>29517900</td>\n",
       "    </tr>\n",
       "    <tr>\n",
       "      <th>2018-01-04</th>\n",
       "      <td>172.54</td>\n",
       "      <td>NaN</td>\n",
       "      <td>172.08</td>\n",
       "      <td>173.03</td>\n",
       "      <td>169.09</td>\n",
       "      <td>22434600</td>\n",
       "    </tr>\n",
       "    <tr>\n",
       "      <th>2018-01-05</th>\n",
       "      <td>173.44</td>\n",
       "      <td>Error</td>\n",
       "      <td>173.05</td>\n",
       "      <td>175.00</td>\n",
       "      <td>171.02</td>\n",
       "      <td>23660000</td>\n",
       "    </tr>\n",
       "    <tr>\n",
       "      <th>2018-01-08</th>\n",
       "      <td>174.35</td>\n",
       "      <td>1.8e+02</td>\n",
       "      <td>173.93</td>\n",
       "      <td>174.35</td>\n",
       "      <td>170.38</td>\n",
       "      <td>20567800</td>\n",
       "    </tr>\n",
       "  </tbody>\n",
       "</table>\n",
       "</div>"
      ],
      "text/plain": [
       "              Open     High     Low   Close  Adj Close    Volume\n",
       "Date                                                            \n",
       "2018-01-02  170.16  1.7e+02  169.26  172.26     168.34  25555900\n",
       "2018-01-03  172.53  1.7e+02     NaN  172.23     168.31  29517900\n",
       "2018-01-04  172.54      NaN  172.08  173.03     169.09  22434600\n",
       "2018-01-05  173.44    Error  173.05  175.00     171.02  23660000\n",
       "2018-01-08  174.35  1.8e+02  173.93  174.35     170.38  20567800"
      ]
     },
     "execution_count": 99,
     "metadata": {},
     "output_type": "execute_result"
    }
   ],
   "source": [
    "data"
   ]
  },
  {
   "cell_type": "code",
   "execution_count": 100,
   "metadata": {},
   "outputs": [],
   "source": [
    "data = pd.read_csv('C:/Users/DELL/Documents/UI.csv', index_col=0)"
   ]
  },
  {
   "cell_type": "code",
   "execution_count": 101,
   "metadata": {},
   "outputs": [
    {
     "data": {
      "text/html": [
       "<div>\n",
       "<style scoped>\n",
       "    .dataframe tbody tr th:only-of-type {\n",
       "        vertical-align: middle;\n",
       "    }\n",
       "\n",
       "    .dataframe tbody tr th {\n",
       "        vertical-align: top;\n",
       "    }\n",
       "\n",
       "    .dataframe thead th {\n",
       "        text-align: right;\n",
       "    }\n",
       "</style>\n",
       "<table border=\"1\" class=\"dataframe\">\n",
       "  <thead>\n",
       "    <tr style=\"text-align: right;\">\n",
       "      <th></th>\n",
       "      <th>Open</th>\n",
       "      <th>High</th>\n",
       "      <th>Low</th>\n",
       "      <th>Close</th>\n",
       "      <th>Adj Close</th>\n",
       "      <th>Volume</th>\n",
       "    </tr>\n",
       "    <tr>\n",
       "      <th>Date</th>\n",
       "      <th></th>\n",
       "      <th></th>\n",
       "      <th></th>\n",
       "      <th></th>\n",
       "      <th></th>\n",
       "      <th></th>\n",
       "    </tr>\n",
       "  </thead>\n",
       "  <tbody>\n",
       "    <tr>\n",
       "      <th>2020-04-13</th>\n",
       "      <td>154.97</td>\n",
       "      <td>155.00</td>\n",
       "      <td>150.89</td>\n",
       "      <td>153.56</td>\n",
       "      <td>152.55</td>\n",
       "      <td>84800</td>\n",
       "    </tr>\n",
       "    <tr>\n",
       "      <th>2020-04-14</th>\n",
       "      <td>157.70</td>\n",
       "      <td>161.50</td>\n",
       "      <td>156.98</td>\n",
       "      <td>160.57</td>\n",
       "      <td>159.51</td>\n",
       "      <td>107200</td>\n",
       "    </tr>\n",
       "    <tr>\n",
       "      <th>2020-04-15</th>\n",
       "      <td>158.21</td>\n",
       "      <td>158.21</td>\n",
       "      <td>151.26</td>\n",
       "      <td>152.11</td>\n",
       "      <td>151.11</td>\n",
       "      <td>143400</td>\n",
       "    </tr>\n",
       "    <tr>\n",
       "      <th>2020-04-16</th>\n",
       "      <td>153.08</td>\n",
       "      <td>154.87</td>\n",
       "      <td>151.79</td>\n",
       "      <td>153.77</td>\n",
       "      <td>152.75</td>\n",
       "      <td>90300</td>\n",
       "    </tr>\n",
       "    <tr>\n",
       "      <th>2020-04-17</th>\n",
       "      <td>155.89</td>\n",
       "      <td>158.01</td>\n",
       "      <td>153.83</td>\n",
       "      <td>157.92</td>\n",
       "      <td>156.88</td>\n",
       "      <td>89100</td>\n",
       "    </tr>\n",
       "    <tr>\n",
       "      <th>...</th>\n",
       "      <td>...</td>\n",
       "      <td>...</td>\n",
       "      <td>...</td>\n",
       "      <td>...</td>\n",
       "      <td>...</td>\n",
       "      <td>...</td>\n",
       "    </tr>\n",
       "    <tr>\n",
       "      <th>2021-04-05</th>\n",
       "      <td>289.20</td>\n",
       "      <td>294.32</td>\n",
       "      <td>281.07</td>\n",
       "      <td>290.78</td>\n",
       "      <td>290.78</td>\n",
       "      <td>214400</td>\n",
       "    </tr>\n",
       "    <tr>\n",
       "      <th>2021-04-06</th>\n",
       "      <td>291.00</td>\n",
       "      <td>291.00</td>\n",
       "      <td>283.14</td>\n",
       "      <td>289.06</td>\n",
       "      <td>289.06</td>\n",
       "      <td>150900</td>\n",
       "    </tr>\n",
       "    <tr>\n",
       "      <th>2021-04-07</th>\n",
       "      <td>283.60</td>\n",
       "      <td>290.07</td>\n",
       "      <td>275.26</td>\n",
       "      <td>277.90</td>\n",
       "      <td>277.90</td>\n",
       "      <td>142100</td>\n",
       "    </tr>\n",
       "    <tr>\n",
       "      <th>2021-04-08</th>\n",
       "      <td>279.99</td>\n",
       "      <td>289.97</td>\n",
       "      <td>276.08</td>\n",
       "      <td>288.00</td>\n",
       "      <td>288.00</td>\n",
       "      <td>205300</td>\n",
       "    </tr>\n",
       "    <tr>\n",
       "      <th>2021-04-09</th>\n",
       "      <td>285.15</td>\n",
       "      <td>288.00</td>\n",
       "      <td>278.28</td>\n",
       "      <td>281.78</td>\n",
       "      <td>281.78</td>\n",
       "      <td>99600</td>\n",
       "    </tr>\n",
       "  </tbody>\n",
       "</table>\n",
       "<p>251 rows × 6 columns</p>\n",
       "</div>"
      ],
      "text/plain": [
       "              Open    High     Low   Close  Adj Close  Volume\n",
       "Date                                                         \n",
       "2020-04-13  154.97  155.00  150.89  153.56     152.55   84800\n",
       "2020-04-14  157.70  161.50  156.98  160.57     159.51  107200\n",
       "2020-04-15  158.21  158.21  151.26  152.11     151.11  143400\n",
       "2020-04-16  153.08  154.87  151.79  153.77     152.75   90300\n",
       "2020-04-17  155.89  158.01  153.83  157.92     156.88   89100\n",
       "...            ...     ...     ...     ...        ...     ...\n",
       "2021-04-05  289.20  294.32  281.07  290.78     290.78  214400\n",
       "2021-04-06  291.00  291.00  283.14  289.06     289.06  150900\n",
       "2021-04-07  283.60  290.07  275.26  277.90     277.90  142100\n",
       "2021-04-08  279.99  289.97  276.08  288.00     288.00  205300\n",
       "2021-04-09  285.15  288.00  278.28  281.78     281.78   99600\n",
       "\n",
       "[251 rows x 6 columns]"
      ]
     },
     "execution_count": 101,
     "metadata": {},
     "output_type": "execute_result"
    }
   ],
   "source": [
    "data"
   ]
  },
  {
   "cell_type": "code",
   "execution_count": 102,
   "metadata": {},
   "outputs": [
    {
     "data": {
      "text/html": [
       "<div>\n",
       "<style scoped>\n",
       "    .dataframe tbody tr th:only-of-type {\n",
       "        vertical-align: middle;\n",
       "    }\n",
       "\n",
       "    .dataframe tbody tr th {\n",
       "        vertical-align: top;\n",
       "    }\n",
       "\n",
       "    .dataframe thead th {\n",
       "        text-align: right;\n",
       "    }\n",
       "</style>\n",
       "<table border=\"1\" class=\"dataframe\">\n",
       "  <thead>\n",
       "    <tr style=\"text-align: right;\">\n",
       "      <th></th>\n",
       "      <th>Open</th>\n",
       "      <th>High</th>\n",
       "      <th>Low</th>\n",
       "      <th>Close</th>\n",
       "      <th>Adj Close</th>\n",
       "      <th>Volume</th>\n",
       "    </tr>\n",
       "    <tr>\n",
       "      <th>Date</th>\n",
       "      <th></th>\n",
       "      <th></th>\n",
       "      <th></th>\n",
       "      <th></th>\n",
       "      <th></th>\n",
       "      <th></th>\n",
       "    </tr>\n",
       "  </thead>\n",
       "  <tbody>\n",
       "    <tr>\n",
       "      <th>2020-04-13</th>\n",
       "      <td>154.97</td>\n",
       "      <td>155.00</td>\n",
       "      <td>150.89</td>\n",
       "      <td>153.56</td>\n",
       "      <td>152.55</td>\n",
       "      <td>84800</td>\n",
       "    </tr>\n",
       "    <tr>\n",
       "      <th>2020-04-14</th>\n",
       "      <td>157.70</td>\n",
       "      <td>161.50</td>\n",
       "      <td>156.98</td>\n",
       "      <td>160.57</td>\n",
       "      <td>159.51</td>\n",
       "      <td>107200</td>\n",
       "    </tr>\n",
       "    <tr>\n",
       "      <th>2020-04-15</th>\n",
       "      <td>158.21</td>\n",
       "      <td>158.21</td>\n",
       "      <td>151.26</td>\n",
       "      <td>152.11</td>\n",
       "      <td>151.11</td>\n",
       "      <td>143400</td>\n",
       "    </tr>\n",
       "    <tr>\n",
       "      <th>2020-04-16</th>\n",
       "      <td>153.08</td>\n",
       "      <td>154.87</td>\n",
       "      <td>151.79</td>\n",
       "      <td>153.77</td>\n",
       "      <td>152.75</td>\n",
       "      <td>90300</td>\n",
       "    </tr>\n",
       "    <tr>\n",
       "      <th>2020-04-17</th>\n",
       "      <td>155.89</td>\n",
       "      <td>158.01</td>\n",
       "      <td>153.83</td>\n",
       "      <td>157.92</td>\n",
       "      <td>156.88</td>\n",
       "      <td>89100</td>\n",
       "    </tr>\n",
       "  </tbody>\n",
       "</table>\n",
       "</div>"
      ],
      "text/plain": [
       "              Open    High     Low   Close  Adj Close  Volume\n",
       "Date                                                         \n",
       "2020-04-13  154.97  155.00  150.89  153.56     152.55   84800\n",
       "2020-04-14  157.70  161.50  156.98  160.57     159.51  107200\n",
       "2020-04-15  158.21  158.21  151.26  152.11     151.11  143400\n",
       "2020-04-16  153.08  154.87  151.79  153.77     152.75   90300\n",
       "2020-04-17  155.89  158.01  153.83  157.92     156.88   89100"
      ]
     },
     "execution_count": 102,
     "metadata": {},
     "output_type": "execute_result"
    }
   ],
   "source": [
    "data.head() # por default solo muestra las primeras 5 filas"
   ]
  },
  {
   "cell_type": "code",
   "execution_count": 103,
   "metadata": {},
   "outputs": [
    {
     "data": {
      "text/html": [
       "<div>\n",
       "<style scoped>\n",
       "    .dataframe tbody tr th:only-of-type {\n",
       "        vertical-align: middle;\n",
       "    }\n",
       "\n",
       "    .dataframe tbody tr th {\n",
       "        vertical-align: top;\n",
       "    }\n",
       "\n",
       "    .dataframe thead th {\n",
       "        text-align: right;\n",
       "    }\n",
       "</style>\n",
       "<table border=\"1\" class=\"dataframe\">\n",
       "  <thead>\n",
       "    <tr style=\"text-align: right;\">\n",
       "      <th></th>\n",
       "      <th>Open</th>\n",
       "      <th>High</th>\n",
       "      <th>Low</th>\n",
       "      <th>Close</th>\n",
       "      <th>Adj Close</th>\n",
       "      <th>Volume</th>\n",
       "    </tr>\n",
       "    <tr>\n",
       "      <th>Date</th>\n",
       "      <th></th>\n",
       "      <th></th>\n",
       "      <th></th>\n",
       "      <th></th>\n",
       "      <th></th>\n",
       "      <th></th>\n",
       "    </tr>\n",
       "  </thead>\n",
       "  <tbody>\n",
       "    <tr>\n",
       "      <th>2020-04-13</th>\n",
       "      <td>154.97</td>\n",
       "      <td>155.00</td>\n",
       "      <td>150.89</td>\n",
       "      <td>153.56</td>\n",
       "      <td>152.55</td>\n",
       "      <td>84800</td>\n",
       "    </tr>\n",
       "    <tr>\n",
       "      <th>2020-04-14</th>\n",
       "      <td>157.70</td>\n",
       "      <td>161.50</td>\n",
       "      <td>156.98</td>\n",
       "      <td>160.57</td>\n",
       "      <td>159.51</td>\n",
       "      <td>107200</td>\n",
       "    </tr>\n",
       "    <tr>\n",
       "      <th>2020-04-15</th>\n",
       "      <td>158.21</td>\n",
       "      <td>158.21</td>\n",
       "      <td>151.26</td>\n",
       "      <td>152.11</td>\n",
       "      <td>151.11</td>\n",
       "      <td>143400</td>\n",
       "    </tr>\n",
       "    <tr>\n",
       "      <th>2020-04-16</th>\n",
       "      <td>153.08</td>\n",
       "      <td>154.87</td>\n",
       "      <td>151.79</td>\n",
       "      <td>153.77</td>\n",
       "      <td>152.75</td>\n",
       "      <td>90300</td>\n",
       "    </tr>\n",
       "    <tr>\n",
       "      <th>2020-04-17</th>\n",
       "      <td>155.89</td>\n",
       "      <td>158.01</td>\n",
       "      <td>153.83</td>\n",
       "      <td>157.92</td>\n",
       "      <td>156.88</td>\n",
       "      <td>89100</td>\n",
       "    </tr>\n",
       "    <tr>\n",
       "      <th>...</th>\n",
       "      <td>...</td>\n",
       "      <td>...</td>\n",
       "      <td>...</td>\n",
       "      <td>...</td>\n",
       "      <td>...</td>\n",
       "      <td>...</td>\n",
       "    </tr>\n",
       "    <tr>\n",
       "      <th>2020-05-04</th>\n",
       "      <td>155.50</td>\n",
       "      <td>158.31</td>\n",
       "      <td>154.70</td>\n",
       "      <td>157.14</td>\n",
       "      <td>156.10</td>\n",
       "      <td>69700</td>\n",
       "    </tr>\n",
       "    <tr>\n",
       "      <th>2020-05-05</th>\n",
       "      <td>159.00</td>\n",
       "      <td>160.22</td>\n",
       "      <td>157.90</td>\n",
       "      <td>158.21</td>\n",
       "      <td>157.17</td>\n",
       "      <td>67400</td>\n",
       "    </tr>\n",
       "    <tr>\n",
       "      <th>2020-05-06</th>\n",
       "      <td>159.04</td>\n",
       "      <td>159.67</td>\n",
       "      <td>156.05</td>\n",
       "      <td>157.29</td>\n",
       "      <td>156.25</td>\n",
       "      <td>158200</td>\n",
       "    </tr>\n",
       "    <tr>\n",
       "      <th>2020-05-07</th>\n",
       "      <td>160.49</td>\n",
       "      <td>161.71</td>\n",
       "      <td>158.52</td>\n",
       "      <td>160.18</td>\n",
       "      <td>159.12</td>\n",
       "      <td>106300</td>\n",
       "    </tr>\n",
       "    <tr>\n",
       "      <th>2020-05-08</th>\n",
       "      <td>176.20</td>\n",
       "      <td>192.87</td>\n",
       "      <td>175.80</td>\n",
       "      <td>188.62</td>\n",
       "      <td>187.37</td>\n",
       "      <td>509000</td>\n",
       "    </tr>\n",
       "  </tbody>\n",
       "</table>\n",
       "<p>20 rows × 6 columns</p>\n",
       "</div>"
      ],
      "text/plain": [
       "              Open    High     Low   Close  Adj Close  Volume\n",
       "Date                                                         \n",
       "2020-04-13  154.97  155.00  150.89  153.56     152.55   84800\n",
       "2020-04-14  157.70  161.50  156.98  160.57     159.51  107200\n",
       "2020-04-15  158.21  158.21  151.26  152.11     151.11  143400\n",
       "2020-04-16  153.08  154.87  151.79  153.77     152.75   90300\n",
       "2020-04-17  155.89  158.01  153.83  157.92     156.88   89100\n",
       "...            ...     ...     ...     ...        ...     ...\n",
       "2020-05-04  155.50  158.31  154.70  157.14     156.10   69700\n",
       "2020-05-05  159.00  160.22  157.90  158.21     157.17   67400\n",
       "2020-05-06  159.04  159.67  156.05  157.29     156.25  158200\n",
       "2020-05-07  160.49  161.71  158.52  160.18     159.12  106300\n",
       "2020-05-08  176.20  192.87  175.80  188.62     187.37  509000\n",
       "\n",
       "[20 rows x 6 columns]"
      ]
     },
     "execution_count": 103,
     "metadata": {},
     "output_type": "execute_result"
    }
   ],
   "source": [
    "data.head(20)"
   ]
  },
  {
   "cell_type": "code",
   "execution_count": 104,
   "metadata": {},
   "outputs": [
    {
     "data": {
      "text/html": [
       "<div>\n",
       "<style scoped>\n",
       "    .dataframe tbody tr th:only-of-type {\n",
       "        vertical-align: middle;\n",
       "    }\n",
       "\n",
       "    .dataframe tbody tr th {\n",
       "        vertical-align: top;\n",
       "    }\n",
       "\n",
       "    .dataframe thead th {\n",
       "        text-align: right;\n",
       "    }\n",
       "</style>\n",
       "<table border=\"1\" class=\"dataframe\">\n",
       "  <thead>\n",
       "    <tr style=\"text-align: right;\">\n",
       "      <th></th>\n",
       "      <th>Open</th>\n",
       "      <th>High</th>\n",
       "      <th>Low</th>\n",
       "      <th>Close</th>\n",
       "      <th>Adj Close</th>\n",
       "      <th>Volume</th>\n",
       "    </tr>\n",
       "    <tr>\n",
       "      <th>Date</th>\n",
       "      <th></th>\n",
       "      <th></th>\n",
       "      <th></th>\n",
       "      <th></th>\n",
       "      <th></th>\n",
       "      <th></th>\n",
       "    </tr>\n",
       "  </thead>\n",
       "  <tbody>\n",
       "    <tr>\n",
       "      <th>2021-04-05</th>\n",
       "      <td>289.20</td>\n",
       "      <td>294.32</td>\n",
       "      <td>281.07</td>\n",
       "      <td>290.78</td>\n",
       "      <td>290.78</td>\n",
       "      <td>214400</td>\n",
       "    </tr>\n",
       "    <tr>\n",
       "      <th>2021-04-06</th>\n",
       "      <td>291.00</td>\n",
       "      <td>291.00</td>\n",
       "      <td>283.14</td>\n",
       "      <td>289.06</td>\n",
       "      <td>289.06</td>\n",
       "      <td>150900</td>\n",
       "    </tr>\n",
       "    <tr>\n",
       "      <th>2021-04-07</th>\n",
       "      <td>283.60</td>\n",
       "      <td>290.07</td>\n",
       "      <td>275.26</td>\n",
       "      <td>277.90</td>\n",
       "      <td>277.90</td>\n",
       "      <td>142100</td>\n",
       "    </tr>\n",
       "    <tr>\n",
       "      <th>2021-04-08</th>\n",
       "      <td>279.99</td>\n",
       "      <td>289.97</td>\n",
       "      <td>276.08</td>\n",
       "      <td>288.00</td>\n",
       "      <td>288.00</td>\n",
       "      <td>205300</td>\n",
       "    </tr>\n",
       "    <tr>\n",
       "      <th>2021-04-09</th>\n",
       "      <td>285.15</td>\n",
       "      <td>288.00</td>\n",
       "      <td>278.28</td>\n",
       "      <td>281.78</td>\n",
       "      <td>281.78</td>\n",
       "      <td>99600</td>\n",
       "    </tr>\n",
       "  </tbody>\n",
       "</table>\n",
       "</div>"
      ],
      "text/plain": [
       "              Open    High     Low   Close  Adj Close  Volume\n",
       "Date                                                         \n",
       "2021-04-05  289.20  294.32  281.07  290.78     290.78  214400\n",
       "2021-04-06  291.00  291.00  283.14  289.06     289.06  150900\n",
       "2021-04-07  283.60  290.07  275.26  277.90     277.90  142100\n",
       "2021-04-08  279.99  289.97  276.08  288.00     288.00  205300\n",
       "2021-04-09  285.15  288.00  278.28  281.78     281.78   99600"
      ]
     },
     "execution_count": 104,
     "metadata": {},
     "output_type": "execute_result"
    }
   ],
   "source": [
    "data.tail()"
   ]
  },
  {
   "cell_type": "code",
   "execution_count": 108,
   "metadata": {},
   "outputs": [
    {
     "name": "stdout",
     "output_type": "stream",
     "text": [
      "<class 'pandas.core.frame.DataFrame'>\n",
      "Index: 251 entries, 2020-04-13 to 2021-04-09\n",
      "Data columns (total 6 columns):\n",
      " #   Column     Non-Null Count  Dtype  \n",
      "---  ------     --------------  -----  \n",
      " 0   Open       251 non-null    float64\n",
      " 1   High       251 non-null    float64\n",
      " 2   Low        251 non-null    float64\n",
      " 3   Close      251 non-null    float64\n",
      " 4   Adj Close  251 non-null    float64\n",
      " 5   Volume     251 non-null    int64  \n",
      "dtypes: float64(5), int64(1)\n",
      "memory usage: 13.7+ KB\n"
     ]
    }
   ],
   "source": [
    "# Verificar los tipos de datos\n",
    "data = pd.read_csv('C:/Users/DELL/Documents/UI.csv', index_col=0)\n",
    "data.info()"
   ]
  },
  {
   "cell_type": "code",
   "execution_count": 109,
   "metadata": {},
   "outputs": [
    {
     "data": {
      "text/html": [
       "<div>\n",
       "<style scoped>\n",
       "    .dataframe tbody tr th:only-of-type {\n",
       "        vertical-align: middle;\n",
       "    }\n",
       "\n",
       "    .dataframe tbody tr th {\n",
       "        vertical-align: top;\n",
       "    }\n",
       "\n",
       "    .dataframe thead th {\n",
       "        text-align: right;\n",
       "    }\n",
       "</style>\n",
       "<table border=\"1\" class=\"dataframe\">\n",
       "  <thead>\n",
       "    <tr style=\"text-align: right;\">\n",
       "      <th></th>\n",
       "      <th>Open</th>\n",
       "      <th>High</th>\n",
       "      <th>Low</th>\n",
       "      <th>Close</th>\n",
       "      <th>Adj Close</th>\n",
       "      <th>Volume</th>\n",
       "    </tr>\n",
       "    <tr>\n",
       "      <th>Date</th>\n",
       "      <th></th>\n",
       "      <th></th>\n",
       "      <th></th>\n",
       "      <th></th>\n",
       "      <th></th>\n",
       "      <th></th>\n",
       "    </tr>\n",
       "  </thead>\n",
       "  <tbody>\n",
       "    <tr>\n",
       "      <th>2018-01-02</th>\n",
       "      <td>170.16</td>\n",
       "      <td>1.7e+02</td>\n",
       "      <td>169.26</td>\n",
       "      <td>172.26</td>\n",
       "      <td>168.34</td>\n",
       "      <td>25555900</td>\n",
       "    </tr>\n",
       "    <tr>\n",
       "      <th>2018-01-03</th>\n",
       "      <td>172.53</td>\n",
       "      <td>1.7e+02</td>\n",
       "      <td>NaN</td>\n",
       "      <td>172.23</td>\n",
       "      <td>168.31</td>\n",
       "      <td>29517900</td>\n",
       "    </tr>\n",
       "    <tr>\n",
       "      <th>2018-01-04</th>\n",
       "      <td>172.54</td>\n",
       "      <td>NaN</td>\n",
       "      <td>172.08</td>\n",
       "      <td>173.03</td>\n",
       "      <td>169.09</td>\n",
       "      <td>22434600</td>\n",
       "    </tr>\n",
       "    <tr>\n",
       "      <th>2018-01-05</th>\n",
       "      <td>173.44</td>\n",
       "      <td>Error</td>\n",
       "      <td>173.05</td>\n",
       "      <td>175.00</td>\n",
       "      <td>171.02</td>\n",
       "      <td>23660000</td>\n",
       "    </tr>\n",
       "    <tr>\n",
       "      <th>2018-01-08</th>\n",
       "      <td>174.35</td>\n",
       "      <td>1.8e+02</td>\n",
       "      <td>173.93</td>\n",
       "      <td>174.35</td>\n",
       "      <td>170.38</td>\n",
       "      <td>20567800</td>\n",
       "    </tr>\n",
       "  </tbody>\n",
       "</table>\n",
       "</div>"
      ],
      "text/plain": [
       "              Open     High     Low   Close  Adj Close    Volume\n",
       "Date                                                            \n",
       "2018-01-02  170.16  1.7e+02  169.26  172.26     168.34  25555900\n",
       "2018-01-03  172.53  1.7e+02     NaN  172.23     168.31  29517900\n",
       "2018-01-04  172.54      NaN  172.08  173.03     169.09  22434600\n",
       "2018-01-05  173.44    Error  173.05  175.00     171.02  23660000\n",
       "2018-01-08  174.35  1.8e+02  173.93  174.35     170.38  20567800"
      ]
     },
     "execution_count": 109,
     "metadata": {},
     "output_type": "execute_result"
    }
   ],
   "source": [
    "data3 = pd.read_excel('C:/Users/DELL/Documents/AAPL.xlsx', index_col=0)\n",
    "data3.head()"
   ]
  },
  {
   "cell_type": "code",
   "execution_count": 110,
   "metadata": {},
   "outputs": [
    {
     "data": {
      "text/plain": [
       "Open         5\n",
       "High         4\n",
       "Low          4\n",
       "Close        5\n",
       "Adj Close    5\n",
       "Volume       5\n",
       "dtype: int64"
      ]
     },
     "execution_count": 110,
     "metadata": {},
     "output_type": "execute_result"
    }
   ],
   "source": [
    "data3.count()"
   ]
  },
  {
   "cell_type": "code",
   "execution_count": 111,
   "metadata": {},
   "outputs": [
    {
     "data": {
      "text/plain": [
       "Open         251\n",
       "High         251\n",
       "Low          251\n",
       "Close        251\n",
       "Adj Close    251\n",
       "Volume       251\n",
       "dtype: int64"
      ]
     },
     "execution_count": 111,
     "metadata": {},
     "output_type": "execute_result"
    }
   ],
   "source": [
    "data.count()"
   ]
  },
  {
   "cell_type": "code",
   "execution_count": 112,
   "metadata": {},
   "outputs": [
    {
     "data": {
      "text/plain": [
       "Open         float64\n",
       "High         float64\n",
       "Low          float64\n",
       "Close        float64\n",
       "Adj Close    float64\n",
       "Volume         int64\n",
       "dtype: object"
      ]
     },
     "execution_count": 112,
     "metadata": {},
     "output_type": "execute_result"
    }
   ],
   "source": [
    "# Saber los tipos de datos\n",
    "data.dtypes"
   ]
  },
  {
   "cell_type": "code",
   "execution_count": 113,
   "metadata": {},
   "outputs": [
    {
     "data": {
      "text/html": [
       "<div>\n",
       "<style scoped>\n",
       "    .dataframe tbody tr th:only-of-type {\n",
       "        vertical-align: middle;\n",
       "    }\n",
       "\n",
       "    .dataframe tbody tr th {\n",
       "        vertical-align: top;\n",
       "    }\n",
       "\n",
       "    .dataframe thead th {\n",
       "        text-align: right;\n",
       "    }\n",
       "</style>\n",
       "<table border=\"1\" class=\"dataframe\">\n",
       "  <thead>\n",
       "    <tr style=\"text-align: right;\">\n",
       "      <th></th>\n",
       "      <th>Open</th>\n",
       "      <th>High</th>\n",
       "      <th>Low</th>\n",
       "      <th>Close</th>\n",
       "      <th>Adj Close</th>\n",
       "      <th>Volume</th>\n",
       "    </tr>\n",
       "  </thead>\n",
       "  <tbody>\n",
       "    <tr>\n",
       "      <th>count</th>\n",
       "      <td>251.00</td>\n",
       "      <td>251.00</td>\n",
       "      <td>251.00</td>\n",
       "      <td>251.00</td>\n",
       "      <td>251.00</td>\n",
       "      <td>251.00</td>\n",
       "    </tr>\n",
       "    <tr>\n",
       "      <th>mean</th>\n",
       "      <td>224.84</td>\n",
       "      <td>229.04</td>\n",
       "      <td>220.65</td>\n",
       "      <td>224.87</td>\n",
       "      <td>224.33</td>\n",
       "      <td>117067.33</td>\n",
       "    </tr>\n",
       "    <tr>\n",
       "      <th>std</th>\n",
       "      <td>64.09</td>\n",
       "      <td>65.71</td>\n",
       "      <td>61.80</td>\n",
       "      <td>63.82</td>\n",
       "      <td>64.10</td>\n",
       "      <td>76280.17</td>\n",
       "    </tr>\n",
       "    <tr>\n",
       "      <th>min</th>\n",
       "      <td>151.06</td>\n",
       "      <td>154.87</td>\n",
       "      <td>148.28</td>\n",
       "      <td>148.28</td>\n",
       "      <td>147.30</td>\n",
       "      <td>28000.00</td>\n",
       "    </tr>\n",
       "    <tr>\n",
       "      <th>25%</th>\n",
       "      <td>177.72</td>\n",
       "      <td>179.82</td>\n",
       "      <td>174.10</td>\n",
       "      <td>176.09</td>\n",
       "      <td>175.23</td>\n",
       "      <td>73900.00</td>\n",
       "    </tr>\n",
       "    <tr>\n",
       "      <th>50%</th>\n",
       "      <td>189.00</td>\n",
       "      <td>191.43</td>\n",
       "      <td>186.35</td>\n",
       "      <td>189.12</td>\n",
       "      <td>188.20</td>\n",
       "      <td>98900.00</td>\n",
       "    </tr>\n",
       "    <tr>\n",
       "      <th>75%</th>\n",
       "      <td>268.67</td>\n",
       "      <td>274.79</td>\n",
       "      <td>265.89</td>\n",
       "      <td>270.40</td>\n",
       "      <td>269.94</td>\n",
       "      <td>136950.00</td>\n",
       "    </tr>\n",
       "    <tr>\n",
       "      <th>max</th>\n",
       "      <td>389.88</td>\n",
       "      <td>401.81</td>\n",
       "      <td>369.00</td>\n",
       "      <td>389.88</td>\n",
       "      <td>389.88</td>\n",
       "      <td>807600.00</td>\n",
       "    </tr>\n",
       "  </tbody>\n",
       "</table>\n",
       "</div>"
      ],
      "text/plain": [
       "         Open    High     Low   Close  Adj Close     Volume\n",
       "count  251.00  251.00  251.00  251.00     251.00     251.00\n",
       "mean   224.84  229.04  220.65  224.87     224.33  117067.33\n",
       "std     64.09   65.71   61.80   63.82      64.10   76280.17\n",
       "min    151.06  154.87  148.28  148.28     147.30   28000.00\n",
       "25%    177.72  179.82  174.10  176.09     175.23   73900.00\n",
       "50%    189.00  191.43  186.35  189.12     188.20   98900.00\n",
       "75%    268.67  274.79  265.89  270.40     269.94  136950.00\n",
       "max    389.88  401.81  369.00  389.88     389.88  807600.00"
      ]
     },
     "execution_count": 113,
     "metadata": {},
     "output_type": "execute_result"
    }
   ],
   "source": [
    "# Informacion estadistica descriptiva de la data\n",
    "data.describe()"
   ]
  },
  {
   "cell_type": "code",
   "execution_count": 117,
   "metadata": {},
   "outputs": [
    {
     "data": {
      "text/plain": [
       "Open           151.06\n",
       "High           154.87\n",
       "Low            148.28\n",
       "Close          148.28\n",
       "Adj Close      147.30\n",
       "Volume       28000.00\n",
       "dtype: float64"
      ]
     },
     "execution_count": 117,
     "metadata": {},
     "output_type": "execute_result"
    }
   ],
   "source": [
    "data.mean() # la media\n",
    "data.std() # desviacion estandar\n",
    "data.max()\n",
    "data.min()"
   ]
  },
  {
   "cell_type": "code",
   "execution_count": 118,
   "metadata": {},
   "outputs": [
    {
     "data": {
      "text/plain": [
       "188.00    2\n",
       "180.00    2\n",
       "166.00    2\n",
       "152.01    2\n",
       "274.70    1\n",
       "         ..\n",
       "153.08    1\n",
       "178.47    1\n",
       "177.61    1\n",
       "178.49    1\n",
       "156.00    1\n",
       "Name: Open, Length: 247, dtype: int64"
      ]
     },
     "execution_count": 118,
     "metadata": {},
     "output_type": "execute_result"
    }
   ],
   "source": [
    "# contar las ocurrencias, de una columna (serie)\n",
    "data['Open'].value_counts()\n",
    "data.Open.value_counts()"
   ]
  },
  {
   "cell_type": "markdown",
   "metadata": {},
   "source": [
    "## Enviar a un Excel"
   ]
  },
  {
   "cell_type": "code",
   "execution_count": 122,
   "metadata": {},
   "outputs": [],
   "source": [
    "import pandas as pd\n",
    "data = pd.read_csv('C:/Users/DELL/Documents/UI.csv', index_col=0)\n",
    "\n",
    "data['mov_intraday']=data.Close - data.Open\n",
    "data.to_excel('UI_mod.xlsx', sheet_name='HojaMod')"
   ]
  },
  {
   "cell_type": "code",
   "execution_count": null,
   "metadata": {},
   "outputs": [],
   "source": []
  }
 ],
 "metadata": {
  "kernelspec": {
   "display_name": "Python 3",
   "language": "python",
   "name": "python3"
  },
  "language_info": {
   "codemirror_mode": {
    "name": "ipython",
    "version": 3
   },
   "file_extension": ".py",
   "mimetype": "text/x-python",
   "name": "python",
   "nbconvert_exporter": "python",
   "pygments_lexer": "ipython3",
   "version": "3.8.5"
  }
 },
 "nbformat": 4,
 "nbformat_minor": 4
}
