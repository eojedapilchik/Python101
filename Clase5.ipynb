{
 "cells": [
  {
   "cell_type": "code",
   "execution_count": 3,
   "metadata": {},
   "outputs": [
    {
     "name": "stdout",
     "output_type": "stream",
     "text": [
      "Iteracion 0\n",
      "Iteracion 1\n",
      "Iteracion 2\n",
      "Iteracion 3\n",
      "Iteracion 4\n",
      "Iteracion 5\n",
      "Iteracion 6\n",
      "Iteracion 7\n",
      "Iteracion 8\n",
      "Iteracion 9\n",
      "10\n"
     ]
    }
   ],
   "source": [
    "# While \n",
    "contador =0\n",
    "while (contador <10):\n",
    "    print(f\"Iteracion {contador}\")\n",
    "    contador +=1\n",
    "print(contador)"
   ]
  },
  {
   "cell_type": "code",
   "execution_count": 15,
   "metadata": {},
   "outputs": [
    {
     "name": "stdout",
     "output_type": "stream",
     "text": [
      "Imprimir los numeros divisibles entre 5\n",
      "El numero 225 es divisible entre 5\n",
      "fin del loop\n"
     ]
    }
   ],
   "source": [
    "## While Ejercicio\n",
    "\n",
    "import random\n",
    "print(\"Imprimir los numeros divisibles entre 5\")\n",
    "contador =0\n",
    "while (contador <10):\n",
    "    number = random.randint(1, 1000)\n",
    "    if int(number%5) == 0:\n",
    "        print(f\"El numero {number} es divisible entre 5\")\n",
    "        break # esta sentencia se usa para salir del while\n",
    "    contador +=1\n",
    "\n",
    "print('fin del loop')"
   ]
  },
  {
   "cell_type": "code",
   "execution_count": 40,
   "metadata": {},
   "outputs": [
    {
     "name": "stdout",
     "output_type": "stream",
     "text": [
      "introduzca una contraseña7899999\n",
      "7899999\n"
     ]
    }
   ],
   "source": [
    "#ejercicio de ataque de fuerza bruta (brute force) a una contraseña\n",
    "contrasena = input(\"introduzca una contraseña\")\n",
    "\n",
    "prueba_hack =0\n",
    "while(str(prueba_hack) != contrasena):\n",
    "    prueba_hack+=1\n",
    "print(prueba_hack)"
   ]
  },
  {
   "cell_type": "markdown",
   "metadata": {},
   "source": [
    "## For Loop (iteracion -repeticion)"
   ]
  },
  {
   "cell_type": "code",
   "execution_count": 31,
   "metadata": {},
   "outputs": [
    {
     "name": "stdout",
     "output_type": "stream",
     "text": [
      "El flujo de efectivo es 100\n",
      "El flujo de efectivo es 10\n",
      "El flujo de efectivo es 20\n",
      "El flujo de efectivo es 50\n",
      "El flujo de efectivo es 40\n",
      "El flujo de efectivo es 75\n",
      "Total de iteraciones  6\n"
     ]
    }
   ],
   "source": [
    "flujo = [100,10,20,50,40,75]\n",
    "count =0\n",
    "for item in flujo:  # item es un nombre de variable\n",
    "    print(f\"El flujo de efectivo es {item}\")\n",
    "    count+=1\n",
    "print(\"Total de iteraciones \",count)\n"
   ]
  },
  {
   "cell_type": "markdown",
   "metadata": {},
   "source": [
    "#### Range\n",
    "range(n) = genera un objeto de tipo rango (0,1,2,3,...n) =[0,n)"
   ]
  },
  {
   "cell_type": "code",
   "execution_count": 34,
   "metadata": {},
   "outputs": [
    {
     "name": "stdout",
     "output_type": "stream",
     "text": [
      "[0, 1, 2, 3, 4]\n"
     ]
    }
   ],
   "source": [
    "x = range(5)\n",
    "print (list(x))"
   ]
  },
  {
   "cell_type": "code",
   "execution_count": 37,
   "metadata": {},
   "outputs": [
    {
     "name": "stdout",
     "output_type": "stream",
     "text": [
      "38.71337130837991\n"
     ]
    }
   ],
   "source": [
    "cf = [-200,20,50,70,100,50]\n",
    "r =0.06\n",
    "npv=0\n",
    "for n in range(len(cf)): # range me va a generar un rango entre 0 y el tamano de la lista cf\n",
    "    #len(cf) =6\n",
    "    # range(6) = [0,1,2,3,4,5]\n",
    "    npv +=  cf[n] / ((1+r)**n) #i0: cf[0]=-200  i1:cf[1]=20 i2:cf[2]=50\n",
    "print(npv)"
   ]
  },
  {
   "cell_type": "code",
   "execution_count": 42,
   "metadata": {},
   "outputs": [
    {
     "name": "stdout",
     "output_type": "stream",
     "text": [
      "Contraseña a probar 123456 == password\n",
      "Contraseña a probar 123456789 == password\n",
      "Contraseña a probar qwerty == password\n",
      "Contraseña a probar password == password\n",
      "Contraseña hackeada password\n"
     ]
    }
   ],
   "source": [
    "#Ataque de diccionario\n",
    "pwd = 'password'\n",
    "dictionary = ['123456','123456789','qwerty', 'password', 'P@$$w0rd']\n",
    "hacked = ''\n",
    "for test in dictionary:\n",
    "    print(f'Contraseña a probar {test} == {pwd}')\n",
    "    if (test == pwd):\n",
    "        hacked = test\n",
    "        break\n",
    "\n",
    "print(f'Contraseña hackeada {hacked}')"
   ]
  },
  {
   "cell_type": "markdown",
   "metadata": {},
   "source": [
    "## Listas - (Secuencias de datos - Arreglos)\n",
    "\n",
    "listas permiten trabajar con varios datos a la vez, es decir, es una secuencia de datos.\n"
   ]
  },
  {
   "cell_type": "code",
   "execution_count": 20,
   "metadata": {},
   "outputs": [
    {
     "name": "stdout",
     "output_type": "stream",
     "text": [
      "[100, 10, 20, 50, 40, 75]\n",
      "100\n",
      "10\n",
      "200\n",
      "75\n",
      "40\n",
      "50\n"
     ]
    }
   ],
   "source": [
    "#Flujos de caja\n",
    "t0 = 100\n",
    "t1 = 10\n",
    "t2 = 20\n",
    "t3 = 50\n",
    "\n",
    "flujo = [100,10,20,50,40,75]\n",
    "print(flujo)\n",
    "print(flujo[0])\n",
    "print(flujo[1])\n",
    "doble = flujo[0]*2\n",
    "print(doble)\n",
    "print(flujo[-1])\n",
    "print(flujo[-2])\n",
    "print(flujo[-3])"
   ]
  },
  {
   "cell_type": "code",
   "execution_count": 21,
   "metadata": {},
   "outputs": [
    {
     "name": "stdout",
     "output_type": "stream",
     "text": [
      "AAPL\n"
     ]
    }
   ],
   "source": [
    "#\n",
    "datos = [135, 'AAPL', 3.14,\"UX\"]\n",
    "print(datos[1])"
   ]
  },
  {
   "cell_type": "code",
   "execution_count": 26,
   "metadata": {},
   "outputs": [
    {
     "ename": "IndexError",
     "evalue": "list index out of range",
     "output_type": "error",
     "traceback": [
      "\u001b[1;31m---------------------------------------------------------------------------\u001b[0m",
      "\u001b[1;31mIndexError\u001b[0m                                Traceback (most recent call last)",
      "\u001b[1;32m<ipython-input-26-c3a39d3e6d64>\u001b[0m in \u001b[0;36m<module>\u001b[1;34m\u001b[0m\n\u001b[0;32m      1\u001b[0m \u001b[1;31m# Acceder a un indice no existente\u001b[0m\u001b[1;33m\u001b[0m\u001b[1;33m\u001b[0m\u001b[1;33m\u001b[0m\u001b[0m\n\u001b[1;32m----> 2\u001b[1;33m \u001b[0mprint\u001b[0m\u001b[1;33m(\u001b[0m\u001b[0mflujo\u001b[0m\u001b[1;33m[\u001b[0m\u001b[1;36m6\u001b[0m\u001b[1;33m]\u001b[0m\u001b[1;33m)\u001b[0m\u001b[1;33m\u001b[0m\u001b[1;33m\u001b[0m\u001b[0m\n\u001b[0m",
      "\u001b[1;31mIndexError\u001b[0m: list index out of range"
     ]
    }
   ],
   "source": [
    "# Acceder a un indice no existente\n",
    "print(flujo[6])"
   ]
  },
  {
   "cell_type": "code",
   "execution_count": 30,
   "metadata": {},
   "outputs": [
    {
     "name": "stdout",
     "output_type": "stream",
     "text": [
      "[100, 10, 50, 50, 40, 75]\n",
      "100\n",
      "10\n",
      "6\n",
      "2\n"
     ]
    }
   ],
   "source": [
    "# Operaciones\n",
    "flujo = [100,10,50,50,40,75]\n",
    "total = sum(flujo)\n",
    "print(flujo)\n",
    "\n",
    "#Maximo\n",
    "maximo =max(flujo)\n",
    "print(maximo)\n",
    "\n",
    "#Minimo\n",
    "minimo =min(flujo)\n",
    "print(minimo)\n",
    "\n",
    "#contar\n",
    "tamano = len(flujo)\n",
    "print(tamano)\n",
    "\n",
    "#contar ocurrencias\n",
    "cant_veces = flujo.count(50) # recibe como parametro el valor que queremos contar\n",
    "print(cant_veces)"
   ]
  },
  {
   "cell_type": "code",
   "execution_count": null,
   "metadata": {},
   "outputs": [],
   "source": []
  }
 ],
 "metadata": {
  "kernelspec": {
   "display_name": "Python 3",
   "language": "python",
   "name": "python3"
  },
  "language_info": {
   "codemirror_mode": {
    "name": "ipython",
    "version": 3
   },
   "file_extension": ".py",
   "mimetype": "text/x-python",
   "name": "python",
   "nbconvert_exporter": "python",
   "pygments_lexer": "ipython3",
   "version": "3.8.5"
  }
 },
 "nbformat": 4,
 "nbformat_minor": 4
}
