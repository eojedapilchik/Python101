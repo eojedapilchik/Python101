{
 "cells": [
  {
   "cell_type": "code",
   "execution_count": 1,
   "id": "sudden-classic",
   "metadata": {},
   "outputs": [
    {
     "name": "stdout",
     "output_type": "stream",
     "text": [
      "[1, 2, 3, 4, 5]\n"
     ]
    }
   ],
   "source": [
    "#crear una lista\n",
    "numeros = [1,2,3,4,5]\n",
    "print(numeros)"
   ]
  },
  {
   "cell_type": "code",
   "execution_count": 22,
   "id": "iraqi-cause",
   "metadata": {},
   "outputs": [
    {
     "name": "stdout",
     "output_type": "stream",
     "text": [
      "['BRK.B', 'AAPL', 'KO', 'BA']\n",
      "El ticker de La accion de Berkshire H.  BRK.B\n",
      "BA\n",
      "BA\n",
      "['BRK.B', 'AAPL']\n",
      "['BRK.B', 'AAPL']\n",
      "['AAPL', 'KO']\n",
      "['AAPL', 'KO', 'BA']\n"
     ]
    }
   ],
   "source": [
    "# las listas arrancan con el indice = 0\n",
    "datos = ['BRK.B','AAPL', 'KO','BA']\n",
    "print(datos)\n",
    "print('El ticker de La accion de Berkshire H. ',datos[0]) \n",
    "print(datos[3])\n",
    "print(datos[-1])\n",
    "print(datos[0:2]) #slicing\n",
    "print(datos[:2]) #slicing desde el indice 0 hasta el 1\n",
    "print(datos[1:3]) #slicing\n",
    "print(datos[1:]) #slicing desde la posicion 1 hasta el final"
   ]
  },
  {
   "cell_type": "code",
   "execution_count": 23,
   "id": "rotary-priest",
   "metadata": {},
   "outputs": [
    {
     "name": "stdout",
     "output_type": "stream",
     "text": [
      "[1, 2, 3, 4, 5, 6, 7, 8, 9]\n"
     ]
    }
   ],
   "source": [
    "#adicion de listas\n",
    "numeros2=numeros + [6,7,8,9]\n",
    "print(numeros2)"
   ]
  },
  {
   "cell_type": "code",
   "execution_count": 30,
   "id": "funded-electricity",
   "metadata": {},
   "outputs": [
    {
     "name": "stdout",
     "output_type": "stream",
     "text": [
      "O\n",
      "HOL\n"
     ]
    },
    {
     "ename": "TypeError",
     "evalue": "'str' object does not support item assignment",
     "output_type": "error",
     "traceback": [
      "\u001b[1;31m---------------------------------------------------------------------------\u001b[0m",
      "\u001b[1;31mTypeError\u001b[0m                                 Traceback (most recent call last)",
      "\u001b[1;32m<ipython-input-30-b180a6f8820e>\u001b[0m in \u001b[0;36m<module>\u001b[1;34m\u001b[0m\n\u001b[0;32m      3\u001b[0m \u001b[0mprint\u001b[0m\u001b[1;33m(\u001b[0m\u001b[0mtexto\u001b[0m\u001b[1;33m[\u001b[0m\u001b[1;36m1\u001b[0m\u001b[1;33m]\u001b[0m\u001b[1;33m)\u001b[0m\u001b[1;33m\u001b[0m\u001b[1;33m\u001b[0m\u001b[0m\n\u001b[0;32m      4\u001b[0m \u001b[0mprint\u001b[0m\u001b[1;33m(\u001b[0m\u001b[0mtexto\u001b[0m\u001b[1;33m[\u001b[0m\u001b[1;33m:\u001b[0m\u001b[1;36m3\u001b[0m\u001b[1;33m]\u001b[0m\u001b[1;33m)\u001b[0m\u001b[1;33m\u001b[0m\u001b[1;33m\u001b[0m\u001b[0m\n\u001b[1;32m----> 5\u001b[1;33m \u001b[0mtexto\u001b[0m\u001b[1;33m[\u001b[0m\u001b[1;36m1\u001b[0m\u001b[1;33m]\u001b[0m\u001b[1;33m=\u001b[0m\u001b[1;34m'P'\u001b[0m \u001b[1;31m#no se puede hacer\u001b[0m\u001b[1;33m\u001b[0m\u001b[1;33m\u001b[0m\u001b[0m\n\u001b[0m\u001b[0;32m      6\u001b[0m \u001b[0mprint\u001b[0m\u001b[1;33m(\u001b[0m\u001b[0mtexto\u001b[0m\u001b[1;33m)\u001b[0m\u001b[1;33m\u001b[0m\u001b[1;33m\u001b[0m\u001b[0m\n",
      "\u001b[1;31mTypeError\u001b[0m: 'str' object does not support item assignment"
     ]
    }
   ],
   "source": [
    "#Manejo de cadenas de caracteres (lista)\n",
    "texto=\"HOLA\"\n",
    "print(texto[1])\n",
    "print(texto[:3])\n",
    "texto[1]='P' #no se puede hacer\n",
    "print(texto)"
   ]
  },
  {
   "cell_type": "code",
   "execution_count": 29,
   "id": "curious-thunder",
   "metadata": {},
   "outputs": [
    {
     "name": "stdout",
     "output_type": "stream",
     "text": [
      "['BRK.B', 'AAPL', 'KO', 'BA']\n",
      "['BRK.B', 'RA', 'KO', 'BA']\n"
     ]
    }
   ],
   "source": [
    "print(datos)\n",
    "datos[1]='RA'\n",
    "print(datos)"
   ]
  },
  {
   "cell_type": "code",
   "execution_count": 31,
   "id": "requested-drink",
   "metadata": {},
   "outputs": [
    {
     "name": "stdout",
     "output_type": "stream",
     "text": [
      "['BRK.B', 'RA', 'KO', 'BA', 'SPY']\n"
     ]
    }
   ],
   "source": [
    "#Append, lo que es agregar un elemento al final de la lista\n",
    "datos.append('SPY')\n",
    "print(datos)"
   ]
  },
  {
   "cell_type": "code",
   "execution_count": 32,
   "id": "upset-tolerance",
   "metadata": {},
   "outputs": [
    {
     "name": "stdout",
     "output_type": "stream",
     "text": [
      "5\n"
     ]
    }
   ],
   "source": [
    "# Longitud de la lista - Funcion len (length) - cuantos elementos hay en la lista\n",
    "total= len(datos)\n",
    "print(total)\n"
   ]
  },
  {
   "cell_type": "code",
   "execution_count": 39,
   "id": "everyday-collective",
   "metadata": {},
   "outputs": [
    {
     "name": "stdout",
     "output_type": "stream",
     "text": [
      "['AAPL', 135]\n",
      "AAPL\n",
      "135\n",
      "BRK.B\n",
      "260\n"
     ]
    }
   ],
   "source": [
    "#Listas Anidadas\n",
    "acciones = [['AAPL',135],['BRK.B',268],['BA',260]]\n",
    "print(acciones[0])\n",
    "print(acciones[0][0])\n",
    "print(acciones[0][1])\n",
    "print(acciones[1][0])\n",
    "print(acciones[-1][-1])"
   ]
  },
  {
   "cell_type": "code",
   "execution_count": 65,
   "id": "secure-charger",
   "metadata": {},
   "outputs": [
    {
     "name": "stdout",
     "output_type": "stream",
     "text": [
      "BLOQUE 1 Prev:0, ID:1, T1,T2,T3,T4\n",
      "HASH BLOQUE 1 51c991ba6c019143b929ba3dd620ad0d3646a3363895ff24aa0a6a56b8ecb1d4\n"
     ]
    }
   ],
   "source": [
    "import hashlib\n",
    "block1_raw= 'Prev:0, ID:1, T1,T2,T3,T4'\n",
    "print(\"BLOQUE 1 \"+block1_raw)\n",
    "block1_hash = hashlib.sha256(block1_raw.encode('utf-8'))\n",
    "print(\"HASH BLOQUE 1 \"+block1_hash.hexdigest())"
   ]
  },
  {
   "cell_type": "code",
   "execution_count": 57,
   "id": "agreed-judges",
   "metadata": {},
   "outputs": [
    {
     "name": "stdout",
     "output_type": "stream",
     "text": [
      "BLOQUE 2 Prev:51c991ba6c019143b929ba3dd620ad0d3646a3363895ff24aa0a6a56b8ecb1d4 ID:2 T5,T6,T7  5\n",
      "HASH BLOQUE 2 ae98bdeaec84692a06aa672b42ca188c8197928378600c4d532bc1bf6eb6930a\n"
     ]
    }
   ],
   "source": [
    "block2_raw= \"Prev:\"+block1_hash.hexdigest()+\" ID:2 T2,T6,T7 \"\n",
    "print(\"BLOQUE 2 \"+block2_raw)\n",
    "block2_hash = hashlib.sha256(block2_raw.encode('utf-8'))\n",
    "print(\"HASH BLOQUE 2 \"+block2_hash.hexdigest())"
   ]
  },
  {
   "cell_type": "code",
   "execution_count": 63,
   "id": "iraqi-feedback",
   "metadata": {},
   "outputs": [
    {
     "name": "stdout",
     "output_type": "stream",
     "text": [
      "['Prev:51c991ba6c019143b929ba3dd620ad0d3646a3363895ff24aa0a6a56b8ecb1d4', 'ID:2', ['Alcides:JM:0.3', 'Gabriel:Alex:0.0002', 'Pedro:Pablo:0.21'], 3]\n"
     ]
    }
   ],
   "source": [
    "block2 = ['Prev:'+block1_hash.hexdigest(), 'ID:2', ['Alcides:JM:0.3','Gabriel:Alex:0.0002', 'Pedro:Pablo:0.21'],3]\n",
    "print(block2)"
   ]
  },
  {
   "cell_type": "code",
   "execution_count": null,
   "id": "automotive-device",
   "metadata": {},
   "outputs": [],
   "source": [
    "import hashlib"
   ]
  }
 ],
 "metadata": {
  "kernelspec": {
   "display_name": "Python 3",
   "language": "python",
   "name": "python3"
  },
  "language_info": {
   "codemirror_mode": {
    "name": "ipython",
    "version": 3
   },
   "file_extension": ".py",
   "mimetype": "text/x-python",
   "name": "python",
   "nbconvert_exporter": "python",
   "pygments_lexer": "ipython3",
   "version": "3.8.5"
  }
 },
 "nbformat": 4,
 "nbformat_minor": 5
}
